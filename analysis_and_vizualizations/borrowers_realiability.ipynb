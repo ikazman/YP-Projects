{
 "cells": [
  {
   "cell_type": "markdown",
   "metadata": {},
   "source": [
    "## Исследование надёжности заёмщиков\n",
    "\n",
    "Заказчик — кредитный отдел банка. Нужно разобраться, влияет ли семейное положение и количество детей клиента на факт погашения кредита в срок. Входные данные от банка — статистика о платёжеспособности клиентов.\n",
    "\n",
    "Результаты исследования будут учтены при построении модели **кредитного скоринга** — специальной системы, которая оценивает способность потенциального заёмщика вернуть кредит банку."
   ]
  },
  {
   "cell_type": "markdown",
   "metadata": {},
   "source": [
    "# Исследуем общую информацию"
   ]
  },
  {
   "cell_type": "markdown",
   "metadata": {},
   "source": [
    "### 1. Импортируем библиотеки"
   ]
  },
  {
   "cell_type": "code",
   "execution_count": 1,
   "metadata": {},
   "outputs": [],
   "source": [
    "import pandas as pd\n",
    "import numpy as np\n",
    "from matplotlib import pyplot as plt\n",
    "from pymystem3 import Mystem\n",
    "from nltk.stem import SnowballStemmer \n",
    "russian_stemmer = SnowballStemmer('russian')\n",
    "from collections import Counter\n",
    "import warnings\n",
    "warnings.filterwarnings('ignore')"
   ]
  },
  {
   "cell_type": "markdown",
   "metadata": {},
   "source": [
    "### 2. Читаем таблицу в переменную df (DataFrame) и сделаем резервную копию в переменной df_copy"
   ]
  },
  {
   "cell_type": "markdown",
   "metadata": {},
   "source": [
    "Резервная копия трубется для того, чтобы в случае необходимости сравнить замененные ячейки"
   ]
  },
  {
   "cell_type": "code",
   "execution_count": 2,
   "metadata": {},
   "outputs": [],
   "source": [
    "df = pd.read_csv('debt_dataset.csv')\n",
    "df_copy = pd.read_csv('debt_dataset.csv')"
   ]
  },
  {
   "cell_type": "markdown",
   "metadata": {},
   "source": [
    "### 3. Выведем первые пять строк полученной таблицы с помощью метода head(), а также еще пять случайных строк с помощью метода sample()"
   ]
  },
  {
   "cell_type": "code",
   "execution_count": 3,
   "metadata": {},
   "outputs": [
    {
     "data": {
      "text/html": [
       "<div>\n",
       "<style scoped>\n",
       "    .dataframe tbody tr th:only-of-type {\n",
       "        vertical-align: middle;\n",
       "    }\n",
       "\n",
       "    .dataframe tbody tr th {\n",
       "        vertical-align: top;\n",
       "    }\n",
       "\n",
       "    .dataframe thead th {\n",
       "        text-align: right;\n",
       "    }\n",
       "</style>\n",
       "<table border=\"1\" class=\"dataframe\">\n",
       "  <thead>\n",
       "    <tr style=\"text-align: right;\">\n",
       "      <th></th>\n",
       "      <th>children</th>\n",
       "      <th>days_employed</th>\n",
       "      <th>dob_years</th>\n",
       "      <th>education</th>\n",
       "      <th>education_id</th>\n",
       "      <th>family_status</th>\n",
       "      <th>family_status_id</th>\n",
       "      <th>gender</th>\n",
       "      <th>income_type</th>\n",
       "      <th>debt</th>\n",
       "      <th>total_income</th>\n",
       "      <th>purpose</th>\n",
       "    </tr>\n",
       "  </thead>\n",
       "  <tbody>\n",
       "    <tr>\n",
       "      <td>0</td>\n",
       "      <td>1</td>\n",
       "      <td>-8437.673028</td>\n",
       "      <td>42</td>\n",
       "      <td>высшее</td>\n",
       "      <td>0</td>\n",
       "      <td>женат / замужем</td>\n",
       "      <td>0</td>\n",
       "      <td>F</td>\n",
       "      <td>сотрудник</td>\n",
       "      <td>0</td>\n",
       "      <td>253875.639453</td>\n",
       "      <td>покупка жилья</td>\n",
       "    </tr>\n",
       "    <tr>\n",
       "      <td>1</td>\n",
       "      <td>1</td>\n",
       "      <td>-4024.803754</td>\n",
       "      <td>36</td>\n",
       "      <td>среднее</td>\n",
       "      <td>1</td>\n",
       "      <td>женат / замужем</td>\n",
       "      <td>0</td>\n",
       "      <td>F</td>\n",
       "      <td>сотрудник</td>\n",
       "      <td>0</td>\n",
       "      <td>112080.014102</td>\n",
       "      <td>приобретение автомобиля</td>\n",
       "    </tr>\n",
       "    <tr>\n",
       "      <td>2</td>\n",
       "      <td>0</td>\n",
       "      <td>-5623.422610</td>\n",
       "      <td>33</td>\n",
       "      <td>Среднее</td>\n",
       "      <td>1</td>\n",
       "      <td>женат / замужем</td>\n",
       "      <td>0</td>\n",
       "      <td>M</td>\n",
       "      <td>сотрудник</td>\n",
       "      <td>0</td>\n",
       "      <td>145885.952297</td>\n",
       "      <td>покупка жилья</td>\n",
       "    </tr>\n",
       "    <tr>\n",
       "      <td>3</td>\n",
       "      <td>3</td>\n",
       "      <td>-4124.747207</td>\n",
       "      <td>32</td>\n",
       "      <td>среднее</td>\n",
       "      <td>1</td>\n",
       "      <td>женат / замужем</td>\n",
       "      <td>0</td>\n",
       "      <td>M</td>\n",
       "      <td>сотрудник</td>\n",
       "      <td>0</td>\n",
       "      <td>267628.550329</td>\n",
       "      <td>дополнительное образование</td>\n",
       "    </tr>\n",
       "    <tr>\n",
       "      <td>4</td>\n",
       "      <td>0</td>\n",
       "      <td>340266.072047</td>\n",
       "      <td>53</td>\n",
       "      <td>среднее</td>\n",
       "      <td>1</td>\n",
       "      <td>гражданский брак</td>\n",
       "      <td>1</td>\n",
       "      <td>F</td>\n",
       "      <td>пенсионер</td>\n",
       "      <td>0</td>\n",
       "      <td>158616.077870</td>\n",
       "      <td>сыграть свадьбу</td>\n",
       "    </tr>\n",
       "  </tbody>\n",
       "</table>\n",
       "</div>"
      ],
      "text/plain": [
       "   children  days_employed  dob_years education  education_id  \\\n",
       "0         1   -8437.673028         42    высшее             0   \n",
       "1         1   -4024.803754         36   среднее             1   \n",
       "2         0   -5623.422610         33   Среднее             1   \n",
       "3         3   -4124.747207         32   среднее             1   \n",
       "4         0  340266.072047         53   среднее             1   \n",
       "\n",
       "      family_status  family_status_id gender income_type  debt   total_income  \\\n",
       "0   женат / замужем                 0      F   сотрудник     0  253875.639453   \n",
       "1   женат / замужем                 0      F   сотрудник     0  112080.014102   \n",
       "2   женат / замужем                 0      M   сотрудник     0  145885.952297   \n",
       "3   женат / замужем                 0      M   сотрудник     0  267628.550329   \n",
       "4  гражданский брак                 1      F   пенсионер     0  158616.077870   \n",
       "\n",
       "                      purpose  \n",
       "0               покупка жилья  \n",
       "1     приобретение автомобиля  \n",
       "2               покупка жилья  \n",
       "3  дополнительное образование  \n",
       "4             сыграть свадьбу  "
      ]
     },
     "execution_count": 3,
     "metadata": {},
     "output_type": "execute_result"
    }
   ],
   "source": [
    "df.head(5)"
   ]
  },
  {
   "cell_type": "code",
   "execution_count": 4,
   "metadata": {},
   "outputs": [
    {
     "data": {
      "text/html": [
       "<div>\n",
       "<style scoped>\n",
       "    .dataframe tbody tr th:only-of-type {\n",
       "        vertical-align: middle;\n",
       "    }\n",
       "\n",
       "    .dataframe tbody tr th {\n",
       "        vertical-align: top;\n",
       "    }\n",
       "\n",
       "    .dataframe thead th {\n",
       "        text-align: right;\n",
       "    }\n",
       "</style>\n",
       "<table border=\"1\" class=\"dataframe\">\n",
       "  <thead>\n",
       "    <tr style=\"text-align: right;\">\n",
       "      <th></th>\n",
       "      <th>children</th>\n",
       "      <th>days_employed</th>\n",
       "      <th>dob_years</th>\n",
       "      <th>education</th>\n",
       "      <th>education_id</th>\n",
       "      <th>family_status</th>\n",
       "      <th>family_status_id</th>\n",
       "      <th>gender</th>\n",
       "      <th>income_type</th>\n",
       "      <th>debt</th>\n",
       "      <th>total_income</th>\n",
       "      <th>purpose</th>\n",
       "    </tr>\n",
       "  </thead>\n",
       "  <tbody>\n",
       "    <tr>\n",
       "      <td>7785</td>\n",
       "      <td>0</td>\n",
       "      <td>-1847.731652</td>\n",
       "      <td>37</td>\n",
       "      <td>среднее</td>\n",
       "      <td>1</td>\n",
       "      <td>женат / замужем</td>\n",
       "      <td>0</td>\n",
       "      <td>F</td>\n",
       "      <td>сотрудник</td>\n",
       "      <td>0</td>\n",
       "      <td>77051.284246</td>\n",
       "      <td>ремонт жилью</td>\n",
       "    </tr>\n",
       "    <tr>\n",
       "      <td>12115</td>\n",
       "      <td>0</td>\n",
       "      <td>-4060.498230</td>\n",
       "      <td>44</td>\n",
       "      <td>высшее</td>\n",
       "      <td>0</td>\n",
       "      <td>женат / замужем</td>\n",
       "      <td>0</td>\n",
       "      <td>M</td>\n",
       "      <td>сотрудник</td>\n",
       "      <td>0</td>\n",
       "      <td>283681.222896</td>\n",
       "      <td>операции с коммерческой недвижимостью</td>\n",
       "    </tr>\n",
       "    <tr>\n",
       "      <td>8359</td>\n",
       "      <td>0</td>\n",
       "      <td>-518.974318</td>\n",
       "      <td>40</td>\n",
       "      <td>ВЫСШЕЕ</td>\n",
       "      <td>0</td>\n",
       "      <td>гражданский брак</td>\n",
       "      <td>1</td>\n",
       "      <td>F</td>\n",
       "      <td>компаньон</td>\n",
       "      <td>0</td>\n",
       "      <td>230141.147194</td>\n",
       "      <td>на проведение свадьбы</td>\n",
       "    </tr>\n",
       "    <tr>\n",
       "      <td>15920</td>\n",
       "      <td>2</td>\n",
       "      <td>-781.707436</td>\n",
       "      <td>36</td>\n",
       "      <td>среднее</td>\n",
       "      <td>1</td>\n",
       "      <td>Не женат / не замужем</td>\n",
       "      <td>4</td>\n",
       "      <td>F</td>\n",
       "      <td>компаньон</td>\n",
       "      <td>0</td>\n",
       "      <td>234660.603131</td>\n",
       "      <td>жилье</td>\n",
       "    </tr>\n",
       "    <tr>\n",
       "      <td>5498</td>\n",
       "      <td>0</td>\n",
       "      <td>-6511.621133</td>\n",
       "      <td>60</td>\n",
       "      <td>Среднее</td>\n",
       "      <td>1</td>\n",
       "      <td>вдовец / вдова</td>\n",
       "      <td>2</td>\n",
       "      <td>F</td>\n",
       "      <td>сотрудник</td>\n",
       "      <td>0</td>\n",
       "      <td>174995.741267</td>\n",
       "      <td>покупка коммерческой недвижимости</td>\n",
       "    </tr>\n",
       "  </tbody>\n",
       "</table>\n",
       "</div>"
      ],
      "text/plain": [
       "       children  days_employed  dob_years education  education_id  \\\n",
       "7785          0   -1847.731652         37   среднее             1   \n",
       "12115         0   -4060.498230         44    высшее             0   \n",
       "8359          0    -518.974318         40    ВЫСШЕЕ             0   \n",
       "15920         2    -781.707436         36   среднее             1   \n",
       "5498          0   -6511.621133         60   Среднее             1   \n",
       "\n",
       "               family_status  family_status_id gender income_type  debt  \\\n",
       "7785         женат / замужем                 0      F   сотрудник     0   \n",
       "12115        женат / замужем                 0      M   сотрудник     0   \n",
       "8359        гражданский брак                 1      F   компаньон     0   \n",
       "15920  Не женат / не замужем                 4      F   компаньон     0   \n",
       "5498          вдовец / вдова                 2      F   сотрудник     0   \n",
       "\n",
       "        total_income                                purpose  \n",
       "7785    77051.284246                           ремонт жилью  \n",
       "12115  283681.222896  операции с коммерческой недвижимостью  \n",
       "8359   230141.147194                  на проведение свадьбы  \n",
       "15920  234660.603131                                  жилье  \n",
       "5498   174995.741267      покупка коммерческой недвижимости  "
      ]
     },
     "execution_count": 4,
     "metadata": {},
     "output_type": "execute_result"
    }
   ],
   "source": [
    "df.sample(5)"
   ]
  },
  {
   "cell_type": "markdown",
   "metadata": {},
   "source": [
    "**Предварительные выводы на основе первого визуального ознакомления**:\n",
    "- в таблице не требуется переименовывать заголовки,\n",
    "- в столбце days_employed есть отрицательные значения, с которыми нужно будет что-то делать,\n",
    "- days_employed для упрощения восприятия нужно будет пересчитать в годах и привести к целочисленному типу,\n",
    "- в отношении total_income потребуется округление до двух знаков,\n",
    "- возможно упростить столбец family_status,\n",
    "- столбец purpose потребует переработки - назначение кредита надо будет обобщать.\n",
    "- строчные данные в таблице внесены в разном регистре."
   ]
  },
  {
   "cell_type": "markdown",
   "metadata": {},
   "source": [
    "**На разрешение поставлены следующие вопросы:**\n",
    "- есть ли зависимость между семейным положением и возвратом кредита в срок?\n",
    "- есть ли зависимость между уровнем дохода и возвратом кредита в срок?\n",
    "- как разные цели кредита влияют на его возврат в срок?"
   ]
  },
  {
   "cell_type": "markdown",
   "metadata": {},
   "source": [
    "**Исходя из поставленных вопросов ключевыми столбцами являются \"children\", \"family_status\", \"total_income\", \"purpose\".**\n",
    "\n",
    "**Вместе с тем, очистка будет проводиться по всем данным, со всеми столбцами: это позволит заполнить пропуски и устранить \"странные\" данные. Кроме того, данные по другим столбцам могут понадобиться для дальнейшего анализа**"
   ]
  },
  {
   "cell_type": "markdown",
   "metadata": {},
   "source": [
    "### 4. Получим общую информацию о таблице с помощью метода info()"
   ]
  },
  {
   "cell_type": "code",
   "execution_count": 5,
   "metadata": {},
   "outputs": [
    {
     "name": "stdout",
     "output_type": "stream",
     "text": [
      "<class 'pandas.core.frame.DataFrame'>\n",
      "RangeIndex: 21525 entries, 0 to 21524\n",
      "Data columns (total 12 columns):\n",
      "children            21525 non-null int64\n",
      "days_employed       19351 non-null float64\n",
      "dob_years           21525 non-null int64\n",
      "education           21525 non-null object\n",
      "education_id        21525 non-null int64\n",
      "family_status       21525 non-null object\n",
      "family_status_id    21525 non-null int64\n",
      "gender              21525 non-null object\n",
      "income_type         21525 non-null object\n",
      "debt                21525 non-null int64\n",
      "total_income        19351 non-null float64\n",
      "purpose             21525 non-null object\n",
      "dtypes: float64(2), int64(5), object(5)\n",
      "memory usage: 2.0+ MB\n"
     ]
    }
   ],
   "source": [
    "df.info()"
   ]
  },
  {
   "cell_type": "markdown",
   "metadata": {},
   "source": [
    "**Всего 21 525 строк. В таблице есть пропущенные данные: в столбцах days_employed и total_income - 2 174 строки. На первый взгляд, нет больших проблем с типами данных**."
   ]
  },
  {
   "cell_type": "markdown",
   "metadata": {},
   "source": [
    "### 5. Получим дополнительные сведения о данных в таблице с помошью метода describe() и corr(): каков диапазон значений в данных, какова корреляция между парами наблюдений"
   ]
  },
  {
   "cell_type": "code",
   "execution_count": 6,
   "metadata": {},
   "outputs": [
    {
     "data": {
      "text/html": [
       "<div>\n",
       "<style scoped>\n",
       "    .dataframe tbody tr th:only-of-type {\n",
       "        vertical-align: middle;\n",
       "    }\n",
       "\n",
       "    .dataframe tbody tr th {\n",
       "        vertical-align: top;\n",
       "    }\n",
       "\n",
       "    .dataframe thead th {\n",
       "        text-align: right;\n",
       "    }\n",
       "</style>\n",
       "<table border=\"1\" class=\"dataframe\">\n",
       "  <thead>\n",
       "    <tr style=\"text-align: right;\">\n",
       "      <th></th>\n",
       "      <th>children</th>\n",
       "      <th>days_employed</th>\n",
       "      <th>dob_years</th>\n",
       "      <th>education_id</th>\n",
       "      <th>family_status_id</th>\n",
       "      <th>debt</th>\n",
       "      <th>total_income</th>\n",
       "    </tr>\n",
       "  </thead>\n",
       "  <tbody>\n",
       "    <tr>\n",
       "      <td>count</td>\n",
       "      <td>21525.000000</td>\n",
       "      <td>19351.000000</td>\n",
       "      <td>21525.000000</td>\n",
       "      <td>21525.000000</td>\n",
       "      <td>21525.000000</td>\n",
       "      <td>21525.000000</td>\n",
       "      <td>1.935100e+04</td>\n",
       "    </tr>\n",
       "    <tr>\n",
       "      <td>mean</td>\n",
       "      <td>0.538908</td>\n",
       "      <td>63046.497661</td>\n",
       "      <td>43.293380</td>\n",
       "      <td>0.817236</td>\n",
       "      <td>0.972544</td>\n",
       "      <td>0.080883</td>\n",
       "      <td>1.674223e+05</td>\n",
       "    </tr>\n",
       "    <tr>\n",
       "      <td>std</td>\n",
       "      <td>1.381587</td>\n",
       "      <td>140827.311974</td>\n",
       "      <td>12.574584</td>\n",
       "      <td>0.548138</td>\n",
       "      <td>1.420324</td>\n",
       "      <td>0.272661</td>\n",
       "      <td>1.029716e+05</td>\n",
       "    </tr>\n",
       "    <tr>\n",
       "      <td>min</td>\n",
       "      <td>-1.000000</td>\n",
       "      <td>-18388.949901</td>\n",
       "      <td>0.000000</td>\n",
       "      <td>0.000000</td>\n",
       "      <td>0.000000</td>\n",
       "      <td>0.000000</td>\n",
       "      <td>2.066726e+04</td>\n",
       "    </tr>\n",
       "    <tr>\n",
       "      <td>25%</td>\n",
       "      <td>0.000000</td>\n",
       "      <td>-2747.423625</td>\n",
       "      <td>33.000000</td>\n",
       "      <td>1.000000</td>\n",
       "      <td>0.000000</td>\n",
       "      <td>0.000000</td>\n",
       "      <td>1.030532e+05</td>\n",
       "    </tr>\n",
       "    <tr>\n",
       "      <td>50%</td>\n",
       "      <td>0.000000</td>\n",
       "      <td>-1203.369529</td>\n",
       "      <td>42.000000</td>\n",
       "      <td>1.000000</td>\n",
       "      <td>0.000000</td>\n",
       "      <td>0.000000</td>\n",
       "      <td>1.450179e+05</td>\n",
       "    </tr>\n",
       "    <tr>\n",
       "      <td>75%</td>\n",
       "      <td>1.000000</td>\n",
       "      <td>-291.095954</td>\n",
       "      <td>53.000000</td>\n",
       "      <td>1.000000</td>\n",
       "      <td>1.000000</td>\n",
       "      <td>0.000000</td>\n",
       "      <td>2.034351e+05</td>\n",
       "    </tr>\n",
       "    <tr>\n",
       "      <td>max</td>\n",
       "      <td>20.000000</td>\n",
       "      <td>401755.400475</td>\n",
       "      <td>75.000000</td>\n",
       "      <td>4.000000</td>\n",
       "      <td>4.000000</td>\n",
       "      <td>1.000000</td>\n",
       "      <td>2.265604e+06</td>\n",
       "    </tr>\n",
       "  </tbody>\n",
       "</table>\n",
       "</div>"
      ],
      "text/plain": [
       "           children  days_employed     dob_years  education_id  \\\n",
       "count  21525.000000   19351.000000  21525.000000  21525.000000   \n",
       "mean       0.538908   63046.497661     43.293380      0.817236   \n",
       "std        1.381587  140827.311974     12.574584      0.548138   \n",
       "min       -1.000000  -18388.949901      0.000000      0.000000   \n",
       "25%        0.000000   -2747.423625     33.000000      1.000000   \n",
       "50%        0.000000   -1203.369529     42.000000      1.000000   \n",
       "75%        1.000000    -291.095954     53.000000      1.000000   \n",
       "max       20.000000  401755.400475     75.000000      4.000000   \n",
       "\n",
       "       family_status_id          debt  total_income  \n",
       "count      21525.000000  21525.000000  1.935100e+04  \n",
       "mean           0.972544      0.080883  1.674223e+05  \n",
       "std            1.420324      0.272661  1.029716e+05  \n",
       "min            0.000000      0.000000  2.066726e+04  \n",
       "25%            0.000000      0.000000  1.030532e+05  \n",
       "50%            0.000000      0.000000  1.450179e+05  \n",
       "75%            1.000000      0.000000  2.034351e+05  \n",
       "max            4.000000      1.000000  2.265604e+06  "
      ]
     },
     "execution_count": 6,
     "metadata": {},
     "output_type": "execute_result"
    }
   ],
   "source": [
    "df.describe()"
   ]
  },
  {
   "cell_type": "markdown",
   "metadata": {},
   "source": [
    "#### Проверим какие из наблюдений взаимосвязаны и взаимозаисимы между собой в том виде, каком они представлены сейчас с помощью метода corr(). Интересно будет сравнить цифры после очистки данных."
   ]
  },
  {
   "cell_type": "code",
   "execution_count": 7,
   "metadata": {},
   "outputs": [
    {
     "data": {
      "text/html": [
       "<div>\n",
       "<style scoped>\n",
       "    .dataframe tbody tr th:only-of-type {\n",
       "        vertical-align: middle;\n",
       "    }\n",
       "\n",
       "    .dataframe tbody tr th {\n",
       "        vertical-align: top;\n",
       "    }\n",
       "\n",
       "    .dataframe thead th {\n",
       "        text-align: right;\n",
       "    }\n",
       "</style>\n",
       "<table border=\"1\" class=\"dataframe\">\n",
       "  <thead>\n",
       "    <tr style=\"text-align: right;\">\n",
       "      <th></th>\n",
       "      <th>children</th>\n",
       "      <th>days_employed</th>\n",
       "      <th>dob_years</th>\n",
       "      <th>education_id</th>\n",
       "      <th>family_status_id</th>\n",
       "      <th>debt</th>\n",
       "      <th>total_income</th>\n",
       "    </tr>\n",
       "  </thead>\n",
       "  <tbody>\n",
       "    <tr>\n",
       "      <td>children</td>\n",
       "      <td>1.000000</td>\n",
       "      <td>-0.138354</td>\n",
       "      <td>-0.174358</td>\n",
       "      <td>-0.012695</td>\n",
       "      <td>-0.091284</td>\n",
       "      <td>0.018470</td>\n",
       "      <td>0.018220</td>\n",
       "    </tr>\n",
       "    <tr>\n",
       "      <td>days_employed</td>\n",
       "      <td>-0.138354</td>\n",
       "      <td>1.000000</td>\n",
       "      <td>0.582643</td>\n",
       "      <td>0.080565</td>\n",
       "      <td>0.005726</td>\n",
       "      <td>-0.047110</td>\n",
       "      <td>-0.136648</td>\n",
       "    </tr>\n",
       "    <tr>\n",
       "      <td>dob_years</td>\n",
       "      <td>-0.174358</td>\n",
       "      <td>0.582643</td>\n",
       "      <td>1.000000</td>\n",
       "      <td>0.067467</td>\n",
       "      <td>-0.069988</td>\n",
       "      <td>-0.069620</td>\n",
       "      <td>-0.052911</td>\n",
       "    </tr>\n",
       "    <tr>\n",
       "      <td>education_id</td>\n",
       "      <td>-0.012695</td>\n",
       "      <td>0.080565</td>\n",
       "      <td>0.067467</td>\n",
       "      <td>1.000000</td>\n",
       "      <td>0.007876</td>\n",
       "      <td>0.052906</td>\n",
       "      <td>-0.178885</td>\n",
       "    </tr>\n",
       "    <tr>\n",
       "      <td>family_status_id</td>\n",
       "      <td>-0.091284</td>\n",
       "      <td>0.005726</td>\n",
       "      <td>-0.069988</td>\n",
       "      <td>0.007876</td>\n",
       "      <td>1.000000</td>\n",
       "      <td>0.020611</td>\n",
       "      <td>-0.009147</td>\n",
       "    </tr>\n",
       "    <tr>\n",
       "      <td>debt</td>\n",
       "      <td>0.018470</td>\n",
       "      <td>-0.047110</td>\n",
       "      <td>-0.069620</td>\n",
       "      <td>0.052906</td>\n",
       "      <td>0.020611</td>\n",
       "      <td>1.000000</td>\n",
       "      <td>-0.012475</td>\n",
       "    </tr>\n",
       "    <tr>\n",
       "      <td>total_income</td>\n",
       "      <td>0.018220</td>\n",
       "      <td>-0.136648</td>\n",
       "      <td>-0.052911</td>\n",
       "      <td>-0.178885</td>\n",
       "      <td>-0.009147</td>\n",
       "      <td>-0.012475</td>\n",
       "      <td>1.000000</td>\n",
       "    </tr>\n",
       "  </tbody>\n",
       "</table>\n",
       "</div>"
      ],
      "text/plain": [
       "                  children  days_employed  dob_years  education_id  \\\n",
       "children          1.000000      -0.138354  -0.174358     -0.012695   \n",
       "days_employed    -0.138354       1.000000   0.582643      0.080565   \n",
       "dob_years        -0.174358       0.582643   1.000000      0.067467   \n",
       "education_id     -0.012695       0.080565   0.067467      1.000000   \n",
       "family_status_id -0.091284       0.005726  -0.069988      0.007876   \n",
       "debt              0.018470      -0.047110  -0.069620      0.052906   \n",
       "total_income      0.018220      -0.136648  -0.052911     -0.178885   \n",
       "\n",
       "                  family_status_id      debt  total_income  \n",
       "children                 -0.091284  0.018470      0.018220  \n",
       "days_employed             0.005726 -0.047110     -0.136648  \n",
       "dob_years                -0.069988 -0.069620     -0.052911  \n",
       "education_id              0.007876  0.052906     -0.178885  \n",
       "family_status_id          1.000000  0.020611     -0.009147  \n",
       "debt                      0.020611  1.000000     -0.012475  \n",
       "total_income             -0.009147 -0.012475      1.000000  "
      ]
     },
     "execution_count": 7,
     "metadata": {},
     "output_type": "execute_result"
    }
   ],
   "source": [
    "df.corr()"
   ]
  },
  {
   "cell_type": "markdown",
   "metadata": {},
   "source": [
    "**Выводы**:\n",
    "- разброс по количеству детей от -1 до 20,\n",
    "- в данных с трудовым стажем есть не только отрицательные значения, но еще и очевидно бессмысленные наблюдения: максимальный трудовой стаж равен 1100 годам (401 755 дней),\n",
    "- в столбце с возрастом заемщиков есть значения равные 0,\n",
    "- в данном виде наблюдается слабая корреляция между наблюдениями и возникшим долгом. Сравним результат после очистки данных.\n"
   ]
  },
  {
   "cell_type": "markdown",
   "metadata": {},
   "source": [
    "### 6. С учетом полученных данных посмотрим отдельно в столбцы"
   ]
  },
  {
   "cell_type": "markdown",
   "metadata": {},
   "source": [
    "#### 1) Посчитаем сколько строк содержат данные о количестве детей более 10"
   ]
  },
  {
   "cell_type": "code",
   "execution_count": 8,
   "metadata": {},
   "outputs": [
    {
     "data": {
      "text/plain": [
       "children            76\n",
       "days_employed       67\n",
       "dob_years           76\n",
       "education           76\n",
       "education_id        76\n",
       "family_status       76\n",
       "family_status_id    76\n",
       "gender              76\n",
       "income_type         76\n",
       "debt                76\n",
       "total_income        67\n",
       "purpose             76\n",
       "dtype: int64"
      ]
     },
     "execution_count": 8,
     "metadata": {},
     "output_type": "execute_result"
    }
   ],
   "source": [
    "df[df.children > 10].count()"
   ]
  },
  {
   "cell_type": "markdown",
   "metadata": {},
   "source": [
    "**Семьдесят шесть строк. Менее 1 % (76 / 21 525). Возможно, эти строки можно выкинуть без существенного вреда для результата.**"
   ]
  },
  {
   "cell_type": "markdown",
   "metadata": {},
   "source": [
    "#### 2) Посчитаем сколько строк содержат данные о возрасте равным 0"
   ]
  },
  {
   "cell_type": "code",
   "execution_count": 9,
   "metadata": {},
   "outputs": [
    {
     "data": {
      "text/plain": [
       "children            101\n",
       "days_employed        91\n",
       "dob_years           101\n",
       "education           101\n",
       "education_id        101\n",
       "family_status       101\n",
       "family_status_id    101\n",
       "gender              101\n",
       "income_type         101\n",
       "debt                101\n",
       "total_income         91\n",
       "purpose             101\n",
       "dtype: int64"
      ]
     },
     "execution_count": 9,
     "metadata": {},
     "output_type": "execute_result"
    }
   ],
   "source": [
    "df[df.dob_years == 0].count()"
   ]
  },
  {
   "cell_type": "markdown",
   "metadata": {},
   "source": [
    "**Сто одна строка. Также менее 1 % (101 / 21 525). Возможно, эти строки также можно выкинуть без существенного вреда для результата.**"
   ]
  },
  {
   "cell_type": "markdown",
   "metadata": {},
   "source": [
    "#### 3) Проверим, пересекаются ли строки с возрастом равным нулю и количеством детей более 10"
   ]
  },
  {
   "cell_type": "code",
   "execution_count": 10,
   "metadata": {},
   "outputs": [
    {
     "data": {
      "text/plain": [
       "children            1\n",
       "days_employed       1\n",
       "dob_years           1\n",
       "education           1\n",
       "education_id        1\n",
       "family_status       1\n",
       "family_status_id    1\n",
       "gender              1\n",
       "income_type         1\n",
       "debt                1\n",
       "total_income        1\n",
       "purpose             1\n",
       "dtype: int64"
      ]
     },
     "execution_count": 10,
     "metadata": {},
     "output_type": "execute_result"
    }
   ],
   "source": [
    "df[(df.dob_years == 0) & (df.children > 10)].count()"
   ]
  },
  {
   "cell_type": "markdown",
   "metadata": {},
   "source": [
    "**Всего одно пересечение. Следовательно 177 строк c бессмысленными данными, что все еще менее 1% от всех наблюдений (177 / 21 525). Претенденты на удаление.**"
   ]
  },
  {
   "cell_type": "markdown",
   "metadata": {},
   "source": [
    "#### 4) Дополнительно проверим насколько часто встречаются отрицательные значения в столбце об общем трудовом стаже"
   ]
  },
  {
   "cell_type": "code",
   "execution_count": 11,
   "metadata": {},
   "outputs": [
    {
     "data": {
      "text/plain": [
       "children            15906\n",
       "days_employed       15906\n",
       "dob_years           15906\n",
       "education           15906\n",
       "education_id        15906\n",
       "family_status       15906\n",
       "family_status_id    15906\n",
       "gender              15906\n",
       "income_type         15906\n",
       "debt                15906\n",
       "total_income        15906\n",
       "purpose             15906\n",
       "dtype: int64"
      ]
     },
     "execution_count": 11,
     "metadata": {},
     "output_type": "execute_result"
    }
   ],
   "source": [
    "df[df.days_employed < 0].count()"
   ]
  },
  {
   "cell_type": "markdown",
   "metadata": {},
   "source": [
    "**Неожиданно 74% всех наблюдений (15 906 / 21 525).**"
   ]
  },
  {
   "cell_type": "markdown",
   "metadata": {},
   "source": [
    "При обзоре таблицы найдены значения с трудовом стаже исчисляющемся в тысячелетиях - очевидная техническая ошибка. Например, мужчина с 18 лет до 65 лет будет работать всего 47 лет или 17 155‬ дней (47 * 365). Узнаем сколько наблюдений в таблице с трудовым стажем свыше 47 лет."
   ]
  },
  {
   "cell_type": "code",
   "execution_count": 12,
   "metadata": {},
   "outputs": [
    {
     "name": "stdout",
     "output_type": "stream",
     "text": [
      "В выборке 3445 наблюдений непрерывного стажа свыше 47 лет, что составляет 16.00% от всей выборки из 21 525 наблюдений.\n"
     ]
    }
   ],
   "source": [
    "goofy_employee_days = len(df[df.days_employed >= 17155])\n",
    "goofy_employee_days_percent = goofy_employee_days / len(df)\n",
    "print('В выборке {} наблюдений непрерывного стажа свыше 47 лет, что составляет {:.2%} от всей выборки из 21 525 наблюдений.'.format(goofy_employee_days, goofy_employee_days_percent))"
   ]
  },
  {
   "cell_type": "markdown",
   "metadata": {},
   "source": [
    "#### 5) Проверим содержимое столбцов family_status, gender,\tincome_type, purpose"
   ]
  },
  {
   "cell_type": "markdown",
   "metadata": {},
   "source": [
    "- семейное положение"
   ]
  },
  {
   "cell_type": "code",
   "execution_count": 13,
   "metadata": {},
   "outputs": [
    {
     "data": {
      "text/plain": [
       "array(['женат / замужем', 'гражданский брак', 'вдовец / вдова',\n",
       "       'в разводе', 'Не женат / не замужем'], dtype=object)"
      ]
     },
     "execution_count": 13,
     "metadata": {},
     "output_type": "execute_result"
    }
   ],
   "source": [
    "df.family_status.unique()"
   ]
  },
  {
   "cell_type": "markdown",
   "metadata": {},
   "source": [
    "- пол"
   ]
  },
  {
   "cell_type": "code",
   "execution_count": 14,
   "metadata": {},
   "outputs": [
    {
     "data": {
      "text/plain": [
       "array(['F', 'M', 'XNA'], dtype=object)"
      ]
     },
     "execution_count": 14,
     "metadata": {},
     "output_type": "execute_result"
    }
   ],
   "source": [
    "df.gender.unique()"
   ]
  },
  {
   "cell_type": "markdown",
   "metadata": {},
   "source": [
    "- источник дохода"
   ]
  },
  {
   "cell_type": "code",
   "execution_count": 15,
   "metadata": {},
   "outputs": [
    {
     "data": {
      "text/plain": [
       "array(['сотрудник', 'пенсионер', 'компаньон', 'госслужащий',\n",
       "       'безработный', 'предприниматель', 'студент', 'в декрете'],\n",
       "      dtype=object)"
      ]
     },
     "execution_count": 15,
     "metadata": {},
     "output_type": "execute_result"
    }
   ],
   "source": [
    "df.income_type.unique()"
   ]
  },
  {
   "cell_type": "markdown",
   "metadata": {},
   "source": [
    "- образование"
   ]
  },
  {
   "cell_type": "code",
   "execution_count": 16,
   "metadata": {},
   "outputs": [
    {
     "data": {
      "text/plain": [
       "array(['высшее', 'среднее', 'Среднее', 'СРЕДНЕЕ', 'ВЫСШЕЕ',\n",
       "       'неоконченное высшее', 'начальное', 'Высшее',\n",
       "       'НЕОКОНЧЕННОЕ ВЫСШЕЕ', 'Неоконченное высшее', 'НАЧАЛЬНОЕ',\n",
       "       'Начальное', 'Ученая степень', 'УЧЕНАЯ СТЕПЕНЬ', 'ученая степень'],\n",
       "      dtype=object)"
      ]
     },
     "execution_count": 16,
     "metadata": {},
     "output_type": "execute_result"
    }
   ],
   "source": [
    "df.education.unique()"
   ]
  },
  {
   "cell_type": "markdown",
   "metadata": {},
   "source": [
    "- цель кредита"
   ]
  },
  {
   "cell_type": "code",
   "execution_count": 17,
   "metadata": {},
   "outputs": [
    {
     "data": {
      "text/plain": [
       "array(['покупка жилья', 'приобретение автомобиля',\n",
       "       'дополнительное образование', 'сыграть свадьбу',\n",
       "       'операции с жильем', 'образование', 'на проведение свадьбы',\n",
       "       'покупка жилья для семьи', 'покупка недвижимости',\n",
       "       'покупка коммерческой недвижимости', 'покупка жилой недвижимости',\n",
       "       'строительство собственной недвижимости', 'недвижимость',\n",
       "       'строительство недвижимости', 'на покупку подержанного автомобиля',\n",
       "       'на покупку своего автомобиля',\n",
       "       'операции с коммерческой недвижимостью',\n",
       "       'строительство жилой недвижимости', 'жилье',\n",
       "       'операции со своей недвижимостью', 'автомобили',\n",
       "       'заняться образованием', 'сделка с подержанным автомобилем',\n",
       "       'получение образования', 'автомобиль', 'свадьба',\n",
       "       'получение дополнительного образования', 'покупка своего жилья',\n",
       "       'операции с недвижимостью', 'получение высшего образования',\n",
       "       'свой автомобиль', 'сделка с автомобилем',\n",
       "       'профильное образование', 'высшее образование',\n",
       "       'покупка жилья для сдачи', 'на покупку автомобиля', 'ремонт жилью',\n",
       "       'заняться высшим образованием'], dtype=object)"
      ]
     },
     "execution_count": 17,
     "metadata": {},
     "output_type": "execute_result"
    }
   ],
   "source": [
    "df.purpose.unique()"
   ]
  },
  {
   "cell_type": "markdown",
   "metadata": {},
   "source": [
    "#### 6) Проверим таблицу на наличие дубликатов"
   ]
  },
  {
   "cell_type": "code",
   "execution_count": 18,
   "metadata": {},
   "outputs": [
    {
     "data": {
      "text/plain": [
       "False    21471\n",
       "True        54\n",
       "dtype: int64"
      ]
     },
     "execution_count": 18,
     "metadata": {},
     "output_type": "execute_result"
    }
   ],
   "source": [
    "df.duplicated().value_counts()"
   ]
  },
  {
   "cell_type": "markdown",
   "metadata": {},
   "source": [
    "**Найден 54 дубликата: менее одного процента (54 / 21 525).**"
   ]
  },
  {
   "cell_type": "markdown",
   "metadata": {},
   "source": [
    "**Поскольку всего дублей всего 54 - выведем все дублирующиеся значения, чтобы понять причину возникновения дублей.**"
   ]
  },
  {
   "cell_type": "code",
   "execution_count": 19,
   "metadata": {
    "scrolled": true
   },
   "outputs": [
    {
     "data": {
      "text/html": [
       "<div>\n",
       "<style scoped>\n",
       "    .dataframe tbody tr th:only-of-type {\n",
       "        vertical-align: middle;\n",
       "    }\n",
       "\n",
       "    .dataframe tbody tr th {\n",
       "        vertical-align: top;\n",
       "    }\n",
       "\n",
       "    .dataframe thead th {\n",
       "        text-align: right;\n",
       "    }\n",
       "</style>\n",
       "<table border=\"1\" class=\"dataframe\">\n",
       "  <thead>\n",
       "    <tr style=\"text-align: right;\">\n",
       "      <th></th>\n",
       "      <th>children</th>\n",
       "      <th>days_employed</th>\n",
       "      <th>dob_years</th>\n",
       "      <th>education</th>\n",
       "      <th>education_id</th>\n",
       "      <th>family_status</th>\n",
       "      <th>family_status_id</th>\n",
       "      <th>gender</th>\n",
       "      <th>income_type</th>\n",
       "      <th>debt</th>\n",
       "      <th>total_income</th>\n",
       "      <th>purpose</th>\n",
       "    </tr>\n",
       "  </thead>\n",
       "  <tbody>\n",
       "    <tr>\n",
       "      <td>13639</td>\n",
       "      <td>0</td>\n",
       "      <td>NaN</td>\n",
       "      <td>64</td>\n",
       "      <td>среднее</td>\n",
       "      <td>1</td>\n",
       "      <td>женат / замужем</td>\n",
       "      <td>0</td>\n",
       "      <td>F</td>\n",
       "      <td>пенсионер</td>\n",
       "      <td>0</td>\n",
       "      <td>NaN</td>\n",
       "      <td>автомобиль</td>\n",
       "    </tr>\n",
       "    <tr>\n",
       "      <td>16378</td>\n",
       "      <td>0</td>\n",
       "      <td>NaN</td>\n",
       "      <td>46</td>\n",
       "      <td>среднее</td>\n",
       "      <td>1</td>\n",
       "      <td>женат / замужем</td>\n",
       "      <td>0</td>\n",
       "      <td>F</td>\n",
       "      <td>сотрудник</td>\n",
       "      <td>0</td>\n",
       "      <td>NaN</td>\n",
       "      <td>высшее образование</td>\n",
       "    </tr>\n",
       "    <tr>\n",
       "      <td>20702</td>\n",
       "      <td>0</td>\n",
       "      <td>NaN</td>\n",
       "      <td>64</td>\n",
       "      <td>среднее</td>\n",
       "      <td>1</td>\n",
       "      <td>женат / замужем</td>\n",
       "      <td>0</td>\n",
       "      <td>F</td>\n",
       "      <td>пенсионер</td>\n",
       "      <td>0</td>\n",
       "      <td>NaN</td>\n",
       "      <td>дополнительное образование</td>\n",
       "    </tr>\n",
       "    <tr>\n",
       "      <td>8583</td>\n",
       "      <td>0</td>\n",
       "      <td>NaN</td>\n",
       "      <td>58</td>\n",
       "      <td>высшее</td>\n",
       "      <td>0</td>\n",
       "      <td>Не женат / не замужем</td>\n",
       "      <td>4</td>\n",
       "      <td>F</td>\n",
       "      <td>пенсионер</td>\n",
       "      <td>0</td>\n",
       "      <td>NaN</td>\n",
       "      <td>дополнительное образование</td>\n",
       "    </tr>\n",
       "    <tr>\n",
       "      <td>18428</td>\n",
       "      <td>0</td>\n",
       "      <td>NaN</td>\n",
       "      <td>64</td>\n",
       "      <td>среднее</td>\n",
       "      <td>1</td>\n",
       "      <td>женат / замужем</td>\n",
       "      <td>0</td>\n",
       "      <td>F</td>\n",
       "      <td>пенсионер</td>\n",
       "      <td>0</td>\n",
       "      <td>NaN</td>\n",
       "      <td>жилье</td>\n",
       "    </tr>\n",
       "    <tr>\n",
       "      <td>17755</td>\n",
       "      <td>1</td>\n",
       "      <td>NaN</td>\n",
       "      <td>43</td>\n",
       "      <td>среднее</td>\n",
       "      <td>1</td>\n",
       "      <td>женат / замужем</td>\n",
       "      <td>0</td>\n",
       "      <td>M</td>\n",
       "      <td>сотрудник</td>\n",
       "      <td>0</td>\n",
       "      <td>NaN</td>\n",
       "      <td>заняться образованием</td>\n",
       "    </tr>\n",
       "    <tr>\n",
       "      <td>12736</td>\n",
       "      <td>0</td>\n",
       "      <td>NaN</td>\n",
       "      <td>59</td>\n",
       "      <td>среднее</td>\n",
       "      <td>1</td>\n",
       "      <td>женат / замужем</td>\n",
       "      <td>0</td>\n",
       "      <td>F</td>\n",
       "      <td>пенсионер</td>\n",
       "      <td>0</td>\n",
       "      <td>NaN</td>\n",
       "      <td>заняться образованием</td>\n",
       "    </tr>\n",
       "    <tr>\n",
       "      <td>18755</td>\n",
       "      <td>0</td>\n",
       "      <td>NaN</td>\n",
       "      <td>58</td>\n",
       "      <td>среднее</td>\n",
       "      <td>1</td>\n",
       "      <td>женат / замужем</td>\n",
       "      <td>0</td>\n",
       "      <td>F</td>\n",
       "      <td>пенсионер</td>\n",
       "      <td>0</td>\n",
       "      <td>NaN</td>\n",
       "      <td>заняться образованием</td>\n",
       "    </tr>\n",
       "    <tr>\n",
       "      <td>21032</td>\n",
       "      <td>0</td>\n",
       "      <td>NaN</td>\n",
       "      <td>60</td>\n",
       "      <td>среднее</td>\n",
       "      <td>1</td>\n",
       "      <td>женат / замужем</td>\n",
       "      <td>0</td>\n",
       "      <td>F</td>\n",
       "      <td>пенсионер</td>\n",
       "      <td>0</td>\n",
       "      <td>NaN</td>\n",
       "      <td>заняться образованием</td>\n",
       "    </tr>\n",
       "    <tr>\n",
       "      <td>16904</td>\n",
       "      <td>1</td>\n",
       "      <td>NaN</td>\n",
       "      <td>32</td>\n",
       "      <td>высшее</td>\n",
       "      <td>0</td>\n",
       "      <td>женат / замужем</td>\n",
       "      <td>0</td>\n",
       "      <td>F</td>\n",
       "      <td>сотрудник</td>\n",
       "      <td>0</td>\n",
       "      <td>NaN</td>\n",
       "      <td>на покупку подержанного автомобиля</td>\n",
       "    </tr>\n",
       "    <tr>\n",
       "      <td>7808</td>\n",
       "      <td>0</td>\n",
       "      <td>NaN</td>\n",
       "      <td>57</td>\n",
       "      <td>среднее</td>\n",
       "      <td>1</td>\n",
       "      <td>гражданский брак</td>\n",
       "      <td>1</td>\n",
       "      <td>F</td>\n",
       "      <td>пенсионер</td>\n",
       "      <td>0</td>\n",
       "      <td>NaN</td>\n",
       "      <td>на проведение свадьбы</td>\n",
       "    </tr>\n",
       "    <tr>\n",
       "      <td>19387</td>\n",
       "      <td>0</td>\n",
       "      <td>NaN</td>\n",
       "      <td>38</td>\n",
       "      <td>высшее</td>\n",
       "      <td>0</td>\n",
       "      <td>гражданский брак</td>\n",
       "      <td>1</td>\n",
       "      <td>F</td>\n",
       "      <td>компаньон</td>\n",
       "      <td>0</td>\n",
       "      <td>NaN</td>\n",
       "      <td>на проведение свадьбы</td>\n",
       "    </tr>\n",
       "    <tr>\n",
       "      <td>19041</td>\n",
       "      <td>0</td>\n",
       "      <td>NaN</td>\n",
       "      <td>56</td>\n",
       "      <td>среднее</td>\n",
       "      <td>1</td>\n",
       "      <td>гражданский брак</td>\n",
       "      <td>1</td>\n",
       "      <td>F</td>\n",
       "      <td>сотрудник</td>\n",
       "      <td>0</td>\n",
       "      <td>NaN</td>\n",
       "      <td>на проведение свадьбы</td>\n",
       "    </tr>\n",
       "    <tr>\n",
       "      <td>15091</td>\n",
       "      <td>0</td>\n",
       "      <td>NaN</td>\n",
       "      <td>58</td>\n",
       "      <td>среднее</td>\n",
       "      <td>1</td>\n",
       "      <td>гражданский брак</td>\n",
       "      <td>1</td>\n",
       "      <td>M</td>\n",
       "      <td>сотрудник</td>\n",
       "      <td>0</td>\n",
       "      <td>NaN</td>\n",
       "      <td>на проведение свадьбы</td>\n",
       "    </tr>\n",
       "    <tr>\n",
       "      <td>14832</td>\n",
       "      <td>0</td>\n",
       "      <td>NaN</td>\n",
       "      <td>50</td>\n",
       "      <td>среднее</td>\n",
       "      <td>1</td>\n",
       "      <td>Не женат / не замужем</td>\n",
       "      <td>4</td>\n",
       "      <td>F</td>\n",
       "      <td>сотрудник</td>\n",
       "      <td>0</td>\n",
       "      <td>NaN</td>\n",
       "      <td>недвижимость</td>\n",
       "    </tr>\n",
       "    <tr>\n",
       "      <td>21415</td>\n",
       "      <td>0</td>\n",
       "      <td>NaN</td>\n",
       "      <td>54</td>\n",
       "      <td>среднее</td>\n",
       "      <td>1</td>\n",
       "      <td>женат / замужем</td>\n",
       "      <td>0</td>\n",
       "      <td>F</td>\n",
       "      <td>пенсионер</td>\n",
       "      <td>0</td>\n",
       "      <td>NaN</td>\n",
       "      <td>операции с жильем</td>\n",
       "    </tr>\n",
       "    <tr>\n",
       "      <td>17379</td>\n",
       "      <td>0</td>\n",
       "      <td>NaN</td>\n",
       "      <td>54</td>\n",
       "      <td>высшее</td>\n",
       "      <td>0</td>\n",
       "      <td>женат / замужем</td>\n",
       "      <td>0</td>\n",
       "      <td>M</td>\n",
       "      <td>компаньон</td>\n",
       "      <td>0</td>\n",
       "      <td>NaN</td>\n",
       "      <td>операции с коммерческой недвижимостью</td>\n",
       "    </tr>\n",
       "    <tr>\n",
       "      <td>19688</td>\n",
       "      <td>0</td>\n",
       "      <td>NaN</td>\n",
       "      <td>61</td>\n",
       "      <td>среднее</td>\n",
       "      <td>1</td>\n",
       "      <td>женат / замужем</td>\n",
       "      <td>0</td>\n",
       "      <td>F</td>\n",
       "      <td>пенсионер</td>\n",
       "      <td>0</td>\n",
       "      <td>NaN</td>\n",
       "      <td>операции с недвижимостью</td>\n",
       "    </tr>\n",
       "    <tr>\n",
       "      <td>9528</td>\n",
       "      <td>0</td>\n",
       "      <td>NaN</td>\n",
       "      <td>66</td>\n",
       "      <td>среднее</td>\n",
       "      <td>1</td>\n",
       "      <td>вдовец / вдова</td>\n",
       "      <td>2</td>\n",
       "      <td>F</td>\n",
       "      <td>пенсионер</td>\n",
       "      <td>0</td>\n",
       "      <td>NaN</td>\n",
       "      <td>операции со своей недвижимостью</td>\n",
       "    </tr>\n",
       "    <tr>\n",
       "      <td>18563</td>\n",
       "      <td>0</td>\n",
       "      <td>NaN</td>\n",
       "      <td>54</td>\n",
       "      <td>среднее</td>\n",
       "      <td>1</td>\n",
       "      <td>женат / замужем</td>\n",
       "      <td>0</td>\n",
       "      <td>F</td>\n",
       "      <td>сотрудник</td>\n",
       "      <td>0</td>\n",
       "      <td>NaN</td>\n",
       "      <td>операции со своей недвижимостью</td>\n",
       "    </tr>\n",
       "    <tr>\n",
       "      <td>9627</td>\n",
       "      <td>0</td>\n",
       "      <td>NaN</td>\n",
       "      <td>56</td>\n",
       "      <td>среднее</td>\n",
       "      <td>1</td>\n",
       "      <td>женат / замужем</td>\n",
       "      <td>0</td>\n",
       "      <td>F</td>\n",
       "      <td>пенсионер</td>\n",
       "      <td>0</td>\n",
       "      <td>NaN</td>\n",
       "      <td>операции со своей недвижимостью</td>\n",
       "    </tr>\n",
       "    <tr>\n",
       "      <td>18328</td>\n",
       "      <td>0</td>\n",
       "      <td>NaN</td>\n",
       "      <td>29</td>\n",
       "      <td>высшее</td>\n",
       "      <td>0</td>\n",
       "      <td>женат / замужем</td>\n",
       "      <td>0</td>\n",
       "      <td>M</td>\n",
       "      <td>сотрудник</td>\n",
       "      <td>0</td>\n",
       "      <td>NaN</td>\n",
       "      <td>покупка жилой недвижимости</td>\n",
       "    </tr>\n",
       "    <tr>\n",
       "      <td>13878</td>\n",
       "      <td>1</td>\n",
       "      <td>NaN</td>\n",
       "      <td>31</td>\n",
       "      <td>среднее</td>\n",
       "      <td>1</td>\n",
       "      <td>женат / замужем</td>\n",
       "      <td>0</td>\n",
       "      <td>F</td>\n",
       "      <td>компаньон</td>\n",
       "      <td>0</td>\n",
       "      <td>NaN</td>\n",
       "      <td>покупка жилья</td>\n",
       "    </tr>\n",
       "    <tr>\n",
       "      <td>9238</td>\n",
       "      <td>2</td>\n",
       "      <td>NaN</td>\n",
       "      <td>34</td>\n",
       "      <td>среднее</td>\n",
       "      <td>1</td>\n",
       "      <td>женат / замужем</td>\n",
       "      <td>0</td>\n",
       "      <td>F</td>\n",
       "      <td>сотрудник</td>\n",
       "      <td>0</td>\n",
       "      <td>NaN</td>\n",
       "      <td>покупка жилья для сдачи</td>\n",
       "    </tr>\n",
       "    <tr>\n",
       "      <td>20165</td>\n",
       "      <td>0</td>\n",
       "      <td>NaN</td>\n",
       "      <td>42</td>\n",
       "      <td>среднее</td>\n",
       "      <td>1</td>\n",
       "      <td>женат / замужем</td>\n",
       "      <td>0</td>\n",
       "      <td>F</td>\n",
       "      <td>сотрудник</td>\n",
       "      <td>0</td>\n",
       "      <td>NaN</td>\n",
       "      <td>покупка жилья для семьи</td>\n",
       "    </tr>\n",
       "    <tr>\n",
       "      <td>18349</td>\n",
       "      <td>1</td>\n",
       "      <td>NaN</td>\n",
       "      <td>30</td>\n",
       "      <td>высшее</td>\n",
       "      <td>0</td>\n",
       "      <td>женат / замужем</td>\n",
       "      <td>0</td>\n",
       "      <td>F</td>\n",
       "      <td>госслужащий</td>\n",
       "      <td>0</td>\n",
       "      <td>NaN</td>\n",
       "      <td>покупка жилья для семьи</td>\n",
       "    </tr>\n",
       "    <tr>\n",
       "      <td>2849</td>\n",
       "      <td>0</td>\n",
       "      <td>NaN</td>\n",
       "      <td>41</td>\n",
       "      <td>среднее</td>\n",
       "      <td>1</td>\n",
       "      <td>женат / замужем</td>\n",
       "      <td>0</td>\n",
       "      <td>F</td>\n",
       "      <td>сотрудник</td>\n",
       "      <td>0</td>\n",
       "      <td>NaN</td>\n",
       "      <td>покупка жилья для семьи</td>\n",
       "    </tr>\n",
       "    <tr>\n",
       "      <td>10462</td>\n",
       "      <td>0</td>\n",
       "      <td>NaN</td>\n",
       "      <td>62</td>\n",
       "      <td>среднее</td>\n",
       "      <td>1</td>\n",
       "      <td>женат / замужем</td>\n",
       "      <td>0</td>\n",
       "      <td>F</td>\n",
       "      <td>пенсионер</td>\n",
       "      <td>0</td>\n",
       "      <td>NaN</td>\n",
       "      <td>покупка коммерческой недвижимости</td>\n",
       "    </tr>\n",
       "    <tr>\n",
       "      <td>21281</td>\n",
       "      <td>1</td>\n",
       "      <td>NaN</td>\n",
       "      <td>30</td>\n",
       "      <td>высшее</td>\n",
       "      <td>0</td>\n",
       "      <td>женат / замужем</td>\n",
       "      <td>0</td>\n",
       "      <td>F</td>\n",
       "      <td>сотрудник</td>\n",
       "      <td>0</td>\n",
       "      <td>NaN</td>\n",
       "      <td>покупка коммерческой недвижимости</td>\n",
       "    </tr>\n",
       "    <tr>\n",
       "      <td>15188</td>\n",
       "      <td>0</td>\n",
       "      <td>NaN</td>\n",
       "      <td>60</td>\n",
       "      <td>среднее</td>\n",
       "      <td>1</td>\n",
       "      <td>женат / замужем</td>\n",
       "      <td>0</td>\n",
       "      <td>M</td>\n",
       "      <td>сотрудник</td>\n",
       "      <td>0</td>\n",
       "      <td>NaN</td>\n",
       "      <td>покупка недвижимости</td>\n",
       "    </tr>\n",
       "    <tr>\n",
       "      <td>12375</td>\n",
       "      <td>1</td>\n",
       "      <td>NaN</td>\n",
       "      <td>37</td>\n",
       "      <td>среднее</td>\n",
       "      <td>1</td>\n",
       "      <td>женат / замужем</td>\n",
       "      <td>0</td>\n",
       "      <td>F</td>\n",
       "      <td>сотрудник</td>\n",
       "      <td>0</td>\n",
       "      <td>NaN</td>\n",
       "      <td>покупка недвижимости</td>\n",
       "    </tr>\n",
       "    <tr>\n",
       "      <td>12373</td>\n",
       "      <td>0</td>\n",
       "      <td>NaN</td>\n",
       "      <td>58</td>\n",
       "      <td>среднее</td>\n",
       "      <td>1</td>\n",
       "      <td>женат / замужем</td>\n",
       "      <td>0</td>\n",
       "      <td>M</td>\n",
       "      <td>сотрудник</td>\n",
       "      <td>0</td>\n",
       "      <td>NaN</td>\n",
       "      <td>покупка недвижимости</td>\n",
       "    </tr>\n",
       "    <tr>\n",
       "      <td>14432</td>\n",
       "      <td>2</td>\n",
       "      <td>NaN</td>\n",
       "      <td>36</td>\n",
       "      <td>высшее</td>\n",
       "      <td>0</td>\n",
       "      <td>женат / замужем</td>\n",
       "      <td>0</td>\n",
       "      <td>F</td>\n",
       "      <td>госслужащий</td>\n",
       "      <td>0</td>\n",
       "      <td>NaN</td>\n",
       "      <td>получение образования</td>\n",
       "    </tr>\n",
       "    <tr>\n",
       "      <td>13942</td>\n",
       "      <td>0</td>\n",
       "      <td>NaN</td>\n",
       "      <td>44</td>\n",
       "      <td>среднее</td>\n",
       "      <td>1</td>\n",
       "      <td>женат / замужем</td>\n",
       "      <td>0</td>\n",
       "      <td>F</td>\n",
       "      <td>сотрудник</td>\n",
       "      <td>0</td>\n",
       "      <td>NaN</td>\n",
       "      <td>приобретение автомобиля</td>\n",
       "    </tr>\n",
       "    <tr>\n",
       "      <td>16176</td>\n",
       "      <td>0</td>\n",
       "      <td>NaN</td>\n",
       "      <td>47</td>\n",
       "      <td>среднее</td>\n",
       "      <td>1</td>\n",
       "      <td>женат / замужем</td>\n",
       "      <td>0</td>\n",
       "      <td>F</td>\n",
       "      <td>сотрудник</td>\n",
       "      <td>0</td>\n",
       "      <td>NaN</td>\n",
       "      <td>ремонт жилью</td>\n",
       "    </tr>\n",
       "    <tr>\n",
       "      <td>21132</td>\n",
       "      <td>0</td>\n",
       "      <td>NaN</td>\n",
       "      <td>47</td>\n",
       "      <td>среднее</td>\n",
       "      <td>1</td>\n",
       "      <td>женат / замужем</td>\n",
       "      <td>0</td>\n",
       "      <td>F</td>\n",
       "      <td>сотрудник</td>\n",
       "      <td>0</td>\n",
       "      <td>NaN</td>\n",
       "      <td>ремонт жилью</td>\n",
       "    </tr>\n",
       "    <tr>\n",
       "      <td>19832</td>\n",
       "      <td>0</td>\n",
       "      <td>NaN</td>\n",
       "      <td>48</td>\n",
       "      <td>среднее</td>\n",
       "      <td>1</td>\n",
       "      <td>женат / замужем</td>\n",
       "      <td>0</td>\n",
       "      <td>F</td>\n",
       "      <td>сотрудник</td>\n",
       "      <td>0</td>\n",
       "      <td>NaN</td>\n",
       "      <td>ремонт жилью</td>\n",
       "    </tr>\n",
       "    <tr>\n",
       "      <td>10994</td>\n",
       "      <td>0</td>\n",
       "      <td>NaN</td>\n",
       "      <td>62</td>\n",
       "      <td>среднее</td>\n",
       "      <td>1</td>\n",
       "      <td>женат / замужем</td>\n",
       "      <td>0</td>\n",
       "      <td>F</td>\n",
       "      <td>пенсионер</td>\n",
       "      <td>0</td>\n",
       "      <td>NaN</td>\n",
       "      <td>ремонт жилью</td>\n",
       "    </tr>\n",
       "    <tr>\n",
       "      <td>10864</td>\n",
       "      <td>0</td>\n",
       "      <td>NaN</td>\n",
       "      <td>62</td>\n",
       "      <td>среднее</td>\n",
       "      <td>1</td>\n",
       "      <td>женат / замужем</td>\n",
       "      <td>0</td>\n",
       "      <td>F</td>\n",
       "      <td>пенсионер</td>\n",
       "      <td>0</td>\n",
       "      <td>NaN</td>\n",
       "      <td>ремонт жилью</td>\n",
       "    </tr>\n",
       "    <tr>\n",
       "      <td>20116</td>\n",
       "      <td>0</td>\n",
       "      <td>NaN</td>\n",
       "      <td>57</td>\n",
       "      <td>среднее</td>\n",
       "      <td>1</td>\n",
       "      <td>гражданский брак</td>\n",
       "      <td>1</td>\n",
       "      <td>M</td>\n",
       "      <td>пенсионер</td>\n",
       "      <td>0</td>\n",
       "      <td>NaN</td>\n",
       "      <td>свадьба</td>\n",
       "    </tr>\n",
       "    <tr>\n",
       "      <td>4851</td>\n",
       "      <td>0</td>\n",
       "      <td>NaN</td>\n",
       "      <td>60</td>\n",
       "      <td>среднее</td>\n",
       "      <td>1</td>\n",
       "      <td>гражданский брак</td>\n",
       "      <td>1</td>\n",
       "      <td>F</td>\n",
       "      <td>пенсионер</td>\n",
       "      <td>0</td>\n",
       "      <td>NaN</td>\n",
       "      <td>свадьба</td>\n",
       "    </tr>\n",
       "    <tr>\n",
       "      <td>4182</td>\n",
       "      <td>1</td>\n",
       "      <td>NaN</td>\n",
       "      <td>34</td>\n",
       "      <td>ВЫСШЕЕ</td>\n",
       "      <td>0</td>\n",
       "      <td>гражданский брак</td>\n",
       "      <td>1</td>\n",
       "      <td>F</td>\n",
       "      <td>сотрудник</td>\n",
       "      <td>0</td>\n",
       "      <td>NaN</td>\n",
       "      <td>свадьба</td>\n",
       "    </tr>\n",
       "    <tr>\n",
       "      <td>15273</td>\n",
       "      <td>0</td>\n",
       "      <td>NaN</td>\n",
       "      <td>57</td>\n",
       "      <td>среднее</td>\n",
       "      <td>1</td>\n",
       "      <td>гражданский брак</td>\n",
       "      <td>1</td>\n",
       "      <td>F</td>\n",
       "      <td>пенсионер</td>\n",
       "      <td>0</td>\n",
       "      <td>NaN</td>\n",
       "      <td>свадьба</td>\n",
       "    </tr>\n",
       "    <tr>\n",
       "      <td>19184</td>\n",
       "      <td>0</td>\n",
       "      <td>NaN</td>\n",
       "      <td>46</td>\n",
       "      <td>среднее</td>\n",
       "      <td>1</td>\n",
       "      <td>женат / замужем</td>\n",
       "      <td>0</td>\n",
       "      <td>F</td>\n",
       "      <td>сотрудник</td>\n",
       "      <td>0</td>\n",
       "      <td>NaN</td>\n",
       "      <td>свой автомобиль</td>\n",
       "    </tr>\n",
       "    <tr>\n",
       "      <td>13025</td>\n",
       "      <td>1</td>\n",
       "      <td>NaN</td>\n",
       "      <td>44</td>\n",
       "      <td>среднее</td>\n",
       "      <td>1</td>\n",
       "      <td>женат / замужем</td>\n",
       "      <td>0</td>\n",
       "      <td>F</td>\n",
       "      <td>сотрудник</td>\n",
       "      <td>0</td>\n",
       "      <td>NaN</td>\n",
       "      <td>сделка с подержанным автомобилем</td>\n",
       "    </tr>\n",
       "    <tr>\n",
       "      <td>19321</td>\n",
       "      <td>0</td>\n",
       "      <td>NaN</td>\n",
       "      <td>23</td>\n",
       "      <td>среднее</td>\n",
       "      <td>1</td>\n",
       "      <td>Не женат / не замужем</td>\n",
       "      <td>4</td>\n",
       "      <td>F</td>\n",
       "      <td>сотрудник</td>\n",
       "      <td>0</td>\n",
       "      <td>NaN</td>\n",
       "      <td>сделка с подержанным автомобилем</td>\n",
       "    </tr>\n",
       "    <tr>\n",
       "      <td>19946</td>\n",
       "      <td>0</td>\n",
       "      <td>NaN</td>\n",
       "      <td>57</td>\n",
       "      <td>среднее</td>\n",
       "      <td>1</td>\n",
       "      <td>женат / замужем</td>\n",
       "      <td>0</td>\n",
       "      <td>F</td>\n",
       "      <td>сотрудник</td>\n",
       "      <td>0</td>\n",
       "      <td>NaN</td>\n",
       "      <td>сделка с подержанным автомобилем</td>\n",
       "    </tr>\n",
       "    <tr>\n",
       "      <td>17774</td>\n",
       "      <td>1</td>\n",
       "      <td>NaN</td>\n",
       "      <td>40</td>\n",
       "      <td>среднее</td>\n",
       "      <td>1</td>\n",
       "      <td>гражданский брак</td>\n",
       "      <td>1</td>\n",
       "      <td>F</td>\n",
       "      <td>компаньон</td>\n",
       "      <td>0</td>\n",
       "      <td>NaN</td>\n",
       "      <td>строительство жилой недвижимости</td>\n",
       "    </tr>\n",
       "    <tr>\n",
       "      <td>11791</td>\n",
       "      <td>0</td>\n",
       "      <td>NaN</td>\n",
       "      <td>47</td>\n",
       "      <td>среднее</td>\n",
       "      <td>1</td>\n",
       "      <td>женат / замужем</td>\n",
       "      <td>0</td>\n",
       "      <td>F</td>\n",
       "      <td>сотрудник</td>\n",
       "      <td>0</td>\n",
       "      <td>NaN</td>\n",
       "      <td>строительство недвижимости</td>\n",
       "    </tr>\n",
       "    <tr>\n",
       "      <td>18521</td>\n",
       "      <td>0</td>\n",
       "      <td>NaN</td>\n",
       "      <td>56</td>\n",
       "      <td>среднее</td>\n",
       "      <td>1</td>\n",
       "      <td>гражданский брак</td>\n",
       "      <td>1</td>\n",
       "      <td>F</td>\n",
       "      <td>сотрудник</td>\n",
       "      <td>0</td>\n",
       "      <td>NaN</td>\n",
       "      <td>сыграть свадьбу</td>\n",
       "    </tr>\n",
       "    <tr>\n",
       "      <td>10697</td>\n",
       "      <td>0</td>\n",
       "      <td>NaN</td>\n",
       "      <td>40</td>\n",
       "      <td>среднее</td>\n",
       "      <td>1</td>\n",
       "      <td>гражданский брак</td>\n",
       "      <td>1</td>\n",
       "      <td>F</td>\n",
       "      <td>компаньон</td>\n",
       "      <td>0</td>\n",
       "      <td>NaN</td>\n",
       "      <td>сыграть свадьбу</td>\n",
       "    </tr>\n",
       "    <tr>\n",
       "      <td>13773</td>\n",
       "      <td>0</td>\n",
       "      <td>NaN</td>\n",
       "      <td>35</td>\n",
       "      <td>среднее</td>\n",
       "      <td>1</td>\n",
       "      <td>гражданский брак</td>\n",
       "      <td>1</td>\n",
       "      <td>F</td>\n",
       "      <td>сотрудник</td>\n",
       "      <td>0</td>\n",
       "      <td>NaN</td>\n",
       "      <td>сыграть свадьбу</td>\n",
       "    </tr>\n",
       "    <tr>\n",
       "      <td>5557</td>\n",
       "      <td>0</td>\n",
       "      <td>NaN</td>\n",
       "      <td>58</td>\n",
       "      <td>среднее</td>\n",
       "      <td>1</td>\n",
       "      <td>гражданский брак</td>\n",
       "      <td>1</td>\n",
       "      <td>F</td>\n",
       "      <td>пенсионер</td>\n",
       "      <td>0</td>\n",
       "      <td>NaN</td>\n",
       "      <td>сыграть свадьбу</td>\n",
       "    </tr>\n",
       "    <tr>\n",
       "      <td>16902</td>\n",
       "      <td>2</td>\n",
       "      <td>NaN</td>\n",
       "      <td>39</td>\n",
       "      <td>среднее</td>\n",
       "      <td>1</td>\n",
       "      <td>гражданский брак</td>\n",
       "      <td>1</td>\n",
       "      <td>F</td>\n",
       "      <td>сотрудник</td>\n",
       "      <td>0</td>\n",
       "      <td>NaN</td>\n",
       "      <td>сыграть свадьбу</td>\n",
       "    </tr>\n",
       "  </tbody>\n",
       "</table>\n",
       "</div>"
      ],
      "text/plain": [
       "       children  days_employed  dob_years education  education_id  \\\n",
       "13639         0            NaN         64   среднее             1   \n",
       "16378         0            NaN         46   среднее             1   \n",
       "20702         0            NaN         64   среднее             1   \n",
       "8583          0            NaN         58    высшее             0   \n",
       "18428         0            NaN         64   среднее             1   \n",
       "17755         1            NaN         43   среднее             1   \n",
       "12736         0            NaN         59   среднее             1   \n",
       "18755         0            NaN         58   среднее             1   \n",
       "21032         0            NaN         60   среднее             1   \n",
       "16904         1            NaN         32    высшее             0   \n",
       "7808          0            NaN         57   среднее             1   \n",
       "19387         0            NaN         38    высшее             0   \n",
       "19041         0            NaN         56   среднее             1   \n",
       "15091         0            NaN         58   среднее             1   \n",
       "14832         0            NaN         50   среднее             1   \n",
       "21415         0            NaN         54   среднее             1   \n",
       "17379         0            NaN         54    высшее             0   \n",
       "19688         0            NaN         61   среднее             1   \n",
       "9528          0            NaN         66   среднее             1   \n",
       "18563         0            NaN         54   среднее             1   \n",
       "9627          0            NaN         56   среднее             1   \n",
       "18328         0            NaN         29    высшее             0   \n",
       "13878         1            NaN         31   среднее             1   \n",
       "9238          2            NaN         34   среднее             1   \n",
       "20165         0            NaN         42   среднее             1   \n",
       "18349         1            NaN         30    высшее             0   \n",
       "2849          0            NaN         41   среднее             1   \n",
       "10462         0            NaN         62   среднее             1   \n",
       "21281         1            NaN         30    высшее             0   \n",
       "15188         0            NaN         60   среднее             1   \n",
       "12375         1            NaN         37   среднее             1   \n",
       "12373         0            NaN         58   среднее             1   \n",
       "14432         2            NaN         36    высшее             0   \n",
       "13942         0            NaN         44   среднее             1   \n",
       "16176         0            NaN         47   среднее             1   \n",
       "21132         0            NaN         47   среднее             1   \n",
       "19832         0            NaN         48   среднее             1   \n",
       "10994         0            NaN         62   среднее             1   \n",
       "10864         0            NaN         62   среднее             1   \n",
       "20116         0            NaN         57   среднее             1   \n",
       "4851          0            NaN         60   среднее             1   \n",
       "4182          1            NaN         34    ВЫСШЕЕ             0   \n",
       "15273         0            NaN         57   среднее             1   \n",
       "19184         0            NaN         46   среднее             1   \n",
       "13025         1            NaN         44   среднее             1   \n",
       "19321         0            NaN         23   среднее             1   \n",
       "19946         0            NaN         57   среднее             1   \n",
       "17774         1            NaN         40   среднее             1   \n",
       "11791         0            NaN         47   среднее             1   \n",
       "18521         0            NaN         56   среднее             1   \n",
       "10697         0            NaN         40   среднее             1   \n",
       "13773         0            NaN         35   среднее             1   \n",
       "5557          0            NaN         58   среднее             1   \n",
       "16902         2            NaN         39   среднее             1   \n",
       "\n",
       "               family_status  family_status_id gender  income_type  debt  \\\n",
       "13639        женат / замужем                 0      F    пенсионер     0   \n",
       "16378        женат / замужем                 0      F    сотрудник     0   \n",
       "20702        женат / замужем                 0      F    пенсионер     0   \n",
       "8583   Не женат / не замужем                 4      F    пенсионер     0   \n",
       "18428        женат / замужем                 0      F    пенсионер     0   \n",
       "17755        женат / замужем                 0      M    сотрудник     0   \n",
       "12736        женат / замужем                 0      F    пенсионер     0   \n",
       "18755        женат / замужем                 0      F    пенсионер     0   \n",
       "21032        женат / замужем                 0      F    пенсионер     0   \n",
       "16904        женат / замужем                 0      F    сотрудник     0   \n",
       "7808        гражданский брак                 1      F    пенсионер     0   \n",
       "19387       гражданский брак                 1      F    компаньон     0   \n",
       "19041       гражданский брак                 1      F    сотрудник     0   \n",
       "15091       гражданский брак                 1      M    сотрудник     0   \n",
       "14832  Не женат / не замужем                 4      F    сотрудник     0   \n",
       "21415        женат / замужем                 0      F    пенсионер     0   \n",
       "17379        женат / замужем                 0      M    компаньон     0   \n",
       "19688        женат / замужем                 0      F    пенсионер     0   \n",
       "9528          вдовец / вдова                 2      F    пенсионер     0   \n",
       "18563        женат / замужем                 0      F    сотрудник     0   \n",
       "9627         женат / замужем                 0      F    пенсионер     0   \n",
       "18328        женат / замужем                 0      M    сотрудник     0   \n",
       "13878        женат / замужем                 0      F    компаньон     0   \n",
       "9238         женат / замужем                 0      F    сотрудник     0   \n",
       "20165        женат / замужем                 0      F    сотрудник     0   \n",
       "18349        женат / замужем                 0      F  госслужащий     0   \n",
       "2849         женат / замужем                 0      F    сотрудник     0   \n",
       "10462        женат / замужем                 0      F    пенсионер     0   \n",
       "21281        женат / замужем                 0      F    сотрудник     0   \n",
       "15188        женат / замужем                 0      M    сотрудник     0   \n",
       "12375        женат / замужем                 0      F    сотрудник     0   \n",
       "12373        женат / замужем                 0      M    сотрудник     0   \n",
       "14432        женат / замужем                 0      F  госслужащий     0   \n",
       "13942        женат / замужем                 0      F    сотрудник     0   \n",
       "16176        женат / замужем                 0      F    сотрудник     0   \n",
       "21132        женат / замужем                 0      F    сотрудник     0   \n",
       "19832        женат / замужем                 0      F    сотрудник     0   \n",
       "10994        женат / замужем                 0      F    пенсионер     0   \n",
       "10864        женат / замужем                 0      F    пенсионер     0   \n",
       "20116       гражданский брак                 1      M    пенсионер     0   \n",
       "4851        гражданский брак                 1      F    пенсионер     0   \n",
       "4182        гражданский брак                 1      F    сотрудник     0   \n",
       "15273       гражданский брак                 1      F    пенсионер     0   \n",
       "19184        женат / замужем                 0      F    сотрудник     0   \n",
       "13025        женат / замужем                 0      F    сотрудник     0   \n",
       "19321  Не женат / не замужем                 4      F    сотрудник     0   \n",
       "19946        женат / замужем                 0      F    сотрудник     0   \n",
       "17774       гражданский брак                 1      F    компаньон     0   \n",
       "11791        женат / замужем                 0      F    сотрудник     0   \n",
       "18521       гражданский брак                 1      F    сотрудник     0   \n",
       "10697       гражданский брак                 1      F    компаньон     0   \n",
       "13773       гражданский брак                 1      F    сотрудник     0   \n",
       "5557        гражданский брак                 1      F    пенсионер     0   \n",
       "16902       гражданский брак                 1      F    сотрудник     0   \n",
       "\n",
       "       total_income                                purpose  \n",
       "13639           NaN                             автомобиль  \n",
       "16378           NaN                     высшее образование  \n",
       "20702           NaN             дополнительное образование  \n",
       "8583            NaN             дополнительное образование  \n",
       "18428           NaN                                  жилье  \n",
       "17755           NaN                  заняться образованием  \n",
       "12736           NaN                  заняться образованием  \n",
       "18755           NaN                  заняться образованием  \n",
       "21032           NaN                  заняться образованием  \n",
       "16904           NaN     на покупку подержанного автомобиля  \n",
       "7808            NaN                  на проведение свадьбы  \n",
       "19387           NaN                  на проведение свадьбы  \n",
       "19041           NaN                  на проведение свадьбы  \n",
       "15091           NaN                  на проведение свадьбы  \n",
       "14832           NaN                           недвижимость  \n",
       "21415           NaN                      операции с жильем  \n",
       "17379           NaN  операции с коммерческой недвижимостью  \n",
       "19688           NaN               операции с недвижимостью  \n",
       "9528            NaN        операции со своей недвижимостью  \n",
       "18563           NaN        операции со своей недвижимостью  \n",
       "9627            NaN        операции со своей недвижимостью  \n",
       "18328           NaN             покупка жилой недвижимости  \n",
       "13878           NaN                          покупка жилья  \n",
       "9238            NaN                покупка жилья для сдачи  \n",
       "20165           NaN                покупка жилья для семьи  \n",
       "18349           NaN                покупка жилья для семьи  \n",
       "2849            NaN                покупка жилья для семьи  \n",
       "10462           NaN      покупка коммерческой недвижимости  \n",
       "21281           NaN      покупка коммерческой недвижимости  \n",
       "15188           NaN                   покупка недвижимости  \n",
       "12375           NaN                   покупка недвижимости  \n",
       "12373           NaN                   покупка недвижимости  \n",
       "14432           NaN                  получение образования  \n",
       "13942           NaN                приобретение автомобиля  \n",
       "16176           NaN                           ремонт жилью  \n",
       "21132           NaN                           ремонт жилью  \n",
       "19832           NaN                           ремонт жилью  \n",
       "10994           NaN                           ремонт жилью  \n",
       "10864           NaN                           ремонт жилью  \n",
       "20116           NaN                                свадьба  \n",
       "4851            NaN                                свадьба  \n",
       "4182            NaN                                свадьба  \n",
       "15273           NaN                                свадьба  \n",
       "19184           NaN                        свой автомобиль  \n",
       "13025           NaN       сделка с подержанным автомобилем  \n",
       "19321           NaN       сделка с подержанным автомобилем  \n",
       "19946           NaN       сделка с подержанным автомобилем  \n",
       "17774           NaN       строительство жилой недвижимости  \n",
       "11791           NaN             строительство недвижимости  \n",
       "18521           NaN                        сыграть свадьбу  \n",
       "10697           NaN                        сыграть свадьбу  \n",
       "13773           NaN                        сыграть свадьбу  \n",
       "5557            NaN                        сыграть свадьбу  \n",
       "16902           NaN                        сыграть свадьбу  "
      ]
     },
     "execution_count": 19,
     "metadata": {},
     "output_type": "execute_result"
    }
   ],
   "source": [
    "df[df.duplicated()].sort_values(by = 'purpose')"
   ]
  },
  {
   "cell_type": "markdown",
   "metadata": {},
   "source": [
    "**По всей видимости причина возникновения дублей в отсутвующих данных. Трудовой стаж и доход - ключевые индивидулизирующие аттрибуты пропущены; остальные наблюдения - неинформативны. Кроме того, дубликаты не пересекаются со строками с бессмысленными данными. Возможно, данные строки проще всего удалить.**"
   ]
  },
  {
   "cell_type": "markdown",
   "metadata": {},
   "source": [
    "**Выводы**:\n",
    "- в столбцах с наблюдениями об образовании, семейном положении, поле различается регистр, в цели кредита - нет, \n",
    "- цель кредита и  семейное положение потребуется позже упростить,\n",
    "- в столбце пол содержится значение 'XNA', которое требует замены,\n",
    "- в таблице есть 71 дубликат, которые возникли из-за пропусков."
   ]
  },
  {
   "cell_type": "markdown",
   "metadata": {},
   "source": [
    "### 8. Посчитаем сколько всего строк в таблице с наблюдением о долге"
   ]
  },
  {
   "cell_type": "code",
   "execution_count": 20,
   "metadata": {},
   "outputs": [
    {
     "data": {
      "text/plain": [
       "0    19784\n",
       "1     1741\n",
       "Name: debt, dtype: int64"
      ]
     },
     "execution_count": 20,
     "metadata": {},
     "output_type": "execute_result"
    }
   ],
   "source": [
    "df.debt.value_counts()"
   ]
  },
  {
   "cell_type": "markdown",
   "metadata": {},
   "source": [
    "**1741 наблюдение, почти 9% (1 741 / 19 784).**"
   ]
  },
  {
   "cell_type": "markdown",
   "metadata": {},
   "source": [
    "### Вывод"
   ]
  },
  {
   "cell_type": "markdown",
   "metadata": {},
   "source": [
    "**1.** В таблице содержится 21 525 наблюдений в которых 5 868‬ строк с пропусками, бессмысленными данными и дубликатами: \n",
    "    - 2 174 пропуска,\n",
    "    - 3 623 бессмысленных значения,\n",
    "    - 71 дубликат.\n",
    "**2.** Необходимо исправить отрицательные значения в столбце days_employed. \n",
    "\n",
    "**3.** Столбец purpose потребует переработки – обобщить назначение кредита.\n",
    "\n",
    "**4.** По крайней мере неочищенные данные показывают слабую корреляцию между наблюдениями.\n"
   ]
  },
  {
   "cell_type": "markdown",
   "metadata": {},
   "source": [
    "# Предобработка данных"
   ]
  },
  {
   "cell_type": "markdown",
   "metadata": {},
   "source": [
    "### Обработка пропусков"
   ]
  },
  {
   "cell_type": "markdown",
   "metadata": {},
   "source": [
    "**1) Исправим регистр с помощью строкового метода str.lower().**"
   ]
  },
  {
   "cell_type": "code",
   "execution_count": 21,
   "metadata": {},
   "outputs": [],
   "source": [
    "df.education = df.education.str.lower()\n",
    "df.family_status = df.family_status.str.lower()\n",
    "df.gender = df.gender.str.lower()"
   ]
  },
  {
   "cell_type": "markdown",
   "metadata": {},
   "source": [
    "**Проверим результат**"
   ]
  },
  {
   "cell_type": "code",
   "execution_count": 22,
   "metadata": {},
   "outputs": [
    {
     "data": {
      "text/plain": [
       "array(['высшее', 'среднее', 'неоконченное высшее', 'начальное',\n",
       "       'ученая степень'], dtype=object)"
      ]
     },
     "execution_count": 22,
     "metadata": {},
     "output_type": "execute_result"
    }
   ],
   "source": [
    "df.education.unique()"
   ]
  },
  {
   "cell_type": "code",
   "execution_count": 23,
   "metadata": {},
   "outputs": [
    {
     "data": {
      "text/plain": [
       "array(['женат / замужем', 'гражданский брак', 'вдовец / вдова',\n",
       "       'в разводе', 'не женат / не замужем'], dtype=object)"
      ]
     },
     "execution_count": 23,
     "metadata": {},
     "output_type": "execute_result"
    }
   ],
   "source": [
    "df.family_status.unique()"
   ]
  },
  {
   "cell_type": "code",
   "execution_count": 24,
   "metadata": {},
   "outputs": [
    {
     "data": {
      "text/plain": [
       "array(['f', 'm', 'xna'], dtype=object)"
      ]
     },
     "execution_count": 24,
     "metadata": {},
     "output_type": "execute_result"
    }
   ],
   "source": [
    "df.gender.unique()"
   ]
  },
  {
   "cell_type": "markdown",
   "metadata": {},
   "source": [
    "**2) Избавимся от отрицательных значений в столюце с трудовым стажем и столбце с количеством детей**"
   ]
  },
  {
   "cell_type": "code",
   "execution_count": 25,
   "metadata": {},
   "outputs": [],
   "source": [
    "df['days_employed'] = abs(df['days_employed'])"
   ]
  },
  {
   "cell_type": "code",
   "execution_count": 26,
   "metadata": {},
   "outputs": [],
   "source": [
    "df['children'] = abs(df['children'])"
   ]
  },
  {
   "cell_type": "markdown",
   "metadata": {},
   "source": [
    "**Проверим результат**"
   ]
  },
  {
   "cell_type": "code",
   "execution_count": 27,
   "metadata": {},
   "outputs": [
    {
     "data": {
      "text/plain": [
       "24.14163324048118"
      ]
     },
     "execution_count": 27,
     "metadata": {},
     "output_type": "execute_result"
    }
   ],
   "source": [
    "df.days_employed.min()"
   ]
  },
  {
   "cell_type": "code",
   "execution_count": 28,
   "metadata": {},
   "outputs": [
    {
     "data": {
      "text/plain": [
       "0"
      ]
     },
     "execution_count": 28,
     "metadata": {},
     "output_type": "execute_result"
    }
   ],
   "source": [
    "df.children.min()"
   ]
  },
  {
   "cell_type": "markdown",
   "metadata": {},
   "source": [
    "**3) Заполним пропуски с доходом в столбце total_income**"
   ]
  },
  {
   "cell_type": "markdown",
   "metadata": {},
   "source": [
    "Узнаем медиану для каждого из типов дохода с помощбю метода .groupby(), запустим цикл для заполнения пропусков медианным значением в зависимости от вида дохода.\n",
    "\n",
    "**Важно отметить, что в каждой строке содержится данные о замещике - то есть лице, которое уже получило кредит. Следовательно, в таблице вообще не может быть дохода равного 0.**"
   ]
  },
  {
   "cell_type": "code",
   "execution_count": 29,
   "metadata": {},
   "outputs": [
    {
     "data": {
      "text/plain": [
       "income_type\n",
       "безработный        131339.751676\n",
       "в декрете           53829.130729\n",
       "госслужащий        150447.935283\n",
       "компаньон          172357.950966\n",
       "пенсионер          118514.486412\n",
       "предприниматель    499163.144947\n",
       "сотрудник          142594.396847\n",
       "студент             98201.625314\n",
       "Name: total_income, dtype: float64"
      ]
     },
     "execution_count": 29,
     "metadata": {},
     "output_type": "execute_result"
    }
   ],
   "source": [
    "df.groupby('income_type').total_income.median()"
   ]
  },
  {
   "cell_type": "code",
   "execution_count": 30,
   "metadata": {},
   "outputs": [],
   "source": [
    "income_type = ['сотрудник', 'пенсионер', 'компаньон', 'госслужащий', 'безработный', 'предприниматель', 'студент', 'в декрете']\n",
    "for i in income_type:\n",
    "    med_inc = int(df[df.income_type == i].total_income.median())\n",
    "    df.loc[(df['total_income'].isna()) & (df.income_type == i), 'total_income'] = med_inc"
   ]
  },
  {
   "cell_type": "markdown",
   "metadata": {},
   "source": [
    "**3) Заполним пропуски с возрастом в столбце days_employed**"
   ]
  },
  {
   "cell_type": "markdown",
   "metadata": {},
   "source": [
    "Аналогично заполнению пропусков в столбце с доходом узнаем с помощью метода .groupby() медиану для общего стажа и запустим цикл для заполнения, принимая во внимание столбец с типом дохода (income_type)"
   ]
  },
  {
   "cell_type": "code",
   "execution_count": 31,
   "metadata": {},
   "outputs": [
    {
     "data": {
      "text/plain": [
       "income_type\n",
       "безработный        366413.652744\n",
       "в декрете            3296.759962\n",
       "госслужащий          2689.368353\n",
       "компаньон            1547.382223\n",
       "пенсионер          365213.306266\n",
       "предприниматель       520.848083\n",
       "сотрудник            1574.202821\n",
       "студент               578.751554\n",
       "Name: days_employed, dtype: float64"
      ]
     },
     "execution_count": 31,
     "metadata": {},
     "output_type": "execute_result"
    }
   ],
   "source": [
    "df.groupby('income_type').days_employed.median()"
   ]
  },
  {
   "cell_type": "markdown",
   "metadata": {},
   "source": [
    "**Прежде чем проводить замену пропуска нужно разобраться с бессмысленными данными о тысячелетнем стаже**. Компромисс на который придется пойти в отсутвии возможности запросить корректные данные у ответственного за сбор данных.\n",
    "Принцип замены: \n",
    "- для женщин трудовой стаж не должен превышать 42 лет, 15 330 дней (60 - 18), \n",
    "- для мужчин трудовой стаж не должен превышать 47 лет, 17 155‬ дней (65 - 18)."
   ]
  },
  {
   "cell_type": "code",
   "execution_count": 32,
   "metadata": {},
   "outputs": [],
   "source": [
    "for i in income_type:\n",
    "    m_employee = 17155\n",
    "    f_employee = 15330\n",
    "    df.loc[(df.days_employed >= 17155) & (df.income_type == i) & (df.gender == 'm'), 'days_employed'] = m_employee\n",
    "    df.loc[(df.days_employed >= 15330) & (df.income_type == i) & (df.gender == 'f'), 'days_employed'] = f_employee"
   ]
  },
  {
   "cell_type": "markdown",
   "metadata": {},
   "source": [
    "<font color = green> Отличный ход</font>"
   ]
  },
  {
   "cell_type": "code",
   "execution_count": 33,
   "metadata": {},
   "outputs": [
    {
     "data": {
      "text/plain": [
       "income_type\n",
       "безработный        16242.500000\n",
       "в декрете           3296.759962\n",
       "госслужащий         2689.368353\n",
       "компаньон           1547.382223\n",
       "пенсионер          15330.000000\n",
       "предприниматель      520.848083\n",
       "сотрудник           1574.202821\n",
       "студент              578.751554\n",
       "Name: days_employed, dtype: float64"
      ]
     },
     "execution_count": 33,
     "metadata": {},
     "output_type": "execute_result"
    }
   ],
   "source": [
    "df.groupby('income_type').days_employed.median()"
   ]
  },
  {
   "cell_type": "code",
   "execution_count": 34,
   "metadata": {},
   "outputs": [],
   "source": [
    "for i in income_type:\n",
    "    med_employee = int(df[df.income_type == i].days_employed.median())\n",
    "    df.loc[(df['days_employed'].isna()) & (df.income_type == i), 'days_employed'] = med_employee"
   ]
  },
  {
   "cell_type": "code",
   "execution_count": 35,
   "metadata": {},
   "outputs": [
    {
     "name": "stdout",
     "output_type": "stream",
     "text": [
      "<class 'pandas.core.frame.DataFrame'>\n",
      "RangeIndex: 21525 entries, 0 to 21524\n",
      "Data columns (total 12 columns):\n",
      "children            21525 non-null int64\n",
      "days_employed       21525 non-null float64\n",
      "dob_years           21525 non-null int64\n",
      "education           21525 non-null object\n",
      "education_id        21525 non-null int64\n",
      "family_status       21525 non-null object\n",
      "family_status_id    21525 non-null int64\n",
      "gender              21525 non-null object\n",
      "income_type         21525 non-null object\n",
      "debt                21525 non-null int64\n",
      "total_income        21525 non-null float64\n",
      "purpose             21525 non-null object\n",
      "dtypes: float64(2), int64(5), object(5)\n",
      "memory usage: 2.0+ MB\n"
     ]
    }
   ],
   "source": [
    "df.info()"
   ]
  },
  {
   "cell_type": "markdown",
   "metadata": {},
   "source": [
    "**4) Исправим бессмысленные значения в таблице**"
   ]
  },
  {
   "cell_type": "markdown",
   "metadata": {},
   "source": [
    "- **количество детей**: ранее было обаружены 76 строк с количеством детей равным 20, при этом стадартное отклонение значений равно 1.38, медианное - 0, а среднее 0.54. Веротяно причина появлений таких строк - техническая ошибка, поэтому значения будут заменены на 2, что соответствует выборке."
   ]
  },
  {
   "cell_type": "code",
   "execution_count": 36,
   "metadata": {},
   "outputs": [
    {
     "data": {
      "text/plain": [
       "array([ 1,  0,  3,  2,  4, 20,  5], dtype=int64)"
      ]
     },
     "execution_count": 36,
     "metadata": {},
     "output_type": "execute_result"
    }
   ],
   "source": [
    "df.children.unique()"
   ]
  },
  {
   "cell_type": "code",
   "execution_count": 37,
   "metadata": {},
   "outputs": [],
   "source": [
    "df.children.replace(20, 2, inplace = True)"
   ]
  },
  {
   "cell_type": "code",
   "execution_count": 38,
   "metadata": {},
   "outputs": [
    {
     "data": {
      "text/plain": [
       "array([1, 0, 3, 2, 4, 5], dtype=int64)"
      ]
     },
     "execution_count": 38,
     "metadata": {},
     "output_type": "execute_result"
    }
   ],
   "source": [
    "df.children.unique()"
   ]
  },
  {
   "cell_type": "markdown",
   "metadata": {},
   "source": [
    "- **возраст**: были обнаружены строки со значением 0. Заполним строки по аналогии с заполненными NaN - то есть в зависимости от вида дохода."
   ]
  },
  {
   "cell_type": "code",
   "execution_count": 39,
   "metadata": {},
   "outputs": [
    {
     "data": {
      "text/plain": [
       "0"
      ]
     },
     "execution_count": 39,
     "metadata": {},
     "output_type": "execute_result"
    }
   ],
   "source": [
    "df.dob_years.min()"
   ]
  },
  {
   "cell_type": "code",
   "execution_count": 40,
   "metadata": {},
   "outputs": [],
   "source": [
    "for i in income_type:\n",
    "    med_age = int(df[df.income_type == i].dob_years.median())\n",
    "    df.loc[(df.dob_years == 0) & (df.income_type == i), 'dob_years'] = med_age"
   ]
  },
  {
   "cell_type": "code",
   "execution_count": 41,
   "metadata": {},
   "outputs": [
    {
     "data": {
      "text/plain": [
       "19"
      ]
     },
     "execution_count": 41,
     "metadata": {},
     "output_type": "execute_result"
    }
   ],
   "source": [
    "df.dob_years.min()"
   ]
  },
  {
   "cell_type": "markdown",
   "metadata": {},
   "source": [
    "- **пол**: значение 'XNA'. Поскольку таблица не позволяет установить пол в зависимости от других значений - заменим 'xna' на 'm'."
   ]
  },
  {
   "cell_type": "code",
   "execution_count": 42,
   "metadata": {},
   "outputs": [],
   "source": [
    "df.gender.replace('xna', 'm', inplace = True)"
   ]
  },
  {
   "cell_type": "code",
   "execution_count": 43,
   "metadata": {},
   "outputs": [
    {
     "data": {
      "text/plain": [
       "array(['f', 'm'], dtype=object)"
      ]
     },
     "execution_count": 43,
     "metadata": {},
     "output_type": "execute_result"
    }
   ],
   "source": [
    "df.gender.unique()"
   ]
  },
  {
   "cell_type": "markdown",
   "metadata": {},
   "source": [
    "- **трудовой стаж**: странные значения исправлены ранее компромиссной заменой на предельный возможный стаж"
   ]
  },
  {
   "cell_type": "markdown",
   "metadata": {},
   "source": [
    "### Вывод"
   ]
  },
  {
   "cell_type": "markdown",
   "metadata": {},
   "source": [
    "1. Произведена замена NaN в столбцах days_employed и total_income в зависимости от типа занятости.\n",
    "2. Обнаружено, что в таблице есть близкие ярлыки, которые дублируют друг друга - по размеру дохода и общему стажу работы:\n",
    "    - пенсионер и безработный,\n",
    "    - сотрудник и компаньон.\n",
    "3. В 3445 строках пришлось заменить данные о трудовом стаже на 17 155 для мужчин и 15 330‬ для женщин. Компромисс на который придется пойти в отсутвии возможности запросить корректные данные у ответственного за сбор данных сотрудника.\n",
    "4. Исправлены бессмысленные значения в стобцах с количеством детей и возрасте."
   ]
  },
  {
   "cell_type": "markdown",
   "metadata": {},
   "source": [
    "### Замена типа данных"
   ]
  },
  {
   "cell_type": "markdown",
   "metadata": {},
   "source": [
    "В столбцах доход и продолжительность трудового стажа заменим значения на целочисленные методом .astype(): в случае с трудовым стажем логично считать целые дни, а в отншении дохода дробная часть создает информационный шум, поскольку не содержит существенных сведений о доходе - в такой выборке значения после запятой мало влияют на результат, но мешают анализировать данные."
   ]
  },
  {
   "cell_type": "code",
   "execution_count": 44,
   "metadata": {},
   "outputs": [],
   "source": [
    "df['total_income'] = df.total_income.astype(int)\n",
    "df['days_employed'] = df.days_employed.astype(int)"
   ]
  },
  {
   "cell_type": "code",
   "execution_count": 45,
   "metadata": {},
   "outputs": [
    {
     "name": "stdout",
     "output_type": "stream",
     "text": [
      "<class 'pandas.core.frame.DataFrame'>\n",
      "RangeIndex: 21525 entries, 0 to 21524\n",
      "Data columns (total 12 columns):\n",
      "children            21525 non-null int64\n",
      "days_employed       21525 non-null int32\n",
      "dob_years           21525 non-null int64\n",
      "education           21525 non-null object\n",
      "education_id        21525 non-null int64\n",
      "family_status       21525 non-null object\n",
      "family_status_id    21525 non-null int64\n",
      "gender              21525 non-null object\n",
      "income_type         21525 non-null object\n",
      "debt                21525 non-null int64\n",
      "total_income        21525 non-null int32\n",
      "purpose             21525 non-null object\n",
      "dtypes: int32(2), int64(5), object(5)\n",
      "memory usage: 1.8+ MB\n"
     ]
    }
   ],
   "source": [
    "df.info()"
   ]
  },
  {
   "cell_type": "markdown",
   "metadata": {},
   "source": [
    "### Вывод"
   ]
  },
  {
   "cell_type": "markdown",
   "metadata": {},
   "source": [
    "В столбцах days_employed и total_income значения конвертированы из float в int. Поскольку ранее были заполнены пропуски - метод сработал без ошибок."
   ]
  },
  {
   "cell_type": "markdown",
   "metadata": {},
   "source": [
    "### Обработка дубликатов"
   ]
  },
  {
   "cell_type": "markdown",
   "metadata": {},
   "source": [
    "Снова проверим наличие дубликатов в таблице"
   ]
  },
  {
   "cell_type": "code",
   "execution_count": 46,
   "metadata": {},
   "outputs": [
    {
     "data": {
      "text/plain": [
       "False    21454\n",
       "True        71\n",
       "dtype: int64"
      ]
     },
     "execution_count": 46,
     "metadata": {},
     "output_type": "execute_result"
    }
   ],
   "source": [
    "df.duplicated().value_counts()"
   ]
  },
  {
   "cell_type": "markdown",
   "metadata": {},
   "source": [
    "После обработки пропусков, замены типов данных в таблице 71 дубликат, что составляет 0,0032984901277584‬ % от выборки. В таком случае самый простой и экономный способ - удалить дубликаты методом drop_duplicates()."
   ]
  },
  {
   "cell_type": "code",
   "execution_count": 47,
   "metadata": {},
   "outputs": [],
   "source": [
    "df.drop_duplicates(inplace = True)"
   ]
  },
  {
   "cell_type": "code",
   "execution_count": 48,
   "metadata": {},
   "outputs": [
    {
     "data": {
      "text/plain": [
       "False    21454\n",
       "dtype: int64"
      ]
     },
     "execution_count": 48,
     "metadata": {},
     "output_type": "execute_result"
    }
   ],
   "source": [
    "df.duplicated().value_counts()"
   ]
  },
  {
   "cell_type": "markdown",
   "metadata": {},
   "source": [
    "### Вывод"
   ]
  },
  {
   "cell_type": "markdown",
   "metadata": {},
   "source": [
    "Избавились от дубликатов пуем удаления ввиду несущественности для выборки. При общем обзоре DataFrame был сделан вывод, что причина возникновения дублей - в отсутвующих данных. Трудовой стаж и доход - ключевые индивидулизирующие аттрибуты были пропущены; остальные наблюдения - неинформативны. Как следствие, даже заполнение NaN не повлияло на исчезновние дубликатов, поскольку заполнение осуществлялось идентичными данными. "
   ]
  },
  {
   "cell_type": "markdown",
   "metadata": {},
   "source": [
    "### Лемматизация"
   ]
  },
  {
   "cell_type": "markdown",
   "metadata": {},
   "source": [
    "Прежде всего ознакомимся с целями, ради которых обращались за кредитом в данной выборке"
   ]
  },
  {
   "cell_type": "code",
   "execution_count": 49,
   "metadata": {},
   "outputs": [
    {
     "data": {
      "text/plain": [
       "свадьба                                   791\n",
       "на проведение свадьбы                     768\n",
       "сыграть свадьбу                           765\n",
       "операции с недвижимостью                  675\n",
       "покупка коммерческой недвижимости         661\n",
       "операции с жильем                         652\n",
       "покупка жилья для сдачи                   651\n",
       "операции с коммерческой недвижимостью     650\n",
       "жилье                                     646\n",
       "покупка жилья                             646\n",
       "покупка жилья для семьи                   638\n",
       "строительство собственной недвижимости    635\n",
       "недвижимость                              633\n",
       "операции со своей недвижимостью           627\n",
       "строительство жилой недвижимости          624\n",
       "покупка недвижимости                      621\n",
       "покупка своего жилья                      620\n",
       "строительство недвижимости                619\n",
       "ремонт жилью                              607\n",
       "покупка жилой недвижимости                606\n",
       "на покупку своего автомобиля              505\n",
       "заняться высшим образованием              496\n",
       "автомобиль                                494\n",
       "сделка с подержанным автомобилем          486\n",
       "автомобили                                478\n",
       "свой автомобиль                           478\n",
       "на покупку подержанного автомобиля        478\n",
       "на покупку автомобиля                     471\n",
       "приобретение автомобиля                   461\n",
       "дополнительное образование                460\n",
       "сделка с автомобилем                      455\n",
       "высшее образование                        452\n",
       "образование                               447\n",
       "получение дополнительного образования     446\n",
       "получение образования                     442\n",
       "профильное образование                    436\n",
       "получение высшего образования             426\n",
       "заняться образованием                     408\n",
       "Name: purpose, dtype: int64"
      ]
     },
     "execution_count": 49,
     "metadata": {},
     "output_type": "execute_result"
    }
   ],
   "source": [
    "df.purpose.value_counts()"
   ]
  },
  {
   "cell_type": "markdown",
   "metadata": {},
   "source": [
    "Основные цели - покупка недвижимости, оплата свадьбы, покупка автомобиля и получения образования. Лемматезируем значения в столбце назначения, чтобы в этом убедиться. **Поскольку лемматизация будет проводиться по столбцу, то есть по объекту Series, у которого в отличие от строк нет аттрибута 'splitlines', то скорее всего потребуется собрать все значения ячеек столбца purpose в один большой текст с помощью метода .join(). Но все таки попробуем сперва передать столбец напрямую.**"
   ]
  },
  {
   "cell_type": "code",
   "execution_count": 50,
   "metadata": {},
   "outputs": [
    {
     "name": "stdout",
     "output_type": "stream",
     "text": [
      "Как и предполагалось - пришлось использовать метод .join(). Зато все работает!\n"
     ]
    }
   ],
   "source": [
    "m = Mystem()\n",
    "try:\n",
    "    lemmas = m.lemmatize(df['purpose'])\n",
    "except:\n",
    "    lemmas = m.lemmatize(' '.join(df['purpose'].values))\n",
    "    print('Как и предполагалось - пришлось использовать метод .join(). Зато все работает!')"
   ]
  },
  {
   "cell_type": "code",
   "execution_count": 51,
   "metadata": {},
   "outputs": [],
   "source": [
    "lemmas_counter = dict(Counter(lemmas))"
   ]
  },
  {
   "cell_type": "code",
   "execution_count": 52,
   "metadata": {},
   "outputs": [
    {
     "name": "stdout",
     "output_type": "stream",
     "text": [
      "{'покупка': 5897, ' ': 55023, 'жилье': 4460, 'приобретение': 461, 'автомобиль': 4306, 'дополнительный': 906, 'образование': 4013, 'сыграть': 765, 'свадьба': 2324, 'операция': 2604, 'с': 2918, 'на': 2222, 'проведение': 768, 'для': 1289, 'семья': 638, 'недвижимость': 6351, 'коммерческий': 1311, 'жилой': 1230, 'строительство': 1878, 'собственный': 635, 'подержать': 853, 'свой': 2230, 'со': 627, 'заниматься': 904, 'сделка': 941, 'получение': 1314, 'высокий': 1374, 'подержанный': 111, 'профильный': 436, 'сдача': 651, 'ремонт': 607, '\\n': 1}\n"
     ]
    }
   ],
   "source": [
    "print(lemmas_counter)"
   ]
  },
  {
   "cell_type": "code",
   "execution_count": 53,
   "metadata": {},
   "outputs": [],
   "source": [
    "queries = []\n",
    "for key, value in lemmas_counter.items():\n",
    "    temp = key\n",
    "    queries.append(temp)\n",
    "\n",
    "stemmed_query = []\n",
    "for word in queries:\n",
    "    if len(word) > 3:\n",
    "        stemmed_word = russian_stemmer.stem(word)\n",
    "        stemmed_query.append(stemmed_word)"
   ]
  },
  {
   "cell_type": "code",
   "execution_count": 54,
   "metadata": {},
   "outputs": [
    {
     "data": {
      "text/plain": [
       "['покупк',\n",
       " 'жил',\n",
       " 'приобретен',\n",
       " 'автомобил',\n",
       " 'дополнительн',\n",
       " 'образован',\n",
       " 'сыгра',\n",
       " 'свадьб',\n",
       " 'операц',\n",
       " 'проведен',\n",
       " 'сем',\n",
       " 'недвижим',\n",
       " 'коммерческ',\n",
       " 'жил',\n",
       " 'строительств',\n",
       " 'собствен',\n",
       " 'подержа',\n",
       " 'сво',\n",
       " 'занима',\n",
       " 'сделк',\n",
       " 'получен',\n",
       " 'высок',\n",
       " 'подержа',\n",
       " 'профильн',\n",
       " 'сдач',\n",
       " 'ремонт']"
      ]
     },
     "execution_count": 54,
     "metadata": {},
     "output_type": "execute_result"
    }
   ],
   "source": [
    "stemmed_query"
   ]
  },
  {
   "cell_type": "markdown",
   "metadata": {},
   "source": [
    "### Вывод"
   ]
  },
  {
   "cell_type": "markdown",
   "metadata": {},
   "source": [
    "**Как и ожидалось наиболее часто встречаются слова, в порядке очередности - \"недвижимость\", \"жилье\", \"автомобиль\", \"образование\", \"свадьба\", \"строительство\" а также с сильным отставанием - \"ремонт\" (607), что не было заметно при подсчете значений. Следовательно, основные цели ради которых получали кредиты (обобщая):**\n",
    "- недвижимость,\n",
    "- автомобиль,\n",
    "- образование,\n",
    "- ремонт,\n",
    "- свадьба."
   ]
  },
  {
   "cell_type": "markdown",
   "metadata": {},
   "source": [
    "### Категоризация данных"
   ]
  },
  {
   "cell_type": "markdown",
   "metadata": {},
   "source": [
    "В данных много единичных наблюдений требующих категоризации для формулировки выводов: в столбцах 'children', 'family_status', 'total_income', 'debt', 'purpose'. \n",
    "\n",
    "**Во всех случая категоризация будет проводиться с помощью функции, которая будет получать на входе значение ячейки в столбце, и возвращать категорию. С помощью метода .apply() будут заполняться новые столбцы.**"
   ]
  },
  {
   "cell_type": "markdown",
   "metadata": {},
   "source": [
    "**1) Столбец 'children':**\n",
    "    - заемщики с тремя и более детьми попадают в категорию \"многодетных\",\n",
    "    - заемщики без детей - в категорию \"бездетных\".\n",
    "    - остальные в категории \"малодетный\""
   ]
  },
  {
   "cell_type": "code",
   "execution_count": 55,
   "metadata": {},
   "outputs": [],
   "source": [
    "def children_categorizer(row):\n",
    "    children = row['children']\n",
    "    \n",
    "    if children >= 3:\n",
    "        return 'многодетный'\n",
    "    if children == 0:\n",
    "        return 'бездетный'\n",
    "    else:\n",
    "        return 'малодетный'\n",
    "        "
   ]
  },
  {
   "cell_type": "code",
   "execution_count": 56,
   "metadata": {},
   "outputs": [],
   "source": [
    "df['children_status'] = df.apply(children_categorizer, axis=1)"
   ]
  },
  {
   "cell_type": "markdown",
   "metadata": {},
   "source": [
    "**2) Столбец 'family_status':** даже признавая очевидную поведенческую разницу между семейным статусом \"в разводе\", \"вдовец / вдова\", \"не женат / не замужем\", необходимо учитывать отсутствие простого способа выделить особенности в поведении заемщиков с различным статусом по такой маленькой выборке - поэтому **принято решение категоризировать данные статусы в \"одинокий\". \"Гражданский брак\" и \"Женат / замужем\" - в \"женат\"**"
   ]
  },
  {
   "cell_type": "code",
   "execution_count": 57,
   "metadata": {},
   "outputs": [],
   "source": [
    "def family_categorizer(row):\n",
    "    family = row['family_status']\n",
    "    \n",
    "    if family == 'женат / замужем' or family == 'гражданский брак':\n",
    "        return 'женат'\n",
    "    if family == 'вдовец / вдова' or family == 'в разводе' or family == 'не женат / не замужем':\n",
    "        return 'одинокий'"
   ]
  },
  {
   "cell_type": "code",
   "execution_count": 58,
   "metadata": {},
   "outputs": [],
   "source": [
    "df['family_status_flexed'] = df.apply(family_categorizer, axis=1)"
   ]
  },
  {
   "cell_type": "markdown",
   "metadata": {},
   "source": [
    "**3) Столбец 'debt':** для удобства восприятия в сводных таблицах создадим две простые категории - \"есть долг\", \"нет долга\"."
   ]
  },
  {
   "cell_type": "code",
   "execution_count": 59,
   "metadata": {},
   "outputs": [],
   "source": [
    "def debt_categorizer(row):\n",
    "    debt = row['debt']\n",
    "    \n",
    "    if debt == 0:\n",
    "        return 'нет долга'\n",
    "    else:\n",
    "        return 'есть долг'"
   ]
  },
  {
   "cell_type": "code",
   "execution_count": 60,
   "metadata": {},
   "outputs": [],
   "source": [
    "df['debt_double'] = df.apply(debt_categorizer, axis=1)"
   ]
  },
  {
   "cell_type": "markdown",
   "metadata": {},
   "source": [
    "**4) Столбец 'total_income':** медианное значение по доходу в данной выборке - 142 594 рубля, стандартное отклонение - 98 187 рублей, поэтому:\n",
    "    - доход выше 240 781 рублей (142 594+98 187) попадают в категорию \"высокий\",\n",
    "    - доход от 44 407‬ до 240 781 рублей попадают в категорию \"средний\".\n",
    "    - доход ниже 44 407 в категорию \"низкий\"."
   ]
  },
  {
   "cell_type": "code",
   "execution_count": 61,
   "metadata": {},
   "outputs": [],
   "source": [
    "def total_income_categorizer(row):\n",
    "    income = row['total_income']\n",
    "    \n",
    "    if income < 44407:\n",
    "        return 'низкий'\n",
    "    elif income > 240781:\n",
    "        return 'высокий'\n",
    "    else:\n",
    "        return 'средний'   "
   ]
  },
  {
   "cell_type": "code",
   "execution_count": 62,
   "metadata": {},
   "outputs": [],
   "source": [
    "df['total_income_category'] = df.apply(total_income_categorizer, axis = 1)"
   ]
  },
  {
   "cell_type": "code",
   "execution_count": 63,
   "metadata": {},
   "outputs": [
    {
     "data": {
      "text/html": [
       "<div>\n",
       "<style scoped>\n",
       "    .dataframe tbody tr th:only-of-type {\n",
       "        vertical-align: middle;\n",
       "    }\n",
       "\n",
       "    .dataframe tbody tr th {\n",
       "        vertical-align: top;\n",
       "    }\n",
       "\n",
       "    .dataframe thead th {\n",
       "        text-align: right;\n",
       "    }\n",
       "</style>\n",
       "<table border=\"1\" class=\"dataframe\">\n",
       "  <thead>\n",
       "    <tr style=\"text-align: right;\">\n",
       "      <th></th>\n",
       "      <th>children</th>\n",
       "      <th>days_employed</th>\n",
       "      <th>dob_years</th>\n",
       "      <th>education</th>\n",
       "      <th>education_id</th>\n",
       "      <th>family_status</th>\n",
       "      <th>family_status_id</th>\n",
       "      <th>gender</th>\n",
       "      <th>income_type</th>\n",
       "      <th>debt</th>\n",
       "      <th>total_income</th>\n",
       "      <th>purpose</th>\n",
       "      <th>children_status</th>\n",
       "      <th>family_status_flexed</th>\n",
       "      <th>debt_double</th>\n",
       "      <th>total_income_category</th>\n",
       "    </tr>\n",
       "  </thead>\n",
       "  <tbody>\n",
       "    <tr>\n",
       "      <td>0</td>\n",
       "      <td>1</td>\n",
       "      <td>8437</td>\n",
       "      <td>42</td>\n",
       "      <td>высшее</td>\n",
       "      <td>0</td>\n",
       "      <td>женат / замужем</td>\n",
       "      <td>0</td>\n",
       "      <td>f</td>\n",
       "      <td>сотрудник</td>\n",
       "      <td>0</td>\n",
       "      <td>253875</td>\n",
       "      <td>покупка жилья</td>\n",
       "      <td>малодетный</td>\n",
       "      <td>женат</td>\n",
       "      <td>нет долга</td>\n",
       "      <td>высокий</td>\n",
       "    </tr>\n",
       "  </tbody>\n",
       "</table>\n",
       "</div>"
      ],
      "text/plain": [
       "   children  days_employed  dob_years education  education_id  \\\n",
       "0         1           8437         42    высшее             0   \n",
       "\n",
       "     family_status  family_status_id gender income_type  debt  total_income  \\\n",
       "0  женат / замужем                 0      f   сотрудник     0        253875   \n",
       "\n",
       "         purpose children_status family_status_flexed debt_double  \\\n",
       "0  покупка жилья      малодетный                женат   нет долга   \n",
       "\n",
       "  total_income_category  \n",
       "0               высокий  "
      ]
     },
     "execution_count": 63,
     "metadata": {},
     "output_type": "execute_result"
    }
   ],
   "source": [
    "df.head(1)"
   ]
  },
  {
   "cell_type": "markdown",
   "metadata": {},
   "source": [
    "**5) Столбец 'purpose'**: c учетом ранее проведенной лемматизации категоризируем назначение платежа. Ранее выделили основные цели кредита:\n",
    "- недвижимость,\n",
    "- автомобиль,\n",
    "- образование,\n",
    "- ремонт,\n",
    "- свадьба.\n",
    "\n",
    "С помощью стемминга были выделены корни слов: 'покупк', 'жил', 'приобретен', 'автомобил', 'дополнительн', 'образован', 'сыгра', 'свадьб', 'операц', 'проведен', 'сем', 'недвижим', 'коммерческ', 'жил', 'строительств', 'собствен', 'подержа', 'сво', 'занима', 'сделк', 'получен', 'высок', 'подержа', 'профильн', 'сдач', 'ремонт'. \n",
    "\n",
    "**Для категоризации используем следующие: 'покупк', 'жил', 'автомобил', 'образован', 'свадьб', 'недвижим', 'ремонт'.**"
   ]
  },
  {
   "cell_type": "code",
   "execution_count": 64,
   "metadata": {},
   "outputs": [],
   "source": [
    "def purpose_categorizer(row):\n",
    "    purpose = row['purpose']\n",
    "    \n",
    "    if 'свадьб' in purpose:\n",
    "        return 'свадьба'\n",
    "    elif 'недвижим' in purpose:\n",
    "        return 'недвижимость'\n",
    "    elif 'образован' in purpose:\n",
    "        return 'образование'\n",
    "    elif 'ремонт' in purpose:\n",
    "        return 'ремонт'\n",
    "    elif 'автомобил' in purpose:\n",
    "        return 'автомобиль' \n",
    "    elif 'жил' in purpose and 'ремонт' not in purpose:\n",
    "        return 'недвижимость'        "
   ]
  },
  {
   "cell_type": "code",
   "execution_count": 65,
   "metadata": {},
   "outputs": [],
   "source": [
    "df['purpose_categorized'] = df.apply(purpose_categorizer, axis = 1)"
   ]
  },
  {
   "cell_type": "markdown",
   "metadata": {},
   "source": [
    "**6) Соберем таблицу с учетом категоризации**"
   ]
  },
  {
   "cell_type": "code",
   "execution_count": 66,
   "metadata": {},
   "outputs": [],
   "source": [
    "categorized_df = df[['purpose_categorized', 'children_status', 'family_status_flexed', 'debt', 'debt_double', 'total_income', 'total_income_category']]"
   ]
  },
  {
   "cell_type": "code",
   "execution_count": 67,
   "metadata": {},
   "outputs": [
    {
     "data": {
      "text/html": [
       "<div>\n",
       "<style scoped>\n",
       "    .dataframe tbody tr th:only-of-type {\n",
       "        vertical-align: middle;\n",
       "    }\n",
       "\n",
       "    .dataframe tbody tr th {\n",
       "        vertical-align: top;\n",
       "    }\n",
       "\n",
       "    .dataframe thead th {\n",
       "        text-align: right;\n",
       "    }\n",
       "</style>\n",
       "<table border=\"1\" class=\"dataframe\">\n",
       "  <thead>\n",
       "    <tr style=\"text-align: right;\">\n",
       "      <th></th>\n",
       "      <th>purpose_categorized</th>\n",
       "      <th>children_status</th>\n",
       "      <th>family_status_flexed</th>\n",
       "      <th>debt</th>\n",
       "      <th>debt_double</th>\n",
       "      <th>total_income</th>\n",
       "      <th>total_income_category</th>\n",
       "    </tr>\n",
       "  </thead>\n",
       "  <tbody>\n",
       "    <tr>\n",
       "      <td>14</td>\n",
       "      <td>недвижимость</td>\n",
       "      <td>бездетный</td>\n",
       "      <td>женат</td>\n",
       "      <td>1</td>\n",
       "      <td>есть долг</td>\n",
       "      <td>165127</td>\n",
       "      <td>средний</td>\n",
       "    </tr>\n",
       "    <tr>\n",
       "      <td>32</td>\n",
       "      <td>свадьба</td>\n",
       "      <td>бездетный</td>\n",
       "      <td>женат</td>\n",
       "      <td>1</td>\n",
       "      <td>есть долг</td>\n",
       "      <td>139057</td>\n",
       "      <td>средний</td>\n",
       "    </tr>\n",
       "    <tr>\n",
       "      <td>38</td>\n",
       "      <td>образование</td>\n",
       "      <td>бездетный</td>\n",
       "      <td>одинокий</td>\n",
       "      <td>1</td>\n",
       "      <td>есть долг</td>\n",
       "      <td>192247</td>\n",
       "      <td>средний</td>\n",
       "    </tr>\n",
       "    <tr>\n",
       "      <td>55</td>\n",
       "      <td>свадьба</td>\n",
       "      <td>бездетный</td>\n",
       "      <td>женат</td>\n",
       "      <td>1</td>\n",
       "      <td>есть долг</td>\n",
       "      <td>118514</td>\n",
       "      <td>средний</td>\n",
       "    </tr>\n",
       "    <tr>\n",
       "      <td>75</td>\n",
       "      <td>недвижимость</td>\n",
       "      <td>малодетный</td>\n",
       "      <td>женат</td>\n",
       "      <td>1</td>\n",
       "      <td>есть долг</td>\n",
       "      <td>81935</td>\n",
       "      <td>средний</td>\n",
       "    </tr>\n",
       "    <tr>\n",
       "      <td>93</td>\n",
       "      <td>автомобиль</td>\n",
       "      <td>малодетный</td>\n",
       "      <td>женат</td>\n",
       "      <td>1</td>\n",
       "      <td>есть долг</td>\n",
       "      <td>331139</td>\n",
       "      <td>высокий</td>\n",
       "    </tr>\n",
       "    <tr>\n",
       "      <td>100</td>\n",
       "      <td>недвижимость</td>\n",
       "      <td>бездетный</td>\n",
       "      <td>одинокий</td>\n",
       "      <td>1</td>\n",
       "      <td>есть долг</td>\n",
       "      <td>176384</td>\n",
       "      <td>средний</td>\n",
       "    </tr>\n",
       "    <tr>\n",
       "      <td>114</td>\n",
       "      <td>недвижимость</td>\n",
       "      <td>бездетный</td>\n",
       "      <td>женат</td>\n",
       "      <td>1</td>\n",
       "      <td>есть долг</td>\n",
       "      <td>143471</td>\n",
       "      <td>средний</td>\n",
       "    </tr>\n",
       "    <tr>\n",
       "      <td>124</td>\n",
       "      <td>недвижимость</td>\n",
       "      <td>бездетный</td>\n",
       "      <td>женат</td>\n",
       "      <td>1</td>\n",
       "      <td>есть долг</td>\n",
       "      <td>175046</td>\n",
       "      <td>средний</td>\n",
       "    </tr>\n",
       "    <tr>\n",
       "      <td>147</td>\n",
       "      <td>недвижимость</td>\n",
       "      <td>бездетный</td>\n",
       "      <td>женат</td>\n",
       "      <td>1</td>\n",
       "      <td>есть долг</td>\n",
       "      <td>74535</td>\n",
       "      <td>средний</td>\n",
       "    </tr>\n",
       "  </tbody>\n",
       "</table>\n",
       "</div>"
      ],
      "text/plain": [
       "    purpose_categorized children_status family_status_flexed  debt  \\\n",
       "14         недвижимость       бездетный                женат     1   \n",
       "32              свадьба       бездетный                женат     1   \n",
       "38          образование       бездетный             одинокий     1   \n",
       "55              свадьба       бездетный                женат     1   \n",
       "75         недвижимость      малодетный                женат     1   \n",
       "93           автомобиль      малодетный                женат     1   \n",
       "100        недвижимость       бездетный             одинокий     1   \n",
       "114        недвижимость       бездетный                женат     1   \n",
       "124        недвижимость       бездетный                женат     1   \n",
       "147        недвижимость       бездетный                женат     1   \n",
       "\n",
       "    debt_double  total_income total_income_category  \n",
       "14    есть долг        165127               средний  \n",
       "32    есть долг        139057               средний  \n",
       "38    есть долг        192247               средний  \n",
       "55    есть долг        118514               средний  \n",
       "75    есть долг         81935               средний  \n",
       "93    есть долг        331139               высокий  \n",
       "100   есть долг        176384               средний  \n",
       "114   есть долг        143471               средний  \n",
       "124   есть долг        175046               средний  \n",
       "147   есть долг         74535               средний  "
      ]
     },
     "execution_count": 67,
     "metadata": {},
     "output_type": "execute_result"
    }
   ],
   "source": [
    "categorized_df[categorized_df.debt == 1].head(10)"
   ]
  },
  {
   "cell_type": "code",
   "execution_count": 68,
   "metadata": {},
   "outputs": [],
   "source": [
    "categorized_df.to_csv('debt.csv', index=False)"
   ]
  },
  {
   "cell_type": "markdown",
   "metadata": {},
   "source": [
    "### Вывод"
   ]
  },
  {
   "cell_type": "markdown",
   "metadata": {},
   "source": [
    "Категоризрованы данные в следующих столбцах: 'children', 'family_status', 'total_income', 'debt', 'purpose'. Категоризация позволит вывести в читаемом виде сводную таблицу и ответить на поставленные вопросы."
   ]
  },
  {
   "cell_type": "markdown",
   "metadata": {},
   "source": [
    "# Исследование"
   ]
  },
  {
   "cell_type": "markdown",
   "metadata": {},
   "source": [
    "### - Есть ли зависимость между наличием детей и возвратом кредита в срок?"
   ]
  },
  {
   "cell_type": "markdown",
   "metadata": {},
   "source": [
    "Сведем данные в сводную таблицу, дополним таблицу процентом невозвратов кредита по каждому из статусов"
   ]
  },
  {
   "cell_type": "code",
   "execution_count": 69,
   "metadata": {},
   "outputs": [
    {
     "data": {
      "text/html": [
       "<div>\n",
       "<style scoped>\n",
       "    .dataframe tbody tr th:only-of-type {\n",
       "        vertical-align: middle;\n",
       "    }\n",
       "\n",
       "    .dataframe tbody tr th {\n",
       "        vertical-align: top;\n",
       "    }\n",
       "\n",
       "    .dataframe thead th {\n",
       "        text-align: right;\n",
       "    }\n",
       "</style>\n",
       "<table border=\"1\" class=\"dataframe\">\n",
       "  <thead>\n",
       "    <tr style=\"text-align: right;\">\n",
       "      <th>debt_double</th>\n",
       "      <th>есть долг</th>\n",
       "      <th>нет долга</th>\n",
       "      <th>%</th>\n",
       "    </tr>\n",
       "    <tr>\n",
       "      <th>children_status</th>\n",
       "      <th></th>\n",
       "      <th></th>\n",
       "      <th></th>\n",
       "    </tr>\n",
       "  </thead>\n",
       "  <tbody>\n",
       "    <tr>\n",
       "      <td>бездетный</td>\n",
       "      <td>1063</td>\n",
       "      <td>13028</td>\n",
       "      <td>7.54</td>\n",
       "    </tr>\n",
       "    <tr>\n",
       "      <td>многодетный</td>\n",
       "      <td>31</td>\n",
       "      <td>349</td>\n",
       "      <td>8.16</td>\n",
       "    </tr>\n",
       "    <tr>\n",
       "      <td>малодетный</td>\n",
       "      <td>647</td>\n",
       "      <td>6336</td>\n",
       "      <td>9.27</td>\n",
       "    </tr>\n",
       "  </tbody>\n",
       "</table>\n",
       "</div>"
      ],
      "text/plain": [
       "debt_double      есть долг  нет долга     %\n",
       "children_status                            \n",
       "бездетный             1063      13028  7.54\n",
       "многодетный             31        349  8.16\n",
       "малодетный             647       6336  9.27"
      ]
     },
     "execution_count": 69,
     "metadata": {},
     "output_type": "execute_result"
    }
   ],
   "source": [
    "children_corr = pd.pivot_table(categorized_df, 'debt', index = 'children_status', columns=['debt_double'], aggfunc='count')\n",
    "children_corr['%'] = round((children_corr['есть долг'] / (children_corr['нет долга'] + children_corr['есть долг']))*100, 2)\n",
    "children_corr.sort_values('%')"
   ]
  },
  {
   "cell_type": "markdown",
   "metadata": {},
   "source": [
    "Визуализируем соотношение между категориями заемщиков, просрочивших долг"
   ]
  },
  {
   "cell_type": "code",
   "execution_count": 70,
   "metadata": {},
   "outputs": [
    {
     "data": {
      "image/png": "[encoded data removed]",
      "text/plain": [
       "<Figure size 432x288 with 1 Axes>"
      ]
     },
     "metadata": {},
     "output_type": "display_data"
    }
   ],
   "source": [
    "plt.pie(children_corr['%'].values, labels = children_corr.index, autopct='%0.2f%%')\n",
    "plt.axis('equal')\n",
    "plt.show()"
   ]
  },
  {
   "cell_type": "markdown",
   "metadata": {},
   "source": [
    "### Вывод"
   ]
  },
  {
   "cell_type": "markdown",
   "metadata": {},
   "source": [
    "**1. Есть зависимость между наличием детей и возвратом кредита в срок: малодетные заемщики относительно чаще допускат просрочку в возврате кредита, следом за ними идут многодетные, а лучше всех справляются бездетные заемщики.**\n",
    "\n",
    "**2. В полученной выборке:**\n",
    "- 9.27 % от малодетных заемщиков просрочили возврат кредита,\n",
    "- 8.16 % от многодетных заемщиков просрочили возврат кредита,\n",
    "- 7.54 % от бездетных заемщиков просрочили возврат кредита."
   ]
  },
  {
   "cell_type": "markdown",
   "metadata": {},
   "source": [
    "### - Есть ли зависимость между семейным положением и возвратом кредита в срок?"
   ]
  },
  {
   "cell_type": "markdown",
   "metadata": {},
   "source": [
    "Сведем данные в сводную таблицу, дополним таблицу процентом невозвратов кредита по каждому из статусов"
   ]
  },
  {
   "cell_type": "code",
   "execution_count": 71,
   "metadata": {},
   "outputs": [
    {
     "data": {
      "text/html": [
       "<div>\n",
       "<style scoped>\n",
       "    .dataframe tbody tr th:only-of-type {\n",
       "        vertical-align: middle;\n",
       "    }\n",
       "\n",
       "    .dataframe tbody tr th {\n",
       "        vertical-align: top;\n",
       "    }\n",
       "\n",
       "    .dataframe thead th {\n",
       "        text-align: right;\n",
       "    }\n",
       "</style>\n",
       "<table border=\"1\" class=\"dataframe\">\n",
       "  <thead>\n",
       "    <tr style=\"text-align: right;\">\n",
       "      <th>debt_double</th>\n",
       "      <th>есть долг</th>\n",
       "      <th>нет долга</th>\n",
       "      <th>%</th>\n",
       "    </tr>\n",
       "    <tr>\n",
       "      <th>family_status_flexed</th>\n",
       "      <th></th>\n",
       "      <th></th>\n",
       "      <th></th>\n",
       "    </tr>\n",
       "  </thead>\n",
       "  <tbody>\n",
       "    <tr>\n",
       "      <td>женат</td>\n",
       "      <td>1319</td>\n",
       "      <td>15171</td>\n",
       "      <td>8.0</td>\n",
       "    </tr>\n",
       "    <tr>\n",
       "      <td>одинокий</td>\n",
       "      <td>422</td>\n",
       "      <td>4542</td>\n",
       "      <td>8.5</td>\n",
       "    </tr>\n",
       "  </tbody>\n",
       "</table>\n",
       "</div>"
      ],
      "text/plain": [
       "debt_double           есть долг  нет долга    %\n",
       "family_status_flexed                           \n",
       "женат                      1319      15171  8.0\n",
       "одинокий                    422       4542  8.5"
      ]
     },
     "execution_count": 71,
     "metadata": {},
     "output_type": "execute_result"
    }
   ],
   "source": [
    "family_corr = pd.pivot_table(categorized_df, 'debt', index = 'family_status_flexed', columns=['debt_double'], aggfunc='count')\n",
    "family_corr['%'] = round((family_corr['есть долг'] / (family_corr['нет долга'] + family_corr['есть долг']))*100, 2)\n",
    "family_corr.sort_values('%')"
   ]
  },
  {
   "cell_type": "markdown",
   "metadata": {},
   "source": [
    "Визуализируем соотношение между категориями заемщиков, просрочивших долг"
   ]
  },
  {
   "cell_type": "code",
   "execution_count": 72,
   "metadata": {},
   "outputs": [
    {
     "data": {
      "image/png": "[encoded data removed]",
      "text/plain": [
       "<Figure size 432x288 with 1 Axes>"
      ]
     },
     "metadata": {},
     "output_type": "display_data"
    }
   ],
   "source": [
    "plt.pie(family_corr['%'].values, labels = family_corr.index, autopct='%0.2f%%')\n",
    "plt.axis('equal')\n",
    "plt.show()"
   ]
  },
  {
   "cell_type": "markdown",
   "metadata": {},
   "source": [
    "### Вывод"
   ]
  },
  {
   "cell_type": "markdown",
   "metadata": {},
   "source": [
    "**1. Существенной корреляции между семейным положением и возвратом кредитов не наблюдается: и одинокие и женатые примерно одинаково допускают просочки в платежах.**\n",
    "\n",
    "**2. В полученной выборке:**\n",
    "- 8.0 % женатых заемщиков просрочили возврат кредита\n",
    "- 8.5 % одиноких заемщиков просрочили возврат кредита"
   ]
  },
  {
   "cell_type": "markdown",
   "metadata": {},
   "source": [
    "### - Есть ли зависимость между уровнем дохода и возвратом кредита в срок?"
   ]
  },
  {
   "cell_type": "markdown",
   "metadata": {},
   "source": [
    "Сведем данные в сводную таблицу, дополним таблицу процентом невозвратов кредита по каждому из статусов"
   ]
  },
  {
   "cell_type": "code",
   "execution_count": 73,
   "metadata": {},
   "outputs": [
    {
     "data": {
      "text/html": [
       "<div>\n",
       "<style scoped>\n",
       "    .dataframe tbody tr th:only-of-type {\n",
       "        vertical-align: middle;\n",
       "    }\n",
       "\n",
       "    .dataframe tbody tr th {\n",
       "        vertical-align: top;\n",
       "    }\n",
       "\n",
       "    .dataframe thead th {\n",
       "        text-align: right;\n",
       "    }\n",
       "</style>\n",
       "<table border=\"1\" class=\"dataframe\">\n",
       "  <thead>\n",
       "    <tr style=\"text-align: right;\">\n",
       "      <th>debt_double</th>\n",
       "      <th>есть долг</th>\n",
       "      <th>нет долга</th>\n",
       "      <th>%</th>\n",
       "    </tr>\n",
       "    <tr>\n",
       "      <th>total_income_category</th>\n",
       "      <th></th>\n",
       "      <th></th>\n",
       "      <th></th>\n",
       "    </tr>\n",
       "  </thead>\n",
       "  <tbody>\n",
       "    <tr>\n",
       "      <td>низкий</td>\n",
       "      <td>13</td>\n",
       "      <td>189</td>\n",
       "      <td>6.44</td>\n",
       "    </tr>\n",
       "    <tr>\n",
       "      <td>высокий</td>\n",
       "      <td>216</td>\n",
       "      <td>2889</td>\n",
       "      <td>6.96</td>\n",
       "    </tr>\n",
       "    <tr>\n",
       "      <td>средний</td>\n",
       "      <td>1512</td>\n",
       "      <td>16635</td>\n",
       "      <td>8.33</td>\n",
       "    </tr>\n",
       "  </tbody>\n",
       "</table>\n",
       "</div>"
      ],
      "text/plain": [
       "debt_double            есть долг  нет долга     %\n",
       "total_income_category                            \n",
       "низкий                        13        189  6.44\n",
       "высокий                      216       2889  6.96\n",
       "средний                     1512      16635  8.33"
      ]
     },
     "execution_count": 73,
     "metadata": {},
     "output_type": "execute_result"
    }
   ],
   "source": [
    "income_corr = pd.pivot_table(categorized_df, 'debt', index = 'total_income_category', columns=['debt_double'], aggfunc='count')\n",
    "income_corr['%'] = round((income_corr['есть долг'] / (income_corr['нет долга'] + income_corr['есть долг']))*100, 2)\n",
    "income_corr.sort_values('%')"
   ]
  },
  {
   "cell_type": "markdown",
   "metadata": {},
   "source": [
    "Визуализируем соотношение между категориями заемщиков, просрочивших долг"
   ]
  },
  {
   "cell_type": "code",
   "execution_count": 74,
   "metadata": {},
   "outputs": [
    {
     "data": {
      "image/png": "[encoded data removed]",
      "text/plain": [
       "<Figure size 432x288 with 1 Axes>"
      ]
     },
     "metadata": {},
     "output_type": "display_data"
    }
   ],
   "source": [
    "plt.pie(income_corr['%'].values, labels = income_corr.index, autopct='%0.2f%%')\n",
    "plt.axis('equal')\n",
    "plt.show()"
   ]
  },
  {
   "cell_type": "markdown",
   "metadata": {},
   "source": [
    "### Вывод"
   ]
  },
  {
   "cell_type": "markdown",
   "metadata": {},
   "source": [
    "**1. Уровень дохода влияет на вероятность просрочки: заемщики со средним доходом чаще нарушают сроки возврата кредита, чем заемщики с низким и высоким доходом, которые справляются примерно одинаково.**\n",
    "\n",
    "**2. В полученной выборке:**\n",
    "- 8.33 % от заемщиков со средним доходом просрочили возврат кредита,\n",
    "- 6.96 % от заемщиков с высоким доходом  просрочили возврат кредита,\n",
    "- 6.44 % от заемщиков с низким доходом просрочили возврат кредита."
   ]
  },
  {
   "cell_type": "markdown",
   "metadata": {},
   "source": [
    "### - Как разные цели кредита влияют на его возврат в срок?"
   ]
  },
  {
   "cell_type": "markdown",
   "metadata": {},
   "source": [
    "Сведем данные в сводную таблицу, дополним таблицу процентом невозвратов кредита по каждому из статусов"
   ]
  },
  {
   "cell_type": "code",
   "execution_count": 75,
   "metadata": {},
   "outputs": [
    {
     "data": {
      "text/html": [
       "<div>\n",
       "<style scoped>\n",
       "    .dataframe tbody tr th:only-of-type {\n",
       "        vertical-align: middle;\n",
       "    }\n",
       "\n",
       "    .dataframe tbody tr th {\n",
       "        vertical-align: top;\n",
       "    }\n",
       "\n",
       "    .dataframe thead th {\n",
       "        text-align: right;\n",
       "    }\n",
       "</style>\n",
       "<table border=\"1\" class=\"dataframe\">\n",
       "  <thead>\n",
       "    <tr style=\"text-align: right;\">\n",
       "      <th>debt_double</th>\n",
       "      <th>есть долг</th>\n",
       "      <th>нет долга</th>\n",
       "      <th>%</th>\n",
       "    </tr>\n",
       "    <tr>\n",
       "      <th>purpose_categorized</th>\n",
       "      <th></th>\n",
       "      <th></th>\n",
       "      <th></th>\n",
       "    </tr>\n",
       "  </thead>\n",
       "  <tbody>\n",
       "    <tr>\n",
       "      <td>ремонт</td>\n",
       "      <td>35</td>\n",
       "      <td>572</td>\n",
       "      <td>5.77</td>\n",
       "    </tr>\n",
       "    <tr>\n",
       "      <td>недвижимость</td>\n",
       "      <td>747</td>\n",
       "      <td>9457</td>\n",
       "      <td>7.32</td>\n",
       "    </tr>\n",
       "    <tr>\n",
       "      <td>свадьба</td>\n",
       "      <td>186</td>\n",
       "      <td>2138</td>\n",
       "      <td>8.00</td>\n",
       "    </tr>\n",
       "    <tr>\n",
       "      <td>образование</td>\n",
       "      <td>370</td>\n",
       "      <td>3643</td>\n",
       "      <td>9.22</td>\n",
       "    </tr>\n",
       "    <tr>\n",
       "      <td>автомобиль</td>\n",
       "      <td>403</td>\n",
       "      <td>3903</td>\n",
       "      <td>9.36</td>\n",
       "    </tr>\n",
       "  </tbody>\n",
       "</table>\n",
       "</div>"
      ],
      "text/plain": [
       "debt_double          есть долг  нет долга     %\n",
       "purpose_categorized                            \n",
       "ремонт                      35        572  5.77\n",
       "недвижимость               747       9457  7.32\n",
       "свадьба                    186       2138  8.00\n",
       "образование                370       3643  9.22\n",
       "автомобиль                 403       3903  9.36"
      ]
     },
     "execution_count": 75,
     "metadata": {},
     "output_type": "execute_result"
    }
   ],
   "source": [
    "purpose_corr = pd.pivot_table(categorized_df, 'debt', index = 'purpose_categorized', columns=['debt_double'], aggfunc = 'count')\n",
    "purpose_corr['%'] = round((purpose_corr['есть долг'] / (purpose_corr['нет долга']+purpose_corr['есть долг']))*100, 2)\n",
    "purpose_corr.sort_values('%')"
   ]
  },
  {
   "cell_type": "markdown",
   "metadata": {},
   "source": [
    "Визуализируем соотношение между категориями заемщиков, просрочивших долг"
   ]
  },
  {
   "cell_type": "code",
   "execution_count": 76,
   "metadata": {},
   "outputs": [
    {
     "data": {
      "image/png": "[encoded data removed]",
      "text/plain": [
       "<Figure size 432x288 with 1 Axes>"
      ]
     },
     "metadata": {},
     "output_type": "display_data"
    }
   ],
   "source": [
    "plt.pie(purpose_corr['%'].values, labels = purpose_corr.index, autopct='%0.2f%%')\n",
    "plt.axis('equal')\n",
    "plt.show()"
   ]
  },
  {
   "cell_type": "markdown",
   "metadata": {},
   "source": [
    "### Вывод"
   ]
  },
  {
   "cell_type": "markdown",
   "metadata": {},
   "source": [
    "**1. Цель кредита влияет на возврат в срок - в наблюдениях есть существенный разброс:** \n",
    "- чаще всего не отдают кредиты, полученные на покупку автомобиля и образование,\n",
    "- следом идут кредиты на организацию свадьбы,\n",
    "- затем кредиты на недвижимость - ипотечное кредитование,\n",
    "- менее всего просрочек в кредитах на ремонт жилья.\n",
    "\n",
    "**2. В полученной выборке:**\n",
    "- 9.36 % от кредитов на покупку автомобиля не вернули в срок,\n",
    "- 9.22 % от кредитов на образование не вернули в срок,\n",
    "- 8.0 % от кредитов на организацию свадьбы не вернули в срок,\n",
    "- 7.32 % от кредитов на покупку недвижимости не вернули в срок,\n",
    "- 5.77 % от кредитов на ремонт жилья не вернули в срок,"
   ]
  },
  {
   "cell_type": "markdown",
   "metadata": {},
   "source": [
    "# Общий вывод"
   ]
  },
  {
   "cell_type": "markdown",
   "metadata": {},
   "source": [
    "### Общие выводы о полученных данных:\n",
    "1. Данные со сведениями о возврате кредита в срок были загружены, очищены, категоризированы и проанализированы.\n",
    "2. В полученных данных были выявлены 5 868‬ из 21 525 строк (27 %) с пропусками, бессмысленными данными и дубликатами.\n",
    "3. Ниболее существенной проблемой оказались не пропущенные значения и дубликаты, а бессмысленные данные. В первую очередь данные в столбце с непрерывным стажем работы в днях - потребовалась грубая замена в 3445 строках на предельно возможный стаж. Возможно ошибка носит системный характер и требуется выяснить причину появления бессмысленных значений в таком количестве.\n",
    "4. Также в данных более 15 000 наблюдений с отрицательными значениями. В данном случае, наболее вероятная причина в появлении ошибок - способ получения данных, что возможно исправить.\n",
    "\n",
    "\n",
    "### Ответы на поставленные вопросы:\n",
    "1. Семейное положение не влияет на факт погашения кредита в срок.\n",
    "2. Количество детей клиента влияет на факт погашения кредита в срок - малодетные заемщики относительно чаще допускат просрочку в возврате кредита, следом за ними идут многодетные, а лучше всех справляются бездетные заемщики.\n",
    "3. Уровень дохода заемщика влияет на факт погашения кредита в срок: заемщики со средним доходом чаще нарушают сроки возврата кредита, чем заемщики с низким и высоким доходом, которые справляются примерно одинаково.\n",
    "4. Цель кредита влияет на возврат в срок - в наблюдениях есть существенный разброс в зависимости от цели кредита: чаще всего не отдают кредиты, полученные на покупку автомобиля и образование, следом идут кредиты на организацию свадьбы, затем кредиты на недвижимость - ипотечное кредитование, менее всего просрочек в кредитах на ремонт жилья. \n",
    "    \n",
    "    \n",
    "### Вместе с тем, необходимо озвучить ограничения исследования:\n",
    "1. В целом анализ направлен на исследование социального положения заемщика, которое позволяет полезно исследовать для получения психологического портрета заемщика, предугадать шаблоны поведения. Для кредитного скоринга скорее необходима информация о количестве ранее полученных кредитов, сумме кредитов, количество отказов в выдаче кредитов, способ оплаты кредита и сам факт допущения просрочки, срок просрочки и количество невозвращенных кредитов. То есть, требуются те данные, которые не представлены в таблице. \n",
    "2. Таким образом, исследование полезно разве что для предварительной поверхностной оценки заемщика при получении завки на выдачу кредита.\n",
    "3. Неясно, что именно подразумеватеся под debt в таблице: невозврат или просрочку? Это существенно, потому что ипотечные кредиты обеспечены залогом, а просрочка может быть кратковременной.\n",
    "4. Сама по себе информация о ежемесячном доходе малоинформативна и представляется малополезной сама по себе (если отбросить вопросы правового характера и здравый смысл - доход должен быть). Гораздо больше ежемесячного доход скажет в связке с общим доходом семьи и количеством детей.\n",
    "5. Представляется, что информация о сумме кредита могла бы сказать гораздо больше о потенциальных причинах нарушения срока возврата кредита."
   ]
  }
 ],
 "metadata": {
  "kernelspec": {
   "display_name": "Python 3",
   "language": "python",
   "name": "python3"
  },
  "language_info": {
   "codemirror_mode": {
    "name": "ipython",
    "version": 3
   },
   "file_extension": ".py",
   "mimetype": "text/x-python",
   "name": "python",
   "nbconvert_exporter": "python",
   "pygments_lexer": "ipython3",
   "version": "3.7.4"
  }
 },
 "nbformat": 4,
 "nbformat_minor": 2
}
