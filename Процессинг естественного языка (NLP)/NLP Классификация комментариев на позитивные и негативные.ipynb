{
 "cells": [
  {
   "cell_type": "markdown",
   "metadata": {},
   "source": [
    "# Классификация комментариев на позитивные и негативные"
   ]
  },
  {
   "cell_type": "markdown",
   "metadata": {},
   "source": [
    "Интернет-магазин «Викишоп» запускает новый сервис. Теперь пользователи могут редактировать и дополнять описания товаров, как в вики-сообществах. То есть клиенты предлагают свои правки и комментируют изменения других. Магазину нужен инструмент, который будет искать токсичные комментарии и отправлять их на модерацию. \n",
    "\n",
    "Обучите модель классифицировать комментарии на позитивные и негативные. В вашем распоряжении набор данных с разметкой о токсичности правок.\n",
    "\n",
    "Постройте модель со значением метрики качества *F1* не меньше 0.75. \n",
    "\n",
    "### Описание данных\n",
    "\n",
    "Данные находятся в файле `toxic_comments.csv`. Столбец *text* в нём содержит текст комментария, а *toxic* — целевой признак."
   ]
  },
  {
   "cell_type": "markdown",
   "metadata": {},
   "source": [
    "## Оглавление<a class='anchor' id='TOC'>\n",
    "***"
   ]
  },
  {
   "cell_type": "markdown",
   "metadata": {},
   "source": [
    "* **[1. Подготовка](#1)**\n",
    "    - [1) Объявим класс DataExplorer и наполним его методами](#1_1)\n",
    "    - [2) Импортируем библиотеки](#1_2)\n",
    "    - [3) Прочитаем данные в переменную](#1_3)\n",
    "    - [4) Выведем первые, последние и случайные пять строк](#1_4)\n",
    "    - [5) Выведем общую информацию о датасете, общую статистику, проверим соотношение классов](#1_5)\n",
    "    - [6) Подготовим датасет к обучению, создадим признаки: очистим текст от шумовых знаков, применим стемминг, результат сохраним в новой колонке](#1_6)   \n",
    "    - [7) Разделим выборку на обучающую и тестовую в соотношении 80:20, векторизирует тексты, выделим целевой признак](#1_7) \n",
    "    - [8) Cоздадим словарь для поиска наилучших параметров модели, инициализируем модели, выберем параметры для подбора](#1_8)     \n",
    "    - [Вывод](#1_conclusion)\n",
    "    \n",
    "    \n",
    "* **[2. Обучение](#2)**\n",
    "    - [1) Подберем наилучшие параметры для моделей, сохраним параметры и соберем метрики](#2_1)\n",
    "    - [Результаты](#2_conclusion)\n",
    "\n",
    "\n",
    "\n",
    "* **[3. Выводы](#3)**"
   ]
  },
  {
   "cell_type": "markdown",
   "metadata": {},
   "source": [
    "# 1. Подготовка<a class='anchor' id='1'>"
   ]
  },
  {
   "cell_type": "markdown",
   "metadata": {},
   "source": [
    "## 1) Объявим класс DataExplorer и наполним его методами<a class='anchor' id='1_1'>"
   ]
  },
  {
   "cell_type": "code",
   "execution_count": 1,
   "metadata": {},
   "outputs": [],
   "source": [
    "class DataExplorer:  \n",
    "        \n",
    "   \n",
    "    def __init__(self):\n",
    "        self.final_report = None\n",
    "        self.best_estimator = []\n",
    "        self.predictions = []\n",
    "\n",
    "    def metrics_plot(self, model, model_title, features_valid, target_valid):\n",
    "        \n",
    "        \"\"\"\n",
    "        Выводит на экран PR-кривую и ROC-кривую\n",
    "        \n",
    "        Пример:\n",
    "        metrics_plot(model, features_valid, target_valid)\n",
    "        \"\"\"\n",
    "             \n",
    "        probabilities_valid = model.predict_proba(features_valid)\n",
    "        precision, recall, thresholds = precision_recall_curve(target_valid, probabilities_valid[:, 1])\n",
    "        fpr, tpr, thresholds = roc_curve(target_valid, probabilities_valid[:, 1])\n",
    "            \n",
    "        fig, ax = plt.subplots(1, 2, figsize=(15, 6))\n",
    "        fig.subplots_adjust(hspace=0.4, wspace=0.4)\n",
    "        \n",
    "        #fig, ax = plt.subplots(ncols=3)\n",
    "        #fig.subplots_adjust(hspace=0.4, wspace=0.4)\n",
    "\n",
    "        sns.lineplot(recall, precision, drawstyle='steps-post', ax=ax[0])\n",
    "        ax[0].set_xlabel('Recall')\n",
    "        ax[0].set_ylabel('Precision')\n",
    "        ax[0].set_ylim([0.0, 1.05])\n",
    "        ax[0].set_xlim([0.0, 1.0])\n",
    "        ax[0].set_title('Кривая Precision-Recall ' + model_title)\n",
    "        \n",
    "        sns.lineplot(fpr, tpr, ax=ax[1])\n",
    "        ax[1].plot([0, 1], [0, 1], linestyle='--')\n",
    "        ax[1].set_xlim(0,1)\n",
    "        ax[1].set_ylim(0,1)\n",
    "        ax[1].set_xlabel('False Positive Rate')\n",
    "        ax[1].set_ylabel('True Positive Rate')\n",
    "        ax[1].set_title('ROC-кривая ' + model_title)\n",
    "        \n",
    " \n",
    "    def auc_roc(self, model, features_valid, target_valid):\n",
    "        \n",
    "        \"\"\"\n",
    "        Посчитывает значение ROC-AUC\n",
    "        \n",
    "        Пример:\n",
    "        auc_roc(self, model, features_valid, target_valid)\n",
    "        \"\"\"\n",
    "        \n",
    "        probabilities_valid = model.predict_proba(features_valid)\n",
    "        probabilities_one_valid = probabilities_valid[:, 1]\n",
    "        auc_roc = roc_auc_score(target_valid, probabilities_one_valid)\n",
    "        \n",
    "        return auc_roc          \n",
    "   \n",
    "    \n",
    "    def firstsight(self, data):\n",
    "        \n",
    "        \"\"\"\n",
    "        Возврашает пять первых, последних и случайных элементов датасета для дальнейшего вывода с помощью Display\n",
    "        \n",
    "        Пример:\n",
    "        head, tail, sample = explorer.firstsight(df)\n",
    "        \"\"\"\n",
    "        \n",
    "        head = data.head(5)\n",
    "        tail = data.tail(5)\n",
    "        sample = data.sample(5)\n",
    "        \n",
    "        return head, tail, sample      \n",
    "    \n",
    "   \n",
    "    def clear_text(self, data, text_to_corpus):\n",
    "        \n",
    "        \"\"\"\n",
    "        Создает корпус, очищает текст от шумовых знаков, нормализует текст стеммингом, создает в датасете столбец с очищенным текстом и приводит его в нижний регистр\n",
    "        \n",
    "        Пример:\n",
    "        df = explorer.clear_text(df, df.text)\n",
    "        \"\"\"\n",
    "        started = time.time()\n",
    "        corpus = list(text_to_corpus)\n",
    "        #lemmatizer = WordNetLemmatizer()\n",
    "        #lemmatized = [[lemmatizer.lemmatize(word) for word in word_tokenize(s)] for s in corpus]\n",
    "        #lemm_text = [' '.join(lemma) for lemma in lemmatized]\n",
    "        #clear_text = [re.sub(r'[^a-zA-Z]',' ', text) for text in lemm_text]\n",
    "        pure_text = [re.sub(r'[^a-zA-Z]',' ', text) for text in corpus]\n",
    "        stemmer = SnowballStemmer(\"english\")\n",
    "        stemmed = [[stemmer.stem(word) for word in word_tokenize(s)] for s in pure_text]\n",
    "        stem_text = [' '.join(word) for word in stemmed]\n",
    "        data['clear_text'] = stem_text\n",
    "        data['clear_text'] = data['clear_text'].str.lower()\n",
    "        ended = time.time()\n",
    "        print('Очистка текста выполнена за {} минуты'.format((ended-started)//60))\n",
    "        return data\n",
    "    \n",
    "    \n",
    "    def tfid_features_preparation(self, features, target, train_size, language_for_stopwords):\n",
    "        \n",
    "        \"\"\"\n",
    "        Разделяет выборку на обучающую и тестовую, векторизирует тексты, возвращает разделенные и векторезированные признаки и тагеты\n",
    "        \n",
    "        Пример:\n",
    "        x_train, x_test, y_train, y_test = explorer.tfid_features_preparation(df['clear_text'], df.toxic, 0.8, 'english', False)\n",
    "        \"\"\"\n",
    "        x_train, x_test, y_train, y_test = train_test_split(features, target, train_size=train_size, random_state=42)\n",
    "        \n",
    "        stopwords = set(nltk_stopwords.words(language_for_stopwords))\n",
    "        \n",
    "        tfid_vect = TfidfVectorizer()\n",
    "        \n",
    "        x_train = tfid_vect.fit_transform(x_train)\n",
    "        x_test = tfid_vect.transform(x_test)\n",
    "        \n",
    "        return x_train, x_test, y_train, y_test\n",
    "    \n",
    "  \n",
    "    def grid_search(self, model, param_grid, cv, scoring, x, y):\n",
    "        \n",
    "        \"\"\"\n",
    "        Поиск по сетке с заданными параметрами\n",
    "        \n",
    "        Пример:\n",
    "        lr_geo_one = explorer.grid_search(lr, param_grid, 5, 'f1', x_train, y_train)\n",
    "        \"\"\"\n",
    "        \n",
    "        grid_model = GridSearchCV(model, param_grid=param_grid, cv=cv, scoring=scoring, verbose=1, n_jobs=-1)\n",
    "        grid_model.fit(x, y)\n",
    "        best_estimator = grid_model.best_estimator_\n",
    "\n",
    "        return best_estimator\n",
    "    \n",
    "    def reporter(self, models, score, scoring):\n",
    "        started = time.time()\n",
    "        report = []\n",
    "        estimators = []\n",
    "        predictions = []\n",
    "        score_name = str(score).split(' ')[1]\n",
    "\n",
    "        for model in models:\n",
    "            print('\\n', model[0], '\\n')\n",
    "            grid_search = self.grid_search(model[1], model[2], 5, scoring, x_train, y_train)\n",
    "            print(grid_search)\n",
    "\n",
    "            predicted = np.ravel(grid_search.predict(x_test))\n",
    "            score = f1_score(y_test, predicted)\n",
    "            roc_auc = self.auc_roc(grid_search, x_test, y_test)\n",
    "            \n",
    "            report.append((model[0], score, roc_auc))\n",
    "            estimators.append((model[0], grid_search))\n",
    "            predictions.append((model[0], predicted))\n",
    "            self.metrics_plot(grid_search, model[0], x_test, y_test)\n",
    "            print('\\n', 'Classification report for ' + model[0], '\\n\\n', classification_report(y_test, predicted))\n",
    "            \n",
    "        self.final_report = pd.DataFrame(report, columns=['model', score_name, 'ROC-AUC'])\n",
    "        self.best_estimator = pd.DataFrame(estimators, columns=['model', 'grid_params'])\n",
    "        self.predictions = pd.DataFrame(predictions, columns=['model', 'predictions'])\n",
    "        ended = time.time()\n",
    "        print('Обучение с кросс-валидацей и поиском параметров выполнено за {} минуты. '.format((ended-started)//60))      \n",
    "            \n",
    "            \n",
    "    class Display(object):\n",
    "        \"\"\"\n",
    "        Выводит HTML представление нескольких объектов\n",
    "        \n",
    "        Пример:\n",
    "        Display(head, tail, sample)\n",
    "        \n",
    "        \"\"\"\n",
    "        template = \"\"\"<div style=\"float: left; padding: 10px;\">\n",
    "        <p style='font-family:\"Courier New\", Courier, monospace'>{0}</p>{1}\n",
    "        </div>\"\"\"\n",
    "        def __init__(self, *args):\n",
    "            self.args = args\n",
    "\n",
    "        def _repr_html_(self):\n",
    "            return '\\n'.join(self.template.format(a, eval(a)._repr_html_())\n",
    "                             for a in self.args)\n",
    "\n",
    "        def __repr__(self):\n",
    "            return '\\n\\n'.join(a + '\\n' + repr(eval(a))\n",
    "                               for a in self.args)"
   ]
  },
  {
   "cell_type": "code",
   "execution_count": 2,
   "metadata": {},
   "outputs": [],
   "source": [
    "explorer = DataExplorer()"
   ]
  },
  {
   "cell_type": "markdown",
   "metadata": {},
   "source": [
    "[Оглавление](#TOC)"
   ]
  },
  {
   "cell_type": "markdown",
   "metadata": {},
   "source": [
    "## 2) Импортируем библиотеки<a class='anchor' id='1_2'>"
   ]
  },
  {
   "cell_type": "code",
   "execution_count": 3,
   "metadata": {},
   "outputs": [
    {
     "name": "stderr",
     "output_type": "stream",
     "text": [
      "[nltk_data] Downloading package wordnet to\n",
      "[nltk_data]     C:\\Users\\User\\AppData\\Roaming\\nltk_data...\n",
      "[nltk_data]   Package wordnet is already up-to-date!\n",
      "[nltk_data] Downloading package stopwords to\n",
      "[nltk_data]     C:\\Users\\User\\AppData\\Roaming\\nltk_data...\n",
      "[nltk_data]   Package stopwords is already up-to-date!\n",
      "[nltk_data] Downloading package punkt to\n",
      "[nltk_data]     C:\\Users\\User\\AppData\\Roaming\\nltk_data...\n",
      "[nltk_data]   Package punkt is already up-to-date!\n"
     ]
    },
    {
     "data": {
      "text/plain": [
       "True"
      ]
     },
     "execution_count": 3,
     "metadata": {},
     "output_type": "execute_result"
    }
   ],
   "source": [
    "import time\n",
    "import warnings\n",
    "warnings.filterwarnings('ignore')\n",
    "\n",
    "import pandas as pd\n",
    "import numpy as np\n",
    "import pandas as pd\n",
    "import matplotlib.pyplot as plt\n",
    "import seaborn as sns\n",
    "%matplotlib inline\n",
    "\n",
    "from sklearn.model_selection import train_test_split, GridSearchCV\n",
    "from sklearn.feature_extraction.text import CountVectorizer, TfidfVectorizer\n",
    "from sklearn.utils import shuffle\n",
    "from sklearn.metrics import f1_score\n",
    "from sklearn.metrics import roc_curve\n",
    "from sklearn.metrics import roc_auc_score\n",
    "from sklearn.metrics import precision_recall_curve\n",
    "from sklearn.metrics import confusion_matrix\n",
    "from sklearn.metrics import classification_report\n",
    "from sklearn.metrics import f1_score\n",
    "\n",
    "from sklearn.linear_model import LogisticRegression\n",
    "from sklearn.linear_model import SGDClassifier\n",
    "from sklearn.naive_bayes import MultinomialNB\n",
    "\n",
    "import re\n",
    "import nltk\n",
    "from nltk.corpus import stopwords as nltk_stopwords\n",
    "from nltk.stem.snowball import SnowballStemmer\n",
    "from nltk import word_tokenize\n",
    "nltk.download('wordnet')\n",
    "nltk.download('stopwords')\n",
    "nltk.download('punkt')"
   ]
  },
  {
   "cell_type": "markdown",
   "metadata": {},
   "source": [
    "[Оглавление](#TOC)"
   ]
  },
  {
   "cell_type": "markdown",
   "metadata": {},
   "source": [
    "## 3) Прочитаем данные в переменную<a class='anchor' id='1_3'>"
   ]
  },
  {
   "cell_type": "code",
   "execution_count": 4,
   "metadata": {},
   "outputs": [],
   "source": [
    "df = pd.read_csv('/datasets/toxic_comments.csv')"
   ]
  },
  {
   "cell_type": "markdown",
   "metadata": {},
   "source": [
    "[Оглавление](#TOC)"
   ]
  },
  {
   "cell_type": "markdown",
   "metadata": {},
   "source": [
    "## 4) Выведем первые, последние и случайные пять строк<a class='anchor' id='1_4'>"
   ]
  },
  {
   "cell_type": "code",
   "execution_count": 5,
   "metadata": {},
   "outputs": [
    {
     "data": {
      "text/html": [
       "<div style=\"float: left; padding: 10px;\">\n",
       "        <p style='font-family:\"Courier New\", Courier, monospace'>head</p><div>\n",
       "<style scoped>\n",
       "    .dataframe tbody tr th:only-of-type {\n",
       "        vertical-align: middle;\n",
       "    }\n",
       "\n",
       "    .dataframe tbody tr th {\n",
       "        vertical-align: top;\n",
       "    }\n",
       "\n",
       "    .dataframe thead th {\n",
       "        text-align: right;\n",
       "    }\n",
       "</style>\n",
       "<table border=\"1\" class=\"dataframe\">\n",
       "  <thead>\n",
       "    <tr style=\"text-align: right;\">\n",
       "      <th></th>\n",
       "      <th>text</th>\n",
       "      <th>toxic</th>\n",
       "    </tr>\n",
       "  </thead>\n",
       "  <tbody>\n",
       "    <tr>\n",
       "      <td>0</td>\n",
       "      <td>Explanation\\nWhy the edits made under my usern...</td>\n",
       "      <td>0</td>\n",
       "    </tr>\n",
       "    <tr>\n",
       "      <td>1</td>\n",
       "      <td>D'aww! He matches this background colour I'm s...</td>\n",
       "      <td>0</td>\n",
       "    </tr>\n",
       "    <tr>\n",
       "      <td>2</td>\n",
       "      <td>Hey man, I'm really not trying to edit war. It...</td>\n",
       "      <td>0</td>\n",
       "    </tr>\n",
       "    <tr>\n",
       "      <td>3</td>\n",
       "      <td>\"\\nMore\\nI can't make any real suggestions on ...</td>\n",
       "      <td>0</td>\n",
       "    </tr>\n",
       "    <tr>\n",
       "      <td>4</td>\n",
       "      <td>You, sir, are my hero. Any chance you remember...</td>\n",
       "      <td>0</td>\n",
       "    </tr>\n",
       "  </tbody>\n",
       "</table>\n",
       "</div>\n",
       "        </div>\n",
       "<div style=\"float: left; padding: 10px;\">\n",
       "        <p style='font-family:\"Courier New\", Courier, monospace'>tail</p><div>\n",
       "<style scoped>\n",
       "    .dataframe tbody tr th:only-of-type {\n",
       "        vertical-align: middle;\n",
       "    }\n",
       "\n",
       "    .dataframe tbody tr th {\n",
       "        vertical-align: top;\n",
       "    }\n",
       "\n",
       "    .dataframe thead th {\n",
       "        text-align: right;\n",
       "    }\n",
       "</style>\n",
       "<table border=\"1\" class=\"dataframe\">\n",
       "  <thead>\n",
       "    <tr style=\"text-align: right;\">\n",
       "      <th></th>\n",
       "      <th>text</th>\n",
       "      <th>toxic</th>\n",
       "    </tr>\n",
       "  </thead>\n",
       "  <tbody>\n",
       "    <tr>\n",
       "      <td>159566</td>\n",
       "      <td>\":::::And for the second time of asking, when ...</td>\n",
       "      <td>0</td>\n",
       "    </tr>\n",
       "    <tr>\n",
       "      <td>159567</td>\n",
       "      <td>You should be ashamed of yourself \\n\\nThat is ...</td>\n",
       "      <td>0</td>\n",
       "    </tr>\n",
       "    <tr>\n",
       "      <td>159568</td>\n",
       "      <td>Spitzer \\n\\nUmm, theres no actual article for ...</td>\n",
       "      <td>0</td>\n",
       "    </tr>\n",
       "    <tr>\n",
       "      <td>159569</td>\n",
       "      <td>And it looks like it was actually you who put ...</td>\n",
       "      <td>0</td>\n",
       "    </tr>\n",
       "    <tr>\n",
       "      <td>159570</td>\n",
       "      <td>\"\\nAnd ... I really don't think you understand...</td>\n",
       "      <td>0</td>\n",
       "    </tr>\n",
       "  </tbody>\n",
       "</table>\n",
       "</div>\n",
       "        </div>\n",
       "<div style=\"float: left; padding: 10px;\">\n",
       "        <p style='font-family:\"Courier New\", Courier, monospace'>sample</p><div>\n",
       "<style scoped>\n",
       "    .dataframe tbody tr th:only-of-type {\n",
       "        vertical-align: middle;\n",
       "    }\n",
       "\n",
       "    .dataframe tbody tr th {\n",
       "        vertical-align: top;\n",
       "    }\n",
       "\n",
       "    .dataframe thead th {\n",
       "        text-align: right;\n",
       "    }\n",
       "</style>\n",
       "<table border=\"1\" class=\"dataframe\">\n",
       "  <thead>\n",
       "    <tr style=\"text-align: right;\">\n",
       "      <th></th>\n",
       "      <th>text</th>\n",
       "      <th>toxic</th>\n",
       "    </tr>\n",
       "  </thead>\n",
       "  <tbody>\n",
       "    <tr>\n",
       "      <td>145640</td>\n",
       "      <td>On second thought, go ahead and delete it  Cyr...</td>\n",
       "      <td>0</td>\n",
       "    </tr>\n",
       "    <tr>\n",
       "      <td>150757</td>\n",
       "      <td>\"\\n\\nBad LOGIC\\n\\n=Progressivism\\nOn the progr...</td>\n",
       "      <td>0</td>\n",
       "    </tr>\n",
       "    <tr>\n",
       "      <td>51608</td>\n",
       "      <td>\"\\n\\nedit:\\nOk, forget it, I am honored by thi...</td>\n",
       "      <td>1</td>\n",
       "    </tr>\n",
       "    <tr>\n",
       "      <td>64534</td>\n",
       "      <td>No, these are different concepts. Assassinatio...</td>\n",
       "      <td>0</td>\n",
       "    </tr>\n",
       "    <tr>\n",
       "      <td>43120</td>\n",
       "      <td>Stop just deleting spacerocktrading, without p...</td>\n",
       "      <td>0</td>\n",
       "    </tr>\n",
       "  </tbody>\n",
       "</table>\n",
       "</div>\n",
       "        </div>"
      ],
      "text/plain": [
       "head\n",
       "                                                text  toxic\n",
       "0  Explanation\\nWhy the edits made under my usern...      0\n",
       "1  D'aww! He matches this background colour I'm s...      0\n",
       "2  Hey man, I'm really not trying to edit war. It...      0\n",
       "3  \"\\nMore\\nI can't make any real suggestions on ...      0\n",
       "4  You, sir, are my hero. Any chance you remember...      0\n",
       "\n",
       "tail\n",
       "                                                     text  toxic\n",
       "159566  \":::::And for the second time of asking, when ...      0\n",
       "159567  You should be ashamed of yourself \\n\\nThat is ...      0\n",
       "159568  Spitzer \\n\\nUmm, theres no actual article for ...      0\n",
       "159569  And it looks like it was actually you who put ...      0\n",
       "159570  \"\\nAnd ... I really don't think you understand...      0\n",
       "\n",
       "sample\n",
       "                                                     text  toxic\n",
       "145640  On second thought, go ahead and delete it  Cyr...      0\n",
       "150757  \"\\n\\nBad LOGIC\\n\\n=Progressivism\\nOn the progr...      0\n",
       "51608   \"\\n\\nedit:\\nOk, forget it, I am honored by thi...      1\n",
       "64534   No, these are different concepts. Assassinatio...      0\n",
       "43120   Stop just deleting spacerocktrading, without p...      0"
      ]
     },
     "execution_count": 5,
     "metadata": {},
     "output_type": "execute_result"
    }
   ],
   "source": [
    "head, tail, sample = explorer.firstsight(df)\n",
    "explorer.Display('head', 'tail', 'sample')"
   ]
  },
  {
   "cell_type": "markdown",
   "metadata": {},
   "source": [
    "&#9889; **Вывод:** \n",
    "\n",
    "1. В тексте есть шумовые знаки (перенос, апострофы, разметка).\n",
    "2. После визуального ознакомления представляется, что целевой признак несбалансирован, положительные ответы (\"1\") - редкий класс."
   ]
  },
  {
   "cell_type": "markdown",
   "metadata": {},
   "source": [
    "[Оглавление](#TOC)"
   ]
  },
  {
   "cell_type": "markdown",
   "metadata": {},
   "source": [
    "## 5) Выведем общую информацию о датасете, общую статистику, проверим соотношение классов<a class='anchor' id='1_5'>"
   ]
  },
  {
   "cell_type": "markdown",
   "metadata": {},
   "source": [
    "#### - общая информация"
   ]
  },
  {
   "cell_type": "code",
   "execution_count": 6,
   "metadata": {},
   "outputs": [
    {
     "name": "stdout",
     "output_type": "stream",
     "text": [
      "<class 'pandas.core.frame.DataFrame'>\n",
      "RangeIndex: 159571 entries, 0 to 159570\n",
      "Data columns (total 2 columns):\n",
      "text     159571 non-null object\n",
      "toxic    159571 non-null int64\n",
      "dtypes: int64(1), object(1)\n",
      "memory usage: 2.4+ MB\n"
     ]
    }
   ],
   "source": [
    "df.info()"
   ]
  },
  {
   "cell_type": "markdown",
   "metadata": {},
   "source": [
    "#### - общая статистика"
   ]
  },
  {
   "cell_type": "code",
   "execution_count": 7,
   "metadata": {},
   "outputs": [
    {
     "data": {
      "text/html": [
       "<div>\n",
       "<style scoped>\n",
       "    .dataframe tbody tr th:only-of-type {\n",
       "        vertical-align: middle;\n",
       "    }\n",
       "\n",
       "    .dataframe tbody tr th {\n",
       "        vertical-align: top;\n",
       "    }\n",
       "\n",
       "    .dataframe thead th {\n",
       "        text-align: right;\n",
       "    }\n",
       "</style>\n",
       "<table border=\"1\" class=\"dataframe\">\n",
       "  <thead>\n",
       "    <tr style=\"text-align: right;\">\n",
       "      <th></th>\n",
       "      <th>count</th>\n",
       "      <th>mean</th>\n",
       "      <th>std</th>\n",
       "      <th>min</th>\n",
       "      <th>25%</th>\n",
       "      <th>50%</th>\n",
       "      <th>75%</th>\n",
       "      <th>max</th>\n",
       "    </tr>\n",
       "  </thead>\n",
       "  <tbody>\n",
       "    <tr>\n",
       "      <td>toxic</td>\n",
       "      <td>159571.0</td>\n",
       "      <td>0.101679</td>\n",
       "      <td>0.302226</td>\n",
       "      <td>0.0</td>\n",
       "      <td>0.0</td>\n",
       "      <td>0.0</td>\n",
       "      <td>0.0</td>\n",
       "      <td>1.0</td>\n",
       "    </tr>\n",
       "  </tbody>\n",
       "</table>\n",
       "</div>"
      ],
      "text/plain": [
       "          count      mean       std  min  25%  50%  75%  max\n",
       "toxic  159571.0  0.101679  0.302226  0.0  0.0  0.0  0.0  1.0"
      ]
     },
     "execution_count": 7,
     "metadata": {},
     "output_type": "execute_result"
    }
   ],
   "source": [
    "df.describe().T"
   ]
  },
  {
   "cell_type": "code",
   "execution_count": 8,
   "metadata": {},
   "outputs": [
    {
     "data": {
      "text/html": [
       "<div>\n",
       "<style scoped>\n",
       "    .dataframe tbody tr th:only-of-type {\n",
       "        vertical-align: middle;\n",
       "    }\n",
       "\n",
       "    .dataframe tbody tr th {\n",
       "        vertical-align: top;\n",
       "    }\n",
       "\n",
       "    .dataframe thead th {\n",
       "        text-align: right;\n",
       "    }\n",
       "</style>\n",
       "<table border=\"1\" class=\"dataframe\">\n",
       "  <thead>\n",
       "    <tr style=\"text-align: right;\">\n",
       "      <th></th>\n",
       "      <th>count</th>\n",
       "      <th>unique</th>\n",
       "      <th>top</th>\n",
       "      <th>freq</th>\n",
       "    </tr>\n",
       "  </thead>\n",
       "  <tbody>\n",
       "    <tr>\n",
       "      <td>text</td>\n",
       "      <td>159571</td>\n",
       "      <td>159571</td>\n",
       "      <td>No problem, it was not intended as a dig at an...</td>\n",
       "      <td>1</td>\n",
       "    </tr>\n",
       "  </tbody>\n",
       "</table>\n",
       "</div>"
      ],
      "text/plain": [
       "       count  unique                                                top freq\n",
       "text  159571  159571  No problem, it was not intended as a dig at an...    1"
      ]
     },
     "execution_count": 8,
     "metadata": {},
     "output_type": "execute_result"
    }
   ],
   "source": [
    "df.describe(include=['object']).T"
   ]
  },
  {
   "cell_type": "markdown",
   "metadata": {},
   "source": [
    "#### - соотношение классов"
   ]
  },
  {
   "cell_type": "code",
   "execution_count": 9,
   "metadata": {},
   "outputs": [
    {
     "data": {
      "text/plain": [
       "0    143346\n",
       "1     16225\n",
       "Name: toxic, dtype: int64"
      ]
     },
     "execution_count": 9,
     "metadata": {},
     "output_type": "execute_result"
    }
   ],
   "source": [
    "df.toxic.value_counts()"
   ]
  },
  {
   "cell_type": "markdown",
   "metadata": {},
   "source": [
    "&#9889; **Вывод:** \n",
    "\n",
    "1. В датасете 159571 строк, без пропусков. \n",
    "2. Повторов в текстах не встречается, все 159571 текста уникальны.\n",
    "3. Положительный класс составляет 10 % (16255) от датасета (159571)."
   ]
  },
  {
   "cell_type": "markdown",
   "metadata": {},
   "source": [
    "<font color=\"red\"> Хорошо </font>"
   ]
  },
  {
   "cell_type": "markdown",
   "metadata": {},
   "source": [
    "[Оглавление](#TOC)"
   ]
  },
  {
   "cell_type": "markdown",
   "metadata": {},
   "source": [
    "## 6) Подготовим датасет к обучению, создадим признаки: очистим текст от шумовых знаков, применим стемминг, результат сохраним в новой колонке 'clear_text'<a class='anchor' id='1_6'>"
   ]
  },
  {
   "cell_type": "markdown",
   "metadata": {},
   "source": [
    "#### - подготовим датасет"
   ]
  },
  {
   "cell_type": "code",
   "execution_count": 10,
   "metadata": {},
   "outputs": [
    {
     "name": "stdout",
     "output_type": "stream",
     "text": [
      "Очистка текста выполнена за 3.0 минуты\n"
     ]
    }
   ],
   "source": [
    "df = explorer.clear_text(df, df.text)"
   ]
  },
  {
   "cell_type": "markdown",
   "metadata": {},
   "source": [
    "#### - выведем результат на экран"
   ]
  },
  {
   "cell_type": "code",
   "execution_count": 11,
   "metadata": {},
   "outputs": [
    {
     "data": {
      "text/html": [
       "<div style=\"float: left; padding: 10px;\">\n",
       "        <p style='font-family:\"Courier New\", Courier, monospace'>head</p><div>\n",
       "<style scoped>\n",
       "    .dataframe tbody tr th:only-of-type {\n",
       "        vertical-align: middle;\n",
       "    }\n",
       "\n",
       "    .dataframe tbody tr th {\n",
       "        vertical-align: top;\n",
       "    }\n",
       "\n",
       "    .dataframe thead th {\n",
       "        text-align: right;\n",
       "    }\n",
       "</style>\n",
       "<table border=\"1\" class=\"dataframe\">\n",
       "  <thead>\n",
       "    <tr style=\"text-align: right;\">\n",
       "      <th></th>\n",
       "      <th>text</th>\n",
       "      <th>toxic</th>\n",
       "      <th>clear_text</th>\n",
       "    </tr>\n",
       "  </thead>\n",
       "  <tbody>\n",
       "    <tr>\n",
       "      <td>0</td>\n",
       "      <td>Explanation\\nWhy the edits made under my usern...</td>\n",
       "      <td>0</td>\n",
       "      <td>explan whi the edit made under my usernam hard...</td>\n",
       "    </tr>\n",
       "    <tr>\n",
       "      <td>1</td>\n",
       "      <td>D'aww! He matches this background colour I'm s...</td>\n",
       "      <td>0</td>\n",
       "      <td>d aww he match this background colour i m seem...</td>\n",
       "    </tr>\n",
       "    <tr>\n",
       "      <td>2</td>\n",
       "      <td>Hey man, I'm really not trying to edit war. It...</td>\n",
       "      <td>0</td>\n",
       "      <td>hey man i m realli not tri to edit war it s ju...</td>\n",
       "    </tr>\n",
       "    <tr>\n",
       "      <td>3</td>\n",
       "      <td>\"\\nMore\\nI can't make any real suggestions on ...</td>\n",
       "      <td>0</td>\n",
       "      <td>more i can t make ani real suggest on improv i...</td>\n",
       "    </tr>\n",
       "    <tr>\n",
       "      <td>4</td>\n",
       "      <td>You, sir, are my hero. Any chance you remember...</td>\n",
       "      <td>0</td>\n",
       "      <td>you sir are my hero ani chanc you rememb what ...</td>\n",
       "    </tr>\n",
       "  </tbody>\n",
       "</table>\n",
       "</div>\n",
       "        </div>\n",
       "<div style=\"float: left; padding: 10px;\">\n",
       "        <p style='font-family:\"Courier New\", Courier, monospace'>tail</p><div>\n",
       "<style scoped>\n",
       "    .dataframe tbody tr th:only-of-type {\n",
       "        vertical-align: middle;\n",
       "    }\n",
       "\n",
       "    .dataframe tbody tr th {\n",
       "        vertical-align: top;\n",
       "    }\n",
       "\n",
       "    .dataframe thead th {\n",
       "        text-align: right;\n",
       "    }\n",
       "</style>\n",
       "<table border=\"1\" class=\"dataframe\">\n",
       "  <thead>\n",
       "    <tr style=\"text-align: right;\">\n",
       "      <th></th>\n",
       "      <th>text</th>\n",
       "      <th>toxic</th>\n",
       "      <th>clear_text</th>\n",
       "    </tr>\n",
       "  </thead>\n",
       "  <tbody>\n",
       "    <tr>\n",
       "      <td>159566</td>\n",
       "      <td>\":::::And for the second time of asking, when ...</td>\n",
       "      <td>0</td>\n",
       "      <td>and for the second time of ask when your view ...</td>\n",
       "    </tr>\n",
       "    <tr>\n",
       "      <td>159567</td>\n",
       "      <td>You should be ashamed of yourself \\n\\nThat is ...</td>\n",
       "      <td>0</td>\n",
       "      <td>you should be asham of yourself that is a horr...</td>\n",
       "    </tr>\n",
       "    <tr>\n",
       "      <td>159568</td>\n",
       "      <td>Spitzer \\n\\nUmm, theres no actual article for ...</td>\n",
       "      <td>0</td>\n",
       "      <td>spitzer umm there no actual articl for prostit...</td>\n",
       "    </tr>\n",
       "    <tr>\n",
       "      <td>159569</td>\n",
       "      <td>And it looks like it was actually you who put ...</td>\n",
       "      <td>0</td>\n",
       "      <td>and it look like it was actual you who put on ...</td>\n",
       "    </tr>\n",
       "    <tr>\n",
       "      <td>159570</td>\n",
       "      <td>\"\\nAnd ... I really don't think you understand...</td>\n",
       "      <td>0</td>\n",
       "      <td>and i realli don t think you understand i came...</td>\n",
       "    </tr>\n",
       "  </tbody>\n",
       "</table>\n",
       "</div>\n",
       "        </div>\n",
       "<div style=\"float: left; padding: 10px;\">\n",
       "        <p style='font-family:\"Courier New\", Courier, monospace'>sample</p><div>\n",
       "<style scoped>\n",
       "    .dataframe tbody tr th:only-of-type {\n",
       "        vertical-align: middle;\n",
       "    }\n",
       "\n",
       "    .dataframe tbody tr th {\n",
       "        vertical-align: top;\n",
       "    }\n",
       "\n",
       "    .dataframe thead th {\n",
       "        text-align: right;\n",
       "    }\n",
       "</style>\n",
       "<table border=\"1\" class=\"dataframe\">\n",
       "  <thead>\n",
       "    <tr style=\"text-align: right;\">\n",
       "      <th></th>\n",
       "      <th>text</th>\n",
       "      <th>toxic</th>\n",
       "      <th>clear_text</th>\n",
       "    </tr>\n",
       "  </thead>\n",
       "  <tbody>\n",
       "    <tr>\n",
       "      <td>15876</td>\n",
       "      <td>\"\\n\\n Please do not vandalize pages, as you di...</td>\n",
       "      <td>0</td>\n",
       "      <td>pleas do not vandal page as you did with this ...</td>\n",
       "    </tr>\n",
       "    <tr>\n",
       "      <td>103167</td>\n",
       "      <td>LISTEN TO HIS SHOW. He constantly throws out E...</td>\n",
       "      <td>0</td>\n",
       "      <td>listen to his show he constant throw out ethni...</td>\n",
       "    </tr>\n",
       "    <tr>\n",
       "      <td>11884</td>\n",
       "      <td>Your language!  \\n\\nBy the way,since English i...</td>\n",
       "      <td>1</td>\n",
       "      <td>your languag by the way sinc english is your l...</td>\n",
       "    </tr>\n",
       "    <tr>\n",
       "      <td>68681</td>\n",
       "      <td>A while back, someone made the statement in on...</td>\n",
       "      <td>0</td>\n",
       "      <td>a while back someon made the statement in one ...</td>\n",
       "    </tr>\n",
       "    <tr>\n",
       "      <td>127551</td>\n",
       "      <td>Breakup with Oprah \\n\\nI've removed the refere...</td>\n",
       "      <td>0</td>\n",
       "      <td>breakup with oprah i ve remov the refer about ...</td>\n",
       "    </tr>\n",
       "  </tbody>\n",
       "</table>\n",
       "</div>\n",
       "        </div>"
      ],
      "text/plain": [
       "head\n",
       "                                                text  toxic  \\\n",
       "0  Explanation\\nWhy the edits made under my usern...      0   \n",
       "1  D'aww! He matches this background colour I'm s...      0   \n",
       "2  Hey man, I'm really not trying to edit war. It...      0   \n",
       "3  \"\\nMore\\nI can't make any real suggestions on ...      0   \n",
       "4  You, sir, are my hero. Any chance you remember...      0   \n",
       "\n",
       "                                          clear_text  \n",
       "0  explan whi the edit made under my usernam hard...  \n",
       "1  d aww he match this background colour i m seem...  \n",
       "2  hey man i m realli not tri to edit war it s ju...  \n",
       "3  more i can t make ani real suggest on improv i...  \n",
       "4  you sir are my hero ani chanc you rememb what ...  \n",
       "\n",
       "tail\n",
       "                                                     text  toxic  \\\n",
       "159566  \":::::And for the second time of asking, when ...      0   \n",
       "159567  You should be ashamed of yourself \\n\\nThat is ...      0   \n",
       "159568  Spitzer \\n\\nUmm, theres no actual article for ...      0   \n",
       "159569  And it looks like it was actually you who put ...      0   \n",
       "159570  \"\\nAnd ... I really don't think you understand...      0   \n",
       "\n",
       "                                               clear_text  \n",
       "159566  and for the second time of ask when your view ...  \n",
       "159567  you should be asham of yourself that is a horr...  \n",
       "159568  spitzer umm there no actual articl for prostit...  \n",
       "159569  and it look like it was actual you who put on ...  \n",
       "159570  and i realli don t think you understand i came...  \n",
       "\n",
       "sample\n",
       "                                                     text  toxic  \\\n",
       "15876   \"\\n\\n Please do not vandalize pages, as you di...      0   \n",
       "103167  LISTEN TO HIS SHOW. He constantly throws out E...      0   \n",
       "11884   Your language!  \\n\\nBy the way,since English i...      1   \n",
       "68681   A while back, someone made the statement in on...      0   \n",
       "127551  Breakup with Oprah \\n\\nI've removed the refere...      0   \n",
       "\n",
       "                                               clear_text  \n",
       "15876   pleas do not vandal page as you did with this ...  \n",
       "103167  listen to his show he constant throw out ethni...  \n",
       "11884   your languag by the way sinc english is your l...  \n",
       "68681   a while back someon made the statement in one ...  \n",
       "127551  breakup with oprah i ve remov the refer about ...  "
      ]
     },
     "execution_count": 11,
     "metadata": {},
     "output_type": "execute_result"
    }
   ],
   "source": [
    "head, tail, sample = explorer.firstsight(df)\n",
    "explorer.Display('head', 'tail', 'sample')"
   ]
  },
  {
   "cell_type": "markdown",
   "metadata": {},
   "source": [
    "<font color=\"red\"> Очень хорошо </font>"
   ]
  },
  {
   "cell_type": "markdown",
   "metadata": {},
   "source": [
    "[Оглавление](#TOC)"
   ]
  },
  {
   "cell_type": "markdown",
   "metadata": {},
   "source": [
    "## 7) Разделим выборку на обучающую и тестовую в соотношении 80:20, векторизируем тексты, выделим целевой признак<a class='anchor' id='1_7'>"
   ]
  },
  {
   "cell_type": "code",
   "execution_count": 12,
   "metadata": {},
   "outputs": [],
   "source": [
    "x_train, x_test, y_train, y_test = explorer.tfid_features_preparation(df['clear_text'], df.toxic, 0.8, 'english')"
   ]
  },
  {
   "cell_type": "markdown",
   "metadata": {},
   "source": [
    "[Оглавление](#TOC)"
   ]
  },
  {
   "cell_type": "markdown",
   "metadata": {},
   "source": [
    "## 8) Cоздадим словарь для поиска наилучших параметров модели, инициализируем модели, выберем параметры для подбора<a class='anchor' id='1_8'>"
   ]
  },
  {
   "cell_type": "markdown",
   "metadata": {},
   "source": [
    "#### - словарь с моделями"
   ]
  },
  {
   "cell_type": "code",
   "execution_count": 13,
   "metadata": {},
   "outputs": [],
   "source": [
    "models = []"
   ]
  },
  {
   "cell_type": "markdown",
   "metadata": {},
   "source": [
    "#### - LogisticRegression"
   ]
  },
  {
   "cell_type": "code",
   "execution_count": 14,
   "metadata": {},
   "outputs": [],
   "source": [
    "lr = LogisticRegression(n_jobs=-1, random_state=42)\n",
    "\n",
    "param_grid={'penalty' : ['l1', 'l2'], \n",
    "            'fit_intercept': [True, False],\n",
    "            'max_iter' : [1000, 5000],\n",
    "            'C' : [0.001, 0.1, 0.8, 1],\n",
    "            'class_weight' : [None, 'balanced', {0: 0.9, 1: 0.1}]}\n",
    "\n",
    "models.append(('Logistic Regression', lr, param_grid))"
   ]
  },
  {
   "cell_type": "markdown",
   "metadata": {},
   "source": [
    "#### - SGDClassifier"
   ]
  },
  {
   "cell_type": "code",
   "execution_count": 15,
   "metadata": {},
   "outputs": [],
   "source": [
    "sgd = SGDClassifier(n_jobs=-1, random_state=42)\n",
    "\n",
    "param_grid = {'loss' : ['log', 'modified_huber'],\n",
    "              'penalty' : ['l1', 'l2'], \n",
    "              'fit_intercept' : [True, False],\n",
    "              'max_iter' : [5, 1000, 5000],\n",
    "              'shuffle' : [True, False],\n",
    "              'learning_rate' : ['optimal'],\n",
    "              'validation_fraction' : [0.1, 0.2, 0.3, 0.4]\n",
    "             }\n",
    "\n",
    "models.append(('SGDClassifier', sgd, param_grid))"
   ]
  },
  {
   "cell_type": "markdown",
   "metadata": {},
   "source": [
    "#### - MultinomialNB"
   ]
  },
  {
   "cell_type": "code",
   "execution_count": 16,
   "metadata": {},
   "outputs": [],
   "source": [
    "mnb = MultinomialNB()\n",
    "\n",
    "param_grid = {'alpha' : [0, 0.01, 0.001, 0.0001, 1.0],\n",
    "             'fit_prior' : [True, False],\n",
    "             'class_prior' : [None, [0.9, 0.1], [0.1, 0.9]]}\n",
    "\n",
    "models.append(('MultinomialNB', mnb, param_grid))"
   ]
  },
  {
   "cell_type": "markdown",
   "metadata": {},
   "source": [
    "## Вывод<a class='anchor' id='1_conclusion'>"
   ]
  },
  {
   "cell_type": "markdown",
   "metadata": {},
   "source": [
    "1. В датасете 159571 строк с уникальным содержанием, без пропусков.\n",
    "2. Положительный класс редкий, составляет 10 % (16255) от размера датасета (159571).\n",
    "3. Тексты были очищены от шумовых знаков, применен стемминг, после чего очищенный текст сохранен в новой колонке.\n",
    "4. Для решения задачи избраны модели LogisticRegression, SGDClassifier, MultinomialNB."
   ]
  },
  {
   "cell_type": "markdown",
   "metadata": {},
   "source": [
    "[Оглавление](#TOC)"
   ]
  },
  {
   "cell_type": "markdown",
   "metadata": {},
   "source": [
    "# 2. Обучение<a class='anchor' id='2'>"
   ]
  },
  {
   "cell_type": "markdown",
   "metadata": {},
   "source": [
    "## 1) Подберем наилучшие параметры для моделей, выводем на экран PR-кривую и ROC-кривую для моделей, сохраним параметры и соберем метрики<a class='anchor' id='2_1'>"
   ]
  },
  {
   "cell_type": "code",
   "execution_count": 17,
   "metadata": {},
   "outputs": [
    {
     "name": "stdout",
     "output_type": "stream",
     "text": [
      "\n",
      " Logistic Regression \n",
      "\n",
      "Fitting 5 folds for each of 96 candidates, totalling 480 fits\n"
     ]
    },
    {
     "name": "stderr",
     "output_type": "stream",
     "text": [
      "[Parallel(n_jobs=-1)]: Using backend LokyBackend with 8 concurrent workers.\n",
      "[Parallel(n_jobs=-1)]: Done  34 tasks      | elapsed:   13.9s\n",
      "[Parallel(n_jobs=-1)]: Done 184 tasks      | elapsed:  1.1min\n",
      "[Parallel(n_jobs=-1)]: Done 434 tasks      | elapsed:  4.0min\n",
      "[Parallel(n_jobs=-1)]: Done 480 out of 480 | elapsed:  4.4min finished\n"
     ]
    },
    {
     "name": "stdout",
     "output_type": "stream",
     "text": [
      "LogisticRegression(C=1, class_weight=None, dual=False, fit_intercept=True,\n",
      "                   intercept_scaling=1, l1_ratio=None, max_iter=1000,\n",
      "                   multi_class='warn', n_jobs=-1, penalty='l1', random_state=42,\n",
      "                   solver='warn', tol=0.0001, verbose=0, warm_start=False)\n",
      "\n",
      " Classification report for Logistic Regression \n",
      "\n",
      "               precision    recall  f1-score   support\n",
      "\n",
      "           0       0.97      0.99      0.98     28671\n",
      "           1       0.90      0.71      0.80      3244\n",
      "\n",
      "    accuracy                           0.96     31915\n",
      "   macro avg       0.94      0.85      0.89     31915\n",
      "weighted avg       0.96      0.96      0.96     31915\n",
      "\n",
      "\n",
      " SGDClassifier \n",
      "\n",
      "Fitting 5 folds for each of 192 candidates, totalling 960 fits\n"
     ]
    },
    {
     "name": "stderr",
     "output_type": "stream",
     "text": [
      "[Parallel(n_jobs=-1)]: Using backend LokyBackend with 8 concurrent workers.\n",
      "[Parallel(n_jobs=-1)]: Done  34 tasks      | elapsed:    4.8s\n",
      "[Parallel(n_jobs=-1)]: Done 184 tasks      | elapsed:   22.2s\n",
      "[Parallel(n_jobs=-1)]: Done 434 tasks      | elapsed:   55.3s\n",
      "[Parallel(n_jobs=-1)]: Done 784 tasks      | elapsed:  1.6min\n",
      "[Parallel(n_jobs=-1)]: Done 960 out of 960 | elapsed:  2.0min finished\n"
     ]
    },
    {
     "name": "stdout",
     "output_type": "stream",
     "text": [
      "SGDClassifier(alpha=0.0001, average=False, class_weight=None,\n",
      "              early_stopping=False, epsilon=0.1, eta0=0.0, fit_intercept=False,\n",
      "              l1_ratio=0.15, learning_rate='optimal', loss='modified_huber',\n",
      "              max_iter=5, n_iter_no_change=5, n_jobs=-1, penalty='l1',\n",
      "              power_t=0.5, random_state=42, shuffle=True, tol=0.001,\n",
      "              validation_fraction=0.1, verbose=0, warm_start=False)\n",
      "\n",
      " Classification report for SGDClassifier \n",
      "\n",
      "               precision    recall  f1-score   support\n",
      "\n",
      "           0       0.97      0.99      0.98     28671\n",
      "           1       0.86      0.70      0.77      3244\n",
      "\n",
      "    accuracy                           0.96     31915\n",
      "   macro avg       0.91      0.84      0.87     31915\n",
      "weighted avg       0.96      0.96      0.96     31915\n",
      "\n",
      "\n",
      " MultinomialNB \n",
      "\n",
      "Fitting 5 folds for each of 30 candidates, totalling 150 fits\n"
     ]
    },
    {
     "name": "stderr",
     "output_type": "stream",
     "text": [
      "[Parallel(n_jobs=-1)]: Using backend LokyBackend with 8 concurrent workers.\n",
      "[Parallel(n_jobs=-1)]: Done  34 tasks      | elapsed:    2.0s\n",
      "[Parallel(n_jobs=-1)]: Done 150 out of 150 | elapsed:    6.9s finished\n"
     ]
    },
    {
     "name": "stdout",
     "output_type": "stream",
     "text": [
      "MultinomialNB(alpha=0.01, class_prior=None, fit_prior=True)\n",
      "\n",
      " Classification report for MultinomialNB \n",
      "\n",
      "               precision    recall  f1-score   support\n",
      "\n",
      "           0       0.95      0.99      0.97     28671\n",
      "           1       0.87      0.53      0.66      3244\n",
      "\n",
      "    accuracy                           0.94     31915\n",
      "   macro avg       0.91      0.76      0.82     31915\n",
      "weighted avg       0.94      0.94      0.94     31915\n",
      "\n",
      "Обучение с кросс-валидацей и поиском параметров выполнено за 8.0 минуты. \n"
     ]
    },
    {
     "data": {
      "image/png": "[encoded data removed]",
      "text/plain": [
       "<Figure size 1080x432 with 2 Axes>"
      ]
     },
     "metadata": {
      "needs_background": "light"
     },
     "output_type": "display_data"
    },
    {
     "data": {
      "image/png": "[encoded data removed]",
      "text/plain": [
       "<Figure size 1080x432 with 2 Axes>"
      ]
     },
     "metadata": {
      "needs_background": "light"
     },
     "output_type": "display_data"
    },
    {
     "data": {
      "image/png": "[encoded data removed]",
      "text/plain": [
       "<Figure size 1080x432 with 2 Axes>"
      ]
     },
     "metadata": {
      "needs_background": "light"
     },
     "output_type": "display_data"
    }
   ],
   "source": [
    "explorer.reporter(models, f1_score, 'f1')"
   ]
  },
  {
   "cell_type": "markdown",
   "metadata": {},
   "source": [
    "[Оглавление](#TOC)"
   ]
  },
  {
   "cell_type": "markdown",
   "metadata": {},
   "source": [
    "## Результаты:<a class='anchor' id='2_conclusion'>"
   ]
  },
  {
   "cell_type": "markdown",
   "metadata": {},
   "source": [
    "**LogisticRegression:**\n",
    "- F1 Score - 0.80,\n",
    "- Recall - 0.71,\n",
    "- Precision - 0.90.\n",
    "\n",
    "***\n",
    "**SGDClassifier:**\n",
    "- F1 Score - 0.77,\n",
    "- Recall - 0.70,\n",
    "- Precision - 0.86.\n",
    "\n",
    "***\n",
    "**MultinomialNB:**\n",
    "- F1 Score - 0.66,\n",
    "- Recall - 0.53,\n",
    "- Precision - 0.87.\n"
   ]
  },
  {
   "cell_type": "markdown",
   "metadata": {},
   "source": [
    "[Оглавление](#TOC)"
   ]
  },
  {
   "cell_type": "markdown",
   "metadata": {},
   "source": [
    "# 3. Выводы<a class='anchor' id='3'>"
   ]
  },
  {
   "cell_type": "markdown",
   "metadata": {},
   "source": [
    "#### - выведем на экран целевую метрику и AUC-ROC"
   ]
  },
  {
   "cell_type": "code",
   "execution_count": 18,
   "metadata": {},
   "outputs": [
    {
     "data": {
      "text/html": [
       "<div>\n",
       "<style scoped>\n",
       "    .dataframe tbody tr th:only-of-type {\n",
       "        vertical-align: middle;\n",
       "    }\n",
       "\n",
       "    .dataframe tbody tr th {\n",
       "        vertical-align: top;\n",
       "    }\n",
       "\n",
       "    .dataframe thead th {\n",
       "        text-align: right;\n",
       "    }\n",
       "</style>\n",
       "<table border=\"1\" class=\"dataframe\">\n",
       "  <thead>\n",
       "    <tr style=\"text-align: right;\">\n",
       "      <th></th>\n",
       "      <th>model</th>\n",
       "      <th>f1_score</th>\n",
       "      <th>ROC-AUC</th>\n",
       "    </tr>\n",
       "  </thead>\n",
       "  <tbody>\n",
       "    <tr>\n",
       "      <td>0</td>\n",
       "      <td>Logistic Regression</td>\n",
       "      <td>0.796625</td>\n",
       "      <td>0.975153</td>\n",
       "    </tr>\n",
       "    <tr>\n",
       "      <td>1</td>\n",
       "      <td>SGDClassifier</td>\n",
       "      <td>0.768761</td>\n",
       "      <td>0.927187</td>\n",
       "    </tr>\n",
       "    <tr>\n",
       "      <td>2</td>\n",
       "      <td>MultinomialNB</td>\n",
       "      <td>0.660283</td>\n",
       "      <td>0.940593</td>\n",
       "    </tr>\n",
       "  </tbody>\n",
       "</table>\n",
       "</div>"
      ],
      "text/plain": [
       "                 model  f1_score   ROC-AUC\n",
       "0  Logistic Regression  0.796625  0.975153\n",
       "1        SGDClassifier  0.768761  0.927187\n",
       "2        MultinomialNB  0.660283  0.940593"
      ]
     },
     "execution_count": 18,
     "metadata": {},
     "output_type": "execute_result"
    }
   ],
   "source": [
    "explorer.final_report"
   ]
  },
  {
   "cell_type": "markdown",
   "metadata": {},
   "source": [
    "1. Лучший результат у логистической регресии, целевая метрика с округлением до тысячных 0.797 (f1), площадь под кривой (ROC-AUC) - 0.98, заметно лучше случайной модели (0.5).\n",
    "2. Целевая метрика SGDClassifier с округлением до тысячных - 0.769, площадь под кривой (ROC-AUC) - 0.93, худшая из трех моделей.\n",
    "3. Худший результат у наивного байеса - целевая метрика с округлением до тысячных 0.66 (f1), площадь под кривой (ROC-AUC) - 0.94, также заметно лучше случайной модели (0.5)."
   ]
  },
  {
   "cell_type": "markdown",
   "metadata": {},
   "source": [
    "[Оглавление](#TOC)"
   ]
  }
 ],
 "metadata": {
  "kernelspec": {
   "display_name": "Python 3",
   "language": "python",
   "name": "python3"
  },
  "language_info": {
   "codemirror_mode": {
    "name": "ipython",
    "version": 3
   },
   "file_extension": ".py",
   "mimetype": "text/x-python",
   "name": "python",
   "nbconvert_exporter": "python",
   "pygments_lexer": "ipython3",
   "version": "3.7.4"
  }
 },
 "nbformat": 4,
 "nbformat_minor": 4
}
