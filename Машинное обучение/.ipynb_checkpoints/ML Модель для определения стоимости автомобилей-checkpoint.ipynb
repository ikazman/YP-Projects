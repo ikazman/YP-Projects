{
 "cells": [
  {
   "cell_type": "markdown",
   "metadata": {},
   "source": [
    "# Модель для определения стоимости автомобилей"
   ]
  },
  {
   "cell_type": "markdown",
   "metadata": {},
   "source": [
    "# Задача"
   ]
  },
  {
   "cell_type": "markdown",
   "metadata": {},
   "source": [
    "Сервис по продаже автомобилей с пробегом «Не бит, не крашен» разрабатывает приложение для привлечения новых клиентов. В нём можно быстро узнать рыночную стоимость своего автомобиля. В вашем распоряжении исторические данные: технические характеристики, комплектации и цены автомобилей. Вам нужно построить модель для определения стоимости. \n",
    "\n",
    "Заказчику важны:\n",
    "\n",
    "- качество предсказания;\n",
    "- скорость предсказания;\n",
    "- время обучения."
   ]
  },
  {
   "cell_type": "markdown",
   "metadata": {},
   "source": [
    "## Оглавление<a class='anchor' id='TOC'>\n",
    "***"
   ]
  },
  {
   "cell_type": "markdown",
   "metadata": {},
   "source": [
    "* **[1. Подготовка данных](#1)**\n",
    "    - [1) Загрузим необходимые библиотеки](#1_1)\n",
    "    - [2) Прочитаем данные](#1_2)\n",
    "    - [3) Выведем пять первых, последних и случайных строк](#1_3)\n",
    "    - [4) Выведем общую информацию о датасете, общую статистику, проверим дубликаты, уникальные значения](#1_4)\n",
    "    - [5) Заполним пропуски в данных](#1_5)\n",
    "    - [6) Конвертируем типы данных в датасете для уменьшения потребления памяти](#1_6)\n",
    "    - [7) Ознакомимся со столбцами, в которых были замечены странные значения](#1_7)\n",
    "    - [8) Избавимся от странных значений в датасете](#1_8)\n",
    "    - [Вывод](#1_conclusion)\n",
    "* **[2. Обучение моделей](#2)**\n",
    "    - [1) Инициализируем модели](#2_1)\n",
    "    - [2) Разделим выборку на обучающую и тестовую в соотношении 75:25, выделим целевые признаки, определим список с категориальными признаками](#2_2)\n",
    "    - [3) Подберем оптимальные параметры с помощью GridSearchCV для каждой из моделей](#2_3)\n",
    "    - [4) Обучим модели, получим предсказания](#2_4)\n",
    "* **[3. Анализ моделей](#3)**\n",
    "    - [1) Соберем метрики качества на тестовой выборке (RMSE) для каждой из моделей, время обучения](#3_1)\n",
    "    - [2) Итоговые результаты работы моделей в табличном виде](#3_2)\n",
    "    - [Вывод](#3_conclusion)"
   ]
  },
  {
   "cell_type": "markdown",
   "metadata": {},
   "source": [
    "# 1. Подготовка данных<a class='anchor' id='1'>\n",
    "***"
   ]
  },
  {
   "cell_type": "markdown",
   "metadata": {},
   "source": [
    "### 1) Загрузим необходимые библиотеки<a class='anchor' id='1_1'>"
   ]
  },
  {
   "cell_type": "code",
   "execution_count": 1,
   "metadata": {},
   "outputs": [],
   "source": [
    "import warnings\n",
    "warnings.filterwarnings('ignore')\n",
    "\n",
    "import pandas as pd\n",
    "import numpy as np\n",
    "from matplotlib import pyplot as plt\n",
    "\n",
    "from sklearn.model_selection import train_test_split\n",
    "from sklearn.model_selection import GridSearchCV\n",
    "\n",
    "import lightgbm as lgb\n",
    "from catboost import CatBoostRegressor\n",
    "\n",
    "from sklearn.metrics import mean_squared_error"
   ]
  },
  {
   "cell_type": "markdown",
   "metadata": {},
   "source": [
    "Объявим класс ДатаЭксплорер и наполним его методами для анализа"
   ]
  },
  {
   "cell_type": "code",
   "execution_count": 2,
   "metadata": {},
   "outputs": [],
   "source": [
    "class DataExplorer:\n",
    "      \n",
    "    def histogram(self, data, n_bins, range_start, range_end, grid, cumulative=False, x_label = '', y_label = '', title = ''):\n",
    "        \n",
    "        \"\"\"\n",
    "        Простая гистограмма\n",
    "        \n",
    "        Пример:\n",
    "        histogram(df, 100, 0, 150, True, 'Количество иксов', 'Количество игриков', 'Заголовок')\n",
    "        \n",
    "        data - датасет\n",
    "        n_bins - количество корзин\n",
    "        range_start - минимальный икс для корзины\n",
    "        range_end - максимальный икс для корзины\n",
    "        grid - рисовать сетку или нет (False / True)\n",
    "        \n",
    "        \n",
    "        histogram(data, n_bins, range_start, range_end, grid, x_label = \"\", y_label = \"\", title = \"\")\n",
    "        \"\"\"\n",
    "        \n",
    "        # Создаем объект - график\n",
    "        _, ax = plt.subplots()\n",
    "\n",
    "        # Задаем параметры\n",
    "        ax.hist(data, bins = n_bins, range = (range_start, range_end), cumulative = cumulative, color = '#4169E1')\n",
    "\n",
    "        # Добавляем сетку\n",
    "        if grid == True:\n",
    "            ax.grid(color='grey', linestyle='-', linewidth=0.5)\n",
    "        else:\n",
    "            pass\n",
    "\n",
    "        # Добавляем медиану, среднее и квартили\n",
    "        ax.axvline(data.median(),linestyle = '--', color = '#FF1493', label = 'median')\n",
    "        ax.axvline(data.mean(),linestyle = '--', color = 'orange', label = 'mean')\n",
    "        ax.axvline(data.quantile(0.1),linestyle = '--', color = 'yellow', label = '1%')\n",
    "        ax.axvline(data.quantile(0.99),linestyle = '--', color = 'yellow', label = '99%')\n",
    "        ax.legend()\n",
    "        ax.set_ylabel(y_label)\n",
    "        ax.set_xlabel(x_label)\n",
    "        ax.set_title(title)\n",
    "        \n",
    "        \n",
    "    def scatterplot(self, x_data, y_data, x_label='', y_label='', title='', color = 'r', yscale_log=False, figsize = (8, 6)):\n",
    "        \n",
    "        \"\"\"\n",
    "        Простая диаграмма рассеивания\n",
    "        \n",
    "        Пример:\n",
    "        scatterplot(df.real_target, df.predicted_target, x_label='Предсказанное моделью', y_label='Настоящий показатель', title='Диаграмма рассеивания')\n",
    "        \n",
    "        x_data - определяем иксы\n",
    "        y_data - определяем игрики\n",
    "              \n",
    "        scatterplot(self, x_data, y_data, x_label='', y_label='', title='', color = 'r', yscale_log=False, figsize = (8, 6)):\n",
    "        \"\"\"\n",
    "        \n",
    "        # Создаем объект - график\n",
    "        _, ax = plt.subplots(figsize = (8, 6))\n",
    "\n",
    "        # Задаем параметры для графика, определяем размер (s), цвет и прозрачность точек на графике\n",
    "        ax.scatter(x_data, y_data, s = 10, color = color, alpha = 0.75)\n",
    "\n",
    "        if yscale_log == True:\n",
    "            ax.set_yscale('log')\n",
    "\n",
    "        # Создаем описание осей и заголовок для графика\n",
    "        ax.set_title(title)\n",
    "        ax.set_xlabel(x_label)\n",
    "        ax.set_ylabel(y_label)\n",
    "        \n",
    "        \n",
    "    def overlaid_histogram(self, data1, data2, n_bins = 0, data1_name='', data1_color='#539caf', data2_name='', data2_color='#7663b0', x_label='', y_label='', title=''):\n",
    "        \n",
    "        \"\"\"\n",
    "        Гистогорамма для двух выборок с одинаковыми границами бинов\n",
    "        Пример:\n",
    "        overlaid_histogram(df.one, df.two, n_bins = 80, data1_name='Первый датасет', data2_name='Второй датасет', x_label='Признак', y_label='Частота', title='Гистограмма')\n",
    "        data1 - первый датасет\n",
    "        data2 - второй датасет\n",
    "        n_bins - количество корзин\n",
    "        \"\"\"\n",
    "        \n",
    "        \n",
    "        # Устанавливаем границы для корзин так чтобы оба распределения на графике были соотносимы\n",
    "        max_nbins = 10\n",
    "        data_range = [min(min(data1), min(data2)), max(max(data1), max(data2))]\n",
    "        binwidth = (data_range[1] - data_range[0]) / max_nbins\n",
    "\n",
    "\n",
    "        if n_bins == 0:\n",
    "            bins = np.arange(data_range[0], data_range[1] + binwidth, binwidth)\n",
    "        else: \n",
    "            bins = n_bins\n",
    "\n",
    "        # Рисуем график\n",
    "        _, ax = plt.subplots(figsize=(10,8))\n",
    "        ax.hist(data1, bins = bins, color = data1_color, alpha = 0.65, label = data1_name)\n",
    "        ax.hist(data2, bins = bins, color = data2_color, alpha = 0.65, label = data2_name)\n",
    "        \n",
    "        ax.axvline(data1.mean(),linestyle = '--', color = 'lime', label = 'mean for data 1')\n",
    "                \n",
    "        ax.axvline(data2.mean(),linestyle = '--', color = 'coral', label = 'mean for data 2')\n",
    "                \n",
    "        ax.set_ylabel(y_label)\n",
    "        ax.set_xlabel(x_label)\n",
    "        ax.set_title(title)\n",
    "        ax.legend(loc = 'best')\n",
    "        \n",
    "        \n",
    "    def corr_diagram(self, x):\n",
    "                        \n",
    "        \"\"\"\n",
    "        Диаграмма корреляции\n",
    "        Пример:\n",
    "        corr_diagram(self, data):\n",
    "        \"\"\"\n",
    "                \n",
    "        plt.figure(figsize=(12,10), dpi= 80)\n",
    "        sns.heatmap(x.corr(), xticklabels=x.corr().columns, yticklabels=x.corr().columns, cmap='RdYlGn', center=0, annot=True)\n",
    "        plt.title('Диаграмма корреляции', fontsize=22)\n",
    "        plt.xticks(fontsize=12)\n",
    "        plt.yticks(fontsize=12)\n",
    "        plt.show()\n",
    "        \n",
    "        \n",
    "    def highlight_max(self, data, color='#00FF00'):\n",
    "        \n",
    "        \"\"\"\n",
    "        Подсвечивает максимумы в Series или DataFrame\n",
    "        \n",
    "        highlight_max(data)\n",
    "        \"\"\"\n",
    "        \n",
    "        attr = 'background-color: {}'.format(color)\n",
    "        #remove % and cast to float\n",
    "        data = data.replace('%','', regex=True).astype(float)\n",
    "        data[data == 1] = None\n",
    "        if data.ndim == 1:  # Series from .apply(axis=0) or axis=1\n",
    "            is_max = (data == data.abs().max()) & (data !=1) \n",
    "            return [attr if v else '' for v in is_max]\n",
    "        else:  # from .apply(axis=None)\n",
    "            is_max = (data == data.abs().max()) & (data !=1) \n",
    "            return pd.DataFrame(np.where(is_max, attr, ''),\n",
    "                                index=data.index, columns=data.columns)\n",
    "    \n",
    "    \n",
    "    def highlight_sorted_corr(self, data, threshold, color='#00FF00'):\n",
    "        \n",
    "        \"\"\"\n",
    "        Подсвечивает значения выше определенного порога в Series или DataFrame (для одного столбца)\n",
    "        \n",
    "        highlight_sorted_corr(data, threshold)\n",
    "        \"\"\"\n",
    "\n",
    "        attr = 'background-color: {}'.format(color)\n",
    "        #remove % and cast to float\n",
    "        data = data.replace('%','', regex=True).astype(float)\n",
    "        data[data == 1] = None\n",
    "        if data.ndim == 1:  # Series from .apply(axis=0) or axis=1\n",
    "            is_max = (data > threshold) & (data !=1) \n",
    "            return [attr if v else '' for v in is_max]\n",
    "        else:  # from .apply(axis=None)\n",
    "            is_max = (data == data.abs().max()) & (data !=1) \n",
    "            return pd.DataFrame(np.where(is_max, attr, ''),\n",
    "                                index=data.index, columns=data.columns)\n",
    "        \n",
    "        \n",
    "    def lineplot(self, x_data, y_data, x_label=\"\", y_label=\"\", title=\"\"):\n",
    "        \n",
    "                \n",
    "        \"\"\"\n",
    "        Простой линейный график\n",
    "        \n",
    "        Пример:\n",
    "        lineplot(df.some_x, df.some_y, x_label='Обозначения икс', y_label='Обозначения игрик', title='Заголовок')\n",
    "        \"\"\"\n",
    "        \n",
    "        \n",
    "        # Создаем объект - график\n",
    "        _, ax = plt.subplots(figsize=(8, 6))\n",
    "\n",
    "        # Задаем параметры для линии: ширину (lw), цвет и прозрачность (alpha)\n",
    "        ax.plot(x_data, y_data, lw = 2, color = '#539caf', alpha = 1)\n",
    "\n",
    "        # Даем имена осям и заголовок для графика\n",
    "        ax.set_title(title)\n",
    "        ax.set_xlabel(x_label)\n",
    "        ax.set_ylabel(y_label)\n",
    "        \n",
    "        \n",
    "    def double_lineplot(self, x_data_1, y_data_1, x_data_2, y_data_2, x_label='', y_label='', title='', label_one='', label_two=''):\n",
    "        \n",
    "        \"\"\"\n",
    "        Простой двойной линейный график\n",
    "        \n",
    "        Пример:\n",
    "        double_lineplot(df.some_x_1, df.some_y_1, df.some_x_2, df.some_y_2, x_label='Обозначения икс', y_label='Обозначения игрик', title='Заголовок', label_one='Линия 1', label_two='Линия 2'):\n",
    "        \"\"\"\n",
    "        \n",
    "        \n",
    "        # Создаем объект - график\n",
    "        _, ax = plt.subplots(figsize=(8, 6))\n",
    "\n",
    "        # Задаем параметры для линии: ширину (lw), цвет и прозрачность (alpha)\n",
    "        ax.plot(x_data_1, y_data_1, lw = 2, color = '#6400e4', alpha = 1, label = label_one)\n",
    "        ax.plot(x_data_2, y_data_2, lw = 2, color = '#ffc740', alpha = 1, label = label_two)\n",
    "\n",
    "        # Даем имена осям и заголовок для графика\n",
    "        ax.set_title(title)\n",
    "        ax.set_xlabel(x_label)\n",
    "        ax.set_ylabel(y_label)\n",
    "        ax.legend(loc = 'best')\n",
    "    \n",
    "        \n",
    "    def hexbin(self, data, x, y):\n",
    "        \n",
    "        \"\"\"\n",
    "        Простой график с сотами\n",
    "        \n",
    "        Пример:\n",
    "        hexbin(df, df.true_target, df.predicted_target)\n",
    "        \"\"\"\n",
    "        \n",
    "        data.plot(x = x, y = y, kind='hexbin', gridsize=20, figsize=(8, 6), sharex=False, grid=True)\n",
    "        \n",
    "        \n",
    "    def bar_plotter(self, data):\n",
    "        \n",
    "        \"\"\"\n",
    "        Простой столбчатый график\n",
    "        \n",
    "        Пример:\n",
    "        bar_plotter(data):\n",
    "        \"\"\"\n",
    "        \n",
    "        data.plot.bar(rot=0, figsize = (16, 5))\n",
    "        \n",
    "        \n",
    "    def categorical_counter_plot(self, data, column, x = '', y = ''):\n",
    "        \n",
    "        \"\"\"\n",
    "        График для подсчета значений по категориям\n",
    "        \n",
    "        Пример:\n",
    "        categorical_counter_plot(df, 'predicted', x = '10', y = '6'):\n",
    "        \"\"\"\n",
    "        \n",
    "        if x == '' or y == '':\n",
    "            plt.rcParams[\"figure.figsize\"] = (15, 10)\n",
    "        else:\n",
    "            plt.rcParams[\"figure.figsize\"] = (x, y)\n",
    "        \n",
    "        order = data[column].value_counts().index\n",
    "            \n",
    "        ax = sns.countplot(data[column], order = order)\n",
    "        ax.set_xticklabels(ax.get_xticklabels(), fontsize=11)\n",
    "        \n",
    "        plt.xticks(rotation=90)\n",
    "        \n",
    "       \n",
    "    def sns_scatterplot(self, data, x='', y='', hue='', size='', palette=''):\n",
    "        \n",
    "        \"\"\"\n",
    "        Диаграмма рассеивания seaborn\n",
    "        \n",
    "        Пример:\n",
    "        sns_scatterplot(platform_scores_wo, 'user_score', 'total_sales', 'critic_score', 'year_of_release', True)\n",
    "        \"\"\"\n",
    "        \n",
    "        sns.set(style=\"whitegrid\")\n",
    "\n",
    "        f, ax = plt.subplots(figsize=(15, 10))\n",
    "        \n",
    "        if palette == True:\n",
    "            sns.scatterplot(ax = ax, x=x, y=y, palette=\"ch:r=-.2,d=.3_r\", \n",
    "                            hue=hue, size=size, sizes=(1, 200), linewidth=0, data=data)\n",
    "        else:\n",
    "            sns.scatterplot(ax = ax, x=x, y=y,\n",
    "                            hue=hue, size=size, \n",
    "                            sizes=(1, 200), linewidth=0, data=data)\n",
    "            \n",
    "            \n",
    "    def sns_catplot(self, data, x=\"\", y=\"\", hue=\"\"):\n",
    "        \n",
    "        \"\"\"\n",
    "        Столбчатый график seaborn\n",
    "        \n",
    "        Пример:\n",
    "        sns_catplot(df, x='platform', y='total_sales', hue='year')\n",
    "        \"\"\"\n",
    "        \n",
    "        \n",
    "        sns.set(style='whitegrid')\n",
    "        \n",
    "        sns.catplot(x=x, y=y, hue=hue, kind='bar', errwidth=0, \n",
    "            data=data, height=5, aspect=3)\n",
    "        \n",
    "       \n",
    "                \n",
    "    def squared_ratio(self, df, grouper, title=''):\n",
    "        \n",
    "        \"\"\"\n",
    "        График соотношений\n",
    "        \n",
    "        Пример:\n",
    "        squared_ratio(df, 'geography', 'Соотношение клиентов из различных стран')\n",
    "        \"\"\"\n",
    "                \n",
    "        df = df.groupby(grouper).size().reset_index(name='counts')\n",
    "        labels = df.apply(lambda x: str(x[0]) + \"\\n (\" + str(x[1]) + \")\", axis=1)\n",
    "        sizes = df['counts'].values.tolist()\n",
    "        colors = [plt.cm.Spectral(i/float(len(labels))) for i in range(len(labels))]\n",
    "\n",
    "        plt.figure(figsize=(10,6), dpi= 80)\n",
    "        squarify.plot(sizes=sizes, label=labels, color=colors, alpha=.8)\n",
    "\n",
    "        plt.title(title)\n",
    "        plt.axis('off')\n",
    "        plt.show()\n",
    "        \n",
    "        \n",
    "    def sorted_corr(self, data, attr):\n",
    "        \n",
    "        \"\"\"\n",
    "        Таблица с сортировкой корреляции конкретного аттрибута\n",
    "        \n",
    "        Пример:\n",
    "        sorted_corr(df, 'money'):\n",
    "        \"\"\"\n",
    "        \n",
    "        correlated = pd.DataFrame(data.corr()[attr].sort_values(ascending = False))\n",
    "        return correlated    \n",
    "    \n",
    "    \n",
    "    def transformer(self, data, name, grouper, func):\n",
    "        \"\"\"\n",
    "        \n",
    "        transformer(df, 'some_stuff_to_change', 'grouper', np.mean()):\n",
    "        \n",
    "        data - датасет\n",
    "        name - столбец в котором меняем значения\n",
    "        grouper - столбец по которому группируем\n",
    "        func - пременяемая функция mean, median и т.д.\n",
    "        \"\"\"\n",
    "        name = name\n",
    "        data.loc[data[name].isnull(), name] = data.groupby(grouper)[name].transform(func)\n",
    "        \n",
    "        \n",
    "    def pr_curve(self, model, features_valid, target_valid):\n",
    "        \n",
    "        \"\"\"\n",
    "        PR-кривая\n",
    "        \n",
    "        Пример:\n",
    "        pr_curve(model, features_valid, target_valid)\n",
    "        \"\"\"\n",
    "        \n",
    "        probabilities_valid = model.predict_proba(features_valid)\n",
    "        precision, recall, thresholds = precision_recall_curve(target_valid, probabilities_valid[:, 1])\n",
    "\n",
    "        plt.figure(figsize=(6, 6))\n",
    "        plt.step(recall, precision, where='post')\n",
    "        plt.xlabel('Recall')\n",
    "        plt.ylabel('Precision')\n",
    "        plt.ylim([0.0, 1.05])\n",
    "        plt.xlim([0.0, 1.0])\n",
    "        plt.title('Кривая Precision-Recall')\n",
    "        plt.show()\n",
    "        \n",
    "    def roc_curve(self, model, features_valid, target_valid):\n",
    "        \n",
    "        \"\"\"\n",
    "        ROC-кривая\n",
    "        \n",
    "        Пример:\n",
    "        roc_curve(model, features_valid, target_valid)\n",
    "        \"\"\"\n",
    "        \n",
    "        probabilities_valid = model.predict_proba(features_valid)\n",
    "        probabilities_one_valid = probabilities_valid[:, 1]\n",
    "        \n",
    "        fpr, tpr, thresholds = roc_curve(target_valid, probabilities_one_valid)\n",
    "        \n",
    "        plt.figure()\n",
    "        plt.plot(fpr, tpr)\n",
    "        \n",
    "        plt.plot([0, 1], [0, 1], linestyle='--')\n",
    "        plt.xlim(0,1)\n",
    "        plt.ylim(0,1)\n",
    "        \n",
    "        plt.xlabel('False Positive Rate')\n",
    "        plt.ylabel('True Positive Rate')\n",
    "        \n",
    "        plt.title('ROC-кривая')\n",
    "        \n",
    "        plt.show()\n",
    "        \n",
    "    \n",
    "    def metrics_plot(self, model, features_valid, target_valid):\n",
    "        \n",
    "        \"\"\"\n",
    "        Выводит на экран PR-кривую и ROC-кривую\n",
    "        \n",
    "        Пример:\n",
    "        metrics_plot(model, features_valid, target_valid)\n",
    "        \"\"\"\n",
    "                \n",
    "        probabilities_valid = model.predict_proba(features_valid)\n",
    "        precision, recall, thresholds = precision_recall_curve(target_valid, probabilities_valid[:, 1])\n",
    "        fpr, tpr, thresholds = roc_curve(target_valid, probabilities_valid[:, 1])\n",
    "            \n",
    "        fig, ax = plt.subplots(1, 2, figsize=(15, 6))\n",
    "        fig.subplots_adjust(hspace=0.4, wspace=0.4)\n",
    "        \n",
    "        #fig, ax = plt.subplots(ncols=3)\n",
    "        #fig.subplots_adjust(hspace=0.4, wspace=0.4)\n",
    "\n",
    "        sns.lineplot(recall, precision, drawstyle='steps-post', ax=ax[0])\n",
    "        ax[0].set_xlabel('Recall')\n",
    "        ax[0].set_ylabel('Precision')\n",
    "        ax[0].set_ylim([0.0, 1.05])\n",
    "        ax[0].set_xlim([0.0, 1.0])\n",
    "        ax[0].set_title('Кривая Precision-Recall')\n",
    "        \n",
    "        sns.lineplot(fpr, tpr, ax=ax[1])\n",
    "        ax[1].plot([0, 1], [0, 1], linestyle='--')\n",
    "        ax[1].set_xlim(0,1)\n",
    "        ax[1].set_ylim(0,1)\n",
    "        ax[1].set_xlabel('False Positive Rate')\n",
    "        ax[1].set_ylabel('True Positive Rate')\n",
    "        ax[1].set_title('ROC-кривая')\n",
    "        \n",
    " \n",
    "    def auc_roc(self, model, features_valid, target_valid):\n",
    "        \n",
    "        \"\"\"\n",
    "        Посчитывает значение ROC-AUC\n",
    "        \n",
    "        Пример:\n",
    "        auc_roc(self, model, features_valid, target_valid)\n",
    "        \"\"\"\n",
    "        \n",
    "        probabilities_valid = model.predict_proba(features_valid)\n",
    "        probabilities_one_valid = probabilities_valid[:, 1]\n",
    "        auc_roc = roc_auc_score(target_valid, probabilities_one_valid)\n",
    "        \n",
    "        return auc_roc\n",
    "            \n",
    "    def upsample(self, features, target, repeat):\n",
    "        \n",
    "        \"\"\"\n",
    "        Дублирует объекты положительного класса и объединяет их с объектами отрицательного класса\n",
    "        \n",
    "        Пример:\n",
    "        upsample(x_train, y_train, 4)\n",
    "        \"\"\"\n",
    "        \n",
    "        features_zeros = features[target == 0]\n",
    "        features_ones = features[target == 1]\n",
    "        target_zeros = target[target == 0]\n",
    "        target_ones = target[target == 1]\n",
    "\n",
    "        features_upsampled = pd.concat([features_zeros] + [features_ones] * repeat)\n",
    "        target_upsampled = pd.concat([target_zeros] + [target_ones] * repeat)\n",
    "\n",
    "        features_upsampled, target_upsampled = shuffle(features_upsampled, target_upsampled, random_state=42)\n",
    "        \n",
    "        return features_upsampled, target_upsampled\n",
    "        \n",
    "        \n",
    "    def downsample(self, features, target, fraction):\n",
    "        \n",
    "        \"\"\"\n",
    "        Исключает долю объектов отрицательного класса и объединяет их с объектами положительного класса\n",
    "        \n",
    "        Пример:\n",
    "        downsample(x_train, y_train, 0.5)\n",
    "        \"\"\"\n",
    "        \n",
    "        features_zeros = features[target == 0]\n",
    "        features_ones = features[target == 1]\n",
    "        target_zeros = target[target == 0]\n",
    "        target_ones = target[target == 1]\n",
    "        \n",
    "        features_downsampled = pd.concat([features_zeros.sample(frac=fraction, random_state=42)] + [features_ones])\n",
    "        target_downsampled = pd.concat([target_zeros.sample(frac=fraction, random_state=42)] + [target_ones])\n",
    "        \n",
    "        features_downsampled, target_downsampled = shuffle(features_downsampled, target_downsampled, random_state=42)\n",
    "        \n",
    "        return features_downsampled, target_downsampled\n",
    "    \n",
    "    \n",
    "    def firstsight(self, data):\n",
    "        \n",
    "        \"\"\"\n",
    "        Возврашает пять первых, последних и случайных элементов датасета для дальнейшего вывода с помощью Display\n",
    "        \n",
    "        Пример:\n",
    "        head, tail, sample = explorer.firstsight(df)\n",
    "        \"\"\"\n",
    "        \n",
    "        head = data.head(5)\n",
    "        tail = data.tail(5)\n",
    "        sample = data.sample(5)\n",
    "        \n",
    "        return head, tail, sample\n",
    "        \n",
    "        \n",
    "    def smape(self, y_test, y_predict): \n",
    "        \n",
    "        \"\"\"\n",
    "        Расcчитывает метрику SMAPE\n",
    "        \n",
    "        Пример:\n",
    "        smape(y_test, y_predict)\n",
    "        \"\"\"\n",
    "                \n",
    "        y_test, y_predict = np.array(y_test), np.array(y_predict)\n",
    "        return np.mean(np.abs(y_predict - y_test) / ((np.abs(y_test) + np.abs(y_predict) + 0.1**99)/2)) * 100\n",
    "    \n",
    "    \n",
    "    def mape(self, y_test, y_predict):\n",
    "        \n",
    "        \"\"\"\n",
    "        Расcчитывает метрику MAPE\n",
    "        \n",
    "        Пример:\n",
    "        mape(y_test, y_predict)\n",
    "        \"\"\"\n",
    "                \n",
    "        y_test, y_predict = np.array(y_test), np.array(y_predict)\n",
    "        return np.median((np.abs((y_test - y_predict)) / (y_test + 0.1**100)) * 100)\n",
    "    \n",
    "    \n",
    "    def df_split(self, data, features_drop, target, test_size, random_state):\n",
    "        \n",
    "        \"\"\"\n",
    "        Делит датасет по заданным параметрам\n",
    "        \n",
    "        Пример:\n",
    "        x_train, x_test, y_train, y_test = explorer.df_split(df_geo_1, ['id', 'product'], 'product', 0.25, 42)\n",
    "        \"\"\"           \n",
    "        \n",
    "        feature = data.drop(features_drop, axis=1)\n",
    "        target = data[target]\n",
    "        x_train, x_test, y_train, y_test  = train_test_split(feature, target, test_size=test_size, random_state = random_state)\n",
    "        return x_train, x_test, y_train, y_test\n",
    "    \n",
    "    \n",
    "    def grid_search(self, model, param_grid, cv, x, y):\n",
    "        \n",
    "        \"\"\"\n",
    "        Поиск по сетке с заданными параметрами\n",
    "        \n",
    "        Пример:\n",
    "        lr_geo_one = explorer.grid_search(lr, param_grid, 5, x_train, y_train)\n",
    "        \"\"\"\n",
    "        \n",
    "        grid_model = GridSearchCV(model, param_grid=param_grid, cv=cv, verbose=1, n_jobs=-1)\n",
    "        grid_model.fit(x, y)\n",
    "        best_estimator = grid_model.best_estimator_\n",
    "        return best_estimator\n",
    "    \n",
    "    def color_styler(self, val):\n",
    "        \n",
    "        \"\"\"\n",
    "        Окрашивает зеленым числовые значения выше нуля, красным - ниже нуля\n",
    "        \n",
    "        Пример:\n",
    "        \n",
    "        df.style.applymap(color_styler)\n",
    "        \n",
    "        \"\"\"\n",
    "        \n",
    "        color = 'green' if val > 0 else 'red'\n",
    "        \n",
    "        return 'color: %s' % color\n",
    "    \n",
    "    \n",
    "    def derivative(f, var):\n",
    "        \"\"\"\n",
    "        Ищем производную функции относительно заданной перменной. Аргументы в формате str.\n",
    "        \n",
    "        Пример:\n",
    "        \n",
    "        derivative('x**2', 'x')\n",
    "        \n",
    "        \"\"\"\n",
    "                \n",
    "        f = sympify(f)\n",
    "        var = Symbol(var)\n",
    "        d = Derivative(f, var).doit()\n",
    "        pprint(d)\n",
    "            \n",
    "            \n",
    "    class Display(object):\n",
    "        \"\"\"\n",
    "        Выводит HTML представление нескольких объектов\n",
    "        \n",
    "        Пример:\n",
    "        Display(head, tail, sample)\n",
    "        \n",
    "        \"\"\"\n",
    "        template = \"\"\"<div style=\"float: left; padding: 10px;\">\n",
    "        <p style='font-family:\"Courier New\", Courier, monospace'>{0}</p>{1}\n",
    "        </div>\"\"\"\n",
    "        def __init__(self, *args):\n",
    "            self.args = args\n",
    "\n",
    "        def _repr_html_(self):\n",
    "            return '\\n'.join(self.template.format(a, eval(a)._repr_html_())\n",
    "                             for a in self.args)\n",
    "\n",
    "        def __repr__(self):\n",
    "            return '\\n\\n'.join(a + '\\n' + repr(eval(a))\n",
    "                               for a in self.args)"
   ]
  },
  {
   "cell_type": "code",
   "execution_count": 3,
   "metadata": {},
   "outputs": [],
   "source": [
    "explorer = DataExplorer()"
   ]
  },
  {
   "cell_type": "markdown",
   "metadata": {},
   "source": [
    "[В оглавление](#TOC)"
   ]
  },
  {
   "cell_type": "markdown",
   "metadata": {},
   "source": [
    "### 2) Прочитаем даннные<a class='anchor' id='1_2'>"
   ]
  },
  {
   "cell_type": "code",
   "execution_count": 4,
   "metadata": {},
   "outputs": [],
   "source": [
    "df = pd.read_csv('/datasets/autos.csv')"
   ]
  },
  {
   "cell_type": "markdown",
   "metadata": {},
   "source": [
    "[В оглавление](#TOC)"
   ]
  },
  {
   "cell_type": "markdown",
   "metadata": {},
   "source": [
    "### 3) Выведем пять первых, последних и случайных строк<a class='anchor' id='1_3'>"
   ]
  },
  {
   "cell_type": "code",
   "execution_count": 5,
   "metadata": {},
   "outputs": [
    {
     "data": {
      "text/html": [
       "<div style=\"float: left; padding: 10px;\">\n",
       "        <p style='font-family:\"Courier New\", Courier, monospace'>head</p><div>\n",
       "<style scoped>\n",
       "    .dataframe tbody tr th:only-of-type {\n",
       "        vertical-align: middle;\n",
       "    }\n",
       "\n",
       "    .dataframe tbody tr th {\n",
       "        vertical-align: top;\n",
       "    }\n",
       "\n",
       "    .dataframe thead th {\n",
       "        text-align: right;\n",
       "    }\n",
       "</style>\n",
       "<table border=\"1\" class=\"dataframe\">\n",
       "  <thead>\n",
       "    <tr style=\"text-align: right;\">\n",
       "      <th></th>\n",
       "      <th>DateCrawled</th>\n",
       "      <th>Price</th>\n",
       "      <th>VehicleType</th>\n",
       "      <th>RegistrationYear</th>\n",
       "      <th>Gearbox</th>\n",
       "      <th>Power</th>\n",
       "      <th>Model</th>\n",
       "      <th>Kilometer</th>\n",
       "      <th>RegistrationMonth</th>\n",
       "      <th>FuelType</th>\n",
       "      <th>Brand</th>\n",
       "      <th>NotRepaired</th>\n",
       "      <th>DateCreated</th>\n",
       "      <th>NumberOfPictures</th>\n",
       "      <th>PostalCode</th>\n",
       "      <th>LastSeen</th>\n",
       "    </tr>\n",
       "  </thead>\n",
       "  <tbody>\n",
       "    <tr>\n",
       "      <td>0</td>\n",
       "      <td>2016-03-24 11:52:17</td>\n",
       "      <td>480</td>\n",
       "      <td>NaN</td>\n",
       "      <td>1993</td>\n",
       "      <td>manual</td>\n",
       "      <td>0</td>\n",
       "      <td>golf</td>\n",
       "      <td>150000</td>\n",
       "      <td>0</td>\n",
       "      <td>petrol</td>\n",
       "      <td>volkswagen</td>\n",
       "      <td>NaN</td>\n",
       "      <td>2016-03-24 00:00:00</td>\n",
       "      <td>0</td>\n",
       "      <td>70435</td>\n",
       "      <td>2016-04-07 03:16:57</td>\n",
       "    </tr>\n",
       "    <tr>\n",
       "      <td>1</td>\n",
       "      <td>2016-03-24 10:58:45</td>\n",
       "      <td>18300</td>\n",
       "      <td>coupe</td>\n",
       "      <td>2011</td>\n",
       "      <td>manual</td>\n",
       "      <td>190</td>\n",
       "      <td>NaN</td>\n",
       "      <td>125000</td>\n",
       "      <td>5</td>\n",
       "      <td>gasoline</td>\n",
       "      <td>audi</td>\n",
       "      <td>yes</td>\n",
       "      <td>2016-03-24 00:00:00</td>\n",
       "      <td>0</td>\n",
       "      <td>66954</td>\n",
       "      <td>2016-04-07 01:46:50</td>\n",
       "    </tr>\n",
       "    <tr>\n",
       "      <td>2</td>\n",
       "      <td>2016-03-14 12:52:21</td>\n",
       "      <td>9800</td>\n",
       "      <td>suv</td>\n",
       "      <td>2004</td>\n",
       "      <td>auto</td>\n",
       "      <td>163</td>\n",
       "      <td>grand</td>\n",
       "      <td>125000</td>\n",
       "      <td>8</td>\n",
       "      <td>gasoline</td>\n",
       "      <td>jeep</td>\n",
       "      <td>NaN</td>\n",
       "      <td>2016-03-14 00:00:00</td>\n",
       "      <td>0</td>\n",
       "      <td>90480</td>\n",
       "      <td>2016-04-05 12:47:46</td>\n",
       "    </tr>\n",
       "    <tr>\n",
       "      <td>3</td>\n",
       "      <td>2016-03-17 16:54:04</td>\n",
       "      <td>1500</td>\n",
       "      <td>small</td>\n",
       "      <td>2001</td>\n",
       "      <td>manual</td>\n",
       "      <td>75</td>\n",
       "      <td>golf</td>\n",
       "      <td>150000</td>\n",
       "      <td>6</td>\n",
       "      <td>petrol</td>\n",
       "      <td>volkswagen</td>\n",
       "      <td>no</td>\n",
       "      <td>2016-03-17 00:00:00</td>\n",
       "      <td>0</td>\n",
       "      <td>91074</td>\n",
       "      <td>2016-03-17 17:40:17</td>\n",
       "    </tr>\n",
       "    <tr>\n",
       "      <td>4</td>\n",
       "      <td>2016-03-31 17:25:20</td>\n",
       "      <td>3600</td>\n",
       "      <td>small</td>\n",
       "      <td>2008</td>\n",
       "      <td>manual</td>\n",
       "      <td>69</td>\n",
       "      <td>fabia</td>\n",
       "      <td>90000</td>\n",
       "      <td>7</td>\n",
       "      <td>gasoline</td>\n",
       "      <td>skoda</td>\n",
       "      <td>no</td>\n",
       "      <td>2016-03-31 00:00:00</td>\n",
       "      <td>0</td>\n",
       "      <td>60437</td>\n",
       "      <td>2016-04-06 10:17:21</td>\n",
       "    </tr>\n",
       "  </tbody>\n",
       "</table>\n",
       "</div>\n",
       "        </div>\n",
       "<div style=\"float: left; padding: 10px;\">\n",
       "        <p style='font-family:\"Courier New\", Courier, monospace'>tail</p><div>\n",
       "<style scoped>\n",
       "    .dataframe tbody tr th:only-of-type {\n",
       "        vertical-align: middle;\n",
       "    }\n",
       "\n",
       "    .dataframe tbody tr th {\n",
       "        vertical-align: top;\n",
       "    }\n",
       "\n",
       "    .dataframe thead th {\n",
       "        text-align: right;\n",
       "    }\n",
       "</style>\n",
       "<table border=\"1\" class=\"dataframe\">\n",
       "  <thead>\n",
       "    <tr style=\"text-align: right;\">\n",
       "      <th></th>\n",
       "      <th>DateCrawled</th>\n",
       "      <th>Price</th>\n",
       "      <th>VehicleType</th>\n",
       "      <th>RegistrationYear</th>\n",
       "      <th>Gearbox</th>\n",
       "      <th>Power</th>\n",
       "      <th>Model</th>\n",
       "      <th>Kilometer</th>\n",
       "      <th>RegistrationMonth</th>\n",
       "      <th>FuelType</th>\n",
       "      <th>Brand</th>\n",
       "      <th>NotRepaired</th>\n",
       "      <th>DateCreated</th>\n",
       "      <th>NumberOfPictures</th>\n",
       "      <th>PostalCode</th>\n",
       "      <th>LastSeen</th>\n",
       "    </tr>\n",
       "  </thead>\n",
       "  <tbody>\n",
       "    <tr>\n",
       "      <td>354364</td>\n",
       "      <td>2016-03-21 09:50:58</td>\n",
       "      <td>0</td>\n",
       "      <td>NaN</td>\n",
       "      <td>2005</td>\n",
       "      <td>manual</td>\n",
       "      <td>0</td>\n",
       "      <td>colt</td>\n",
       "      <td>150000</td>\n",
       "      <td>7</td>\n",
       "      <td>petrol</td>\n",
       "      <td>mitsubishi</td>\n",
       "      <td>yes</td>\n",
       "      <td>2016-03-21 00:00:00</td>\n",
       "      <td>0</td>\n",
       "      <td>2694</td>\n",
       "      <td>2016-03-21 10:42:49</td>\n",
       "    </tr>\n",
       "    <tr>\n",
       "      <td>354365</td>\n",
       "      <td>2016-03-14 17:48:27</td>\n",
       "      <td>2200</td>\n",
       "      <td>NaN</td>\n",
       "      <td>2005</td>\n",
       "      <td>NaN</td>\n",
       "      <td>0</td>\n",
       "      <td>NaN</td>\n",
       "      <td>20000</td>\n",
       "      <td>1</td>\n",
       "      <td>NaN</td>\n",
       "      <td>sonstige_autos</td>\n",
       "      <td>NaN</td>\n",
       "      <td>2016-03-14 00:00:00</td>\n",
       "      <td>0</td>\n",
       "      <td>39576</td>\n",
       "      <td>2016-04-06 00:46:52</td>\n",
       "    </tr>\n",
       "    <tr>\n",
       "      <td>354366</td>\n",
       "      <td>2016-03-05 19:56:21</td>\n",
       "      <td>1199</td>\n",
       "      <td>convertible</td>\n",
       "      <td>2000</td>\n",
       "      <td>auto</td>\n",
       "      <td>101</td>\n",
       "      <td>fortwo</td>\n",
       "      <td>125000</td>\n",
       "      <td>3</td>\n",
       "      <td>petrol</td>\n",
       "      <td>smart</td>\n",
       "      <td>no</td>\n",
       "      <td>2016-03-05 00:00:00</td>\n",
       "      <td>0</td>\n",
       "      <td>26135</td>\n",
       "      <td>2016-03-11 18:17:12</td>\n",
       "    </tr>\n",
       "    <tr>\n",
       "      <td>354367</td>\n",
       "      <td>2016-03-19 18:57:12</td>\n",
       "      <td>9200</td>\n",
       "      <td>bus</td>\n",
       "      <td>1996</td>\n",
       "      <td>manual</td>\n",
       "      <td>102</td>\n",
       "      <td>transporter</td>\n",
       "      <td>150000</td>\n",
       "      <td>3</td>\n",
       "      <td>gasoline</td>\n",
       "      <td>volkswagen</td>\n",
       "      <td>no</td>\n",
       "      <td>2016-03-19 00:00:00</td>\n",
       "      <td>0</td>\n",
       "      <td>87439</td>\n",
       "      <td>2016-04-07 07:15:26</td>\n",
       "    </tr>\n",
       "    <tr>\n",
       "      <td>354368</td>\n",
       "      <td>2016-03-20 19:41:08</td>\n",
       "      <td>3400</td>\n",
       "      <td>wagon</td>\n",
       "      <td>2002</td>\n",
       "      <td>manual</td>\n",
       "      <td>100</td>\n",
       "      <td>golf</td>\n",
       "      <td>150000</td>\n",
       "      <td>6</td>\n",
       "      <td>gasoline</td>\n",
       "      <td>volkswagen</td>\n",
       "      <td>NaN</td>\n",
       "      <td>2016-03-20 00:00:00</td>\n",
       "      <td>0</td>\n",
       "      <td>40764</td>\n",
       "      <td>2016-03-24 12:45:21</td>\n",
       "    </tr>\n",
       "  </tbody>\n",
       "</table>\n",
       "</div>\n",
       "        </div>\n",
       "<div style=\"float: left; padding: 10px;\">\n",
       "        <p style='font-family:\"Courier New\", Courier, monospace'>sample</p><div>\n",
       "<style scoped>\n",
       "    .dataframe tbody tr th:only-of-type {\n",
       "        vertical-align: middle;\n",
       "    }\n",
       "\n",
       "    .dataframe tbody tr th {\n",
       "        vertical-align: top;\n",
       "    }\n",
       "\n",
       "    .dataframe thead th {\n",
       "        text-align: right;\n",
       "    }\n",
       "</style>\n",
       "<table border=\"1\" class=\"dataframe\">\n",
       "  <thead>\n",
       "    <tr style=\"text-align: right;\">\n",
       "      <th></th>\n",
       "      <th>DateCrawled</th>\n",
       "      <th>Price</th>\n",
       "      <th>VehicleType</th>\n",
       "      <th>RegistrationYear</th>\n",
       "      <th>Gearbox</th>\n",
       "      <th>Power</th>\n",
       "      <th>Model</th>\n",
       "      <th>Kilometer</th>\n",
       "      <th>RegistrationMonth</th>\n",
       "      <th>FuelType</th>\n",
       "      <th>Brand</th>\n",
       "      <th>NotRepaired</th>\n",
       "      <th>DateCreated</th>\n",
       "      <th>NumberOfPictures</th>\n",
       "      <th>PostalCode</th>\n",
       "      <th>LastSeen</th>\n",
       "    </tr>\n",
       "  </thead>\n",
       "  <tbody>\n",
       "    <tr>\n",
       "      <td>332027</td>\n",
       "      <td>2016-03-30 09:36:59</td>\n",
       "      <td>5899</td>\n",
       "      <td>bus</td>\n",
       "      <td>2007</td>\n",
       "      <td>manual</td>\n",
       "      <td>105</td>\n",
       "      <td>golf</td>\n",
       "      <td>150000</td>\n",
       "      <td>9</td>\n",
       "      <td>gasoline</td>\n",
       "      <td>volkswagen</td>\n",
       "      <td>no</td>\n",
       "      <td>2016-03-30 00:00:00</td>\n",
       "      <td>0</td>\n",
       "      <td>52072</td>\n",
       "      <td>2016-03-30 09:36:59</td>\n",
       "    </tr>\n",
       "    <tr>\n",
       "      <td>248710</td>\n",
       "      <td>2016-03-10 18:46:36</td>\n",
       "      <td>10700</td>\n",
       "      <td>bus</td>\n",
       "      <td>2012</td>\n",
       "      <td>auto</td>\n",
       "      <td>140</td>\n",
       "      <td>galaxy</td>\n",
       "      <td>150000</td>\n",
       "      <td>5</td>\n",
       "      <td>gasoline</td>\n",
       "      <td>ford</td>\n",
       "      <td>no</td>\n",
       "      <td>2016-03-10 00:00:00</td>\n",
       "      <td>0</td>\n",
       "      <td>22761</td>\n",
       "      <td>2016-03-20 06:18:27</td>\n",
       "    </tr>\n",
       "    <tr>\n",
       "      <td>105548</td>\n",
       "      <td>2016-03-31 22:51:40</td>\n",
       "      <td>2500</td>\n",
       "      <td>sedan</td>\n",
       "      <td>2002</td>\n",
       "      <td>manual</td>\n",
       "      <td>105</td>\n",
       "      <td>toledo</td>\n",
       "      <td>150000</td>\n",
       "      <td>9</td>\n",
       "      <td>petrol</td>\n",
       "      <td>seat</td>\n",
       "      <td>no</td>\n",
       "      <td>2016-03-31 00:00:00</td>\n",
       "      <td>0</td>\n",
       "      <td>85055</td>\n",
       "      <td>2016-04-02 19:47:11</td>\n",
       "    </tr>\n",
       "    <tr>\n",
       "      <td>349473</td>\n",
       "      <td>2016-03-26 16:53:17</td>\n",
       "      <td>3100</td>\n",
       "      <td>small</td>\n",
       "      <td>2006</td>\n",
       "      <td>NaN</td>\n",
       "      <td>80</td>\n",
       "      <td>fiesta</td>\n",
       "      <td>150000</td>\n",
       "      <td>12</td>\n",
       "      <td>petrol</td>\n",
       "      <td>ford</td>\n",
       "      <td>NaN</td>\n",
       "      <td>2016-03-26 00:00:00</td>\n",
       "      <td>0</td>\n",
       "      <td>53619</td>\n",
       "      <td>2016-04-06 05:17:19</td>\n",
       "    </tr>\n",
       "    <tr>\n",
       "      <td>20338</td>\n",
       "      <td>2016-03-17 21:57:34</td>\n",
       "      <td>450</td>\n",
       "      <td>small</td>\n",
       "      <td>1996</td>\n",
       "      <td>manual</td>\n",
       "      <td>45</td>\n",
       "      <td>corsa</td>\n",
       "      <td>150000</td>\n",
       "      <td>0</td>\n",
       "      <td>petrol</td>\n",
       "      <td>opel</td>\n",
       "      <td>NaN</td>\n",
       "      <td>2016-03-17 00:00:00</td>\n",
       "      <td>0</td>\n",
       "      <td>48249</td>\n",
       "      <td>2016-03-17 23:42:07</td>\n",
       "    </tr>\n",
       "  </tbody>\n",
       "</table>\n",
       "</div>\n",
       "        </div>"
      ],
      "text/plain": [
       "head\n",
       "           DateCrawled  Price VehicleType  RegistrationYear Gearbox  Power  \\\n",
       "0  2016-03-24 11:52:17    480         NaN              1993  manual      0   \n",
       "1  2016-03-24 10:58:45  18300       coupe              2011  manual    190   \n",
       "2  2016-03-14 12:52:21   9800         suv              2004    auto    163   \n",
       "3  2016-03-17 16:54:04   1500       small              2001  manual     75   \n",
       "4  2016-03-31 17:25:20   3600       small              2008  manual     69   \n",
       "\n",
       "   Model  Kilometer  RegistrationMonth  FuelType       Brand NotRepaired  \\\n",
       "0   golf     150000                  0    petrol  volkswagen         NaN   \n",
       "1    NaN     125000                  5  gasoline        audi         yes   \n",
       "2  grand     125000                  8  gasoline        jeep         NaN   \n",
       "3   golf     150000                  6    petrol  volkswagen          no   \n",
       "4  fabia      90000                  7  gasoline       skoda          no   \n",
       "\n",
       "           DateCreated  NumberOfPictures  PostalCode             LastSeen  \n",
       "0  2016-03-24 00:00:00                 0       70435  2016-04-07 03:16:57  \n",
       "1  2016-03-24 00:00:00                 0       66954  2016-04-07 01:46:50  \n",
       "2  2016-03-14 00:00:00                 0       90480  2016-04-05 12:47:46  \n",
       "3  2016-03-17 00:00:00                 0       91074  2016-03-17 17:40:17  \n",
       "4  2016-03-31 00:00:00                 0       60437  2016-04-06 10:17:21  \n",
       "\n",
       "tail\n",
       "                DateCrawled  Price  VehicleType  RegistrationYear Gearbox  \\\n",
       "354364  2016-03-21 09:50:58      0          NaN              2005  manual   \n",
       "354365  2016-03-14 17:48:27   2200          NaN              2005     NaN   \n",
       "354366  2016-03-05 19:56:21   1199  convertible              2000    auto   \n",
       "354367  2016-03-19 18:57:12   9200          bus              1996  manual   \n",
       "354368  2016-03-20 19:41:08   3400        wagon              2002  manual   \n",
       "\n",
       "        Power        Model  Kilometer  RegistrationMonth  FuelType  \\\n",
       "354364      0         colt     150000                  7    petrol   \n",
       "354365      0          NaN      20000                  1       NaN   \n",
       "354366    101       fortwo     125000                  3    petrol   \n",
       "354367    102  transporter     150000                  3  gasoline   \n",
       "354368    100         golf     150000                  6  gasoline   \n",
       "\n",
       "                 Brand NotRepaired          DateCreated  NumberOfPictures  \\\n",
       "354364      mitsubishi         yes  2016-03-21 00:00:00                 0   \n",
       "354365  sonstige_autos         NaN  2016-03-14 00:00:00                 0   \n",
       "354366           smart          no  2016-03-05 00:00:00                 0   \n",
       "354367      volkswagen          no  2016-03-19 00:00:00                 0   \n",
       "354368      volkswagen         NaN  2016-03-20 00:00:00                 0   \n",
       "\n",
       "        PostalCode             LastSeen  \n",
       "354364        2694  2016-03-21 10:42:49  \n",
       "354365       39576  2016-04-06 00:46:52  \n",
       "354366       26135  2016-03-11 18:17:12  \n",
       "354367       87439  2016-04-07 07:15:26  \n",
       "354368       40764  2016-03-24 12:45:21  \n",
       "\n",
       "sample\n",
       "                DateCrawled  Price VehicleType  RegistrationYear Gearbox  \\\n",
       "332027  2016-03-30 09:36:59   5899         bus              2007  manual   \n",
       "248710  2016-03-10 18:46:36  10700         bus              2012    auto   \n",
       "105548  2016-03-31 22:51:40   2500       sedan              2002  manual   \n",
       "349473  2016-03-26 16:53:17   3100       small              2006     NaN   \n",
       "20338   2016-03-17 21:57:34    450       small              1996  manual   \n",
       "\n",
       "        Power   Model  Kilometer  RegistrationMonth  FuelType       Brand  \\\n",
       "332027    105    golf     150000                  9  gasoline  volkswagen   \n",
       "248710    140  galaxy     150000                  5  gasoline        ford   \n",
       "105548    105  toledo     150000                  9    petrol        seat   \n",
       "349473     80  fiesta     150000                 12    petrol        ford   \n",
       "20338      45   corsa     150000                  0    petrol        opel   \n",
       "\n",
       "       NotRepaired          DateCreated  NumberOfPictures  PostalCode  \\\n",
       "332027          no  2016-03-30 00:00:00                 0       52072   \n",
       "248710          no  2016-03-10 00:00:00                 0       22761   \n",
       "105548          no  2016-03-31 00:00:00                 0       85055   \n",
       "349473         NaN  2016-03-26 00:00:00                 0       53619   \n",
       "20338          NaN  2016-03-17 00:00:00                 0       48249   \n",
       "\n",
       "                   LastSeen  \n",
       "332027  2016-03-30 09:36:59  \n",
       "248710  2016-03-20 06:18:27  \n",
       "105548  2016-04-02 19:47:11  \n",
       "349473  2016-04-06 05:17:19  \n",
       "20338   2016-03-17 23:42:07  "
      ]
     },
     "execution_count": 5,
     "metadata": {},
     "output_type": "execute_result"
    }
   ],
   "source": [
    "head, tail, sample = explorer.firstsight(df)\n",
    "explorer.Display('head', 'tail', 'sample')"
   ]
  },
  {
   "cell_type": "markdown",
   "metadata": {},
   "source": [
    "&#9889; **Вывод:**\n",
    "\n",
    "1. В датасете есть пропуски,\n",
    "2. Столбцы с датой скачивания анкеты (DateCrawled), дата создания анкеты (DateCreated), дата последней активности пользователя (LastSeen) - кандидаты на удаление, поскольку не являются универсальными признаками без возможности уточнить у поставщика данных является ли цена (Price) ценой при которой объявление было снято.\n",
    "3. Столбец \"NotRepaired\" с учетом описания \"была машина в ремонте или нет\" неинформативен, потому что бинарные \"да\" или \"нет\" не дает определенного ответа. Исходя из буквального значения Not Repaired, для целей задачи, будем исходить из того, что \"No\" означает факт ремонта.\n",
    "4. Отсутствие данных о ремонте должно влиять на привлекательность объявления, но не обязательно влияет на цену.\n",
    "5. В столбце \"NumberOfPictures\" нули - требуется дополнительная проверка.\n",
    "6. Postalcode - важный признак: привязка к геолокации."
   ]
  },
  {
   "cell_type": "markdown",
   "metadata": {},
   "source": [
    "[В оглавление](#TOC)"
   ]
  },
  {
   "cell_type": "markdown",
   "metadata": {},
   "source": [
    "### 4) Выведем общую информацию о датасете, общую статистику, проверим дубликаты, уникальные значения<a class='anchor' id='1_4'>"
   ]
  },
  {
   "cell_type": "markdown",
   "metadata": {},
   "source": [
    "#### - для удобства исправим регистр в наименовании столбцов"
   ]
  },
  {
   "cell_type": "code",
   "execution_count": 6,
   "metadata": {},
   "outputs": [],
   "source": [
    "df.columns = map(str.lower, df.columns)"
   ]
  },
  {
   "cell_type": "markdown",
   "metadata": {},
   "source": [
    "#### - общая информация о датасете"
   ]
  },
  {
   "cell_type": "code",
   "execution_count": 7,
   "metadata": {},
   "outputs": [
    {
     "name": "stdout",
     "output_type": "stream",
     "text": [
      "<class 'pandas.core.frame.DataFrame'>\n",
      "RangeIndex: 354369 entries, 0 to 354368\n",
      "Data columns (total 16 columns):\n",
      "datecrawled          354369 non-null object\n",
      "price                354369 non-null int64\n",
      "vehicletype          316879 non-null object\n",
      "registrationyear     354369 non-null int64\n",
      "gearbox              334536 non-null object\n",
      "power                354369 non-null int64\n",
      "model                334664 non-null object\n",
      "kilometer            354369 non-null int64\n",
      "registrationmonth    354369 non-null int64\n",
      "fueltype             321474 non-null object\n",
      "brand                354369 non-null object\n",
      "notrepaired          283215 non-null object\n",
      "datecreated          354369 non-null object\n",
      "numberofpictures     354369 non-null int64\n",
      "postalcode           354369 non-null int64\n",
      "lastseen             354369 non-null object\n",
      "dtypes: int64(7), object(9)\n",
      "memory usage: 43.3+ MB\n"
     ]
    }
   ],
   "source": [
    "df.info()"
   ]
  },
  {
   "cell_type": "code",
   "execution_count": 8,
   "metadata": {},
   "outputs": [
    {
     "data": {
      "text/plain": [
       "datecrawled              0\n",
       "price                    0\n",
       "vehicletype          37490\n",
       "registrationyear         0\n",
       "gearbox              19833\n",
       "power                    0\n",
       "model                19705\n",
       "kilometer                0\n",
       "registrationmonth        0\n",
       "fueltype             32895\n",
       "brand                    0\n",
       "notrepaired          71154\n",
       "datecreated              0\n",
       "numberofpictures         0\n",
       "postalcode               0\n",
       "lastseen                 0\n",
       "dtype: int64"
      ]
     },
     "execution_count": 8,
     "metadata": {},
     "output_type": "execute_result"
    }
   ],
   "source": [
    "df.isna().sum()"
   ]
  },
  {
   "cell_type": "markdown",
   "metadata": {},
   "source": [
    "&#9889; **Вывод:** \n",
    "1. В датасете 354 369 строк и 16 столбцов, есть множественные пропуски.\n",
    "2. Датасет занимает больше 43 мб в памяти. Надо постраться уменьшить объем.\n",
    "3. Пропуски в порядке убывания:\n",
    "    - model - 19 705 из 354 369 (6%)\n",
    "    - gearbox- 19 833 из 354 369 (6%)\n",
    "    - fueltype - 32 895 из 354 369 (9%)\n",
    "    - vehicletype - 37 490 из 354 369 (11%)\n",
    "    - notrepaired - 71 154 из 354 369 (20%)\n",
    "4. Столько пропусков - повод спросить поставщика данных о природе пропусков. \n",
    "5. Если исходить из того, что пропуски в данных - результат умолчания продавца, тогда пропуски сами по себе сигнал."
   ]
  },
  {
   "cell_type": "markdown",
   "metadata": {},
   "source": [
    "[В оглавление](#TOC)"
   ]
  },
  {
   "cell_type": "markdown",
   "metadata": {},
   "source": [
    "#### - общая статистика"
   ]
  },
  {
   "cell_type": "code",
   "execution_count": 9,
   "metadata": {},
   "outputs": [
    {
     "data": {
      "text/html": [
       "<div>\n",
       "<style scoped>\n",
       "    .dataframe tbody tr th:only-of-type {\n",
       "        vertical-align: middle;\n",
       "    }\n",
       "\n",
       "    .dataframe tbody tr th {\n",
       "        vertical-align: top;\n",
       "    }\n",
       "\n",
       "    .dataframe thead th {\n",
       "        text-align: right;\n",
       "    }\n",
       "</style>\n",
       "<table border=\"1\" class=\"dataframe\">\n",
       "  <thead>\n",
       "    <tr style=\"text-align: right;\">\n",
       "      <th></th>\n",
       "      <th>count</th>\n",
       "      <th>mean</th>\n",
       "      <th>std</th>\n",
       "      <th>min</th>\n",
       "      <th>25%</th>\n",
       "      <th>50%</th>\n",
       "      <th>75%</th>\n",
       "      <th>max</th>\n",
       "    </tr>\n",
       "  </thead>\n",
       "  <tbody>\n",
       "    <tr>\n",
       "      <td>price</td>\n",
       "      <td>354369.0</td>\n",
       "      <td>4416.656776</td>\n",
       "      <td>4514.158514</td>\n",
       "      <td>0.0</td>\n",
       "      <td>1050.0</td>\n",
       "      <td>2700.0</td>\n",
       "      <td>6400.0</td>\n",
       "      <td>20000.0</td>\n",
       "    </tr>\n",
       "    <tr>\n",
       "      <td>registrationyear</td>\n",
       "      <td>354369.0</td>\n",
       "      <td>2004.234448</td>\n",
       "      <td>90.227958</td>\n",
       "      <td>1000.0</td>\n",
       "      <td>1999.0</td>\n",
       "      <td>2003.0</td>\n",
       "      <td>2008.0</td>\n",
       "      <td>9999.0</td>\n",
       "    </tr>\n",
       "    <tr>\n",
       "      <td>power</td>\n",
       "      <td>354369.0</td>\n",
       "      <td>110.094337</td>\n",
       "      <td>189.850405</td>\n",
       "      <td>0.0</td>\n",
       "      <td>69.0</td>\n",
       "      <td>105.0</td>\n",
       "      <td>143.0</td>\n",
       "      <td>20000.0</td>\n",
       "    </tr>\n",
       "    <tr>\n",
       "      <td>kilometer</td>\n",
       "      <td>354369.0</td>\n",
       "      <td>128211.172535</td>\n",
       "      <td>37905.341530</td>\n",
       "      <td>5000.0</td>\n",
       "      <td>125000.0</td>\n",
       "      <td>150000.0</td>\n",
       "      <td>150000.0</td>\n",
       "      <td>150000.0</td>\n",
       "    </tr>\n",
       "    <tr>\n",
       "      <td>registrationmonth</td>\n",
       "      <td>354369.0</td>\n",
       "      <td>5.714645</td>\n",
       "      <td>3.726421</td>\n",
       "      <td>0.0</td>\n",
       "      <td>3.0</td>\n",
       "      <td>6.0</td>\n",
       "      <td>9.0</td>\n",
       "      <td>12.0</td>\n",
       "    </tr>\n",
       "    <tr>\n",
       "      <td>numberofpictures</td>\n",
       "      <td>354369.0</td>\n",
       "      <td>0.000000</td>\n",
       "      <td>0.000000</td>\n",
       "      <td>0.0</td>\n",
       "      <td>0.0</td>\n",
       "      <td>0.0</td>\n",
       "      <td>0.0</td>\n",
       "      <td>0.0</td>\n",
       "    </tr>\n",
       "    <tr>\n",
       "      <td>postalcode</td>\n",
       "      <td>354369.0</td>\n",
       "      <td>50508.689087</td>\n",
       "      <td>25783.096248</td>\n",
       "      <td>1067.0</td>\n",
       "      <td>30165.0</td>\n",
       "      <td>49413.0</td>\n",
       "      <td>71083.0</td>\n",
       "      <td>99998.0</td>\n",
       "    </tr>\n",
       "  </tbody>\n",
       "</table>\n",
       "</div>"
      ],
      "text/plain": [
       "                      count           mean           std     min       25%  \\\n",
       "price              354369.0    4416.656776   4514.158514     0.0    1050.0   \n",
       "registrationyear   354369.0    2004.234448     90.227958  1000.0    1999.0   \n",
       "power              354369.0     110.094337    189.850405     0.0      69.0   \n",
       "kilometer          354369.0  128211.172535  37905.341530  5000.0  125000.0   \n",
       "registrationmonth  354369.0       5.714645      3.726421     0.0       3.0   \n",
       "numberofpictures   354369.0       0.000000      0.000000     0.0       0.0   \n",
       "postalcode         354369.0   50508.689087  25783.096248  1067.0   30165.0   \n",
       "\n",
       "                        50%       75%       max  \n",
       "price                2700.0    6400.0   20000.0  \n",
       "registrationyear     2003.0    2008.0    9999.0  \n",
       "power                 105.0     143.0   20000.0  \n",
       "kilometer          150000.0  150000.0  150000.0  \n",
       "registrationmonth       6.0       9.0      12.0  \n",
       "numberofpictures        0.0       0.0       0.0  \n",
       "postalcode          49413.0   71083.0   99998.0  "
      ]
     },
     "execution_count": 9,
     "metadata": {},
     "output_type": "execute_result"
    }
   ],
   "source": [
    "df.describe(include=[np.number]).T"
   ]
  },
  {
   "cell_type": "markdown",
   "metadata": {},
   "source": [
    "Множество странных значений. Выведем информацию о категориальных данных:"
   ]
  },
  {
   "cell_type": "code",
   "execution_count": 10,
   "metadata": {},
   "outputs": [
    {
     "data": {
      "text/html": [
       "<div>\n",
       "<style scoped>\n",
       "    .dataframe tbody tr th:only-of-type {\n",
       "        vertical-align: middle;\n",
       "    }\n",
       "\n",
       "    .dataframe tbody tr th {\n",
       "        vertical-align: top;\n",
       "    }\n",
       "\n",
       "    .dataframe thead th {\n",
       "        text-align: right;\n",
       "    }\n",
       "</style>\n",
       "<table border=\"1\" class=\"dataframe\">\n",
       "  <thead>\n",
       "    <tr style=\"text-align: right;\">\n",
       "      <th></th>\n",
       "      <th>count</th>\n",
       "      <th>unique</th>\n",
       "      <th>top</th>\n",
       "      <th>freq</th>\n",
       "    </tr>\n",
       "  </thead>\n",
       "  <tbody>\n",
       "    <tr>\n",
       "      <td>datecrawled</td>\n",
       "      <td>354369</td>\n",
       "      <td>271174</td>\n",
       "      <td>2016-03-24 14:49:47</td>\n",
       "      <td>7</td>\n",
       "    </tr>\n",
       "    <tr>\n",
       "      <td>vehicletype</td>\n",
       "      <td>316879</td>\n",
       "      <td>8</td>\n",
       "      <td>sedan</td>\n",
       "      <td>91457</td>\n",
       "    </tr>\n",
       "    <tr>\n",
       "      <td>gearbox</td>\n",
       "      <td>334536</td>\n",
       "      <td>2</td>\n",
       "      <td>manual</td>\n",
       "      <td>268251</td>\n",
       "    </tr>\n",
       "    <tr>\n",
       "      <td>model</td>\n",
       "      <td>334664</td>\n",
       "      <td>250</td>\n",
       "      <td>golf</td>\n",
       "      <td>29232</td>\n",
       "    </tr>\n",
       "    <tr>\n",
       "      <td>fueltype</td>\n",
       "      <td>321474</td>\n",
       "      <td>7</td>\n",
       "      <td>petrol</td>\n",
       "      <td>216352</td>\n",
       "    </tr>\n",
       "    <tr>\n",
       "      <td>brand</td>\n",
       "      <td>354369</td>\n",
       "      <td>40</td>\n",
       "      <td>volkswagen</td>\n",
       "      <td>77013</td>\n",
       "    </tr>\n",
       "    <tr>\n",
       "      <td>notrepaired</td>\n",
       "      <td>283215</td>\n",
       "      <td>2</td>\n",
       "      <td>no</td>\n",
       "      <td>247161</td>\n",
       "    </tr>\n",
       "    <tr>\n",
       "      <td>datecreated</td>\n",
       "      <td>354369</td>\n",
       "      <td>109</td>\n",
       "      <td>2016-04-03 00:00:00</td>\n",
       "      <td>13719</td>\n",
       "    </tr>\n",
       "    <tr>\n",
       "      <td>lastseen</td>\n",
       "      <td>354369</td>\n",
       "      <td>179150</td>\n",
       "      <td>2016-04-06 13:45:54</td>\n",
       "      <td>17</td>\n",
       "    </tr>\n",
       "  </tbody>\n",
       "</table>\n",
       "</div>"
      ],
      "text/plain": [
       "              count  unique                  top    freq\n",
       "datecrawled  354369  271174  2016-03-24 14:49:47       7\n",
       "vehicletype  316879       8                sedan   91457\n",
       "gearbox      334536       2               manual  268251\n",
       "model        334664     250                 golf   29232\n",
       "fueltype     321474       7               petrol  216352\n",
       "brand        354369      40           volkswagen   77013\n",
       "notrepaired  283215       2                   no  247161\n",
       "datecreated  354369     109  2016-04-03 00:00:00   13719\n",
       "lastseen     354369  179150  2016-04-06 13:45:54      17"
      ]
     },
     "execution_count": 10,
     "metadata": {},
     "output_type": "execute_result"
    }
   ],
   "source": [
    "df.describe(include=['object']).T"
   ]
  },
  {
   "cell_type": "markdown",
   "metadata": {},
   "source": [
    "&#9889; **Вывод:** \n",
    "1. Выявлены странные значения: \n",
    "    - в столбце с мощностью минимальное значение - 0, а максимальное значение - 20 000,\n",
    "    - в столбце с годом регистрации минимальное значение - 1000, максимальное - 9999,\n",
    "    - в столбце с числом фотографий только нули,\n",
    "    - в целевом признаке - цене - есть нулевые значения.\n",
    "2. Вольскваген - самая часто встречающаяся марка (247 161 из 354 369, 70%). Самая часта модель - \"гольф\" (77 013 из 354 369, 22%). Народный автомобиль.\n",
    "3. В представленной выборке 76% (268 251 из 354 369) автомобилей с ручной коробкой передач, 61% (216 352 из 354 369) с бензиновым двигателем, 70 % (247 161 из 354 369) автомобилей подвергались ремонту. \n",
    "3. Типичный автомобиль из выборки - битый Вольксваген Гольф седан с ручной коробкй передач и бензиновым двигателем."
   ]
  },
  {
   "cell_type": "markdown",
   "metadata": {},
   "source": [
    "[В оглавление](#TOC)"
   ]
  },
  {
   "cell_type": "markdown",
   "metadata": {},
   "source": [
    "#### - проверим наличие полных дубликатов"
   ]
  },
  {
   "cell_type": "code",
   "execution_count": 11,
   "metadata": {},
   "outputs": [
    {
     "data": {
      "text/plain": [
       "4"
      ]
     },
     "execution_count": 11,
     "metadata": {},
     "output_type": "execute_result"
    }
   ],
   "source": [
    "df.duplicated().sum()"
   ]
  },
  {
   "cell_type": "markdown",
   "metadata": {},
   "source": [
    "В датасете есть четрые полных дубликата. Выведем дубликаты на экран:"
   ]
  },
  {
   "cell_type": "code",
   "execution_count": 12,
   "metadata": {},
   "outputs": [],
   "source": [
    "duplicated_mask = df.duplicated(keep=False)"
   ]
  },
  {
   "cell_type": "code",
   "execution_count": 13,
   "metadata": {},
   "outputs": [
    {
     "data": {
      "text/html": [
       "<div>\n",
       "<style scoped>\n",
       "    .dataframe tbody tr th:only-of-type {\n",
       "        vertical-align: middle;\n",
       "    }\n",
       "\n",
       "    .dataframe tbody tr th {\n",
       "        vertical-align: top;\n",
       "    }\n",
       "\n",
       "    .dataframe thead th {\n",
       "        text-align: right;\n",
       "    }\n",
       "</style>\n",
       "<table border=\"1\" class=\"dataframe\">\n",
       "  <thead>\n",
       "    <tr style=\"text-align: right;\">\n",
       "      <th></th>\n",
       "      <th>datecrawled</th>\n",
       "      <th>price</th>\n",
       "      <th>vehicletype</th>\n",
       "      <th>registrationyear</th>\n",
       "      <th>gearbox</th>\n",
       "      <th>power</th>\n",
       "      <th>model</th>\n",
       "      <th>kilometer</th>\n",
       "      <th>registrationmonth</th>\n",
       "      <th>fueltype</th>\n",
       "      <th>brand</th>\n",
       "      <th>notrepaired</th>\n",
       "      <th>datecreated</th>\n",
       "      <th>numberofpictures</th>\n",
       "      <th>postalcode</th>\n",
       "      <th>lastseen</th>\n",
       "    </tr>\n",
       "  </thead>\n",
       "  <tbody>\n",
       "    <tr>\n",
       "      <td>88087</td>\n",
       "      <td>2016-03-08 18:42:48</td>\n",
       "      <td>1799</td>\n",
       "      <td>coupe</td>\n",
       "      <td>1999</td>\n",
       "      <td>auto</td>\n",
       "      <td>193</td>\n",
       "      <td>clk</td>\n",
       "      <td>20000</td>\n",
       "      <td>7</td>\n",
       "      <td>petrol</td>\n",
       "      <td>mercedes_benz</td>\n",
       "      <td>no</td>\n",
       "      <td>2016-03-08 00:00:00</td>\n",
       "      <td>0</td>\n",
       "      <td>89518</td>\n",
       "      <td>2016-03-09 09:46:57</td>\n",
       "    </tr>\n",
       "    <tr>\n",
       "      <td>171088</td>\n",
       "      <td>2016-03-08 18:42:48</td>\n",
       "      <td>1799</td>\n",
       "      <td>coupe</td>\n",
       "      <td>1999</td>\n",
       "      <td>auto</td>\n",
       "      <td>193</td>\n",
       "      <td>clk</td>\n",
       "      <td>20000</td>\n",
       "      <td>7</td>\n",
       "      <td>petrol</td>\n",
       "      <td>mercedes_benz</td>\n",
       "      <td>no</td>\n",
       "      <td>2016-03-08 00:00:00</td>\n",
       "      <td>0</td>\n",
       "      <td>89518</td>\n",
       "      <td>2016-03-09 09:46:57</td>\n",
       "    </tr>\n",
       "    <tr>\n",
       "      <td>41529</td>\n",
       "      <td>2016-03-18 18:46:15</td>\n",
       "      <td>1999</td>\n",
       "      <td>wagon</td>\n",
       "      <td>2001</td>\n",
       "      <td>manual</td>\n",
       "      <td>131</td>\n",
       "      <td>passat</td>\n",
       "      <td>150000</td>\n",
       "      <td>7</td>\n",
       "      <td>gasoline</td>\n",
       "      <td>volkswagen</td>\n",
       "      <td>no</td>\n",
       "      <td>2016-03-18 00:00:00</td>\n",
       "      <td>0</td>\n",
       "      <td>36391</td>\n",
       "      <td>2016-03-18 18:46:15</td>\n",
       "    </tr>\n",
       "    <tr>\n",
       "      <td>325651</td>\n",
       "      <td>2016-03-18 18:46:15</td>\n",
       "      <td>1999</td>\n",
       "      <td>wagon</td>\n",
       "      <td>2001</td>\n",
       "      <td>manual</td>\n",
       "      <td>131</td>\n",
       "      <td>passat</td>\n",
       "      <td>150000</td>\n",
       "      <td>7</td>\n",
       "      <td>gasoline</td>\n",
       "      <td>volkswagen</td>\n",
       "      <td>no</td>\n",
       "      <td>2016-03-18 00:00:00</td>\n",
       "      <td>0</td>\n",
       "      <td>36391</td>\n",
       "      <td>2016-03-18 18:46:15</td>\n",
       "    </tr>\n",
       "    <tr>\n",
       "      <td>90964</td>\n",
       "      <td>2016-03-28 00:56:10</td>\n",
       "      <td>1000</td>\n",
       "      <td>small</td>\n",
       "      <td>2002</td>\n",
       "      <td>manual</td>\n",
       "      <td>83</td>\n",
       "      <td>other</td>\n",
       "      <td>150000</td>\n",
       "      <td>1</td>\n",
       "      <td>petrol</td>\n",
       "      <td>suzuki</td>\n",
       "      <td>no</td>\n",
       "      <td>2016-03-28 00:00:00</td>\n",
       "      <td>0</td>\n",
       "      <td>66589</td>\n",
       "      <td>2016-03-28 08:46:21</td>\n",
       "    </tr>\n",
       "    <tr>\n",
       "      <td>231258</td>\n",
       "      <td>2016-03-28 00:56:10</td>\n",
       "      <td>1000</td>\n",
       "      <td>small</td>\n",
       "      <td>2002</td>\n",
       "      <td>manual</td>\n",
       "      <td>83</td>\n",
       "      <td>other</td>\n",
       "      <td>150000</td>\n",
       "      <td>1</td>\n",
       "      <td>petrol</td>\n",
       "      <td>suzuki</td>\n",
       "      <td>no</td>\n",
       "      <td>2016-03-28 00:00:00</td>\n",
       "      <td>0</td>\n",
       "      <td>66589</td>\n",
       "      <td>2016-03-28 08:46:21</td>\n",
       "    </tr>\n",
       "    <tr>\n",
       "      <td>187735</td>\n",
       "      <td>2016-04-03 09:01:15</td>\n",
       "      <td>4699</td>\n",
       "      <td>coupe</td>\n",
       "      <td>2003</td>\n",
       "      <td>auto</td>\n",
       "      <td>218</td>\n",
       "      <td>clk</td>\n",
       "      <td>125000</td>\n",
       "      <td>6</td>\n",
       "      <td>petrol</td>\n",
       "      <td>mercedes_benz</td>\n",
       "      <td>yes</td>\n",
       "      <td>2016-04-03 00:00:00</td>\n",
       "      <td>0</td>\n",
       "      <td>75196</td>\n",
       "      <td>2016-04-07 09:44:54</td>\n",
       "    </tr>\n",
       "    <tr>\n",
       "      <td>258109</td>\n",
       "      <td>2016-04-03 09:01:15</td>\n",
       "      <td>4699</td>\n",
       "      <td>coupe</td>\n",
       "      <td>2003</td>\n",
       "      <td>auto</td>\n",
       "      <td>218</td>\n",
       "      <td>clk</td>\n",
       "      <td>125000</td>\n",
       "      <td>6</td>\n",
       "      <td>petrol</td>\n",
       "      <td>mercedes_benz</td>\n",
       "      <td>yes</td>\n",
       "      <td>2016-04-03 00:00:00</td>\n",
       "      <td>0</td>\n",
       "      <td>75196</td>\n",
       "      <td>2016-04-07 09:44:54</td>\n",
       "    </tr>\n",
       "  </tbody>\n",
       "</table>\n",
       "</div>"
      ],
      "text/plain": [
       "                datecrawled  price vehicletype  registrationyear gearbox  \\\n",
       "88087   2016-03-08 18:42:48   1799       coupe              1999    auto   \n",
       "171088  2016-03-08 18:42:48   1799       coupe              1999    auto   \n",
       "41529   2016-03-18 18:46:15   1999       wagon              2001  manual   \n",
       "325651  2016-03-18 18:46:15   1999       wagon              2001  manual   \n",
       "90964   2016-03-28 00:56:10   1000       small              2002  manual   \n",
       "231258  2016-03-28 00:56:10   1000       small              2002  manual   \n",
       "187735  2016-04-03 09:01:15   4699       coupe              2003    auto   \n",
       "258109  2016-04-03 09:01:15   4699       coupe              2003    auto   \n",
       "\n",
       "        power   model  kilometer  registrationmonth  fueltype          brand  \\\n",
       "88087     193     clk      20000                  7    petrol  mercedes_benz   \n",
       "171088    193     clk      20000                  7    petrol  mercedes_benz   \n",
       "41529     131  passat     150000                  7  gasoline     volkswagen   \n",
       "325651    131  passat     150000                  7  gasoline     volkswagen   \n",
       "90964      83   other     150000                  1    petrol         suzuki   \n",
       "231258     83   other     150000                  1    petrol         suzuki   \n",
       "187735    218     clk     125000                  6    petrol  mercedes_benz   \n",
       "258109    218     clk     125000                  6    petrol  mercedes_benz   \n",
       "\n",
       "       notrepaired          datecreated  numberofpictures  postalcode  \\\n",
       "88087           no  2016-03-08 00:00:00                 0       89518   \n",
       "171088          no  2016-03-08 00:00:00                 0       89518   \n",
       "41529           no  2016-03-18 00:00:00                 0       36391   \n",
       "325651          no  2016-03-18 00:00:00                 0       36391   \n",
       "90964           no  2016-03-28 00:00:00                 0       66589   \n",
       "231258          no  2016-03-28 00:00:00                 0       66589   \n",
       "187735         yes  2016-04-03 00:00:00                 0       75196   \n",
       "258109         yes  2016-04-03 00:00:00                 0       75196   \n",
       "\n",
       "                   lastseen  \n",
       "88087   2016-03-09 09:46:57  \n",
       "171088  2016-03-09 09:46:57  \n",
       "41529   2016-03-18 18:46:15  \n",
       "325651  2016-03-18 18:46:15  \n",
       "90964   2016-03-28 08:46:21  \n",
       "231258  2016-03-28 08:46:21  \n",
       "187735  2016-04-07 09:44:54  \n",
       "258109  2016-04-07 09:44:54  "
      ]
     },
     "execution_count": 13,
     "metadata": {},
     "output_type": "execute_result"
    }
   ],
   "source": [
    "df[duplicated_mask].sort_values(by='datecrawled')"
   ]
  },
  {
   "cell_type": "markdown",
   "metadata": {},
   "source": [
    "[В оглавление](#TOC)"
   ]
  },
  {
   "cell_type": "markdown",
   "metadata": {},
   "source": [
    "#### - избавимся от дубликатов"
   ]
  },
  {
   "cell_type": "code",
   "execution_count": 14,
   "metadata": {},
   "outputs": [],
   "source": [
    "df.drop_duplicates(inplace=True)"
   ]
  },
  {
   "cell_type": "code",
   "execution_count": 15,
   "metadata": {},
   "outputs": [
    {
     "data": {
      "text/plain": [
       "(354365, 16)"
      ]
     },
     "execution_count": 15,
     "metadata": {},
     "output_type": "execute_result"
    }
   ],
   "source": [
    "df.shape"
   ]
  },
  {
   "cell_type": "markdown",
   "metadata": {},
   "source": [
    "[В оглавление](#TOC)"
   ]
  },
  {
   "cell_type": "markdown",
   "metadata": {},
   "source": [
    "#### - проверим уникальные значения"
   ]
  },
  {
   "cell_type": "code",
   "execution_count": 16,
   "metadata": {},
   "outputs": [
    {
     "data": {
      "text/plain": [
       "datecrawled          271174\n",
       "price                  3731\n",
       "vehicletype               8\n",
       "registrationyear        151\n",
       "gearbox                   2\n",
       "power                   712\n",
       "model                   250\n",
       "kilometer                13\n",
       "registrationmonth        13\n",
       "fueltype                  7\n",
       "brand                    40\n",
       "notrepaired               2\n",
       "datecreated             109\n",
       "numberofpictures          1\n",
       "postalcode             8143\n",
       "lastseen             179150\n",
       "dtype: int64"
      ]
     },
     "execution_count": 16,
     "metadata": {},
     "output_type": "execute_result"
    }
   ],
   "source": [
    "df.nunique()"
   ]
  },
  {
   "cell_type": "markdown",
   "metadata": {},
   "source": [
    "&#9889; **Вывод:** \n",
    "1. Неожидано низкая вариативность признаков для пробега автомобилей - всего 13 вариантов для 354 тысяч наблюдений. Признак носит категориальный характер.\n",
    "2. В столбце с месяцем регистрации 13 разных месяцев."
   ]
  },
  {
   "cell_type": "markdown",
   "metadata": {},
   "source": [
    "[В оглавление](#TOC)"
   ]
  },
  {
   "cell_type": "markdown",
   "metadata": {},
   "source": [
    "#### - избавимся от неуниверсальных признаков в датасете "
   ]
  },
  {
   "cell_type": "markdown",
   "metadata": {},
   "source": [
    "С учетом результатов анализа - столбцы 'datecrawled', 'datecreated', 'numberofpictures', 'lastseen', 'registrationmonth' будут удалены, поскольку носят неуниверсальный характер."
   ]
  },
  {
   "cell_type": "code",
   "execution_count": 17,
   "metadata": {},
   "outputs": [],
   "source": [
    "df.drop(['datecrawled', 'datecreated', 'numberofpictures', 'lastseen', 'registrationmonth'], axis=1, inplace=True)"
   ]
  },
  {
   "cell_type": "code",
   "execution_count": 18,
   "metadata": {},
   "outputs": [
    {
     "data": {
      "text/plain": [
       "(354365, 11)"
      ]
     },
     "execution_count": 18,
     "metadata": {},
     "output_type": "execute_result"
    }
   ],
   "source": [
    "df.shape"
   ]
  },
  {
   "cell_type": "markdown",
   "metadata": {},
   "source": [
    "### 5) Заполним пропуски в данных<a class='anchor' id='1_5'>"
   ]
  },
  {
   "cell_type": "markdown",
   "metadata": {},
   "source": [
    "В датасете есть пропуски, попробуем заполненить с помощью группировки по одному из признаков:\n",
    "\n",
    "1) идентифицирующие признаки автомобиля в датасете: \n",
    "    \n",
    "    - марка, \n",
    "    - модель, \n",
    "    - год регистрации (если, считать, что он соответсвует году выпуска), \n",
    "    - тип топлива, \n",
    "    - коробка передач.\n",
    "\n",
    "2) Пропуски в данных:\n",
    "\n",
    "    - model - 19 705 из 354 369 (6%)\n",
    "    - gearbox- 19 833 из 354 369 (6%)\n",
    "    - fueltype - 32 895 из 354 369 (9%)\n",
    "    - vehicletype - 37 490 из 354 369 (11%)\n",
    "    - notrepaired - 71 154 из 354 369 (20%)\n",
    "    \n",
    "3) Меньше всего пропусков в модели. Если сгруппировать признаки по моделям в датасете возможно частично восстановить тип кузова, данные о коробке передач и виде топлива. К сожалению, таким способом не удасться заполнить пропуски в модели.\n",
    "\n",
    "4) Заполним пропуски в два шага:\n",
    "\n",
    "    - через группировку заполним временный столбец, чтобы избежать проблемы с заполнением NaN в конечном столбце столбце из-за NaN в столбце с моделями моделями,\n",
    "    - совместим два столбца и избавимся от временного.\n",
    "    \n",
    "5) Столбец с данными о факте ремонта не заполнить с помощью соседних столбцов. Отсутсвие данных тоже сообщение, поэтому то что не удасться заполнить с помощью соседних столбцов - заполним плейсхолдером unknown."
   ]
  },
  {
   "cell_type": "markdown",
   "metadata": {},
   "source": [
    "#### - заполним временные столбцы с помощью группировки по моделям"
   ]
  },
  {
   "cell_type": "code",
   "execution_count": 19,
   "metadata": {},
   "outputs": [],
   "source": [
    "df['vehicletype_temp'] = df.groupby('model')['vehicletype'].apply(lambda x: x.ffill().bfill())"
   ]
  },
  {
   "cell_type": "code",
   "execution_count": 20,
   "metadata": {},
   "outputs": [],
   "source": [
    "df['fueltype_temp'] = df.groupby('model')['fueltype'].apply(lambda x: x.ffill().bfill())"
   ]
  },
  {
   "cell_type": "code",
   "execution_count": 21,
   "metadata": {},
   "outputs": [],
   "source": [
    "df['gearbox_temp'] = df.groupby('model')['gearbox'].apply(lambda x: x.ffill().bfill())"
   ]
  },
  {
   "cell_type": "markdown",
   "metadata": {},
   "source": [
    "#### - объединим временные столбцы с итоговым, проверяя наличие NaN, затем избавимся от временного столбца"
   ]
  },
  {
   "cell_type": "code",
   "execution_count": 22,
   "metadata": {},
   "outputs": [],
   "source": [
    "def vehicletype_fixer(row):\n",
    "    vehicletype_temp = row['vehicletype_temp']\n",
    "    vehicletype = row['vehicletype']\n",
    "\n",
    "    if pd.isnull(vehicletype_temp)==True and pd.isnull(vehicletype)==False:\n",
    "        return vehicletype\n",
    "    else:\n",
    "        return vehicletype_temp\n",
    "    \n",
    "def gearbox_fixer(row):\n",
    "    gearbox_temp = row['gearbox_temp']\n",
    "    gearbox = row['gearbox']\n",
    "\n",
    "    if pd.isnull(gearbox_temp)==True and pd.isnull(gearbox)==False:\n",
    "        return gearbox\n",
    "    else:\n",
    "        return gearbox_temp\n",
    "\n",
    "def fueltype_fixer(row):\n",
    "    fueltype_temp = row['fueltype_temp']\n",
    "    fueltype = row['fueltype']\n",
    "\n",
    "    if pd.isnull(fueltype_temp)==True and pd.isnull(fueltype)==False:\n",
    "        return fueltype\n",
    "    else:\n",
    "        return fueltype_temp"
   ]
  },
  {
   "cell_type": "code",
   "execution_count": 23,
   "metadata": {},
   "outputs": [],
   "source": [
    "df['vehicletype'] = df.apply(vehicletype_fixer, axis=1)\n",
    "df['gearbox'] = df.apply(gearbox_fixer, axis=1)\n",
    "df['fueltype'] = df.apply(fueltype_fixer, axis=1)\n",
    "\n",
    "df.drop('vehicletype_temp', axis=1, inplace=True)\n",
    "df.drop('gearbox_temp', axis=1, inplace=True)\n",
    "df.drop('fueltype_temp', axis=1, inplace=True)"
   ]
  },
  {
   "cell_type": "code",
   "execution_count": 24,
   "metadata": {},
   "outputs": [
    {
     "name": "stdout",
     "output_type": "stream",
     "text": [
      "<class 'pandas.core.frame.DataFrame'>\n",
      "Int64Index: 354365 entries, 0 to 354368\n",
      "Data columns (total 11 columns):\n",
      "price               354365 non-null int64\n",
      "vehicletype         347537 non-null object\n",
      "registrationyear    354365 non-null int64\n",
      "gearbox             350234 non-null object\n",
      "power               354365 non-null int64\n",
      "model               334660 non-null object\n",
      "kilometer           354365 non-null int64\n",
      "fueltype            347202 non-null object\n",
      "brand               354365 non-null object\n",
      "notrepaired         283211 non-null object\n",
      "postalcode          354365 non-null int64\n",
      "dtypes: int64(5), object(6)\n",
      "memory usage: 32.4+ MB\n"
     ]
    }
   ],
   "source": [
    "df.info()"
   ]
  },
  {
   "cell_type": "code",
   "execution_count": 25,
   "metadata": {},
   "outputs": [
    {
     "data": {
      "text/plain": [
       "price                   0\n",
       "vehicletype          6828\n",
       "registrationyear        0\n",
       "gearbox              4131\n",
       "power                   0\n",
       "model               19705\n",
       "kilometer               0\n",
       "fueltype             7163\n",
       "brand                   0\n",
       "notrepaired         71154\n",
       "postalcode              0\n",
       "dtype: int64"
      ]
     },
     "execution_count": 25,
     "metadata": {},
     "output_type": "execute_result"
    }
   ],
   "source": [
    "df.isna().sum()"
   ]
  },
  {
   "cell_type": "markdown",
   "metadata": {},
   "source": [
    "&#9889; **Вывод:** \n",
    "удалось частично заполнить пропуски в столбцах с помощью сгруппированных данных соседних столбцов. Пропуски после заполнения:\n",
    "\n",
    "     - gearbox - 4131 (вместо 19 833) из 354 369 (1%)\n",
    "     - vehicletype - 6 828 (вместо 37 490) из 354 369 (2%)\n",
    "     - fueltype - 7163 (вместо 32 895) из 354 369 (2%)\n",
    "     - model - 19 705 из 354 369 (6%)\n",
    "     - notrepaired - 71 154 из 354 369 (20%)"
   ]
  },
  {
   "cell_type": "markdown",
   "metadata": {},
   "source": [
    "#### - для значений которые не удалось заполнить с помощью соседних столбцов используем плейсхолдер \"unknown\""
   ]
  },
  {
   "cell_type": "code",
   "execution_count": 26,
   "metadata": {},
   "outputs": [],
   "source": [
    "df.fillna('unknown', inplace=True)"
   ]
  },
  {
   "cell_type": "markdown",
   "metadata": {},
   "source": [
    "Оставшиеся пропуски заполнены плейсхолдером unknown."
   ]
  },
  {
   "cell_type": "markdown",
   "metadata": {},
   "source": [
    "[В оглавление](#TOC)"
   ]
  },
  {
   "cell_type": "markdown",
   "metadata": {},
   "source": [
    "#### 6) Конвертируем типы данных в датасете для уменьшения потребления памяти<a class='anchor' id='1_6'>"
   ]
  },
  {
   "cell_type": "markdown",
   "metadata": {},
   "source": [
    "Конвертируем столбцы с категориальными признаками"
   ]
  },
  {
   "cell_type": "code",
   "execution_count": 27,
   "metadata": {},
   "outputs": [
    {
     "name": "stdout",
     "output_type": "stream",
     "text": [
      "<class 'pandas.core.frame.DataFrame'>\n",
      "Int64Index: 354365 entries, 0 to 354368\n",
      "Data columns (total 11 columns):\n",
      "price               354365 non-null int64\n",
      "vehicletype         354365 non-null object\n",
      "registrationyear    354365 non-null int64\n",
      "gearbox             354365 non-null object\n",
      "power               354365 non-null int64\n",
      "model               354365 non-null object\n",
      "kilometer           354365 non-null int64\n",
      "fueltype            354365 non-null object\n",
      "brand               354365 non-null object\n",
      "notrepaired         354365 non-null object\n",
      "postalcode          354365 non-null int64\n",
      "dtypes: int64(5), object(6)\n",
      "memory usage: 32.4+ MB\n"
     ]
    }
   ],
   "source": [
    "df.info()"
   ]
  },
  {
   "cell_type": "code",
   "execution_count": 28,
   "metadata": {},
   "outputs": [],
   "source": [
    "df['vehicletype'] = df.vehicletype.astype('category')\n",
    "df['gearbox'] = df.gearbox.astype('category')\n",
    "df['model'] = df.model.astype('category')\n",
    "df['kilometer'] = df.kilometer.astype('category')\n",
    "df['fueltype'] = df.fueltype.astype('category')\n",
    "df['brand'] = df.brand.astype('category')\n",
    "df['notrepaired'] = df.notrepaired.astype('category')\n",
    "df['postalcode'] = df.postalcode.astype('category')"
   ]
  },
  {
   "cell_type": "code",
   "execution_count": 29,
   "metadata": {},
   "outputs": [
    {
     "name": "stdout",
     "output_type": "stream",
     "text": [
      "<class 'pandas.core.frame.DataFrame'>\n",
      "Int64Index: 354365 entries, 0 to 354368\n",
      "Data columns (total 11 columns):\n",
      "price               354365 non-null int64\n",
      "vehicletype         354365 non-null category\n",
      "registrationyear    354365 non-null int64\n",
      "gearbox             354365 non-null category\n",
      "power               354365 non-null int64\n",
      "model               354365 non-null category\n",
      "kilometer           354365 non-null category\n",
      "fueltype            354365 non-null category\n",
      "brand               354365 non-null category\n",
      "notrepaired         354365 non-null category\n",
      "postalcode          354365 non-null category\n",
      "dtypes: category(8), int64(3)\n",
      "memory usage: 14.6 MB\n"
     ]
    }
   ],
   "source": [
    "df.info()"
   ]
  },
  {
   "cell_type": "markdown",
   "metadata": {},
   "source": [
    "&#9889; **Вывод:** \n",
    "1. Удаление столбцов сократило потребление памяти с 43.3 мб до 32.4 мб.\n",
    "2. Конвертация типов данных в категориальные сократило потребление памяти более чем вдвое с 32.4 мб до 14.6 мб."
   ]
  },
  {
   "cell_type": "markdown",
   "metadata": {},
   "source": [
    "[В оглавление](#TOC)"
   ]
  },
  {
   "cell_type": "markdown",
   "metadata": {},
   "source": [
    "### 7) Ознакомимся со столбцами, в которых были замечены странные значения<a class='anchor' id='1_7'>"
   ]
  },
  {
   "cell_type": "markdown",
   "metadata": {},
   "source": [
    "#### - цена (price)"
   ]
  },
  {
   "cell_type": "code",
   "execution_count": 30,
   "metadata": {},
   "outputs": [
    {
     "data": {
      "image/png": "[encoded data removed]",
      "text/plain": [
       "<Figure size 432x288 with 1 Axes>"
      ]
     },
     "metadata": {
      "needs_background": "light"
     },
     "output_type": "display_data"
    }
   ],
   "source": [
    "explorer.histogram(df.price, 100, 0, 25000, True)"
   ]
  },
  {
   "cell_type": "markdown",
   "metadata": {},
   "source": [
    "Распредление скошено вправо, есть длинный хвост, пик у нуля. Построим ящик с усами:"
   ]
  },
  {
   "cell_type": "code",
   "execution_count": 31,
   "metadata": {},
   "outputs": [
    {
     "data": {
      "text/plain": [
       "<matplotlib.axes._subplots.AxesSubplot at 0x21850c2bf08>"
      ]
     },
     "execution_count": 31,
     "metadata": {},
     "output_type": "execute_result"
    },
    {
     "data": {
      "image/png": "[encoded data removed]",
      "text/plain": [
       "<Figure size 432x288 with 1 Axes>"
      ]
     },
     "metadata": {
      "needs_background": "light"
     },
     "output_type": "display_data"
    }
   ],
   "source": [
    "df.boxplot('price')"
   ]
  },
  {
   "cell_type": "markdown",
   "metadata": {},
   "source": [
    "Нижний ус упирается в ноль, множественные выбросы, которые существенно влияют на среднее и медиану. От аномалий в целевом признаке требуется избавиться."
   ]
  },
  {
   "cell_type": "markdown",
   "metadata": {},
   "source": [
    "#### - мощность (power)"
   ]
  },
  {
   "cell_type": "code",
   "execution_count": 32,
   "metadata": {},
   "outputs": [
    {
     "data": {
      "image/png": "[encoded data removed]",
      "text/plain": [
       "<Figure size 432x288 with 1 Axes>"
      ]
     },
     "metadata": {
      "needs_background": "light"
     },
     "output_type": "display_data"
    }
   ],
   "source": [
    "explorer.histogram(df.power, 100, 0, 500, True)"
   ]
  },
  {
   "cell_type": "markdown",
   "metadata": {},
   "source": [
    "Пик у нуля, длинный хвост, хотя медиана и среднее близки. Построим ящик с усами для можности"
   ]
  },
  {
   "cell_type": "code",
   "execution_count": 33,
   "metadata": {},
   "outputs": [
    {
     "data": {
      "text/plain": [
       "<matplotlib.axes._subplots.AxesSubplot at 0x21850fd2888>"
      ]
     },
     "execution_count": 33,
     "metadata": {},
     "output_type": "execute_result"
    },
    {
     "data": {
      "image/png": "[encoded data removed]",
      "text/plain": [
       "<Figure size 432x288 with 1 Axes>"
      ]
     },
     "metadata": {
      "needs_background": "light"
     },
     "output_type": "display_data"
    }
   ],
   "source": [
    "df.boxplot('power')"
   ]
  },
  {
   "cell_type": "markdown",
   "metadata": {},
   "source": [
    "Также множественные выбросы. Если принимать во внимание, что мощностью двигателя больше 1000 л.с. обладают [немассовые автомобили](https://1gai.ru/publ/515244-15-luchshih-avtomobiley-moschnostyu-1000-ls-i-bolee.html), а мощностью в районе 500 л.с. обладают уже [тягачи](https://www.classtrucks.ru/ru/katalog/cedelnyje-tiagiachi/volvo?infinity=ict2~net~gaw~ar~386167817746~kw~%2B%D1%82%D1%8F%D0%B3%D0%B0%D1%87%20%2B%D0%B2%D0%BE%D0%BB%D1%8C%D0%B2%D0%BE~mt~b~cmp~Search%20%7C%20Volvo%20Vilkikai~ag~Volvo%20Vilkikai&gclid=EAIaIQobChMIysSJpbu85wIVzYeyCh3GRQVoEAAYASAAEgJUYvD_BwE) - от выбросов потребуется избавиться, поскольку они искажают данные. Кроме того, нулевая мощность, очевидно, требует исправления."
   ]
  },
  {
   "cell_type": "markdown",
   "metadata": {},
   "source": [
    "#### - год регистрации (registrationyear)"
   ]
  },
  {
   "cell_type": "code",
   "execution_count": 34,
   "metadata": {},
   "outputs": [
    {
     "data": {
      "image/png": "[encoded data removed]",
      "text/plain": [
       "<Figure size 432x288 with 1 Axes>"
      ]
     },
     "metadata": {
      "needs_background": "light"
     },
     "output_type": "display_data"
    }
   ],
   "source": [
    "explorer.histogram(df.registrationyear, 100, 1900, 2020, True)"
   ]
  },
  {
   "cell_type": "markdown",
   "metadata": {},
   "source": [
    "Множество пиков, данные скошены влево, есть длинный хвост (ранее было выявлено, что мимнимальное значение - 1000). Значения ранее 1900 и позже 2020 года будут отброшены."
   ]
  },
  {
   "cell_type": "markdown",
   "metadata": {},
   "source": [
    "[В оглавление](#TOC)"
   ]
  },
  {
   "cell_type": "markdown",
   "metadata": {},
   "source": [
    "### 8) Избавимся от странных значений в датасете<a class='anchor' id='1_8'>"
   ]
  },
  {
   "cell_type": "markdown",
   "metadata": {},
   "source": [
    "#### - цена (price)"
   ]
  },
  {
   "cell_type": "markdown",
   "metadata": {},
   "source": [
    "Посчитем сколько наблюдений будет отброшено:"
   ]
  },
  {
   "cell_type": "code",
   "execution_count": 35,
   "metadata": {},
   "outputs": [
    {
     "data": {
      "text/plain": [
       "19658"
      ]
     },
     "execution_count": 35,
     "metadata": {},
     "output_type": "execute_result"
    }
   ],
   "source": [
    "len(df.query('500 < price and price > 14000'))"
   ]
  },
  {
   "cell_type": "markdown",
   "metadata": {},
   "source": [
    "Всего 19 658 из 354 365 (6%):"
   ]
  },
  {
   "cell_type": "code",
   "execution_count": 36,
   "metadata": {},
   "outputs": [],
   "source": [
    "df = df.query('500 < price < 14000')"
   ]
  },
  {
   "cell_type": "markdown",
   "metadata": {},
   "source": [
    "#### - мощность (power)"
   ]
  },
  {
   "cell_type": "markdown",
   "metadata": {},
   "source": [
    "Посчитем сколько наблюдений мощности являются странными:"
   ]
  },
  {
   "cell_type": "code",
   "execution_count": 37,
   "metadata": {},
   "outputs": [
    {
     "data": {
      "text/plain": [
       "27126"
      ]
     },
     "execution_count": 37,
     "metadata": {},
     "output_type": "execute_result"
    }
   ],
   "source": [
    "len(df.query('power == 0 or power > 1500'))"
   ]
  },
  {
   "cell_type": "markdown",
   "metadata": {},
   "source": [
    "Нулевые значения и значения выше 1500 л.с. в количестве 27 126 из 354 365 (8%) заменим на среднее значение по каждой из моделей в датасете:"
   ]
  },
  {
   "cell_type": "code",
   "execution_count": 38,
   "metadata": {},
   "outputs": [],
   "source": [
    "df.loc[df['power'] == 0, 'power'] = df.groupby('model')['power'].transform(np.mean)\n",
    "df.loc[df['power'] > 1500, 'power'] = df.groupby('model')['power'].transform(np.mean)\n",
    "df['power'] = df.power.astype(int)"
   ]
  },
  {
   "cell_type": "markdown",
   "metadata": {},
   "source": [
    "#### - год регистрации"
   ]
  },
  {
   "cell_type": "markdown",
   "metadata": {},
   "source": [
    "Посчитем сколько наблюдений со странным годом будет отброшено"
   ]
  },
  {
   "cell_type": "code",
   "execution_count": 39,
   "metadata": {},
   "outputs": [
    {
     "data": {
      "text/plain": [
       "66"
      ]
     },
     "execution_count": 39,
     "metadata": {},
     "output_type": "execute_result"
    }
   ],
   "source": [
    "len(df.query('registrationyear < 1900 or registrationyear > 2020'))"
   ]
  },
  {
   "cell_type": "markdown",
   "metadata": {},
   "source": [
    "Всего 66 значений - менее процента:"
   ]
  },
  {
   "cell_type": "code",
   "execution_count": 40,
   "metadata": {},
   "outputs": [],
   "source": [
    "df = df.query('registrationyear > 1900 and registrationyear < 2020')"
   ]
  },
  {
   "cell_type": "markdown",
   "metadata": {},
   "source": [
    "#### - выведем общую информацию о полученном датасете"
   ]
  },
  {
   "cell_type": "code",
   "execution_count": 41,
   "metadata": {},
   "outputs": [
    {
     "name": "stdout",
     "output_type": "stream",
     "text": [
      "<class 'pandas.core.frame.DataFrame'>\n",
      "Int64Index: 292382 entries, 2 to 354368\n",
      "Data columns (total 11 columns):\n",
      "price               292382 non-null int64\n",
      "vehicletype         292382 non-null category\n",
      "registrationyear    292382 non-null int64\n",
      "gearbox             292382 non-null category\n",
      "power               292382 non-null int32\n",
      "model               292382 non-null category\n",
      "kilometer           292382 non-null category\n",
      "fueltype            292382 non-null category\n",
      "brand               292382 non-null category\n",
      "notrepaired         292382 non-null category\n",
      "postalcode          292382 non-null category\n",
      "dtypes: category(8), int32(1), int64(2)\n",
      "memory usage: 11.0 MB\n"
     ]
    }
   ],
   "source": [
    "df.info()"
   ]
  },
  {
   "cell_type": "markdown",
   "metadata": {},
   "source": [
    "[В оглавление](#TOC)"
   ]
  },
  {
   "cell_type": "markdown",
   "metadata": {},
   "source": [
    "### Вывод:<a class='anchor' id='1_conclusion'>"
   ]
  },
  {
   "cell_type": "markdown",
   "metadata": {},
   "source": [
    "1. В исходном датасете выявлены многочисленные пропуски:\n",
    "    - model - 19 705 из 354 369 (6%)\n",
    "    - gearbox- 19 833 из 354 369 (6%)\n",
    "    - fueltype - 32 895 из 354 369 (9%)\n",
    "    - vehicletype - 37 490 из 354 369 (11%)\n",
    "    - notrepaired - 71 154 из 354 369 (20%)\n",
    "2. Выявлены странные значения: \n",
    "    - в столбце с мощностью минимальное значение - 0, а максимальное значение - 20 000,\n",
    "    - в столбце с годом регистрации минимальное значение - 1000, максимальное - 9999,\n",
    "    - в столбце с числом фотографий только нули,\n",
    "    - в целевом признаке - цене - есть нулевые значения.\n",
    "3. Столбцы 'datecrawled', 'datecreated', 'numberofpictures', 'lastseen', 'registrationmonth' удалены, поскольку носят неуниверсальный и неинформативный характер.\n",
    "4. Вольскваген - самая часто встречающаяся марка (247 161 из 354 369, 70%). Самая часта модель - \"гольф\" (77 013 из 354 369, 22%). В представленной выборке 76% (268 251 из 354 369) автомобилей с ручной коробкой передач, 61% (216 352 из 354 369) с бензиновым двигателем, 70 % (247 161 из 354 369) автомобилей подвергались ремонту. \n",
    "5. Частично заполнены пропуски в столбцах с помощью сгруппированных данных соседних столбцов. Пропуски после заполнения:\n",
    "    - gearbox - 4131 (вместо 19 833) из 354 369 (1%)\n",
    "    - vehicletype - 6 828 (вместо 37 490) из 354 369 (2%)\n",
    "    - fueltype - 7163 (вместо 32 895) из 354 369 (2%)\n",
    "    - model - 19 705 из 354 369 (6%)\n",
    "    - notrepaired - 71 154 из 354 369 (20%)\n",
    "6. Для значений которые не удалось заполнить с помощью соседних столбцов используем плейсхолдер \"unknown\"¶\n",
    "7. После заполнения пропусков отброшены странные значения (нули, выбросы и неправдоподобные наблюдения) в столбцах price (19 658 из 354 365 (6%)) и power (66, менее 1%).\n",
    "8. Неправдоподобные значения в столбце power заменены на средние значения по моделям (27 126 из 354 365 (8%)).\n",
    "9. Столбы с категориальными признаками были конвертированы в специальный тип данных – «категория»: vehicletype, gearbox, model, kilometer, fueltype, brand, notrepaired, postalcode. \n",
    "10. После предобработки получен датасет с 292 382 строками вместо изначальных 354 365 (82%), с 11 столбцами вместо изначальных 16. Потребление памяти снизили с 43.3 мб до 11 мб.\n",
    "\n"
   ]
  },
  {
   "cell_type": "markdown",
   "metadata": {},
   "source": [
    "[В оглавление](#TOC)"
   ]
  },
  {
   "cell_type": "markdown",
   "metadata": {},
   "source": [
    "# 2. Обучение моделей<a class='anchor' id='2'>\n",
    "***"
   ]
  },
  {
   "cell_type": "markdown",
   "metadata": {},
   "source": [
    "#### 1) Инициализируем модели<a class=\"anchor\" id=\"2_1\">"
   ]
  },
  {
   "cell_type": "markdown",
   "metadata": {},
   "source": [
    "#### - CatBoostRegressor"
   ]
  },
  {
   "cell_type": "code",
   "execution_count": 42,
   "metadata": {},
   "outputs": [],
   "source": [
    "cb = CatBoostRegressor(random_state=42, verbose=10)"
   ]
  },
  {
   "cell_type": "markdown",
   "metadata": {},
   "source": [
    "#### - LGBMRegressor"
   ]
  },
  {
   "cell_type": "code",
   "execution_count": 43,
   "metadata": {},
   "outputs": [],
   "source": [
    "lg = lgb.LGBMRegressor(random_state=42)"
   ]
  },
  {
   "cell_type": "markdown",
   "metadata": {},
   "source": [
    "[В оглавление](#TOC)"
   ]
  },
  {
   "cell_type": "markdown",
   "metadata": {},
   "source": [
    "#### 2) Разделим выборку на обучающую и тестовую в соотношении 75:25, выделим целевые признаки, определим список с категориальными признаками<a class=\"anchor\" id=\"2_2\">"
   ]
  },
  {
   "cell_type": "code",
   "execution_count": 44,
   "metadata": {},
   "outputs": [],
   "source": [
    "x_train, x_test, y_train, y_test = train_test_split(df.drop('price', axis=1), df.price, train_size=0.75, random_state=42)"
   ]
  },
  {
   "cell_type": "code",
   "execution_count": 45,
   "metadata": {},
   "outputs": [],
   "source": [
    "cat_features = ['vehicletype', 'gearbox', 'model', 'fueltype', 'brand', 'notrepaired', 'postalcode', 'kilometer']"
   ]
  },
  {
   "cell_type": "markdown",
   "metadata": {},
   "source": [
    "[В оглавление](#TOC)"
   ]
  },
  {
   "cell_type": "markdown",
   "metadata": {},
   "source": [
    "#### 3) Подберем оптимальные параметы с помощью GridSearchCV для каждой из моделей<a class=\"anchor\" id=\"2_3\">"
   ]
  },
  {
   "cell_type": "markdown",
   "metadata": {},
   "source": [
    "#### - CatBoostRegressor"
   ]
  },
  {
   "cell_type": "code",
   "execution_count": 46,
   "metadata": {},
   "outputs": [
    {
     "name": "stdout",
     "output_type": "stream",
     "text": [
      "Fitting 3 folds for each of 27 candidates, totalling 81 fits\n"
     ]
    },
    {
     "name": "stderr",
     "output_type": "stream",
     "text": [
      "[Parallel(n_jobs=-1)]: Using backend LokyBackend with 8 concurrent workers.\n",
      "[Parallel(n_jobs=-1)]: Done   2 tasks      | elapsed:   46.2s\n",
      "[Parallel(n_jobs=-1)]: Done   9 tasks      | elapsed:  1.5min\n",
      "[Parallel(n_jobs=-1)]: Done  16 tasks      | elapsed:  2.2min\n",
      "[Parallel(n_jobs=-1)]: Done  25 tasks      | elapsed:  3.1min\n",
      "[Parallel(n_jobs=-1)]: Done  34 tasks      | elapsed: 10.7min\n",
      "[Parallel(n_jobs=-1)]: Done  45 tasks      | elapsed: 20.9min\n",
      "[Parallel(n_jobs=-1)]: Done  56 tasks      | elapsed: 33.2min\n",
      "[Parallel(n_jobs=-1)]: Done  75 out of  81 | elapsed: 66.5min remaining:  5.3min\n",
      "[Parallel(n_jobs=-1)]: Done  81 out of  81 | elapsed: 74.8min finished\n"
     ]
    },
    {
     "name": "stdout",
     "output_type": "stream",
     "text": [
      "0:\tlearn: 3164.1410442\ttotal: 514ms\tremaining: 5m 7s\n",
      "10:\tlearn: 1945.2221848\ttotal: 4.19s\tremaining: 3m 44s\n",
      "20:\tlearn: 1611.5738797\ttotal: 7.74s\tremaining: 3m 33s\n",
      "30:\tlearn: 1514.0392729\ttotal: 11.3s\tremaining: 3m 28s\n",
      "40:\tlearn: 1473.4456457\ttotal: 14.9s\tremaining: 3m 23s\n",
      "50:\tlearn: 1449.5166041\ttotal: 18.6s\tremaining: 3m 20s\n",
      "60:\tlearn: 1432.6808798\ttotal: 22.4s\tremaining: 3m 17s\n",
      "70:\tlearn: 1420.8442275\ttotal: 26.4s\tremaining: 3m 16s\n",
      "80:\tlearn: 1410.9606631\ttotal: 29.9s\tremaining: 3m 11s\n",
      "90:\tlearn: 1401.4324013\ttotal: 34s\tremaining: 3m 9s\n",
      "100:\tlearn: 1391.0274138\ttotal: 38s\tremaining: 3m 7s\n",
      "110:\tlearn: 1382.8829687\ttotal: 42.2s\tremaining: 3m 5s\n",
      "120:\tlearn: 1375.6483241\ttotal: 45.9s\tremaining: 3m 1s\n",
      "130:\tlearn: 1368.1982050\ttotal: 49.9s\tremaining: 2m 58s\n",
      "140:\tlearn: 1360.2497456\ttotal: 53.8s\tremaining: 2m 55s\n",
      "150:\tlearn: 1353.2320962\ttotal: 57.8s\tremaining: 2m 52s\n",
      "160:\tlearn: 1346.6353189\ttotal: 1m 1s\tremaining: 2m 47s\n",
      "170:\tlearn: 1340.8859495\ttotal: 1m 5s\tremaining: 2m 44s\n",
      "180:\tlearn: 1336.6565768\ttotal: 1m 9s\tremaining: 2m 40s\n",
      "190:\tlearn: 1331.1315253\ttotal: 1m 13s\tremaining: 2m 36s\n",
      "200:\tlearn: 1327.1401836\ttotal: 1m 17s\tremaining: 2m 33s\n",
      "210:\tlearn: 1321.2470245\ttotal: 1m 21s\tremaining: 2m 29s\n",
      "220:\tlearn: 1316.2906684\ttotal: 1m 25s\tremaining: 2m 26s\n",
      "230:\tlearn: 1312.3422337\ttotal: 1m 29s\tremaining: 2m 22s\n",
      "240:\tlearn: 1308.2857226\ttotal: 1m 33s\tremaining: 2m 18s\n",
      "250:\tlearn: 1304.7453171\ttotal: 1m 37s\tremaining: 2m 14s\n",
      "260:\tlearn: 1300.7703406\ttotal: 1m 41s\tremaining: 2m 11s\n",
      "270:\tlearn: 1296.8868345\ttotal: 1m 44s\tremaining: 2m 7s\n",
      "280:\tlearn: 1294.1906909\ttotal: 1m 48s\tremaining: 2m 3s\n",
      "290:\tlearn: 1290.6813795\ttotal: 1m 53s\tremaining: 2m\n",
      "300:\tlearn: 1287.1635832\ttotal: 1m 57s\tremaining: 1m 56s\n",
      "310:\tlearn: 1283.5882133\ttotal: 2m 1s\tremaining: 1m 52s\n",
      "320:\tlearn: 1279.9131564\ttotal: 2m 5s\tremaining: 1m 49s\n",
      "330:\tlearn: 1276.7168604\ttotal: 2m 9s\tremaining: 1m 45s\n",
      "340:\tlearn: 1274.1025583\ttotal: 2m 13s\tremaining: 1m 41s\n",
      "350:\tlearn: 1271.7361120\ttotal: 2m 17s\tremaining: 1m 37s\n",
      "360:\tlearn: 1268.6215775\ttotal: 2m 22s\tremaining: 1m 34s\n",
      "370:\tlearn: 1265.0863641\ttotal: 2m 26s\tremaining: 1m 30s\n",
      "380:\tlearn: 1262.7315715\ttotal: 2m 29s\tremaining: 1m 26s\n",
      "390:\tlearn: 1259.5237932\ttotal: 2m 33s\tremaining: 1m 22s\n",
      "400:\tlearn: 1255.9870583\ttotal: 2m 38s\tremaining: 1m 18s\n",
      "410:\tlearn: 1252.8515826\ttotal: 2m 41s\tremaining: 1m 14s\n",
      "420:\tlearn: 1250.3397179\ttotal: 2m 45s\tremaining: 1m 10s\n",
      "430:\tlearn: 1247.6766538\ttotal: 2m 50s\tremaining: 1m 6s\n",
      "440:\tlearn: 1245.0013803\ttotal: 2m 54s\tremaining: 1m 2s\n",
      "450:\tlearn: 1242.7028295\ttotal: 2m 57s\tremaining: 58.8s\n",
      "460:\tlearn: 1240.0437634\ttotal: 3m 2s\tremaining: 54.9s\n",
      "470:\tlearn: 1236.9459673\ttotal: 3m 6s\tremaining: 51s\n",
      "480:\tlearn: 1234.9786930\ttotal: 3m 10s\tremaining: 47.2s\n",
      "490:\tlearn: 1232.6338063\ttotal: 3m 14s\tremaining: 43.2s\n",
      "500:\tlearn: 1230.4628659\ttotal: 3m 18s\tremaining: 39.3s\n",
      "510:\tlearn: 1227.8279551\ttotal: 3m 23s\tremaining: 35.4s\n",
      "520:\tlearn: 1224.9621140\ttotal: 3m 27s\tremaining: 31.4s\n",
      "530:\tlearn: 1222.9657949\ttotal: 3m 31s\tremaining: 27.5s\n",
      "540:\tlearn: 1220.6590857\ttotal: 3m 35s\tremaining: 23.5s\n",
      "550:\tlearn: 1219.2341335\ttotal: 3m 40s\tremaining: 19.6s\n",
      "560:\tlearn: 1217.4738442\ttotal: 3m 44s\tremaining: 15.6s\n",
      "570:\tlearn: 1216.0157184\ttotal: 3m 48s\tremaining: 11.6s\n",
      "580:\tlearn: 1213.7123549\ttotal: 3m 51s\tremaining: 7.58s\n",
      "590:\tlearn: 1211.5938577\ttotal: 3m 56s\tremaining: 3.6s\n",
      "599:\tlearn: 1209.5438382\ttotal: 4m\tremaining: 0us\n"
     ]
    }
   ],
   "source": [
    "cb_params = {'max_depth' : [6, 8, 10],\n",
    "             'learning_rate' : [0.01, 0.05, 0.1],\n",
    "             'iterations' : [150, 300, 600],\n",
    "             'bagging_temperature' : [0.2],\n",
    "             'od_type' : ['Iter'],\n",
    "             'od_wait' : [50]}\n",
    "    \n",
    "cb_grid = GridSearchCV(estimator=cb,\n",
    "                       param_grid=cb_params,\n",
    "                       scoring='neg_mean_squared_error', cv=3,\n",
    "                       verbose=10, n_jobs=-1)\n",
    "\n",
    "cb_grid.fit(x_train, y_train, cat_features=cat_features)\n",
    "\n",
    "best_estimator_catboost = cb_grid.best_estimator_"
   ]
  },
  {
   "cell_type": "markdown",
   "metadata": {},
   "source": [
    "#### - LGBMRegressor"
   ]
  },
  {
   "cell_type": "code",
   "execution_count": 47,
   "metadata": {},
   "outputs": [
    {
     "name": "stdout",
     "output_type": "stream",
     "text": [
      "Fitting 3 folds for each of 27 candidates, totalling 81 fits\n"
     ]
    },
    {
     "name": "stderr",
     "output_type": "stream",
     "text": [
      "[Parallel(n_jobs=-1)]: Using backend LokyBackend with 8 concurrent workers.\n",
      "[Parallel(n_jobs=-1)]: Done   2 tasks      | elapsed:   18.5s\n",
      "[Parallel(n_jobs=-1)]: Done   9 tasks      | elapsed:   54.5s\n",
      "[Parallel(n_jobs=-1)]: Done  16 tasks      | elapsed:  2.2min\n",
      "[Parallel(n_jobs=-1)]: Done  25 tasks      | elapsed:  5.5min\n",
      "[Parallel(n_jobs=-1)]: Done  34 tasks      | elapsed:  7.3min\n",
      "[Parallel(n_jobs=-1)]: Done  45 tasks      | elapsed: 11.6min\n",
      "[Parallel(n_jobs=-1)]: Done  56 tasks      | elapsed: 16.5min\n",
      "[Parallel(n_jobs=-1)]: Done  75 out of  81 | elapsed: 24.1min remaining:  1.9min\n",
      "[Parallel(n_jobs=-1)]: Done  81 out of  81 | elapsed: 28.0min finished\n"
     ]
    }
   ],
   "source": [
    "lg_param = {'num_leaves' : [300, 600, 1200], \n",
    "            'n_estimators' : [150, 300, 600], \n",
    "            'learning_rate' : [0.01, 0.05, 0.1]}\n",
    "\n",
    "lg_grid = GridSearchCV(estimator=lg,\n",
    "                       param_grid=lg_param,\n",
    "                       scoring='neg_mean_squared_error', cv=3,\n",
    "                       verbose=10, n_jobs=-1)\n",
    "\n",
    "lg_grid.fit(x_train, y_train, categorical_feature=cat_features)\n",
    "\n",
    "best_estimator_lg = lg_grid.best_estimator_"
   ]
  },
  {
   "cell_type": "markdown",
   "metadata": {},
   "source": [
    "[В оглавление](#TOC)"
   ]
  },
  {
   "cell_type": "markdown",
   "metadata": {},
   "source": [
    "#### 4) Обучим модели, получим предсказания, посчитаем время обучения<a class=\"anchor\" id=\"2_4\">"
   ]
  },
  {
   "cell_type": "markdown",
   "metadata": {},
   "source": [
    "#### - CatBoostRegressor"
   ]
  },
  {
   "cell_type": "code",
   "execution_count": 48,
   "metadata": {},
   "outputs": [
    {
     "name": "stdout",
     "output_type": "stream",
     "text": [
      "0:\tlearn: 3164.1410442\ttotal: 425ms\tremaining: 4m 14s\n",
      "100:\tlearn: 1391.0274138\ttotal: 38s\tremaining: 3m 7s\n",
      "200:\tlearn: 1327.1401836\ttotal: 1m 17s\tremaining: 2m 34s\n",
      "300:\tlearn: 1287.1635832\ttotal: 1m 57s\tremaining: 1m 57s\n",
      "400:\tlearn: 1255.9870583\ttotal: 2m 39s\tremaining: 1m 19s\n",
      "500:\tlearn: 1230.4628659\ttotal: 3m 20s\tremaining: 39.6s\n",
      "599:\tlearn: 1209.5438382\ttotal: 4m 1s\tremaining: 0us\n",
      "4min 2s ± 0 ns per loop (mean ± std. dev. of 1 run, 1 loop each)\n"
     ]
    },
    {
     "data": {
      "text/plain": [
       "<TimeitResult : 4min 2s ± 0 ns per loop (mean ± std. dev. of 1 run, 1 loop each)>"
      ]
     },
     "execution_count": 48,
     "metadata": {},
     "output_type": "execute_result"
    }
   ],
   "source": [
    "%%timeit -n1 -r1 -o\n",
    "best_estimator_catboost.fit(x_train, y_train, cat_features=cat_features, verbose=100)"
   ]
  },
  {
   "cell_type": "code",
   "execution_count": 49,
   "metadata": {},
   "outputs": [],
   "source": [
    "cbfittime = _"
   ]
  },
  {
   "cell_type": "markdown",
   "metadata": {},
   "source": [
    "#### - LGBMRegressor"
   ]
  },
  {
   "cell_type": "code",
   "execution_count": 50,
   "metadata": {},
   "outputs": [
    {
     "name": "stdout",
     "output_type": "stream",
     "text": [
      "39.3 s ± 0 ns per loop (mean ± std. dev. of 1 run, 1 loop each)\n"
     ]
    },
    {
     "data": {
      "text/plain": [
       "<TimeitResult : 39.3 s ± 0 ns per loop (mean ± std. dev. of 1 run, 1 loop each)>"
      ]
     },
     "execution_count": 50,
     "metadata": {},
     "output_type": "execute_result"
    }
   ],
   "source": [
    "%%timeit -n1 -r1 -o \n",
    "best_estimator_lg.fit(x_train, y_train, categorical_feature=cat_features, verbose=1)"
   ]
  },
  {
   "cell_type": "code",
   "execution_count": 51,
   "metadata": {},
   "outputs": [],
   "source": [
    "lgfittime = _"
   ]
  },
  {
   "cell_type": "markdown",
   "metadata": {},
   "source": [
    "#### - предсказания CatBoostRegressor"
   ]
  },
  {
   "cell_type": "markdown",
   "metadata": {},
   "source": [
    "Из-за особенностей работы магической функции [%%timeit](https://github.com/jupyter/notebook/issues/4532) присваивание в ячейке с функцией времени не работает, поэтому предсказания будут вычилятся дважды - для фиксации времени и, собственно, для предсказаний."
   ]
  },
  {
   "cell_type": "code",
   "execution_count": 52,
   "metadata": {},
   "outputs": [
    {
     "name": "stdout",
     "output_type": "stream",
     "text": [
      "686 ms ± 0 ns per loop (mean ± std. dev. of 1 run, 1 loop each)\n"
     ]
    },
    {
     "data": {
      "text/plain": [
       "<TimeitResult : 686 ms ± 0 ns per loop (mean ± std. dev. of 1 run, 1 loop each)>"
      ]
     },
     "execution_count": 52,
     "metadata": {},
     "output_type": "execute_result"
    }
   ],
   "source": [
    "%%timeit -n1 -r1 -o \n",
    "predicted_cb = best_estimator_catboost.predict(x_test)"
   ]
  },
  {
   "cell_type": "code",
   "execution_count": 53,
   "metadata": {},
   "outputs": [],
   "source": [
    "cbpredtime = _"
   ]
  },
  {
   "cell_type": "code",
   "execution_count": 54,
   "metadata": {},
   "outputs": [],
   "source": [
    "predicted_cb = best_estimator_catboost.predict(x_test)"
   ]
  },
  {
   "cell_type": "markdown",
   "metadata": {},
   "source": [
    "#### - предсказания LGBMRegressor"
   ]
  },
  {
   "cell_type": "markdown",
   "metadata": {},
   "source": [
    "Из-за особенностей работы магической функции [%%timeit](https://github.com/jupyter/notebook/issues/4532) присваивание в ячейке с функцией времени не работает, поэтому предсказания будут вычилятся дважды - для фиксации времени и, собственно, для предсказаний."
   ]
  },
  {
   "cell_type": "code",
   "execution_count": 55,
   "metadata": {},
   "outputs": [
    {
     "name": "stdout",
     "output_type": "stream",
     "text": [
      "8.56 s ± 0 ns per loop (mean ± std. dev. of 1 run, 1 loop each)\n"
     ]
    },
    {
     "data": {
      "text/plain": [
       "<TimeitResult : 8.56 s ± 0 ns per loop (mean ± std. dev. of 1 run, 1 loop each)>"
      ]
     },
     "execution_count": 55,
     "metadata": {},
     "output_type": "execute_result"
    }
   ],
   "source": [
    "%%timeit -n1 -r1 -o \n",
    "predicted_lg = best_estimator_lg.predict(x_test)"
   ]
  },
  {
   "cell_type": "code",
   "execution_count": 56,
   "metadata": {},
   "outputs": [],
   "source": [
    "lgpredtime = _"
   ]
  },
  {
   "cell_type": "code",
   "execution_count": 57,
   "metadata": {},
   "outputs": [],
   "source": [
    "predicted_lg = best_estimator_lg.predict(x_test)"
   ]
  },
  {
   "cell_type": "markdown",
   "metadata": {},
   "source": [
    "[В оглавление](#TOC)"
   ]
  },
  {
   "cell_type": "markdown",
   "metadata": {},
   "source": [
    "# 3. Анализ моделей<a class='anchor' id='3'>\n",
    "***"
   ]
  },
  {
   "cell_type": "markdown",
   "metadata": {},
   "source": [
    "#### 1) Соберем метрики качества на тестовой выборке (RMSE) для каждой из моделей, время обучения<a class='anchor' id='3_1'>"
   ]
  },
  {
   "cell_type": "code",
   "execution_count": 58,
   "metadata": {},
   "outputs": [],
   "source": [
    "results = []"
   ]
  },
  {
   "cell_type": "code",
   "execution_count": 59,
   "metadata": {},
   "outputs": [],
   "source": [
    "results.append(('CatBoost', mean_squared_error(y_test, predicted_cb)**0.5, explorer.smape(y_test, predicted_cb), \n",
    "                explorer.mape(y_test, predicted_cb), str(cbfittime).split('±')[0].strip(), str(cbpredtime).split('±')[0].strip(), best_estimator_catboost))\n",
    "\n",
    "results.append(('LGBMRegressor', mean_squared_error(y_test, predicted_lg)**0.5, explorer.smape(y_test, predicted_lg), \n",
    "                explorer.mape(y_test, predicted_lg), str(lgfittime).split('±')[0].strip(), str(lgpredtime).split('±')[0].strip(), best_estimator_lg))"
   ]
  },
  {
   "cell_type": "markdown",
   "metadata": {},
   "source": [
    "[В оглавление](#TOC)"
   ]
  },
  {
   "cell_type": "markdown",
   "metadata": {},
   "source": [
    "#### 2) Итоговые результаты работы моделей в табличном виде<a class='anchor' id='3_2'>"
   ]
  },
  {
   "cell_type": "code",
   "execution_count": 60,
   "metadata": {},
   "outputs": [
    {
     "data": {
      "text/html": [
       "<div>\n",
       "<style scoped>\n",
       "    .dataframe tbody tr th:only-of-type {\n",
       "        vertical-align: middle;\n",
       "    }\n",
       "\n",
       "    .dataframe tbody tr th {\n",
       "        vertical-align: top;\n",
       "    }\n",
       "\n",
       "    .dataframe thead th {\n",
       "        text-align: right;\n",
       "    }\n",
       "</style>\n",
       "<table border=\"1\" class=\"dataframe\">\n",
       "  <thead>\n",
       "    <tr style=\"text-align: right;\">\n",
       "      <th></th>\n",
       "      <th>model</th>\n",
       "      <th>rmse</th>\n",
       "      <th>smape</th>\n",
       "      <th>mape</th>\n",
       "      <th>fit_time</th>\n",
       "      <th>predict_time</th>\n",
       "      <th>params</th>\n",
       "    </tr>\n",
       "  </thead>\n",
       "  <tbody>\n",
       "    <tr>\n",
       "      <td>0</td>\n",
       "      <td>CatBoost</td>\n",
       "      <td>1332.158975</td>\n",
       "      <td>26.404931</td>\n",
       "      <td>19.277695</td>\n",
       "      <td>4min 2s</td>\n",
       "      <td>686 ms</td>\n",
       "      <td>&lt;catboost.core.CatBoostRegressor object at 0x0...</td>\n",
       "    </tr>\n",
       "    <tr>\n",
       "      <td>1</td>\n",
       "      <td>LGBMRegressor</td>\n",
       "      <td>1280.265784</td>\n",
       "      <td>25.143883</td>\n",
       "      <td>17.466269</td>\n",
       "      <td>39.3 s</td>\n",
       "      <td>8.56 s</td>\n",
       "      <td>LGBMRegressor(boosting_type='gbdt', class_weig...</td>\n",
       "    </tr>\n",
       "  </tbody>\n",
       "</table>\n",
       "</div>"
      ],
      "text/plain": [
       "           model         rmse      smape       mape fit_time predict_time  \\\n",
       "0       CatBoost  1332.158975  26.404931  19.277695  4min 2s       686 ms   \n",
       "1  LGBMRegressor  1280.265784  25.143883  17.466269   39.3 s       8.56 s   \n",
       "\n",
       "                                              params  \n",
       "0  <catboost.core.CatBoostRegressor object at 0x0...  \n",
       "1  LGBMRegressor(boosting_type='gbdt', class_weig...  "
      ]
     },
     "execution_count": 60,
     "metadata": {},
     "output_type": "execute_result"
    }
   ],
   "source": [
    "pd.DataFrame(results, columns=['model', 'rmse', 'smape', 'mape', 'fit_time', 'predict_time', 'params'])"
   ]
  },
  {
   "cell_type": "markdown",
   "metadata": {},
   "source": [
    "### Вывод:<a class='anchor' id='3_conclusion'>"
   ]
  },
  {
   "cell_type": "markdown",
   "metadata": {},
   "source": [
    "1. LGBMRegressor справился с задачей лучше, чем CatBoostRegressor:\n",
    "    - **RMSE** - 1280.27 (LGBMRegressor) против 1332.16 (CatBoostRegressor),\n",
    "    - **SMAPE** - 25.14 (LGBMRegressor) против 26.40 (CatBoostRegressor),\n",
    "    - **MAPE** - 17.46 (LGBMRegressor) против 19.28 (CatBoostRegressor),\n",
    "2. Вместе с тем, скорость предсказания CatBoostRegressor значительно превышает скорость предсказания LGBMRegressor.\n",
    "3. Итоговые результаты, включая время обучения и предсказания представлены в таблице."
   ]
  },
  {
   "cell_type": "markdown",
   "metadata": {},
   "source": [
    "[В оглавление](#TOC)"
   ]
  }
 ],
 "metadata": {
  "kernelspec": {
   "display_name": "Python 3",
   "language": "python",
   "name": "python3"
  },
  "toc": {
   "base_numbering": 1,
   "nav_menu": {},
   "number_sections": false,
   "sideBar": true,
   "skip_h1_title": false,
   "title_cell": "Table of Contents",
   "title_sidebar": "Contents",
   "toc_cell": false,
   "toc_position": {},
   "toc_section_display": true,
   "toc_window_display": true
  },
  "varInspector": {
   "cols": {
    "lenName": 16,
    "lenType": 16,
    "lenVar": 40
   },
   "kernels_config": {
    "python": {
     "delete_cmd_postfix": "",
     "delete_cmd_prefix": "del ",
     "library": "var_list.py",
     "varRefreshCmd": "print(var_dic_list())"
    },
    "r": {
     "delete_cmd_postfix": ") ",
     "delete_cmd_prefix": "rm(",
     "library": "var_list.r",
     "varRefreshCmd": "cat(var_dic_list()) "
    }
   },
   "types_to_exclude": [
    "module",
    "function",
    "builtin_function_or_method",
    "instance",
    "_Feature"
   ],
   "window_display": false
  }
 },
 "nbformat": 4,
 "nbformat_minor": 4
}
