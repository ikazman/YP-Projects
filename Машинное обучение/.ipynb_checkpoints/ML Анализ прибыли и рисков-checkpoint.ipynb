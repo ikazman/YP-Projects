{
 "cells": [
  {
   "cell_type": "markdown",
   "metadata": {},
   "source": [
    "# Анализ прибыли и рисков\n",
    "***"
   ]
  },
  {
   "cell_type": "markdown",
   "metadata": {},
   "source": [
    "# Описание проекта"
   ]
  },
  {
   "cell_type": "markdown",
   "metadata": {},
   "source": [
    "Допустим, вы работаете в добывающей компании «ГлавРосГосНефть». Нужно решить, где бурить новую скважину.\n",
    "\n",
    "Вам предоставлены пробы нефти в трёх регионах: в каждом 10 000 месторождений, где измерили качество нефти и объём её запасов. Постройте модель машинного обучения, которая поможет определить регион, где добыча принесёт наибольшую прибыль. Проанализируйте возможную прибыль и риски техникой *Bootstrap.*\n",
    "\n",
    "Шаги для выбора локации:\n",
    "\n",
    "- В избранном регионе ищут месторождения, для каждого определяют значения признаков;\n",
    "- Строят модель и оценивают объём запасов;\n",
    "- Выбирают месторождения с самым высокими оценками значений. Количество месторождений зависит от бюджета компании и стоимости разработки одной скважины;\n",
    "- Прибыль равна суммарной прибыли отобранных месторождений."
   ]
  },
  {
   "cell_type": "markdown",
   "metadata": {},
   "source": [
    "### Условия задачи:\n",
    "\n",
    "- Для обучения модели подходит только линейная регрессия (остальные — недостаточно предсказуемые).\n",
    "- При разведке региона проводится исследование 500 точек.\n",
    "- Бюджет на разработку месторождений — 10 млрд рублей, стоимость бурения одной скважины — 50 млн рублей.\n",
    "- Один баррель сырья приносит 4500 рублей прибыли.\n",
    "- Не рассматривать регионы, в которых риск убытков выше 2.5%. Из оставшихся выбирается регион с наибольшей средней прибылью."
   ]
  },
  {
   "cell_type": "markdown",
   "metadata": {},
   "source": [
    "## Оглавление<a class=\"anchor\" id=\"TOC\"></a>\n",
    "***"
   ]
  },
  {
   "cell_type": "markdown",
   "metadata": {},
   "source": [
    "* **[I. Загрузка и подготовка данных](#1)**\n",
    "    - [1) Объявим класс Explorer и наполним его методами](#1_1)\n",
    "    - [2) Импортируем библиотеки](#1_2)\n",
    "    - [3) Прочитаем данные](#1_3)\n",
    "    - [4) Выведем первые пять строк каждой из таблиц, общую информацию](#1_4)\n",
    "    - [5) Выведем общую статистку по датасетам и наличие дубликатов](#1_5)\n",
    "    - [Вывод](#1_conclusion)\n",
    "* **[II. Обучение и проверка модели](#2)**\n",
    "    - [1. Инициализируем модель линейной регрессии и создадим словарь для поиска наилучших параметров](#2_model)\n",
    "    - [2. Соберем отчет для каждого из регионов](#2_regions)\n",
    "    - [3. Результаты моделей для каждого из регионов](#2_model_results)\n",
    "    - [4. Сравнение правильного среднего и среднего, предсказанного моделью](#2_mean)\n",
    "    - [Вывод](#2_conclusion)\n",
    "* **[III. Подготовка к расчёту прибыли](#3)**\n",
    "    - [1) Выделим ключевые значения для расчетов](#3_1)\n",
    "    - [2) Подсчитаем минимальный средний объём сырья в месторождениях региона, достаточный для его разработки](#3_2)\n",
    "    - [3) Подготовим функцию для расчёта прибыли по набору отобранных месторождений и предсказаний модели](#3_3)\n",
    "    - [Вывод](#3_conclusion)\n",
    "* **[IV. Расчёт прибыли и рисков](#4)**\n",
    "    - [1) Найдем распределение прибыли с помощью Bootstrap](#4_1)\n",
    "    - [2) Подсчитаем среднюю прибыль, 95-% доверительный интервал и риск убытков](#4_2)\n",
    "    - [Вывод](#4_conclusion)"
   ]
  },
  {
   "cell_type": "markdown",
   "metadata": {},
   "source": [
    "# I. Загрузка и подготовка данных<a class='anchor' id='1'>\n",
    "***"
   ]
  },
  {
   "cell_type": "markdown",
   "metadata": {},
   "source": [
    "## 1) Объявляем класс Explorer и наполняем его методами<a class=\"anchor\" id=\"1_1\"></a>"
   ]
  },
  {
   "cell_type": "code",
   "execution_count": 1,
   "metadata": {},
   "outputs": [],
   "source": [
    "class Explorer:\n",
    "      \n",
    "    def histogram(self, data, n_bins, range_start, range_end, grid, cumulative=False, x_label = '', y_label = '', title = ''):\n",
    "        \n",
    "        \"\"\"\n",
    "        Простая гистограмма\n",
    "        \n",
    "        Пример:\n",
    "        histogram(df, 100, 0, 150, True, 'Количество иксов', 'Количество игриков', 'Заголовок')\n",
    "        \n",
    "        data - датасет\n",
    "        n_bins - количество корзин\n",
    "        range_start - минимальный икс для корзины\n",
    "        range_end - максимальный икс для корзины\n",
    "        grid - рисовать сетку или нет (False / True)\n",
    "        \n",
    "        \n",
    "        histogram(data, n_bins, range_start, range_end, grid, x_label = \"\", y_label = \"\", title = \"\")\n",
    "        \"\"\"\n",
    "        \n",
    "        # Создаем объект - график\n",
    "        _, ax = plt.subplots()\n",
    "\n",
    "        # Задаем параметры\n",
    "        ax.hist(data, bins = n_bins, range = (range_start, range_end), cumulative = cumulative, color = '#4169E1')\n",
    "\n",
    "        # Добавляем сетку\n",
    "        if grid == True:\n",
    "            ax.grid(color='grey', linestyle='-', linewidth=0.5)\n",
    "        else:\n",
    "            pass\n",
    "\n",
    "        # Добавляем медиану, среднее и квартили\n",
    "        ax.axvline(data.median(),linestyle = '--', color = '#FF1493', label = 'median')\n",
    "        ax.axvline(data.mean(),linestyle = '--', color = 'orange', label = 'mean')\n",
    "        ax.axvline(data.quantile(0.1),linestyle = '--', color = 'yellow', label = '1%')\n",
    "        ax.axvline(data.quantile(0.99),linestyle = '--', color = 'yellow', label = '99%')\n",
    "        ax.legend()\n",
    "        ax.set_ylabel(y_label)\n",
    "        ax.set_xlabel(x_label)\n",
    "        ax.set_title(title)\n",
    "        \n",
    "        \n",
    "    def scatterplot(self, x_data, y_data, x_label='', y_label='', title='', color = 'r', yscale_log=False, figsize = (8, 6)):\n",
    "        \n",
    "        \"\"\"\n",
    "        Простая диаграмма рассеивания\n",
    "        \n",
    "        Пример:\n",
    "        scatterplot(df.real_target, df.predicted_target, x_label='Предсказанное моделью', y_label='Настоящий показатель', title='Диаграмма рассеивания')\n",
    "        \n",
    "        x_data - определяем иксы\n",
    "        y_data - определяем игрики\n",
    "              \n",
    "        scatterplot(self, x_data, y_data, x_label='', y_label='', title='', color = 'r', yscale_log=False, figsize = (8, 6)):\n",
    "        \"\"\"\n",
    "        \n",
    "        # Создаем объект - график\n",
    "        _, ax = plt.subplots(figsize = (8, 6))\n",
    "\n",
    "        # Задаем параметры для графика, определяем размер (s), цвет и прозрачность точек на графике\n",
    "        ax.scatter(x_data, y_data, s = 10, color = color, alpha = 0.75)\n",
    "\n",
    "        if yscale_log == True:\n",
    "            ax.set_yscale('log')\n",
    "\n",
    "        # Создаем описание осей и заголовок для графика\n",
    "        ax.set_title(title)\n",
    "        ax.set_xlabel(x_label)\n",
    "        ax.set_ylabel(y_label)\n",
    "        \n",
    "        \n",
    "    def overlaid_histogram(self, data1, data2, n_bins = 0, data1_name='', data1_color='#539caf', data2_name='', data2_color='#7663b0', x_label='', y_label='', title=''):\n",
    "        \n",
    "        \"\"\"\n",
    "        Гистогорамма для двух выборок с одинаковыми границами бинов\n",
    "        Пример:\n",
    "        overlaid_histogram(df.one, df.two, n_bins = 80, data1_name='Первый датасет', data2_name='Второй датасет', x_label='Признак', y_label='Частота', title='Гистограмма')\n",
    "        data1 - первый датасет\n",
    "        data2 - второй датасет\n",
    "        n_bins - количество корзин\n",
    "        \"\"\"\n",
    "        \n",
    "        \n",
    "        # Устанавливаем границы для корзин так чтобы оба распределения на графике были соотносимы\n",
    "        max_nbins = 10\n",
    "        data_range = [min(min(data1), min(data2)), max(max(data1), max(data2))]\n",
    "        binwidth = (data_range[1] - data_range[0]) / max_nbins\n",
    "\n",
    "\n",
    "        if n_bins == 0:\n",
    "            bins = np.arange(data_range[0], data_range[1] + binwidth, binwidth)\n",
    "        else: \n",
    "            bins = n_bins\n",
    "\n",
    "        # Рисуем график\n",
    "        _, ax = plt.subplots(figsize=(10,8))\n",
    "        ax.hist(data1, bins = bins, color = data1_color, alpha = 0.65, label = data1_name)\n",
    "        ax.hist(data2, bins = bins, color = data2_color, alpha = 0.65, label = data2_name)\n",
    "        \n",
    "        ax.axvline(data1.mean(),linestyle = '--', color = 'lime', label = 'mean for data 1')\n",
    "                \n",
    "        ax.axvline(data2.mean(),linestyle = '--', color = 'coral', label = 'mean for data 2')\n",
    "                \n",
    "        ax.set_ylabel(y_label)\n",
    "        ax.set_xlabel(x_label)\n",
    "        ax.set_title(title)\n",
    "        ax.legend(loc = 'best')\n",
    "        \n",
    "        \n",
    "    def corr_diagram(self, x):\n",
    "                        \n",
    "        \"\"\"\n",
    "        Диаграмма корреляции\n",
    "        Пример:\n",
    "        corr_diagram(self, data):\n",
    "        \"\"\"\n",
    "                \n",
    "        plt.figure(figsize=(12,10), dpi= 80)\n",
    "        sns.heatmap(x.corr(), xticklabels=x.corr().columns, yticklabels=x.corr().columns, cmap='RdYlGn', center=0, annot=True)\n",
    "        plt.title('Диаграмма корреляции', fontsize=22)\n",
    "        plt.xticks(fontsize=12)\n",
    "        plt.yticks(fontsize=12)\n",
    "        plt.show()\n",
    "        \n",
    "        \n",
    "    def highlight_max(self, data, color='#00FF00'):\n",
    "        \n",
    "        \"\"\"\n",
    "        Подсвечивает максимумы в Series или DataFrame\n",
    "        \n",
    "        highlight_max(data)\n",
    "        \"\"\"\n",
    "        \n",
    "        attr = 'background-color: {}'.format(color)\n",
    "        #remove % and cast to float\n",
    "        data = data.replace('%','', regex=True).astype(float)\n",
    "        data[data == 1] = None\n",
    "        if data.ndim == 1:  # Series from .apply(axis=0) or axis=1\n",
    "            is_max = (data == data.abs().max()) & (data !=1) \n",
    "            return [attr if v else '' for v in is_max]\n",
    "        else:  # from .apply(axis=None)\n",
    "            is_max = (data == data.abs().max()) & (data !=1) \n",
    "            return pd.DataFrame(np.where(is_max, attr, ''),\n",
    "                                index=data.index, columns=data.columns)\n",
    "    \n",
    "    \n",
    "    def highlight_sorted_corr(self, data, threshold, color='#00FF00'):\n",
    "        \n",
    "        \"\"\"\n",
    "        Подсвечивает значения выше определенного порога в Series или DataFrame (для одного столбца)\n",
    "        \n",
    "        highlight_sorted_corr(data, threshold)\n",
    "        \"\"\"\n",
    "\n",
    "        attr = 'background-color: {}'.format(color)\n",
    "        #remove % and cast to float\n",
    "        data = data.replace('%','', regex=True).astype(float)\n",
    "        data[data == 1] = None\n",
    "        if data.ndim == 1:  # Series from .apply(axis=0) or axis=1\n",
    "            is_max = (data > threshold) & (data !=1) \n",
    "            return [attr if v else '' for v in is_max]\n",
    "        else:  # from .apply(axis=None)\n",
    "            is_max = (data == data.abs().max()) & (data !=1) \n",
    "            return pd.DataFrame(np.where(is_max, attr, ''),\n",
    "                                index=data.index, columns=data.columns)\n",
    "        \n",
    "        \n",
    "    def lineplot(self, x_data, y_data, x_label=\"\", y_label=\"\", title=\"\"):\n",
    "        \n",
    "                \n",
    "        \"\"\"\n",
    "        Простой линейный график\n",
    "        \n",
    "        Пример:\n",
    "        lineplot(df.some_x, df.some_y, x_label='Обозначения икс', y_label='Обозначения игрик', title='Заголовок')\n",
    "        \"\"\"\n",
    "        \n",
    "        \n",
    "        # Создаем объект - график\n",
    "        _, ax = plt.subplots(figsize=(8, 6))\n",
    "\n",
    "        # Задаем параметры для линии: ширину (lw), цвет и прозрачность (alpha)\n",
    "        ax.plot(x_data, y_data, lw = 2, color = '#539caf', alpha = 1)\n",
    "\n",
    "        # Даем имена осям и заголовок для графика\n",
    "        ax.set_title(title)\n",
    "        ax.set_xlabel(x_label)\n",
    "        ax.set_ylabel(y_label)\n",
    "        \n",
    "        \n",
    "    def double_lineplot(self, x_data_1, y_data_1, x_data_2, y_data_2, x_label='', y_label='', title='', label_one='', label_two=''):\n",
    "        \n",
    "        \"\"\"\n",
    "        Простой двойной линейный график\n",
    "        \n",
    "        Пример:\n",
    "        double_lineplot(df.some_x_1, df.some_y_1, df.some_x_2, df.some_y_2, x_label='Обозначения икс', y_label='Обозначения игрик', title='Заголовок', label_one='Линия 1', label_two='Линия 2'):\n",
    "        \"\"\"\n",
    "        \n",
    "        \n",
    "        # Создаем объект - график\n",
    "        _, ax = plt.subplots(figsize=(8, 6))\n",
    "\n",
    "        # Задаем параметры для линии: ширину (lw), цвет и прозрачность (alpha)\n",
    "        ax.plot(x_data_1, y_data_1, lw = 2, color = '#6400e4', alpha = 1, label = label_one)\n",
    "        ax.plot(x_data_2, y_data_2, lw = 2, color = '#ffc740', alpha = 1, label = label_two)\n",
    "\n",
    "        # Даем имена осям и заголовок для графика\n",
    "        ax.set_title(title)\n",
    "        ax.set_xlabel(x_label)\n",
    "        ax.set_ylabel(y_label)\n",
    "        ax.legend(loc = 'best')\n",
    "    \n",
    "        \n",
    "    def hexbin(self, data, x, y):\n",
    "        \n",
    "        \"\"\"\n",
    "        Простой график с сотами\n",
    "        \n",
    "        Пример:\n",
    "        hexbin(df, df.true_target, df.predicted_target)\n",
    "        \"\"\"\n",
    "        \n",
    "        data.plot(x = x, y = y, kind='hexbin', gridsize=20, figsize=(8, 6), sharex=False, grid=True)\n",
    "        \n",
    "        \n",
    "    def bar_plotter(self, data):\n",
    "        \n",
    "        \"\"\"\n",
    "        Простой столбчатый график\n",
    "        \n",
    "        Пример:\n",
    "        bar_plotter(data):\n",
    "        \"\"\"\n",
    "        \n",
    "        data.plot.bar(rot=0, figsize = (16, 5))\n",
    "        \n",
    "        \n",
    "    def categorical_counter_plot(self, data, column, x = '', y = ''):\n",
    "        \n",
    "        \"\"\"\n",
    "        График для подсчета значений по категориям\n",
    "        \n",
    "        Пример:\n",
    "        categorical_counter_plot(df, 'predicted', x = '10', y = '6'):\n",
    "        \"\"\"\n",
    "        \n",
    "        if x == '' or y == '':\n",
    "            plt.rcParams[\"figure.figsize\"] = (15, 10)\n",
    "        else:\n",
    "            plt.rcParams[\"figure.figsize\"] = (x, y)\n",
    "        \n",
    "        order = data[column].value_counts().index\n",
    "            \n",
    "        ax = sns.countplot(data[column], order = order)\n",
    "        ax.set_xticklabels(ax.get_xticklabels(), fontsize=11)\n",
    "        \n",
    "        plt.xticks(rotation=90)\n",
    "        \n",
    "       \n",
    "    def sns_scatterplot(self, data, x='', y='', hue='', size='', palette=''):\n",
    "        \n",
    "        \"\"\"\n",
    "        Диаграмма рассеивания seaborn\n",
    "        \n",
    "        Пример:\n",
    "        sns_scatterplot(platform_scores_wo, 'user_score', 'total_sales', 'critic_score', 'year_of_release', True)\n",
    "        \"\"\"\n",
    "        \n",
    "        sns.set(style=\"whitegrid\")\n",
    "\n",
    "        f, ax = plt.subplots(figsize=(15, 10))\n",
    "        \n",
    "        if palette == True:\n",
    "            sns.scatterplot(ax = ax, x=x, y=y, palette=\"ch:r=-.2,d=.3_r\", \n",
    "                            hue=hue, size=size, sizes=(1, 200), linewidth=0, data=data)\n",
    "        else:\n",
    "            sns.scatterplot(ax = ax, x=x, y=y,\n",
    "                            hue=hue, size=size, \n",
    "                            sizes=(1, 200), linewidth=0, data=data)\n",
    "            \n",
    "            \n",
    "    def sns_catplot(self, data, x=\"\", y=\"\", hue=\"\"):\n",
    "        \n",
    "        \"\"\"\n",
    "        Столбчатый график seaborn\n",
    "        \n",
    "        Пример:\n",
    "        sns_catplot(df, x='platform', y='total_sales', hue='year')\n",
    "        \"\"\"\n",
    "        \n",
    "        \n",
    "        sns.set(style='whitegrid')\n",
    "        \n",
    "        sns.catplot(x=x, y=y, hue=hue, kind='bar', errwidth=0, \n",
    "            data=data, height=5, aspect=3)\n",
    "        \n",
    "       \n",
    "                \n",
    "    def squared_ratio(self, df, grouper, title=''):\n",
    "        \n",
    "        \"\"\"\n",
    "        График соотношений\n",
    "        \n",
    "        Пример:\n",
    "        squared_ratio(df, 'geography', 'Соотношение клиентов из различных стран')\n",
    "        \"\"\"\n",
    "                \n",
    "        df = df.groupby(grouper).size().reset_index(name='counts')\n",
    "        labels = df.apply(lambda x: str(x[0]) + \"\\n (\" + str(x[1]) + \")\", axis=1)\n",
    "        sizes = df['counts'].values.tolist()\n",
    "        colors = [plt.cm.Spectral(i/float(len(labels))) for i in range(len(labels))]\n",
    "\n",
    "        plt.figure(figsize=(10,6), dpi= 80)\n",
    "        squarify.plot(sizes=sizes, label=labels, color=colors, alpha=.8)\n",
    "\n",
    "        plt.title(title)\n",
    "        plt.axis('off')\n",
    "        plt.show()\n",
    "        \n",
    "        \n",
    "    def sorted_corr(self, data, attr):\n",
    "        \n",
    "        \"\"\"\n",
    "        Таблица с сортировкой корреляции конкретного аттрибута\n",
    "        \n",
    "        Пример:\n",
    "        sorted_corr(df, 'money'):\n",
    "        \"\"\"\n",
    "        \n",
    "        correlated = pd.DataFrame(data.corr()[attr].sort_values(ascending = False))\n",
    "        return correlated    \n",
    "    \n",
    "    \n",
    "    def transformer(self, data, name, grouper, func):\n",
    "        \"\"\"\n",
    "        \n",
    "        transformer(df, 'some_stuff_to_change', 'grouper', np.mean()):\n",
    "        \n",
    "        data - датасет\n",
    "        name - столбец в котором меняем значения\n",
    "        grouper - столбец по которому группируем\n",
    "        func - пременяемая функция mean, median и т.д.\n",
    "        \"\"\"\n",
    "        name = name\n",
    "        data.loc[data[name].isnull(), name] = data.groupby(grouper)[name].transform(func)\n",
    "        \n",
    "        \n",
    "    def pr_curve(self, model, features_valid, target_valid):\n",
    "        \n",
    "        \"\"\"\n",
    "        PR-кривая\n",
    "        \n",
    "        Пример:\n",
    "        pr_curve(model, features_valid, target_valid)\n",
    "        \"\"\"\n",
    "        \n",
    "        probabilities_valid = model.predict_proba(features_valid)\n",
    "        precision, recall, thresholds = precision_recall_curve(target_valid, probabilities_valid[:, 1])\n",
    "\n",
    "        plt.figure(figsize=(6, 6))\n",
    "        plt.step(recall, precision, where='post')\n",
    "        plt.xlabel('Recall')\n",
    "        plt.ylabel('Precision')\n",
    "        plt.ylim([0.0, 1.05])\n",
    "        plt.xlim([0.0, 1.0])\n",
    "        plt.title('Кривая Precision-Recall')\n",
    "        plt.show()\n",
    "        \n",
    "    def roc_curve(self, model, features_valid, target_valid):\n",
    "        \n",
    "        \"\"\"\n",
    "        ROC-кривая\n",
    "        \n",
    "        Пример:\n",
    "        roc_curve(model, features_valid, target_valid)\n",
    "        \"\"\"\n",
    "        \n",
    "        probabilities_valid = model.predict_proba(features_valid)\n",
    "        probabilities_one_valid = probabilities_valid[:, 1]\n",
    "        \n",
    "        fpr, tpr, thresholds = roc_curve(target_valid, probabilities_one_valid)\n",
    "        \n",
    "        plt.figure()\n",
    "        plt.plot(fpr, tpr)\n",
    "        \n",
    "        plt.plot([0, 1], [0, 1], linestyle='--')\n",
    "        plt.xlim(0,1)\n",
    "        plt.ylim(0,1)\n",
    "        \n",
    "        plt.xlabel('False Positive Rate')\n",
    "        plt.ylabel('True Positive Rate')\n",
    "        \n",
    "        plt.title('ROC-кривая')\n",
    "        \n",
    "        plt.show()\n",
    "        \n",
    "    \n",
    "    def metrics_plot(self, model, features_valid, target_valid):\n",
    "        \n",
    "        \"\"\"\n",
    "        Выводит на экран PR-кривую и ROC-кривую\n",
    "        \n",
    "        Пример:\n",
    "        metrics_plot(model, features_valid, target_valid)\n",
    "        \"\"\"\n",
    "                \n",
    "        probabilities_valid = model.predict_proba(features_valid)\n",
    "        precision, recall, thresholds = precision_recall_curve(target_valid, probabilities_valid[:, 1])\n",
    "        fpr, tpr, thresholds = roc_curve(target_valid, probabilities_valid[:, 1])\n",
    "            \n",
    "        fig, ax = plt.subplots(1, 2, figsize=(15, 6))\n",
    "        fig.subplots_adjust(hspace=0.4, wspace=0.4)\n",
    "        \n",
    "        #fig, ax = plt.subplots(ncols=3)\n",
    "        #fig.subplots_adjust(hspace=0.4, wspace=0.4)\n",
    "\n",
    "        sns.lineplot(recall, precision, drawstyle='steps-post', ax=ax[0])\n",
    "        ax[0].set_xlabel('Recall')\n",
    "        ax[0].set_ylabel('Precision')\n",
    "        ax[0].set_ylim([0.0, 1.05])\n",
    "        ax[0].set_xlim([0.0, 1.0])\n",
    "        ax[0].set_title('Кривая Precision-Recall')\n",
    "        \n",
    "        sns.lineplot(fpr, tpr, ax=ax[1])\n",
    "        ax[1].plot([0, 1], [0, 1], linestyle='--')\n",
    "        ax[1].set_xlim(0,1)\n",
    "        ax[1].set_ylim(0,1)\n",
    "        ax[1].set_xlabel('False Positive Rate')\n",
    "        ax[1].set_ylabel('True Positive Rate')\n",
    "        ax[1].set_title('ROC-кривая')\n",
    "        \n",
    " \n",
    "    def auc_roc(self, model, features_valid, target_valid):\n",
    "        \n",
    "        \"\"\"\n",
    "        Посчитывает значение ROC-AUC\n",
    "        \n",
    "        Пример:\n",
    "        auc_roc(self, model, features_valid, target_valid)\n",
    "        \"\"\"\n",
    "        \n",
    "        probabilities_valid = model.predict_proba(features_valid)\n",
    "        probabilities_one_valid = probabilities_valid[:, 1]\n",
    "        auc_roc = roc_auc_score(target_valid, probabilities_one_valid)\n",
    "        \n",
    "        return auc_roc\n",
    "            \n",
    "    def upsample(self, features, target, repeat):\n",
    "        \n",
    "        \"\"\"\n",
    "        Дублирует объекты положительного класса и объединяет их с объектами отрицательного класса\n",
    "        \n",
    "        Пример:\n",
    "        upsample(x_train, y_train, 4)\n",
    "        \"\"\"\n",
    "        \n",
    "        features_zeros = features[target == 0]\n",
    "        features_ones = features[target == 1]\n",
    "        target_zeros = target[target == 0]\n",
    "        target_ones = target[target == 1]\n",
    "\n",
    "        features_upsampled = pd.concat([features_zeros] + [features_ones] * repeat)\n",
    "        target_upsampled = pd.concat([target_zeros] + [target_ones] * repeat)\n",
    "\n",
    "        features_upsampled, target_upsampled = shuffle(features_upsampled, target_upsampled, random_state=42)\n",
    "        \n",
    "        return features_upsampled, target_upsampled\n",
    "        \n",
    "        \n",
    "    def downsample(self, features, target, fraction):\n",
    "        \n",
    "        \"\"\"\n",
    "        Исключает долю объектов отрицательного класса и объединяет их с объектами положительного класса\n",
    "        \n",
    "        Пример:\n",
    "        downsample(x_train, y_train, 0.5)\n",
    "        \"\"\"\n",
    "        \n",
    "        features_zeros = features[target == 0]\n",
    "        features_ones = features[target == 1]\n",
    "        target_zeros = target[target == 0]\n",
    "        target_ones = target[target == 1]\n",
    "        \n",
    "        features_downsampled = pd.concat([features_zeros.sample(frac=fraction, random_state=42)] + [features_ones])\n",
    "        target_downsampled = pd.concat([target_zeros.sample(frac=fraction, random_state=42)] + [target_ones])\n",
    "        \n",
    "        features_downsampled, target_downsampled = shuffle(features_downsampled, target_downsampled, random_state=42)\n",
    "        \n",
    "        return features_downsampled, target_downsampled\n",
    "    \n",
    "    \n",
    "    def firstsight(self, data):\n",
    "        \n",
    "        \"\"\"\n",
    "        Возврашает пять первых, последних и случайных элементов датасета для дальнейшего вывода с помощью Display\n",
    "        \n",
    "        Пример:\n",
    "        head, tail, sample = explorer.firstsight(df)\n",
    "        \"\"\"\n",
    "        \n",
    "        head = data.head(5)\n",
    "        tail = data.tail(5)\n",
    "        sample = data.tail(5)\n",
    "        \n",
    "        return head, tail, sample\n",
    "        \n",
    "        \n",
    "    def smape(self, y_test, y_predict): \n",
    "        \n",
    "        \"\"\"\n",
    "        Расcчитывает метрику SMAPE\n",
    "        \n",
    "        Пример:\n",
    "        smape(y_test, y_predict)\n",
    "        \"\"\"\n",
    "        \n",
    "        y_test, y_predict = np.array(y_test), np.array(y_predict)\n",
    "        return np.mean(np.abs(y_predict - y_test) / ((np.abs(y_test) + np.abs(y_predict) + 0.1**99)/2)) * 100\n",
    "    \n",
    "    \n",
    "    def mape(self, y_test, y_predict):\n",
    "        \n",
    "        \"\"\"\n",
    "        Расcчитывает метрику MAPE\n",
    "        \n",
    "        Пример:\n",
    "        mape(y_test, y_predict)\n",
    "        \"\"\"\n",
    "                \n",
    "        y_test, y_predict = np.array(y_test), np.array(y_predict)\n",
    "        return np.median((np.abs((y_test - y_predict)) / (y_test + 0.1**99)) * 100)\n",
    "    \n",
    "    \n",
    "    def df_split(self, data, features_drop, target, test_size, random_state):\n",
    "        \n",
    "        \"\"\"\n",
    "        Делит датасет по заданным параметрам\n",
    "        \n",
    "        Пример:\n",
    "        x_train, x_test, y_train, y_test = explorer.df_split(df_geo_1, ['id', 'product'], 'product', 0.25, 42)\n",
    "        \"\"\"           \n",
    "        \n",
    "        feature = data.drop(features_drop, axis=1)\n",
    "        target = data[target]\n",
    "        x_train, x_test, y_train, y_test  = train_test_split(feature, target, test_size=test_size, random_state = random_state)\n",
    "        return x_train, x_test, y_train, y_test\n",
    "    \n",
    "    \n",
    "    def grid_search(self, model, param_grid, cv, x, y):\n",
    "        \n",
    "        \"\"\"\n",
    "        Поиск по сетке с заданными параметрами\n",
    "        \n",
    "        Пример:\n",
    "        lr_geo_one = explorer.grid_search(lr, param_grid, 5, x_train, y_train)\n",
    "        \"\"\"\n",
    "        \n",
    "        grid_model = GridSearchCV(model, param_grid=param_grid, cv=cv, verbose=1, n_jobs=-1)\n",
    "        grid_model.fit(x, y)\n",
    "        best_estimator = grid_model.best_estimator_\n",
    "        return best_estimator\n",
    "        \n",
    "        \n",
    "    class Display(object):\n",
    "        \"\"\"\n",
    "        Выводит HTML представление нескольких объектов\n",
    "        \n",
    "        Пример:\n",
    "        Display('head', 'tail', 'sample')\n",
    "        \n",
    "        \"\"\"\n",
    "        template = \"\"\"<div style=\"float: left; padding: 10px;\">\n",
    "        <p style='font-family:\"Courier New\", Courier, monospace'>{0}</p>{1}\n",
    "        </div>\"\"\"\n",
    "        def __init__(self, *args):\n",
    "            self.args = args\n",
    "\n",
    "        def _repr_html_(self):\n",
    "            return '\\n'.join(self.template.format(a, eval(a)._repr_html_())\n",
    "                             for a in self.args)\n",
    "\n",
    "        def __repr__(self):\n",
    "            return '\\n\\n'.join(a + '\\n' + repr(eval(a))\n",
    "                               for a in self.args)"
   ]
  },
  {
   "cell_type": "code",
   "execution_count": 2,
   "metadata": {},
   "outputs": [],
   "source": [
    "explorer = Explorer()"
   ]
  },
  {
   "cell_type": "markdown",
   "metadata": {},
   "source": [
    "[В оглавление](#TOC)"
   ]
  },
  {
   "cell_type": "markdown",
   "metadata": {},
   "source": [
    "## 2) Импортируем библиотеки<a class=\"anchor\" id=\"1_2\"></a>"
   ]
  },
  {
   "cell_type": "code",
   "execution_count": 3,
   "metadata": {},
   "outputs": [],
   "source": [
    "import warnings\n",
    "warnings.filterwarnings('ignore')\n",
    "\n",
    "import pandas as pd\n",
    "import numpy as np\n",
    "\n",
    "%matplotlib inline\n",
    "import matplotlib.pyplot as plt\n",
    "import seaborn as sns\n",
    "\n",
    "from scipy import stats as st\n",
    "from scipy.stats import ttest_ind\n",
    "from scipy.stats import norm\n",
    "\n",
    "\n",
    "from sklearn.model_selection import train_test_split\n",
    "from sklearn.model_selection import GridSearchCV\n",
    "\n",
    "from sklearn.linear_model import LinearRegression\n",
    "\n",
    "from sklearn.metrics import mean_squared_error"
   ]
  },
  {
   "cell_type": "markdown",
   "metadata": {},
   "source": [
    "[В оглавление](#TOC)"
   ]
  },
  {
   "cell_type": "markdown",
   "metadata": {},
   "source": [
    "## 3) Прочитаем данные<a class=\"anchor\" id=\"1_3\"></a>"
   ]
  },
  {
   "cell_type": "markdown",
   "metadata": {},
   "source": [
    "### - описание данных"
   ]
  },
  {
   "cell_type": "markdown",
   "metadata": {},
   "source": [
    "1) в файлах geo_data_0.csv, geo_data_1.csv и geo_data_2.csv содержаться информация о геологоразведке трёх регионов,\n",
    "\n",
    "2) в датасетах содержатся следующие колонки:\n",
    "- id — уникальный идентификатор месторождения;\n",
    "- f0, f1, f2 — три признака точек (неважно, что они означают, но сами признаки значимы);\n",
    "- product — объём запасов в месторождении (тыс. баррелей)."
   ]
  },
  {
   "cell_type": "markdown",
   "metadata": {},
   "source": [
    "### - прочитаем данные в переменные в df_geo_1, df_geo_2, df_geo_3"
   ]
  },
  {
   "cell_type": "code",
   "execution_count": 4,
   "metadata": {},
   "outputs": [],
   "source": [
    "df_geo_1 = pd.read_csv('geo_data_0.csv')\n",
    "df_geo_2 = pd.read_csv('geo_data_1.csv')\n",
    "df_geo_3 = pd.read_csv('geo_data_2.csv')"
   ]
  },
  {
   "cell_type": "markdown",
   "metadata": {},
   "source": [
    "[В оглавление](#TOC)"
   ]
  },
  {
   "cell_type": "markdown",
   "metadata": {},
   "source": [
    "## 4) Выведем первые пять строк каждой из таблиц, общую информацию<a class=\"anchor\" id=\"1_4\"></a>"
   ]
  },
  {
   "cell_type": "markdown",
   "metadata": {},
   "source": [
    "### - регион 1"
   ]
  },
  {
   "cell_type": "code",
   "execution_count": 5,
   "metadata": {},
   "outputs": [
    {
     "data": {
      "text/html": [
       "<div style=\"float: left; padding: 10px;\">\n",
       "        <p style='font-family:\"Courier New\", Courier, monospace'>head</p><div>\n",
       "<style scoped>\n",
       "    .dataframe tbody tr th:only-of-type {\n",
       "        vertical-align: middle;\n",
       "    }\n",
       "\n",
       "    .dataframe tbody tr th {\n",
       "        vertical-align: top;\n",
       "    }\n",
       "\n",
       "    .dataframe thead th {\n",
       "        text-align: right;\n",
       "    }\n",
       "</style>\n",
       "<table border=\"1\" class=\"dataframe\">\n",
       "  <thead>\n",
       "    <tr style=\"text-align: right;\">\n",
       "      <th></th>\n",
       "      <th>id</th>\n",
       "      <th>f0</th>\n",
       "      <th>f1</th>\n",
       "      <th>f2</th>\n",
       "      <th>product</th>\n",
       "    </tr>\n",
       "  </thead>\n",
       "  <tbody>\n",
       "    <tr>\n",
       "      <td>0</td>\n",
       "      <td>txEyH</td>\n",
       "      <td>0.705745</td>\n",
       "      <td>-0.497823</td>\n",
       "      <td>1.221170</td>\n",
       "      <td>105.280062</td>\n",
       "    </tr>\n",
       "    <tr>\n",
       "      <td>1</td>\n",
       "      <td>2acmU</td>\n",
       "      <td>1.334711</td>\n",
       "      <td>-0.340164</td>\n",
       "      <td>4.365080</td>\n",
       "      <td>73.037750</td>\n",
       "    </tr>\n",
       "    <tr>\n",
       "      <td>2</td>\n",
       "      <td>409Wp</td>\n",
       "      <td>1.022732</td>\n",
       "      <td>0.151990</td>\n",
       "      <td>1.419926</td>\n",
       "      <td>85.265647</td>\n",
       "    </tr>\n",
       "    <tr>\n",
       "      <td>3</td>\n",
       "      <td>iJLyR</td>\n",
       "      <td>-0.032172</td>\n",
       "      <td>0.139033</td>\n",
       "      <td>2.978566</td>\n",
       "      <td>168.620776</td>\n",
       "    </tr>\n",
       "    <tr>\n",
       "      <td>4</td>\n",
       "      <td>Xdl7t</td>\n",
       "      <td>1.988431</td>\n",
       "      <td>0.155413</td>\n",
       "      <td>4.751769</td>\n",
       "      <td>154.036647</td>\n",
       "    </tr>\n",
       "  </tbody>\n",
       "</table>\n",
       "</div>\n",
       "        </div>\n",
       "<div style=\"float: left; padding: 10px;\">\n",
       "        <p style='font-family:\"Courier New\", Courier, monospace'>tail</p><div>\n",
       "<style scoped>\n",
       "    .dataframe tbody tr th:only-of-type {\n",
       "        vertical-align: middle;\n",
       "    }\n",
       "\n",
       "    .dataframe tbody tr th {\n",
       "        vertical-align: top;\n",
       "    }\n",
       "\n",
       "    .dataframe thead th {\n",
       "        text-align: right;\n",
       "    }\n",
       "</style>\n",
       "<table border=\"1\" class=\"dataframe\">\n",
       "  <thead>\n",
       "    <tr style=\"text-align: right;\">\n",
       "      <th></th>\n",
       "      <th>id</th>\n",
       "      <th>f0</th>\n",
       "      <th>f1</th>\n",
       "      <th>f2</th>\n",
       "      <th>product</th>\n",
       "    </tr>\n",
       "  </thead>\n",
       "  <tbody>\n",
       "    <tr>\n",
       "      <td>99995</td>\n",
       "      <td>DLsed</td>\n",
       "      <td>0.971957</td>\n",
       "      <td>0.370953</td>\n",
       "      <td>6.075346</td>\n",
       "      <td>110.744026</td>\n",
       "    </tr>\n",
       "    <tr>\n",
       "      <td>99996</td>\n",
       "      <td>QKivN</td>\n",
       "      <td>1.392429</td>\n",
       "      <td>-0.382606</td>\n",
       "      <td>1.273912</td>\n",
       "      <td>122.346843</td>\n",
       "    </tr>\n",
       "    <tr>\n",
       "      <td>99997</td>\n",
       "      <td>3rnvd</td>\n",
       "      <td>1.029585</td>\n",
       "      <td>0.018787</td>\n",
       "      <td>-1.348308</td>\n",
       "      <td>64.375443</td>\n",
       "    </tr>\n",
       "    <tr>\n",
       "      <td>99998</td>\n",
       "      <td>7kl59</td>\n",
       "      <td>0.998163</td>\n",
       "      <td>-0.528582</td>\n",
       "      <td>1.583869</td>\n",
       "      <td>74.040764</td>\n",
       "    </tr>\n",
       "    <tr>\n",
       "      <td>99999</td>\n",
       "      <td>1CWhH</td>\n",
       "      <td>1.764754</td>\n",
       "      <td>-0.266417</td>\n",
       "      <td>5.722849</td>\n",
       "      <td>149.633246</td>\n",
       "    </tr>\n",
       "  </tbody>\n",
       "</table>\n",
       "</div>\n",
       "        </div>\n",
       "<div style=\"float: left; padding: 10px;\">\n",
       "        <p style='font-family:\"Courier New\", Courier, monospace'>sample</p><div>\n",
       "<style scoped>\n",
       "    .dataframe tbody tr th:only-of-type {\n",
       "        vertical-align: middle;\n",
       "    }\n",
       "\n",
       "    .dataframe tbody tr th {\n",
       "        vertical-align: top;\n",
       "    }\n",
       "\n",
       "    .dataframe thead th {\n",
       "        text-align: right;\n",
       "    }\n",
       "</style>\n",
       "<table border=\"1\" class=\"dataframe\">\n",
       "  <thead>\n",
       "    <tr style=\"text-align: right;\">\n",
       "      <th></th>\n",
       "      <th>id</th>\n",
       "      <th>f0</th>\n",
       "      <th>f1</th>\n",
       "      <th>f2</th>\n",
       "      <th>product</th>\n",
       "    </tr>\n",
       "  </thead>\n",
       "  <tbody>\n",
       "    <tr>\n",
       "      <td>99995</td>\n",
       "      <td>DLsed</td>\n",
       "      <td>0.971957</td>\n",
       "      <td>0.370953</td>\n",
       "      <td>6.075346</td>\n",
       "      <td>110.744026</td>\n",
       "    </tr>\n",
       "    <tr>\n",
       "      <td>99996</td>\n",
       "      <td>QKivN</td>\n",
       "      <td>1.392429</td>\n",
       "      <td>-0.382606</td>\n",
       "      <td>1.273912</td>\n",
       "      <td>122.346843</td>\n",
       "    </tr>\n",
       "    <tr>\n",
       "      <td>99997</td>\n",
       "      <td>3rnvd</td>\n",
       "      <td>1.029585</td>\n",
       "      <td>0.018787</td>\n",
       "      <td>-1.348308</td>\n",
       "      <td>64.375443</td>\n",
       "    </tr>\n",
       "    <tr>\n",
       "      <td>99998</td>\n",
       "      <td>7kl59</td>\n",
       "      <td>0.998163</td>\n",
       "      <td>-0.528582</td>\n",
       "      <td>1.583869</td>\n",
       "      <td>74.040764</td>\n",
       "    </tr>\n",
       "    <tr>\n",
       "      <td>99999</td>\n",
       "      <td>1CWhH</td>\n",
       "      <td>1.764754</td>\n",
       "      <td>-0.266417</td>\n",
       "      <td>5.722849</td>\n",
       "      <td>149.633246</td>\n",
       "    </tr>\n",
       "  </tbody>\n",
       "</table>\n",
       "</div>\n",
       "        </div>"
      ],
      "text/plain": [
       "head\n",
       "      id        f0        f1        f2     product\n",
       "0  txEyH  0.705745 -0.497823  1.221170  105.280062\n",
       "1  2acmU  1.334711 -0.340164  4.365080   73.037750\n",
       "2  409Wp  1.022732  0.151990  1.419926   85.265647\n",
       "3  iJLyR -0.032172  0.139033  2.978566  168.620776\n",
       "4  Xdl7t  1.988431  0.155413  4.751769  154.036647\n",
       "\n",
       "tail\n",
       "          id        f0        f1        f2     product\n",
       "99995  DLsed  0.971957  0.370953  6.075346  110.744026\n",
       "99996  QKivN  1.392429 -0.382606  1.273912  122.346843\n",
       "99997  3rnvd  1.029585  0.018787 -1.348308   64.375443\n",
       "99998  7kl59  0.998163 -0.528582  1.583869   74.040764\n",
       "99999  1CWhH  1.764754 -0.266417  5.722849  149.633246\n",
       "\n",
       "sample\n",
       "          id        f0        f1        f2     product\n",
       "99995  DLsed  0.971957  0.370953  6.075346  110.744026\n",
       "99996  QKivN  1.392429 -0.382606  1.273912  122.346843\n",
       "99997  3rnvd  1.029585  0.018787 -1.348308   64.375443\n",
       "99998  7kl59  0.998163 -0.528582  1.583869   74.040764\n",
       "99999  1CWhH  1.764754 -0.266417  5.722849  149.633246"
      ]
     },
     "execution_count": 5,
     "metadata": {},
     "output_type": "execute_result"
    }
   ],
   "source": [
    "head, tail, sample = explorer.firstsight(df_geo_1)\n",
    "explorer.Display('head', 'tail', 'sample')"
   ]
  },
  {
   "cell_type": "code",
   "execution_count": 6,
   "metadata": {},
   "outputs": [
    {
     "name": "stdout",
     "output_type": "stream",
     "text": [
      "<class 'pandas.core.frame.DataFrame'>\n",
      "RangeIndex: 100000 entries, 0 to 99999\n",
      "Data columns (total 5 columns):\n",
      "id         100000 non-null object\n",
      "f0         100000 non-null float64\n",
      "f1         100000 non-null float64\n",
      "f2         100000 non-null float64\n",
      "product    100000 non-null float64\n",
      "dtypes: float64(4), object(1)\n",
      "memory usage: 3.8+ MB\n"
     ]
    }
   ],
   "source": [
    "df_geo_1.info()"
   ]
  },
  {
   "cell_type": "markdown",
   "metadata": {},
   "source": [
    "&#9889; **Вывод:** в датасете с информацией по первому региону 100 000 строк, без пропусков, без проблем с типами данных."
   ]
  },
  {
   "cell_type": "markdown",
   "metadata": {},
   "source": [
    "### - регион 2"
   ]
  },
  {
   "cell_type": "code",
   "execution_count": 7,
   "metadata": {},
   "outputs": [
    {
     "data": {
      "text/html": [
       "<div style=\"float: left; padding: 10px;\">\n",
       "        <p style='font-family:\"Courier New\", Courier, monospace'>head</p><div>\n",
       "<style scoped>\n",
       "    .dataframe tbody tr th:only-of-type {\n",
       "        vertical-align: middle;\n",
       "    }\n",
       "\n",
       "    .dataframe tbody tr th {\n",
       "        vertical-align: top;\n",
       "    }\n",
       "\n",
       "    .dataframe thead th {\n",
       "        text-align: right;\n",
       "    }\n",
       "</style>\n",
       "<table border=\"1\" class=\"dataframe\">\n",
       "  <thead>\n",
       "    <tr style=\"text-align: right;\">\n",
       "      <th></th>\n",
       "      <th>id</th>\n",
       "      <th>f0</th>\n",
       "      <th>f1</th>\n",
       "      <th>f2</th>\n",
       "      <th>product</th>\n",
       "    </tr>\n",
       "  </thead>\n",
       "  <tbody>\n",
       "    <tr>\n",
       "      <td>0</td>\n",
       "      <td>kBEdx</td>\n",
       "      <td>-15.001348</td>\n",
       "      <td>-8.276000</td>\n",
       "      <td>-0.005876</td>\n",
       "      <td>3.179103</td>\n",
       "    </tr>\n",
       "    <tr>\n",
       "      <td>1</td>\n",
       "      <td>62mP7</td>\n",
       "      <td>14.272088</td>\n",
       "      <td>-3.475083</td>\n",
       "      <td>0.999183</td>\n",
       "      <td>26.953261</td>\n",
       "    </tr>\n",
       "    <tr>\n",
       "      <td>2</td>\n",
       "      <td>vyE1P</td>\n",
       "      <td>6.263187</td>\n",
       "      <td>-5.948386</td>\n",
       "      <td>5.001160</td>\n",
       "      <td>134.766305</td>\n",
       "    </tr>\n",
       "    <tr>\n",
       "      <td>3</td>\n",
       "      <td>KcrkZ</td>\n",
       "      <td>-13.081196</td>\n",
       "      <td>-11.506057</td>\n",
       "      <td>4.999415</td>\n",
       "      <td>137.945408</td>\n",
       "    </tr>\n",
       "    <tr>\n",
       "      <td>4</td>\n",
       "      <td>AHL4O</td>\n",
       "      <td>12.702195</td>\n",
       "      <td>-8.147433</td>\n",
       "      <td>5.004363</td>\n",
       "      <td>134.766305</td>\n",
       "    </tr>\n",
       "  </tbody>\n",
       "</table>\n",
       "</div>\n",
       "        </div>\n",
       "<div style=\"float: left; padding: 10px;\">\n",
       "        <p style='font-family:\"Courier New\", Courier, monospace'>tail</p><div>\n",
       "<style scoped>\n",
       "    .dataframe tbody tr th:only-of-type {\n",
       "        vertical-align: middle;\n",
       "    }\n",
       "\n",
       "    .dataframe tbody tr th {\n",
       "        vertical-align: top;\n",
       "    }\n",
       "\n",
       "    .dataframe thead th {\n",
       "        text-align: right;\n",
       "    }\n",
       "</style>\n",
       "<table border=\"1\" class=\"dataframe\">\n",
       "  <thead>\n",
       "    <tr style=\"text-align: right;\">\n",
       "      <th></th>\n",
       "      <th>id</th>\n",
       "      <th>f0</th>\n",
       "      <th>f1</th>\n",
       "      <th>f2</th>\n",
       "      <th>product</th>\n",
       "    </tr>\n",
       "  </thead>\n",
       "  <tbody>\n",
       "    <tr>\n",
       "      <td>99995</td>\n",
       "      <td>QywKC</td>\n",
       "      <td>9.535637</td>\n",
       "      <td>-6.878139</td>\n",
       "      <td>1.998296</td>\n",
       "      <td>53.906522</td>\n",
       "    </tr>\n",
       "    <tr>\n",
       "      <td>99996</td>\n",
       "      <td>ptvty</td>\n",
       "      <td>-10.160631</td>\n",
       "      <td>-12.558096</td>\n",
       "      <td>5.005581</td>\n",
       "      <td>137.945408</td>\n",
       "    </tr>\n",
       "    <tr>\n",
       "      <td>99997</td>\n",
       "      <td>09gWa</td>\n",
       "      <td>-7.378891</td>\n",
       "      <td>-3.084104</td>\n",
       "      <td>4.998651</td>\n",
       "      <td>137.945408</td>\n",
       "    </tr>\n",
       "    <tr>\n",
       "      <td>99998</td>\n",
       "      <td>rqwUm</td>\n",
       "      <td>0.665714</td>\n",
       "      <td>-6.152593</td>\n",
       "      <td>1.000146</td>\n",
       "      <td>30.132364</td>\n",
       "    </tr>\n",
       "    <tr>\n",
       "      <td>99999</td>\n",
       "      <td>relB0</td>\n",
       "      <td>-3.426139</td>\n",
       "      <td>-7.794274</td>\n",
       "      <td>-0.003299</td>\n",
       "      <td>3.179103</td>\n",
       "    </tr>\n",
       "  </tbody>\n",
       "</table>\n",
       "</div>\n",
       "        </div>\n",
       "<div style=\"float: left; padding: 10px;\">\n",
       "        <p style='font-family:\"Courier New\", Courier, monospace'>sample</p><div>\n",
       "<style scoped>\n",
       "    .dataframe tbody tr th:only-of-type {\n",
       "        vertical-align: middle;\n",
       "    }\n",
       "\n",
       "    .dataframe tbody tr th {\n",
       "        vertical-align: top;\n",
       "    }\n",
       "\n",
       "    .dataframe thead th {\n",
       "        text-align: right;\n",
       "    }\n",
       "</style>\n",
       "<table border=\"1\" class=\"dataframe\">\n",
       "  <thead>\n",
       "    <tr style=\"text-align: right;\">\n",
       "      <th></th>\n",
       "      <th>id</th>\n",
       "      <th>f0</th>\n",
       "      <th>f1</th>\n",
       "      <th>f2</th>\n",
       "      <th>product</th>\n",
       "    </tr>\n",
       "  </thead>\n",
       "  <tbody>\n",
       "    <tr>\n",
       "      <td>99995</td>\n",
       "      <td>QywKC</td>\n",
       "      <td>9.535637</td>\n",
       "      <td>-6.878139</td>\n",
       "      <td>1.998296</td>\n",
       "      <td>53.906522</td>\n",
       "    </tr>\n",
       "    <tr>\n",
       "      <td>99996</td>\n",
       "      <td>ptvty</td>\n",
       "      <td>-10.160631</td>\n",
       "      <td>-12.558096</td>\n",
       "      <td>5.005581</td>\n",
       "      <td>137.945408</td>\n",
       "    </tr>\n",
       "    <tr>\n",
       "      <td>99997</td>\n",
       "      <td>09gWa</td>\n",
       "      <td>-7.378891</td>\n",
       "      <td>-3.084104</td>\n",
       "      <td>4.998651</td>\n",
       "      <td>137.945408</td>\n",
       "    </tr>\n",
       "    <tr>\n",
       "      <td>99998</td>\n",
       "      <td>rqwUm</td>\n",
       "      <td>0.665714</td>\n",
       "      <td>-6.152593</td>\n",
       "      <td>1.000146</td>\n",
       "      <td>30.132364</td>\n",
       "    </tr>\n",
       "    <tr>\n",
       "      <td>99999</td>\n",
       "      <td>relB0</td>\n",
       "      <td>-3.426139</td>\n",
       "      <td>-7.794274</td>\n",
       "      <td>-0.003299</td>\n",
       "      <td>3.179103</td>\n",
       "    </tr>\n",
       "  </tbody>\n",
       "</table>\n",
       "</div>\n",
       "        </div>"
      ],
      "text/plain": [
       "head\n",
       "      id         f0         f1        f2     product\n",
       "0  kBEdx -15.001348  -8.276000 -0.005876    3.179103\n",
       "1  62mP7  14.272088  -3.475083  0.999183   26.953261\n",
       "2  vyE1P   6.263187  -5.948386  5.001160  134.766305\n",
       "3  KcrkZ -13.081196 -11.506057  4.999415  137.945408\n",
       "4  AHL4O  12.702195  -8.147433  5.004363  134.766305\n",
       "\n",
       "tail\n",
       "          id         f0         f1        f2     product\n",
       "99995  QywKC   9.535637  -6.878139  1.998296   53.906522\n",
       "99996  ptvty -10.160631 -12.558096  5.005581  137.945408\n",
       "99997  09gWa  -7.378891  -3.084104  4.998651  137.945408\n",
       "99998  rqwUm   0.665714  -6.152593  1.000146   30.132364\n",
       "99999  relB0  -3.426139  -7.794274 -0.003299    3.179103\n",
       "\n",
       "sample\n",
       "          id         f0         f1        f2     product\n",
       "99995  QywKC   9.535637  -6.878139  1.998296   53.906522\n",
       "99996  ptvty -10.160631 -12.558096  5.005581  137.945408\n",
       "99997  09gWa  -7.378891  -3.084104  4.998651  137.945408\n",
       "99998  rqwUm   0.665714  -6.152593  1.000146   30.132364\n",
       "99999  relB0  -3.426139  -7.794274 -0.003299    3.179103"
      ]
     },
     "execution_count": 7,
     "metadata": {},
     "output_type": "execute_result"
    }
   ],
   "source": [
    "head, tail, sample = explorer.firstsight(df_geo_2)\n",
    "explorer.Display('head', 'tail', 'sample')"
   ]
  },
  {
   "cell_type": "code",
   "execution_count": 8,
   "metadata": {},
   "outputs": [
    {
     "name": "stdout",
     "output_type": "stream",
     "text": [
      "<class 'pandas.core.frame.DataFrame'>\n",
      "RangeIndex: 100000 entries, 0 to 99999\n",
      "Data columns (total 5 columns):\n",
      "id         100000 non-null object\n",
      "f0         100000 non-null float64\n",
      "f1         100000 non-null float64\n",
      "f2         100000 non-null float64\n",
      "product    100000 non-null float64\n",
      "dtypes: float64(4), object(1)\n",
      "memory usage: 3.8+ MB\n"
     ]
    }
   ],
   "source": [
    "df_geo_2.info()"
   ]
  },
  {
   "cell_type": "markdown",
   "metadata": {},
   "source": [
    "&#9889; **Вывод:** в датасете с информацией по второму региону 100 000 строк, без пропусков, без проблем с типами данных."
   ]
  },
  {
   "cell_type": "markdown",
   "metadata": {},
   "source": [
    "### - регион 3"
   ]
  },
  {
   "cell_type": "code",
   "execution_count": 9,
   "metadata": {},
   "outputs": [
    {
     "data": {
      "text/html": [
       "<div style=\"float: left; padding: 10px;\">\n",
       "        <p style='font-family:\"Courier New\", Courier, monospace'>head</p><div>\n",
       "<style scoped>\n",
       "    .dataframe tbody tr th:only-of-type {\n",
       "        vertical-align: middle;\n",
       "    }\n",
       "\n",
       "    .dataframe tbody tr th {\n",
       "        vertical-align: top;\n",
       "    }\n",
       "\n",
       "    .dataframe thead th {\n",
       "        text-align: right;\n",
       "    }\n",
       "</style>\n",
       "<table border=\"1\" class=\"dataframe\">\n",
       "  <thead>\n",
       "    <tr style=\"text-align: right;\">\n",
       "      <th></th>\n",
       "      <th>id</th>\n",
       "      <th>f0</th>\n",
       "      <th>f1</th>\n",
       "      <th>f2</th>\n",
       "      <th>product</th>\n",
       "    </tr>\n",
       "  </thead>\n",
       "  <tbody>\n",
       "    <tr>\n",
       "      <td>0</td>\n",
       "      <td>fwXo0</td>\n",
       "      <td>-1.146987</td>\n",
       "      <td>0.963328</td>\n",
       "      <td>-0.828965</td>\n",
       "      <td>27.758673</td>\n",
       "    </tr>\n",
       "    <tr>\n",
       "      <td>1</td>\n",
       "      <td>WJtFt</td>\n",
       "      <td>0.262778</td>\n",
       "      <td>0.269839</td>\n",
       "      <td>-2.530187</td>\n",
       "      <td>56.069697</td>\n",
       "    </tr>\n",
       "    <tr>\n",
       "      <td>2</td>\n",
       "      <td>ovLUW</td>\n",
       "      <td>0.194587</td>\n",
       "      <td>0.289035</td>\n",
       "      <td>-5.586433</td>\n",
       "      <td>62.871910</td>\n",
       "    </tr>\n",
       "    <tr>\n",
       "      <td>3</td>\n",
       "      <td>q6cA6</td>\n",
       "      <td>2.236060</td>\n",
       "      <td>-0.553760</td>\n",
       "      <td>0.930038</td>\n",
       "      <td>114.572842</td>\n",
       "    </tr>\n",
       "    <tr>\n",
       "      <td>4</td>\n",
       "      <td>WPMUX</td>\n",
       "      <td>-0.515993</td>\n",
       "      <td>1.716266</td>\n",
       "      <td>5.899011</td>\n",
       "      <td>149.600746</td>\n",
       "    </tr>\n",
       "  </tbody>\n",
       "</table>\n",
       "</div>\n",
       "        </div>\n",
       "<div style=\"float: left; padding: 10px;\">\n",
       "        <p style='font-family:\"Courier New\", Courier, monospace'>tail</p><div>\n",
       "<style scoped>\n",
       "    .dataframe tbody tr th:only-of-type {\n",
       "        vertical-align: middle;\n",
       "    }\n",
       "\n",
       "    .dataframe tbody tr th {\n",
       "        vertical-align: top;\n",
       "    }\n",
       "\n",
       "    .dataframe thead th {\n",
       "        text-align: right;\n",
       "    }\n",
       "</style>\n",
       "<table border=\"1\" class=\"dataframe\">\n",
       "  <thead>\n",
       "    <tr style=\"text-align: right;\">\n",
       "      <th></th>\n",
       "      <th>id</th>\n",
       "      <th>f0</th>\n",
       "      <th>f1</th>\n",
       "      <th>f2</th>\n",
       "      <th>product</th>\n",
       "    </tr>\n",
       "  </thead>\n",
       "  <tbody>\n",
       "    <tr>\n",
       "      <td>99995</td>\n",
       "      <td>4GxBu</td>\n",
       "      <td>-1.777037</td>\n",
       "      <td>1.125220</td>\n",
       "      <td>6.263374</td>\n",
       "      <td>172.327046</td>\n",
       "    </tr>\n",
       "    <tr>\n",
       "      <td>99996</td>\n",
       "      <td>YKFjq</td>\n",
       "      <td>-1.261523</td>\n",
       "      <td>-0.894828</td>\n",
       "      <td>2.524545</td>\n",
       "      <td>138.748846</td>\n",
       "    </tr>\n",
       "    <tr>\n",
       "      <td>99997</td>\n",
       "      <td>tKPY3</td>\n",
       "      <td>-1.199934</td>\n",
       "      <td>-2.957637</td>\n",
       "      <td>5.219411</td>\n",
       "      <td>157.080080</td>\n",
       "    </tr>\n",
       "    <tr>\n",
       "      <td>99998</td>\n",
       "      <td>nmxp2</td>\n",
       "      <td>-2.419896</td>\n",
       "      <td>2.417221</td>\n",
       "      <td>-5.548444</td>\n",
       "      <td>51.795253</td>\n",
       "    </tr>\n",
       "    <tr>\n",
       "      <td>99999</td>\n",
       "      <td>V9kWn</td>\n",
       "      <td>-2.551421</td>\n",
       "      <td>-2.025625</td>\n",
       "      <td>6.090891</td>\n",
       "      <td>102.775767</td>\n",
       "    </tr>\n",
       "  </tbody>\n",
       "</table>\n",
       "</div>\n",
       "        </div>\n",
       "<div style=\"float: left; padding: 10px;\">\n",
       "        <p style='font-family:\"Courier New\", Courier, monospace'>sample</p><div>\n",
       "<style scoped>\n",
       "    .dataframe tbody tr th:only-of-type {\n",
       "        vertical-align: middle;\n",
       "    }\n",
       "\n",
       "    .dataframe tbody tr th {\n",
       "        vertical-align: top;\n",
       "    }\n",
       "\n",
       "    .dataframe thead th {\n",
       "        text-align: right;\n",
       "    }\n",
       "</style>\n",
       "<table border=\"1\" class=\"dataframe\">\n",
       "  <thead>\n",
       "    <tr style=\"text-align: right;\">\n",
       "      <th></th>\n",
       "      <th>id</th>\n",
       "      <th>f0</th>\n",
       "      <th>f1</th>\n",
       "      <th>f2</th>\n",
       "      <th>product</th>\n",
       "    </tr>\n",
       "  </thead>\n",
       "  <tbody>\n",
       "    <tr>\n",
       "      <td>99995</td>\n",
       "      <td>4GxBu</td>\n",
       "      <td>-1.777037</td>\n",
       "      <td>1.125220</td>\n",
       "      <td>6.263374</td>\n",
       "      <td>172.327046</td>\n",
       "    </tr>\n",
       "    <tr>\n",
       "      <td>99996</td>\n",
       "      <td>YKFjq</td>\n",
       "      <td>-1.261523</td>\n",
       "      <td>-0.894828</td>\n",
       "      <td>2.524545</td>\n",
       "      <td>138.748846</td>\n",
       "    </tr>\n",
       "    <tr>\n",
       "      <td>99997</td>\n",
       "      <td>tKPY3</td>\n",
       "      <td>-1.199934</td>\n",
       "      <td>-2.957637</td>\n",
       "      <td>5.219411</td>\n",
       "      <td>157.080080</td>\n",
       "    </tr>\n",
       "    <tr>\n",
       "      <td>99998</td>\n",
       "      <td>nmxp2</td>\n",
       "      <td>-2.419896</td>\n",
       "      <td>2.417221</td>\n",
       "      <td>-5.548444</td>\n",
       "      <td>51.795253</td>\n",
       "    </tr>\n",
       "    <tr>\n",
       "      <td>99999</td>\n",
       "      <td>V9kWn</td>\n",
       "      <td>-2.551421</td>\n",
       "      <td>-2.025625</td>\n",
       "      <td>6.090891</td>\n",
       "      <td>102.775767</td>\n",
       "    </tr>\n",
       "  </tbody>\n",
       "</table>\n",
       "</div>\n",
       "        </div>"
      ],
      "text/plain": [
       "head\n",
       "      id        f0        f1        f2     product\n",
       "0  fwXo0 -1.146987  0.963328 -0.828965   27.758673\n",
       "1  WJtFt  0.262778  0.269839 -2.530187   56.069697\n",
       "2  ovLUW  0.194587  0.289035 -5.586433   62.871910\n",
       "3  q6cA6  2.236060 -0.553760  0.930038  114.572842\n",
       "4  WPMUX -0.515993  1.716266  5.899011  149.600746\n",
       "\n",
       "tail\n",
       "          id        f0        f1        f2     product\n",
       "99995  4GxBu -1.777037  1.125220  6.263374  172.327046\n",
       "99996  YKFjq -1.261523 -0.894828  2.524545  138.748846\n",
       "99997  tKPY3 -1.199934 -2.957637  5.219411  157.080080\n",
       "99998  nmxp2 -2.419896  2.417221 -5.548444   51.795253\n",
       "99999  V9kWn -2.551421 -2.025625  6.090891  102.775767\n",
       "\n",
       "sample\n",
       "          id        f0        f1        f2     product\n",
       "99995  4GxBu -1.777037  1.125220  6.263374  172.327046\n",
       "99996  YKFjq -1.261523 -0.894828  2.524545  138.748846\n",
       "99997  tKPY3 -1.199934 -2.957637  5.219411  157.080080\n",
       "99998  nmxp2 -2.419896  2.417221 -5.548444   51.795253\n",
       "99999  V9kWn -2.551421 -2.025625  6.090891  102.775767"
      ]
     },
     "execution_count": 9,
     "metadata": {},
     "output_type": "execute_result"
    }
   ],
   "source": [
    "head, tail, sample = explorer.firstsight(df_geo_3)\n",
    "explorer.Display('head', 'tail', 'sample')"
   ]
  },
  {
   "cell_type": "code",
   "execution_count": 10,
   "metadata": {},
   "outputs": [
    {
     "name": "stdout",
     "output_type": "stream",
     "text": [
      "<class 'pandas.core.frame.DataFrame'>\n",
      "RangeIndex: 100000 entries, 0 to 99999\n",
      "Data columns (total 5 columns):\n",
      "id         100000 non-null object\n",
      "f0         100000 non-null float64\n",
      "f1         100000 non-null float64\n",
      "f2         100000 non-null float64\n",
      "product    100000 non-null float64\n",
      "dtypes: float64(4), object(1)\n",
      "memory usage: 3.8+ MB\n"
     ]
    }
   ],
   "source": [
    "df_geo_3.info()"
   ]
  },
  {
   "cell_type": "markdown",
   "metadata": {},
   "source": [
    "&#9889; **Вывод:** в датасете с информацией по третьему региону 100 000 строк, без пропусков, без проблем с типами данных."
   ]
  },
  {
   "cell_type": "markdown",
   "metadata": {},
   "source": [
    "[В оглавление](#TOC)"
   ]
  },
  {
   "cell_type": "markdown",
   "metadata": {},
   "source": [
    "## 5) Выведем общую статистку по датасетам, проверим наличие дубликатов и уникальные значения<a class=\"anchor\" id=\"1_5\"></a>"
   ]
  },
  {
   "cell_type": "markdown",
   "metadata": {},
   "source": [
    "### - регион 1"
   ]
  },
  {
   "cell_type": "code",
   "execution_count": 11,
   "metadata": {
    "scrolled": true
   },
   "outputs": [
    {
     "data": {
      "text/html": [
       "<div>\n",
       "<style scoped>\n",
       "    .dataframe tbody tr th:only-of-type {\n",
       "        vertical-align: middle;\n",
       "    }\n",
       "\n",
       "    .dataframe tbody tr th {\n",
       "        vertical-align: top;\n",
       "    }\n",
       "\n",
       "    .dataframe thead th {\n",
       "        text-align: right;\n",
       "    }\n",
       "</style>\n",
       "<table border=\"1\" class=\"dataframe\">\n",
       "  <thead>\n",
       "    <tr style=\"text-align: right;\">\n",
       "      <th></th>\n",
       "      <th>count</th>\n",
       "      <th>mean</th>\n",
       "      <th>std</th>\n",
       "      <th>min</th>\n",
       "      <th>25%</th>\n",
       "      <th>50%</th>\n",
       "      <th>75%</th>\n",
       "      <th>max</th>\n",
       "    </tr>\n",
       "  </thead>\n",
       "  <tbody>\n",
       "    <tr>\n",
       "      <td>f0</td>\n",
       "      <td>100000.0</td>\n",
       "      <td>0.500419</td>\n",
       "      <td>0.871832</td>\n",
       "      <td>-1.408605</td>\n",
       "      <td>-0.072580</td>\n",
       "      <td>0.502360</td>\n",
       "      <td>1.073581</td>\n",
       "      <td>2.362331</td>\n",
       "    </tr>\n",
       "    <tr>\n",
       "      <td>f1</td>\n",
       "      <td>100000.0</td>\n",
       "      <td>0.250143</td>\n",
       "      <td>0.504433</td>\n",
       "      <td>-0.848218</td>\n",
       "      <td>-0.200881</td>\n",
       "      <td>0.250252</td>\n",
       "      <td>0.700646</td>\n",
       "      <td>1.343769</td>\n",
       "    </tr>\n",
       "    <tr>\n",
       "      <td>f2</td>\n",
       "      <td>100000.0</td>\n",
       "      <td>2.502647</td>\n",
       "      <td>3.248248</td>\n",
       "      <td>-12.088328</td>\n",
       "      <td>0.287748</td>\n",
       "      <td>2.515969</td>\n",
       "      <td>4.715088</td>\n",
       "      <td>16.003790</td>\n",
       "    </tr>\n",
       "    <tr>\n",
       "      <td>product</td>\n",
       "      <td>100000.0</td>\n",
       "      <td>92.500000</td>\n",
       "      <td>44.288691</td>\n",
       "      <td>0.000000</td>\n",
       "      <td>56.497507</td>\n",
       "      <td>91.849972</td>\n",
       "      <td>128.564089</td>\n",
       "      <td>185.364347</td>\n",
       "    </tr>\n",
       "  </tbody>\n",
       "</table>\n",
       "</div>"
      ],
      "text/plain": [
       "            count       mean        std        min        25%        50%  \\\n",
       "f0       100000.0   0.500419   0.871832  -1.408605  -0.072580   0.502360   \n",
       "f1       100000.0   0.250143   0.504433  -0.848218  -0.200881   0.250252   \n",
       "f2       100000.0   2.502647   3.248248 -12.088328   0.287748   2.515969   \n",
       "product  100000.0  92.500000  44.288691   0.000000  56.497507  91.849972   \n",
       "\n",
       "                75%         max  \n",
       "f0         1.073581    2.362331  \n",
       "f1         0.700646    1.343769  \n",
       "f2         4.715088   16.003790  \n",
       "product  128.564089  185.364347  "
      ]
     },
     "execution_count": 11,
     "metadata": {},
     "output_type": "execute_result"
    }
   ],
   "source": [
    "df_geo_1.describe().T"
   ]
  },
  {
   "cell_type": "markdown",
   "metadata": {},
   "source": [
    "### - регион 2"
   ]
  },
  {
   "cell_type": "code",
   "execution_count": 12,
   "metadata": {
    "scrolled": true
   },
   "outputs": [
    {
     "data": {
      "text/html": [
       "<div>\n",
       "<style scoped>\n",
       "    .dataframe tbody tr th:only-of-type {\n",
       "        vertical-align: middle;\n",
       "    }\n",
       "\n",
       "    .dataframe tbody tr th {\n",
       "        vertical-align: top;\n",
       "    }\n",
       "\n",
       "    .dataframe thead th {\n",
       "        text-align: right;\n",
       "    }\n",
       "</style>\n",
       "<table border=\"1\" class=\"dataframe\">\n",
       "  <thead>\n",
       "    <tr style=\"text-align: right;\">\n",
       "      <th></th>\n",
       "      <th>count</th>\n",
       "      <th>mean</th>\n",
       "      <th>std</th>\n",
       "      <th>min</th>\n",
       "      <th>25%</th>\n",
       "      <th>50%</th>\n",
       "      <th>75%</th>\n",
       "      <th>max</th>\n",
       "    </tr>\n",
       "  </thead>\n",
       "  <tbody>\n",
       "    <tr>\n",
       "      <td>f0</td>\n",
       "      <td>100000.0</td>\n",
       "      <td>1.141296</td>\n",
       "      <td>8.965932</td>\n",
       "      <td>-31.609576</td>\n",
       "      <td>-6.298551</td>\n",
       "      <td>1.153055</td>\n",
       "      <td>8.621015</td>\n",
       "      <td>29.421755</td>\n",
       "    </tr>\n",
       "    <tr>\n",
       "      <td>f1</td>\n",
       "      <td>100000.0</td>\n",
       "      <td>-4.796579</td>\n",
       "      <td>5.119872</td>\n",
       "      <td>-26.358598</td>\n",
       "      <td>-8.267985</td>\n",
       "      <td>-4.813172</td>\n",
       "      <td>-1.332816</td>\n",
       "      <td>18.734063</td>\n",
       "    </tr>\n",
       "    <tr>\n",
       "      <td>f2</td>\n",
       "      <td>100000.0</td>\n",
       "      <td>2.494541</td>\n",
       "      <td>1.703572</td>\n",
       "      <td>-0.018144</td>\n",
       "      <td>1.000021</td>\n",
       "      <td>2.011479</td>\n",
       "      <td>3.999904</td>\n",
       "      <td>5.019721</td>\n",
       "    </tr>\n",
       "    <tr>\n",
       "      <td>product</td>\n",
       "      <td>100000.0</td>\n",
       "      <td>68.825000</td>\n",
       "      <td>45.944423</td>\n",
       "      <td>0.000000</td>\n",
       "      <td>26.953261</td>\n",
       "      <td>57.085625</td>\n",
       "      <td>107.813044</td>\n",
       "      <td>137.945408</td>\n",
       "    </tr>\n",
       "  </tbody>\n",
       "</table>\n",
       "</div>"
      ],
      "text/plain": [
       "            count       mean        std        min        25%        50%  \\\n",
       "f0       100000.0   1.141296   8.965932 -31.609576  -6.298551   1.153055   \n",
       "f1       100000.0  -4.796579   5.119872 -26.358598  -8.267985  -4.813172   \n",
       "f2       100000.0   2.494541   1.703572  -0.018144   1.000021   2.011479   \n",
       "product  100000.0  68.825000  45.944423   0.000000  26.953261  57.085625   \n",
       "\n",
       "                75%         max  \n",
       "f0         8.621015   29.421755  \n",
       "f1        -1.332816   18.734063  \n",
       "f2         3.999904    5.019721  \n",
       "product  107.813044  137.945408  "
      ]
     },
     "execution_count": 12,
     "metadata": {},
     "output_type": "execute_result"
    }
   ],
   "source": [
    "df_geo_2.describe().T"
   ]
  },
  {
   "cell_type": "markdown",
   "metadata": {},
   "source": [
    "### - регион 3"
   ]
  },
  {
   "cell_type": "code",
   "execution_count": 13,
   "metadata": {},
   "outputs": [
    {
     "data": {
      "text/html": [
       "<div>\n",
       "<style scoped>\n",
       "    .dataframe tbody tr th:only-of-type {\n",
       "        vertical-align: middle;\n",
       "    }\n",
       "\n",
       "    .dataframe tbody tr th {\n",
       "        vertical-align: top;\n",
       "    }\n",
       "\n",
       "    .dataframe thead th {\n",
       "        text-align: right;\n",
       "    }\n",
       "</style>\n",
       "<table border=\"1\" class=\"dataframe\">\n",
       "  <thead>\n",
       "    <tr style=\"text-align: right;\">\n",
       "      <th></th>\n",
       "      <th>count</th>\n",
       "      <th>mean</th>\n",
       "      <th>std</th>\n",
       "      <th>min</th>\n",
       "      <th>25%</th>\n",
       "      <th>50%</th>\n",
       "      <th>75%</th>\n",
       "      <th>max</th>\n",
       "    </tr>\n",
       "  </thead>\n",
       "  <tbody>\n",
       "    <tr>\n",
       "      <td>f0</td>\n",
       "      <td>100000.0</td>\n",
       "      <td>0.002023</td>\n",
       "      <td>1.732045</td>\n",
       "      <td>-8.760004</td>\n",
       "      <td>-1.162288</td>\n",
       "      <td>0.009424</td>\n",
       "      <td>1.158535</td>\n",
       "      <td>7.238262</td>\n",
       "    </tr>\n",
       "    <tr>\n",
       "      <td>f1</td>\n",
       "      <td>100000.0</td>\n",
       "      <td>-0.002081</td>\n",
       "      <td>1.730417</td>\n",
       "      <td>-7.084020</td>\n",
       "      <td>-1.174820</td>\n",
       "      <td>-0.009482</td>\n",
       "      <td>1.163678</td>\n",
       "      <td>7.844801</td>\n",
       "    </tr>\n",
       "    <tr>\n",
       "      <td>f2</td>\n",
       "      <td>100000.0</td>\n",
       "      <td>2.495128</td>\n",
       "      <td>3.473445</td>\n",
       "      <td>-11.970335</td>\n",
       "      <td>0.130359</td>\n",
       "      <td>2.484236</td>\n",
       "      <td>4.858794</td>\n",
       "      <td>16.739402</td>\n",
       "    </tr>\n",
       "    <tr>\n",
       "      <td>product</td>\n",
       "      <td>100000.0</td>\n",
       "      <td>95.000000</td>\n",
       "      <td>44.749921</td>\n",
       "      <td>0.000000</td>\n",
       "      <td>59.450441</td>\n",
       "      <td>94.925613</td>\n",
       "      <td>130.595027</td>\n",
       "      <td>190.029838</td>\n",
       "    </tr>\n",
       "  </tbody>\n",
       "</table>\n",
       "</div>"
      ],
      "text/plain": [
       "            count       mean        std        min        25%        50%  \\\n",
       "f0       100000.0   0.002023   1.732045  -8.760004  -1.162288   0.009424   \n",
       "f1       100000.0  -0.002081   1.730417  -7.084020  -1.174820  -0.009482   \n",
       "f2       100000.0   2.495128   3.473445 -11.970335   0.130359   2.484236   \n",
       "product  100000.0  95.000000  44.749921   0.000000  59.450441  94.925613   \n",
       "\n",
       "                75%         max  \n",
       "f0         1.158535    7.238262  \n",
       "f1         1.163678    7.844801  \n",
       "f2         4.858794   16.739402  \n",
       "product  130.595027  190.029838  "
      ]
     },
     "execution_count": 13,
     "metadata": {},
     "output_type": "execute_result"
    }
   ],
   "source": [
    "df_geo_3.describe().T"
   ]
  },
  {
   "cell_type": "markdown",
   "metadata": {},
   "source": [
    "С учетом характера данных - общая статистика малоинформативна без точного понимания, какие именно атрибуты наблюдений содержаться в столбцах f0, f1, f2."
   ]
  },
  {
   "cell_type": "markdown",
   "metadata": {},
   "source": [
    "### - проверим наличие полных дубликатов"
   ]
  },
  {
   "cell_type": "code",
   "execution_count": 14,
   "metadata": {},
   "outputs": [
    {
     "data": {
      "text/plain": [
       "0"
      ]
     },
     "execution_count": 14,
     "metadata": {},
     "output_type": "execute_result"
    }
   ],
   "source": [
    "(df_geo_1.duplicated() == True).sum()"
   ]
  },
  {
   "cell_type": "code",
   "execution_count": 15,
   "metadata": {},
   "outputs": [
    {
     "data": {
      "text/plain": [
       "0"
      ]
     },
     "execution_count": 15,
     "metadata": {},
     "output_type": "execute_result"
    }
   ],
   "source": [
    "(df_geo_2.duplicated() == True).sum()"
   ]
  },
  {
   "cell_type": "code",
   "execution_count": 16,
   "metadata": {},
   "outputs": [
    {
     "data": {
      "text/plain": [
       "0"
      ]
     },
     "execution_count": 16,
     "metadata": {},
     "output_type": "execute_result"
    }
   ],
   "source": [
    "(df_geo_3.duplicated() == True).sum()"
   ]
  },
  {
   "cell_type": "markdown",
   "metadata": {},
   "source": [
    "Полных дубликатов нет"
   ]
  },
  {
   "cell_type": "markdown",
   "metadata": {},
   "source": [
    "### - проверим уникальные значения"
   ]
  },
  {
   "cell_type": "code",
   "execution_count": 17,
   "metadata": {},
   "outputs": [
    {
     "data": {
      "text/plain": [
       "id          99990\n",
       "f0         100000\n",
       "f1         100000\n",
       "f2         100000\n",
       "product    100000\n",
       "dtype: int64"
      ]
     },
     "execution_count": 17,
     "metadata": {},
     "output_type": "execute_result"
    }
   ],
   "source": [
    "df_geo_1.nunique()"
   ]
  },
  {
   "cell_type": "code",
   "execution_count": 18,
   "metadata": {},
   "outputs": [
    {
     "data": {
      "text/plain": [
       "id          99996\n",
       "f0         100000\n",
       "f1         100000\n",
       "f2         100000\n",
       "product        12\n",
       "dtype: int64"
      ]
     },
     "execution_count": 18,
     "metadata": {},
     "output_type": "execute_result"
    }
   ],
   "source": [
    "df_geo_2.nunique()"
   ]
  },
  {
   "cell_type": "code",
   "execution_count": 19,
   "metadata": {},
   "outputs": [
    {
     "data": {
      "text/plain": [
       "id          99996\n",
       "f0         100000\n",
       "f1         100000\n",
       "f2         100000\n",
       "product    100000\n",
       "dtype: int64"
      ]
     },
     "execution_count": 19,
     "metadata": {},
     "output_type": "execute_result"
    }
   ],
   "source": [
    "df_geo_3.nunique()"
   ]
  },
  {
   "cell_type": "markdown",
   "metadata": {},
   "source": [
    "&#9889; **Вывод:**\n",
    "1. Описательная статистика неинформативна без точного описания данных без точного понимания, какие именно атрибуты наблюдений содержаться в столбцах f0, f1, f2.\n",
    "2. В датасетах нет полных дубликатов.\n",
    "3. В каждом из датасетов в столбце id есть повторяющиеся значения: df_geo_1 - 10 из 100 000 (0,0001‬%), df_geo_2 - 4 из 100 000 (0,00004%), df_geo_3 - 4 из 100 000 (0,00004%). Вероятно, из некторых скважин брали несколько замеров, скорее всего на разных глубинах.\n",
    "4. Исходя из описания данных, столбец id кандидат на удаление, поскольку уникальный идентификатор месторождения - не универсальный признак."
   ]
  },
  {
   "cell_type": "markdown",
   "metadata": {},
   "source": [
    "[В оглавление](#TOC)"
   ]
  },
  {
   "cell_type": "markdown",
   "metadata": {},
   "source": [
    "## Вывод<a class=\"anchor\" id=\"1_conclusion\"></a>"
   ]
  },
  {
   "cell_type": "markdown",
   "metadata": {},
   "source": [
    "Исходя из представленных данных и описаний данных, можно сделать следующие выводы:\n",
    "1. В датасетах представлены данные георазведки из трех регионов по 100 000 уникальных наблюдений в каждом.\n",
    "2. Во всех датасетах нет проблем с типами данных, полные дубликаты отсутствуют, нет пропусков.\n",
    "3. Есть повторяющиеся значения в столбцах с id: df_geo_1 - 10 из 100 000 (0,0001‬%), df_geo_2 - 4 из 100 000 (0,00004%), df_geo_3 - 4 из 100 000 (0,00004%). \n",
    "4. Поскольку нет возможности уточнить у источника данных - исходим из буквального описания датасета: есть наблюдения из одних тех же скважин. \n",
    "5. Столбец id не будет использован для обучения модели, поскольку является неуниверсальным атрибутом."
   ]
  },
  {
   "cell_type": "markdown",
   "metadata": {},
   "source": [
    "[В оглавление](#TOC)"
   ]
  },
  {
   "cell_type": "markdown",
   "metadata": {},
   "source": [
    "# II. Обучение и проверка модели<a class=\"anchor\" id=\"2\">\n",
    "***"
   ]
  },
  {
   "cell_type": "markdown",
   "metadata": {},
   "source": [
    "## 1. Инициализируем модель линейной регрессии и создадим словарь для поиска наилучших параметров<a class=\"anchor\" id=\"2_model\">\n",
    "***"
   ]
  },
  {
   "cell_type": "code",
   "execution_count": 20,
   "metadata": {},
   "outputs": [],
   "source": [
    "lr = LinearRegression(n_jobs=-1)"
   ]
  },
  {
   "cell_type": "markdown",
   "metadata": {},
   "source": [
    "#### - параметры для модели будут подбираться с помощью GridSearchCV, поэтому определим словарь с параметрами"
   ]
  },
  {
   "cell_type": "code",
   "execution_count": 21,
   "metadata": {},
   "outputs": [],
   "source": [
    "param_grid={'fit_intercept':[True, False], 'normalize':[True, False], 'copy_X':[True, False]}"
   ]
  },
  {
   "cell_type": "markdown",
   "metadata": {},
   "source": [
    "#### - объявим функцию reporter, которая соберет отчет по метрикам для каждой из моделей, сохранит предсказания, подсчитает среднее"
   ]
  },
  {
   "cell_type": "code",
   "execution_count": 22,
   "metadata": {},
   "outputs": [],
   "source": [
    "def reporter(datalist):\n",
    "\n",
    "    results = []\n",
    "    full_report = pd.DataFrame()\n",
    "    count = 1\n",
    "\n",
    "    for data in datalist:\n",
    "\n",
    "        #делим выборку\n",
    "        x_train, x_test, y_train, y_test = explorer.df_split(data, ['id', 'product'], 'product', 0.25, 42)\n",
    "\n",
    "        #ищем параметры по сетке\n",
    "        lr_grid = explorer.grid_search(lr, param_grid, 5, x_train, y_train)\n",
    "\n",
    "        #сохраняем предсказания модели\n",
    "        predicted_product = list(lr_grid.predict(x_test))\n",
    "        region_report = pd.DataFrame(y_test)\n",
    "        region_report['predicted'] = predicted_product\n",
    "        region_report['region'] = count\n",
    "\n",
    "        #дополняем датасет предсказаниями\n",
    "        full_report = pd.concat([full_report] + [region_report])\n",
    "\n",
    "        #считаем среднее и метрики\n",
    "        predicted_mean_product = region_report.predicted.mean()\n",
    "        mse = mean_squared_error(y_test, predicted_product)\n",
    "        rmse = np.sqrt(mse)\n",
    "        mape = explorer.mape(y_test, predicted_product)\n",
    "\n",
    "        #дополняем отчет\n",
    "        results.append((count, lr_grid.score(x_test, y_test), rmse, mape, predicted_mean_product, lr_grid))\n",
    "\n",
    "        count += 1\n",
    "        \n",
    "    results_df = pd.DataFrame(results, columns=['region', 'r2', 'rmse', 'mape', 'predicted_mean_product', 'params'])      \n",
    "    represented_result = results_df[['region', 'r2', 'rmse', 'mape', 'predicted_mean_product']]\n",
    "\n",
    "    return full_report, results, results_df, represented_result"
   ]
  },
  {
   "cell_type": "markdown",
   "metadata": {},
   "source": [
    "[В оглавление](#TOC)"
   ]
  },
  {
   "cell_type": "markdown",
   "metadata": {},
   "source": [
    "## 2. Соберем отчет для каждого из регионов<a class='anchor' id='2_regions'>"
   ]
  },
  {
   "cell_type": "code",
   "execution_count": 23,
   "metadata": {},
   "outputs": [
    {
     "name": "stdout",
     "output_type": "stream",
     "text": [
      "Fitting 5 folds for each of 8 candidates, totalling 40 fits\n"
     ]
    },
    {
     "name": "stderr",
     "output_type": "stream",
     "text": [
      "[Parallel(n_jobs=-1)]: Using backend LokyBackend with 8 concurrent workers.\n",
      "[Parallel(n_jobs=-1)]: Done  40 out of  40 | elapsed:    4.0s finished\n",
      "[Parallel(n_jobs=-1)]: Using backend LokyBackend with 8 concurrent workers.\n"
     ]
    },
    {
     "name": "stdout",
     "output_type": "stream",
     "text": [
      "Fitting 5 folds for each of 8 candidates, totalling 40 fits\n"
     ]
    },
    {
     "name": "stderr",
     "output_type": "stream",
     "text": [
      "[Parallel(n_jobs=-1)]: Done  40 out of  40 | elapsed:    0.3s finished\n",
      "[Parallel(n_jobs=-1)]: Using backend LokyBackend with 8 concurrent workers.\n"
     ]
    },
    {
     "name": "stdout",
     "output_type": "stream",
     "text": [
      "Fitting 5 folds for each of 8 candidates, totalling 40 fits\n"
     ]
    },
    {
     "name": "stderr",
     "output_type": "stream",
     "text": [
      "[Parallel(n_jobs=-1)]: Done  40 out of  40 | elapsed:    0.3s finished\n"
     ]
    }
   ],
   "source": [
    "full_report, results, results_df, represented_result = reporter([df_geo_1, df_geo_2, df_geo_3])"
   ]
  },
  {
   "cell_type": "markdown",
   "metadata": {},
   "source": [
    "[В оглавление](#TOC)"
   ]
  },
  {
   "cell_type": "markdown",
   "metadata": {},
   "source": [
    "## 3. Результаты моделей для каждого из регионов<a class=\"anchor\" id=\"2_model_results\"></a>"
   ]
  },
  {
   "cell_type": "code",
   "execution_count": 24,
   "metadata": {},
   "outputs": [
    {
     "data": {
      "text/html": [
       "<div>\n",
       "<style scoped>\n",
       "    .dataframe tbody tr th:only-of-type {\n",
       "        vertical-align: middle;\n",
       "    }\n",
       "\n",
       "    .dataframe tbody tr th {\n",
       "        vertical-align: top;\n",
       "    }\n",
       "\n",
       "    .dataframe thead th {\n",
       "        text-align: right;\n",
       "    }\n",
       "</style>\n",
       "<table border=\"1\" class=\"dataframe\">\n",
       "  <thead>\n",
       "    <tr style=\"text-align: right;\">\n",
       "      <th></th>\n",
       "      <th>region</th>\n",
       "      <th>r2</th>\n",
       "      <th>rmse</th>\n",
       "      <th>mape</th>\n",
       "      <th>predicted_mean_product</th>\n",
       "    </tr>\n",
       "  </thead>\n",
       "  <tbody>\n",
       "    <tr>\n",
       "      <td>0</td>\n",
       "      <td>1</td>\n",
       "      <td>0.272829</td>\n",
       "      <td>37.756600</td>\n",
       "      <td>28.475588</td>\n",
       "      <td>92.398800</td>\n",
       "    </tr>\n",
       "    <tr>\n",
       "      <td>1</td>\n",
       "      <td>2</td>\n",
       "      <td>0.999625</td>\n",
       "      <td>0.890280</td>\n",
       "      <td>1.005015</td>\n",
       "      <td>68.712878</td>\n",
       "    </tr>\n",
       "    <tr>\n",
       "      <td>2</td>\n",
       "      <td>3</td>\n",
       "      <td>0.196347</td>\n",
       "      <td>40.145872</td>\n",
       "      <td>28.860169</td>\n",
       "      <td>94.771024</td>\n",
       "    </tr>\n",
       "  </tbody>\n",
       "</table>\n",
       "</div>"
      ],
      "text/plain": [
       "   region        r2       rmse       mape  predicted_mean_product\n",
       "0       1  0.272829  37.756600  28.475588               92.398800\n",
       "1       2  0.999625   0.890280   1.005015               68.712878\n",
       "2       3  0.196347  40.145872  28.860169               94.771024"
      ]
     },
     "execution_count": 24,
     "metadata": {},
     "output_type": "execute_result"
    }
   ],
   "source": [
    "represented_result"
   ]
  },
  {
   "cell_type": "markdown",
   "metadata": {},
   "source": [
    "#### - разделим отчет по регионам"
   ]
  },
  {
   "cell_type": "code",
   "execution_count": 25,
   "metadata": {},
   "outputs": [],
   "source": [
    "region_1_report = full_report.query('region == 1')\n",
    "region_2_report = full_report.query('region == 2')\n",
    "region_3_report = full_report.query('region == 3')"
   ]
  },
  {
   "cell_type": "markdown",
   "metadata": {},
   "source": [
    "#### - выведем график с сотами, чтобы посмотреть пересечения между предсказаниями и правильными ответами"
   ]
  },
  {
   "cell_type": "code",
   "execution_count": 26,
   "metadata": {},
   "outputs": [
    {
     "data": {
      "image/png": "[encoded data removed]",
      "text/plain": [
       "<Figure size 1152x288 with 6 Axes>"
      ]
     },
     "metadata": {},
     "output_type": "display_data"
    }
   ],
   "source": [
    "sns.set(style=\"white\", palette=\"muted\", color_codes=True)\n",
    "f, axes = plt.subplots(1, 3, figsize=(16, 4), sharex=False)\n",
    "sns.despine(left=True)\n",
    "f.subplots_adjust(hspace=0.4, wspace=0.4)\n",
    "region_1_report.plot('predicted', 'product', kind='hexbin', gridsize=20, sharex=False, grid=True, ax=axes[0]).set_title('region 1')\n",
    "region_2_report.plot('predicted', 'product', kind='hexbin', gridsize=20, sharex=False, grid=True, ax=axes[1]).set_title('region 2')\n",
    "region_3_report.plot('predicted', 'product', kind='hexbin', gridsize=20, sharex=False, grid=True, ax=axes[2]).set_title('region 3')\n",
    "plt.tight_layout()"
   ]
  },
  {
   "cell_type": "markdown",
   "metadata": {},
   "source": [
    "&#9889; **Вывод:**"
   ]
  },
  {
   "cell_type": "markdown",
   "metadata": {},
   "source": [
    "1. **Регион 1**\n",
    "    - Cредний запас сырья в регионе 1, предсказанный моделью - 92,4 тыс. баррелей.\n",
    "    - Квадратный корень из средней квадратичной ошибки (RMSE) - 37.76.\n",
    "    - Средний процент отклонения (MAPE) - 28 %. Модель может ошибаться в среднем на 28%, что довольно много.\n",
    "2. **Регион 2**\n",
    "    - Cредний запас сырья в регионе 2, предсказанный моделью - 68.71 тыс. баррелей.\n",
    "    - Квадратный корень из средней квадратичной ошибки (RMSE) - 0.89.\n",
    "    - Средний процент отклонения (MAPE) - 1 %.\n",
    "    - Высокий результат модели связан со странностями распределния выборки по второму региону 2. Требуется уточнение у поставщика данных, почему целевые показатели сгруппированы относительно друг друга практически в равных интервалах.\n",
    "    - С учетом исследования, результаты модели следует рассматривать с крайней осторожностью. Может быть, даже вообще не рассматривать регион 2.\n",
    "3. **Регион 3**\n",
    "    - Cредний запас сырья в регионе 3, предсказанный моделью - 94.77 тыс. баррелей.\n",
    "    - Квадратный корень из средней квадратичной ошибки (RMSE) - 40.15.\n",
    "    - Средний процент отклонения (MAPE) - 28.9 %.\n",
    "    - Результаты модели невысокие, чуть хуже модели, обученной на данных для первого региона."
   ]
  },
  {
   "cell_type": "markdown",
   "metadata": {},
   "source": [
    "[В оглавление](#TOC)"
   ]
  },
  {
   "cell_type": "markdown",
   "metadata": {},
   "source": [
    "## 4. Сравнение правильного среднего и среднего, предсказанного моделью<a class=\"anchor\" id=\"2_mean\"></a>"
   ]
  },
  {
   "cell_type": "markdown",
   "metadata": {},
   "source": [
    "#### - построим гистограммы с одинаковыми границами бинов для каждого из регионов"
   ]
  },
  {
   "cell_type": "code",
   "execution_count": 27,
   "metadata": {},
   "outputs": [
    {
     "data": {
      "text/html": [
       "<div>\n",
       "<style scoped>\n",
       "    .dataframe tbody tr th:only-of-type {\n",
       "        vertical-align: middle;\n",
       "    }\n",
       "\n",
       "    .dataframe tbody tr th {\n",
       "        vertical-align: top;\n",
       "    }\n",
       "\n",
       "    .dataframe thead th {\n",
       "        text-align: right;\n",
       "    }\n",
       "</style>\n",
       "<table border=\"1\" class=\"dataframe\">\n",
       "  <thead>\n",
       "    <tr style=\"text-align: right;\">\n",
       "      <th></th>\n",
       "      <th>predicted</th>\n",
       "      <th>product</th>\n",
       "    </tr>\n",
       "    <tr>\n",
       "      <th>region</th>\n",
       "      <th></th>\n",
       "      <th></th>\n",
       "    </tr>\n",
       "  </thead>\n",
       "  <tbody>\n",
       "    <tr>\n",
       "      <td>1</td>\n",
       "      <td>92.398800</td>\n",
       "      <td>92.325956</td>\n",
       "    </tr>\n",
       "    <tr>\n",
       "      <td>2</td>\n",
       "      <td>68.712878</td>\n",
       "      <td>68.725381</td>\n",
       "    </tr>\n",
       "    <tr>\n",
       "      <td>3</td>\n",
       "      <td>94.771024</td>\n",
       "      <td>95.150999</td>\n",
       "    </tr>\n",
       "  </tbody>\n",
       "</table>\n",
       "</div>"
      ],
      "text/plain": [
       "        predicted    product\n",
       "region                      \n",
       "1       92.398800  92.325956\n",
       "2       68.712878  68.725381\n",
       "3       94.771024  95.150999"
      ]
     },
     "execution_count": 27,
     "metadata": {},
     "output_type": "execute_result"
    }
   ],
   "source": [
    "full_report.pivot_table(index='region')"
   ]
  },
  {
   "cell_type": "code",
   "execution_count": 28,
   "metadata": {},
   "outputs": [
    {
     "data": {
      "image/png": "[encoded data removed]",
      "text/plain": [
       "<Figure size 720x576 with 1 Axes>"
      ]
     },
     "metadata": {},
     "output_type": "display_data"
    }
   ],
   "source": [
    "explorer.overlaid_histogram(region_1_report['product'], region_1_report['predicted'], 150, \n",
    "                            data1_name='product-data1', data1_color='red',\n",
    "                            data2_name='predicted-data2', data2_color='royalblue',\n",
    "                            title='Регион 1')"
   ]
  },
  {
   "cell_type": "code",
   "execution_count": 29,
   "metadata": {},
   "outputs": [
    {
     "data": {
      "image/png": "[encoded data removed]",
      "text/plain": [
       "<Figure size 720x576 with 1 Axes>"
      ]
     },
     "metadata": {},
     "output_type": "display_data"
    }
   ],
   "source": [
    "explorer.overlaid_histogram(region_2_report['product'], region_2_report['predicted'], 150, \n",
    "                            data1_name='product-data1', data1_color='red',\n",
    "                            data2_name='predicted-data2', data2_color='royalblue',\n",
    "                            title='Регион 2')"
   ]
  },
  {
   "cell_type": "code",
   "execution_count": 30,
   "metadata": {},
   "outputs": [
    {
     "data": {
      "image/png": "[encoded data removed]",
      "text/plain": [
       "<Figure size 720x576 with 1 Axes>"
      ]
     },
     "metadata": {},
     "output_type": "display_data"
    }
   ],
   "source": [
    "explorer.overlaid_histogram(region_3_report['product'], region_3_report['predicted'], 150, \n",
    "                            data1_name='product-data1', data1_color='red',\n",
    "                            data2_name='predicted-data2', data2_color='royalblue',\n",
    "                            title='Регион 3')"
   ]
  },
  {
   "cell_type": "markdown",
   "metadata": {},
   "source": [
    "&#9889; **Вывод:** числовые средние двух выборок близки друг к другу до степени совпадения. Равенство средних еще не говорит о принадлежности выборок одной и  той же генеральной совокупности. С учетом значений rmse и r2 моделей, принимая во внимание близость средних предсказанных и правильных ответов, опираясь на визуализированные данные, полагаю необходимым проверить однородность распределений для каждой из выборок."
   ]
  },
  {
   "cell_type": "markdown",
   "metadata": {},
   "source": [
    "[В оглавление](#TOC)"
   ]
  },
  {
   "cell_type": "markdown",
   "metadata": {},
   "source": [
    "### 1) Проверим гипотезы об однородности распределений по критерию Смирнова в отношении каждого из регионов<a class=\"anchor\" id=\"2_6_1\"></a>"
   ]
  },
  {
   "cell_type": "markdown",
   "metadata": {},
   "source": [
    "https://docs.scipy.org/doc/scipy-0.14.0/reference/generated/scipy.stats.ks_2samp.html"
   ]
  },
  {
   "cell_type": "markdown",
   "metadata": {},
   "source": [
    "#### - объявим функцию sttest"
   ]
  },
  {
   "cell_type": "code",
   "execution_count": 31,
   "metadata": {},
   "outputs": [],
   "source": [
    "def sttest(datalist, alpha):\n",
    "    \n",
    "    count = 1\n",
    "    test_report = []\n",
    "    \n",
    "    for data in datalist:\n",
    "        ks_stat, pval_ks = st.ks_2samp(data['product'], data['predicted'])\n",
    "           \n",
    "        test_report.append((count, pval_ks, alpha, pval_ks < alpha))   \n",
    "        \n",
    "        count += 1\n",
    "   \n",
    "    return pd.DataFrame(test_report, columns = ['region', 'pval', 'alpha', 'pval < alpha'])"
   ]
  },
  {
   "cell_type": "markdown",
   "metadata": {},
   "source": [
    "#### - сформулируем нулевую гипотезу"
   ]
  },
  {
   "cell_type": "markdown",
   "metadata": {},
   "source": [
    "1) Нулевую гипотезу, которую проверяет тест, сформулируем так: \"Выборка предсказанных моделью объемов сырья и выборка правильных объемов сырья принадлежат одному закону распределения\".\n",
    "\n",
    "2) Альтернативную гипотезу, соответственно, сформулируем так: \"Выборка предсказанных моделью объемов сырья и выборка правильных объемов сырья принадлежат разным законам распределения\"."
   ]
  },
  {
   "cell_type": "markdown",
   "metadata": {},
   "source": [
    "#### - примем уровень значимости в 5%."
   ]
  },
  {
   "cell_type": "code",
   "execution_count": 32,
   "metadata": {},
   "outputs": [],
   "source": [
    "alpha = 0.05"
   ]
  },
  {
   "cell_type": "markdown",
   "metadata": {},
   "source": [
    "#### - проведем тест, получим p-значение, сравним p-значение с уровнем значимости, занесем результат в таблицу"
   ]
  },
  {
   "cell_type": "code",
   "execution_count": 33,
   "metadata": {},
   "outputs": [
    {
     "data": {
      "text/html": [
       "<div>\n",
       "<style scoped>\n",
       "    .dataframe tbody tr th:only-of-type {\n",
       "        vertical-align: middle;\n",
       "    }\n",
       "\n",
       "    .dataframe tbody tr th {\n",
       "        vertical-align: top;\n",
       "    }\n",
       "\n",
       "    .dataframe thead th {\n",
       "        text-align: right;\n",
       "    }\n",
       "</style>\n",
       "<table border=\"1\" class=\"dataframe\">\n",
       "  <thead>\n",
       "    <tr style=\"text-align: right;\">\n",
       "      <th></th>\n",
       "      <th>region</th>\n",
       "      <th>pval</th>\n",
       "      <th>alpha</th>\n",
       "      <th>pval &lt; alpha</th>\n",
       "    </tr>\n",
       "  </thead>\n",
       "  <tbody>\n",
       "    <tr>\n",
       "      <td>0</td>\n",
       "      <td>1</td>\n",
       "      <td>0.000000e+00</td>\n",
       "      <td>0.05</td>\n",
       "      <td>True</td>\n",
       "    </tr>\n",
       "    <tr>\n",
       "      <td>1</td>\n",
       "      <td>2</td>\n",
       "      <td>1.115872e-45</td>\n",
       "      <td>0.05</td>\n",
       "      <td>True</td>\n",
       "    </tr>\n",
       "    <tr>\n",
       "      <td>2</td>\n",
       "      <td>3</td>\n",
       "      <td>0.000000e+00</td>\n",
       "      <td>0.05</td>\n",
       "      <td>True</td>\n",
       "    </tr>\n",
       "  </tbody>\n",
       "</table>\n",
       "</div>"
      ],
      "text/plain": [
       "   region          pval  alpha  pval < alpha\n",
       "0       1  0.000000e+00   0.05          True\n",
       "1       2  1.115872e-45   0.05          True\n",
       "2       3  0.000000e+00   0.05          True"
      ]
     },
     "execution_count": 33,
     "metadata": {},
     "output_type": "execute_result"
    }
   ],
   "source": [
    "test_report = sttest([region_1_report, region_2_report, region_3_report], alpha)\n",
    "test_report"
   ]
  },
  {
   "cell_type": "markdown",
   "metadata": {},
   "source": [
    "&#9889; **Вывод:** исходя из представленных данных, на уровне значимости 5% - есть основания отвергнуть нулевую гипотезу в пользу альтернативы. Выборка предсказанных моделью объемов сырья и выборка правильных объемов сырья **в отношении каждого из регионов - 1, 2, 3 соответственно - принадлежат разным законам распределения** ."
   ]
  },
  {
   "cell_type": "markdown",
   "metadata": {},
   "source": [
    "[В оглавление](#TOC)"
   ]
  },
  {
   "cell_type": "markdown",
   "metadata": {},
   "source": [
    "## Вывод<a class='anchor' id='2_conclusion'>"
   ]
  },
  {
   "cell_type": "markdown",
   "metadata": {},
   "source": [
    "1. В отношении каждого из регионов построены модели линейной регрессии со следующими результатами RMSE:\n",
    "    - регион 1 - 37.76,\n",
    "    - регион 2 - 0.89,\n",
    "    - регион 3 - 40.14.\n",
    "2. Результаты работы моделей в отношении региона 1 и региона 2 - неудовлетворительные. Результаты работы модели в отношении региона 2 связан с особенностями распределения данных: через 6 областей через равные интервалы. \n",
    "3. Поэтому к предсказаниям всех трех моделей следует относится с крайней осторожностью и, возможно, собрать дополнительные признаки для перерасчета.\n",
    "3. Средний запас сырья, основываясь на предсказаниях моделей:\n",
    "    - регион 1 - 92.4 тыс. баррелей,\n",
    "    - регион 2 - 68.71 тыс. баррелей,\n",
    "    - регион 3 - 94.77 тыс. баррелей.\n",
    "4. Средние значения запасов сырья, основываясь на предсказаниях моделей, близки к средним значениям, посчитанным на основе настоящих данных:\n",
    "    - регион 1 - 92.33 тыс. баррелей,\n",
    "    - регион 2 - 68.73 тыс. баррелей,\n",
    "    - регион 3 - 95.15 тыс. баррелей.\n",
    "5. В отношении кадой из выборок были проведены статистические тесты об однородности распределений по критерию Смирнова в результате которого, исходя из имеющихся данных, при уровне значимости 0.05, были отвегнуты нулевые гипотезы о принадлежности выборок предсказанных моделью объемов сырья и выборок правильных объемов сырья одному закону распределения. Принята альтерантивная гипотеза - выборка предсказанных моделью объемов сырья и выборка правильных объемов сырья в отношени регионов 1,2 и 3 принадлежат разным законам распределения.\n",
    "6. Исходя из полученных результатов, с осторожностью можно утверждать, что модели обученные на представленных данных - малопригодны для прогонозирования объемов запасов сырья с разумной степенью достоверности. Использование результатов работы модели для принятия решений является высокорискованным."
   ]
  },
  {
   "cell_type": "markdown",
   "metadata": {},
   "source": [
    "[В оглавление](#TOC)"
   ]
  },
  {
   "cell_type": "markdown",
   "metadata": {},
   "source": [
    "# III. Подготовка к расчёту прибыли<a class=\"anchor\" id=\"3\">\n",
    "***"
   ]
  },
  {
   "cell_type": "markdown",
   "metadata": {},
   "source": [
    "## 1) Выделим ключевые значения для расчетов<a class=\"anchor\" id=\"3_1\"></a>"
   ]
  },
  {
   "cell_type": "markdown",
   "metadata": {},
   "source": [
    "#### - общий бюджет на разработку месторождений - 10 млрд. рублей"
   ]
  },
  {
   "cell_type": "code",
   "execution_count": 34,
   "metadata": {},
   "outputs": [
    {
     "data": {
      "text/plain": [
       "10000000000"
      ]
     },
     "execution_count": 34,
     "metadata": {},
     "output_type": "execute_result"
    }
   ],
   "source": [
    "budget = 10**10\n",
    "budget"
   ]
  },
  {
   "cell_type": "markdown",
   "metadata": {},
   "source": [
    "#### - стоимость бурения одной скважины — 50 млн рублей"
   ]
  },
  {
   "cell_type": "code",
   "execution_count": 35,
   "metadata": {},
   "outputs": [
    {
     "data": {
      "text/plain": [
       "50000000"
      ]
     },
     "execution_count": 35,
     "metadata": {},
     "output_type": "execute_result"
    }
   ],
   "source": [
    "well_price = 50 * 10**6\n",
    "well_price"
   ]
  },
  {
   "cell_type": "markdown",
   "metadata": {},
   "source": [
    "#### - прибыль от продажи барреля сырья - 4500 рублей"
   ]
  },
  {
   "cell_type": "code",
   "execution_count": 36,
   "metadata": {
    "scrolled": true
   },
   "outputs": [
    {
     "data": {
      "text/plain": [
       "4500"
      ]
     },
     "execution_count": 36,
     "metadata": {},
     "output_type": "execute_result"
    }
   ],
   "source": [
    "price_per_barrel = 4500\n",
    "price_per_barrel"
   ]
  },
  {
   "cell_type": "markdown",
   "metadata": {},
   "source": [
    "[В оглавление](#TOC)"
   ]
  },
  {
   "cell_type": "markdown",
   "metadata": {},
   "source": [
    "## 2) Подсчитаем минимальный средний объём сырья в месторождениях региона, достаточный для его разработки<a class=\"anchor\" id=\"3_2\"></a>"
   ]
  },
  {
   "cell_type": "markdown",
   "metadata": {},
   "source": [
    "#### - подсчитаем предельное число скважин, исходя из общего бюджета"
   ]
  },
  {
   "cell_type": "code",
   "execution_count": 37,
   "metadata": {},
   "outputs": [
    {
     "data": {
      "text/plain": [
       "200"
      ]
     },
     "execution_count": 37,
     "metadata": {},
     "output_type": "execute_result"
    }
   ],
   "source": [
    "num_of_wells = int(budget / well_price)\n",
    "num_of_wells"
   ]
  },
  {
   "cell_type": "markdown",
   "metadata": {},
   "source": [
    "#### - минимальный средний объём сырья на скважину, для этого разделим стоимость разоаботки на стоимость одного барреля"
   ]
  },
  {
   "cell_type": "code",
   "execution_count": 38,
   "metadata": {},
   "outputs": [
    {
     "data": {
      "text/plain": [
       "11111.111111111111"
      ]
     },
     "execution_count": 38,
     "metadata": {},
     "output_type": "execute_result"
    }
   ],
   "source": [
    "mininmum_mean_product = well_price/price_per_barrel\n",
    "mininmum_mean_product"
   ]
  },
  {
   "cell_type": "markdown",
   "metadata": {},
   "source": [
    "&#9889; **Вывод:** \n",
    "\n",
    "1. Предельное число скважин исходя из бюджета - 200.\n",
    "2. Минимальный средний объём сырья на скважину - 11 тыс. баррелей.\n",
    "3. Во всех представленных регионах подавляющее большинство меторождений превышают минимальный требующийся объем."
   ]
  },
  {
   "cell_type": "markdown",
   "metadata": {},
   "source": [
    "[В оглавление](#TOC)"
   ]
  },
  {
   "cell_type": "markdown",
   "metadata": {},
   "source": [
    "## 3) Подготовим функцию для расчёта прибыли по набору отобранных месторождений и предсказаний модели<a class=\"anchor\" id=\"3_3\"></a>"
   ]
  },
  {
   "cell_type": "markdown",
   "metadata": {},
   "source": [
    "- при расчете прибыли необходимо учитывать только те скважины, стоимость бурения которых окупиться, то есть с запасом свыше 11 тыс. баррелей.\n",
    "- в представленных данных запасы месторождений таковы, что проверка на минимальный запас является излишней, но принимая во внимание принцип безконстантности: функция для расчета выручки будет включать такую проверку."
   ]
  },
  {
   "cell_type": "markdown",
   "metadata": {},
   "source": [
    "#### - объявим функцию revenue"
   ]
  },
  {
   "cell_type": "code",
   "execution_count": 39,
   "metadata": {},
   "outputs": [],
   "source": [
    "def revenue(price, product, count):\n",
    "    count = count\n",
    "    product_sorted = product.sort_values(ascending=False)\n",
    "    good_wells = []\n",
    "    for i in product_sorted:\n",
    "        if i >= mininmum_mean_product/1000:\n",
    "            good_wells.append(i)\n",
    "        else:\n",
    "            pass\n",
    "    selected = good_wells[:count]*1000\n",
    "    return price * pd.Series(selected).sum()"
   ]
  },
  {
   "cell_type": "markdown",
   "metadata": {},
   "source": [
    "[В оглавление](#TOC)"
   ]
  },
  {
   "cell_type": "markdown",
   "metadata": {},
   "source": [
    "## Вывод<a class='anchor' id='3_conclusion'>"
   ]
  },
  {
   "cell_type": "markdown",
   "metadata": {},
   "source": [
    "1. Выделены ключевые значения для расчетов:\n",
    "    - бюджет: 10 млрд. рублей,\n",
    "    - стоимость бурения скважины - 50 млн. рублей,\n",
    "    - прибыль от продажи барреля нефти - 4500 рублей.\n",
    "2. Предельное число скважин, исходя из бюджета - 200 штук.\n",
    "3. Минимальный средний объём сырья на скважину 11111 баррелей.\n",
    "4. Подготовлена функция для расчета выручки, с учетом проверки достаточности запасов для его разработки."
   ]
  },
  {
   "cell_type": "markdown",
   "metadata": {},
   "source": [
    "[В оглавление](#TOC)"
   ]
  },
  {
   "cell_type": "markdown",
   "metadata": {},
   "source": [
    "# IV. Расчёт прибыли и рисков<a class=\"anchor\" id=\"4\">\n",
    "***"
   ]
  },
  {
   "cell_type": "markdown",
   "metadata": {},
   "source": [
    "## 1) Найдем распределение прибыли с помощью Bootstrap<a class='anchor' id='4_1'>"
   ]
  },
  {
   "cell_type": "markdown",
   "metadata": {},
   "source": [
    "#### - объявим функцию для процедуры bootstrap"
   ]
  },
  {
   "cell_type": "code",
   "execution_count": 40,
   "metadata": {},
   "outputs": [],
   "source": [
    "def bootstrap(arr, n=500, N_TRIAL=1000):\n",
    "    np.random.seed(42)\n",
    "    res = []\n",
    "    n = min(len(arr),n)\n",
    "    # Инициализируем цикл попыток\n",
    "    for _ in range(N_TRIAL):\n",
    "        # Делаем подвыборку размера n\n",
    "        subsample = np.random.choice(arr, size = (n,))\n",
    "        # рассчитываем статистику\n",
    "        stat = subsample\n",
    "        res.append(revenue(price_per_barrel, pd.Series(stat), 200))\n",
    "    return pd.Series(res) # shape (N_TRIAL,)"
   ]
  },
  {
   "cell_type": "markdown",
   "metadata": {},
   "source": [
    "## 2) Подсчитаем среднюю прибыль, 95-% доверительный интервал и риск убытков<a class='anchor' id='4_2'>"
   ]
  },
  {
   "cell_type": "markdown",
   "metadata": {},
   "source": [
    "#### - объявим функцию revenue_report, которая подсчитает прибыль для каждого из регионов, 2.5%-квантиль и 95% доверительный интервал"
   ]
  },
  {
   "cell_type": "code",
   "execution_count": 41,
   "metadata": {},
   "outputs": [],
   "source": [
    "def revenue_report(datalist):\n",
    "    \n",
    "    count = 1\n",
    "    revenue_report = []\n",
    "    \n",
    "    for data in datalist:\n",
    "        bootstrap_region = bootstrap(data['predicted'], 500)\n",
    "        \n",
    "        mean_rev = bootstrap_region.mean()/10**9\n",
    "        lower = bootstrap_region.quantile(0.025)/10**9\n",
    "        confidence_interval = st.t.interval(0.95, len(bootstrap_region)-1, \n",
    "                                    mean_rev, bootstrap_region.sem()/10**9)\n",
    "        \n",
    "        revenue_report.append((count, mean_rev, lower, confidence_interval))\n",
    "        \n",
    "        count += 1\n",
    "    \n",
    "    revenue_report_df = pd.DataFrame(revenue_report, columns=['region', 'mean_revenue', '2.5%-quantile', '95%_conf_int'])\n",
    "      \n",
    "    return revenue_report_df "
   ]
  },
  {
   "cell_type": "markdown",
   "metadata": {},
   "source": [
    "#### - подсчитаем среднюю прибыль, 2.5%-квантиль, 95% доверительный интервал"
   ]
  },
  {
   "cell_type": "code",
   "execution_count": 42,
   "metadata": {},
   "outputs": [],
   "source": [
    "revenue_report_df = revenue_report([region_1_report, region_2_report, region_3_report])"
   ]
  },
  {
   "cell_type": "markdown",
   "metadata": {},
   "source": [
    "#### - выведем отчет на экран"
   ]
  },
  {
   "cell_type": "code",
   "execution_count": 43,
   "metadata": {},
   "outputs": [
    {
     "data": {
      "text/html": [
       "<div>\n",
       "<style scoped>\n",
       "    .dataframe tbody tr th:only-of-type {\n",
       "        vertical-align: middle;\n",
       "    }\n",
       "\n",
       "    .dataframe tbody tr th {\n",
       "        vertical-align: top;\n",
       "    }\n",
       "\n",
       "    .dataframe thead th {\n",
       "        text-align: right;\n",
       "    }\n",
       "</style>\n",
       "<table border=\"1\" class=\"dataframe\">\n",
       "  <thead>\n",
       "    <tr style=\"text-align: right;\">\n",
       "      <th></th>\n",
       "      <th>region</th>\n",
       "      <th>mean_revenue</th>\n",
       "      <th>2.5%-quantile</th>\n",
       "      <th>95%_conf_int</th>\n",
       "    </tr>\n",
       "  </thead>\n",
       "  <tbody>\n",
       "    <tr>\n",
       "      <td>0</td>\n",
       "      <td>1</td>\n",
       "      <td>103.314833</td>\n",
       "      <td>101.054250</td>\n",
       "      <td>(103.2425073722922, 103.38715880811937)</td>\n",
       "    </tr>\n",
       "    <tr>\n",
       "      <td>1</td>\n",
       "      <td>2</td>\n",
       "      <td>104.498563</td>\n",
       "      <td>100.639317</td>\n",
       "      <td>(104.37080944084347, 104.626316304756)</td>\n",
       "    </tr>\n",
       "    <tr>\n",
       "      <td>2</td>\n",
       "      <td>3</td>\n",
       "      <td>102.686884</td>\n",
       "      <td>100.766597</td>\n",
       "      <td>(102.62507477566949, 102.74869359095344)</td>\n",
       "    </tr>\n",
       "  </tbody>\n",
       "</table>\n",
       "</div>"
      ],
      "text/plain": [
       "   region  mean_revenue  2.5%-quantile  \\\n",
       "0       1    103.314833     101.054250   \n",
       "1       2    104.498563     100.639317   \n",
       "2       3    102.686884     100.766597   \n",
       "\n",
       "                               95%_conf_int  \n",
       "0   (103.2425073722922, 103.38715880811937)  \n",
       "1    (104.37080944084347, 104.626316304756)  \n",
       "2  (102.62507477566949, 102.74869359095344)  "
      ]
     },
     "execution_count": 43,
     "metadata": {},
     "output_type": "execute_result"
    }
   ],
   "source": [
    "revenue_report_df"
   ]
  },
  {
   "cell_type": "markdown",
   "metadata": {},
   "source": [
    "[В оглавление](#TOC)"
   ]
  },
  {
   "cell_type": "markdown",
   "metadata": {},
   "source": [
    "## Вывод<a class='anchor' id='4_conclusion'>"
   ]
  },
  {
   "cell_type": "markdown",
   "metadata": {},
   "source": [
    "1. Исходя из представленных данных, принимая во внимание результат исследования - **наилучший регион для разработки: регион № 1, несмотря на то что лучшая средняя выручка у региона № 2.**\n",
    "\n",
    "\n",
    "2. **Результаты в отношении региона № 2 детерменированы харакетром представленных данных, поэтому не могут приниматься в расчет до валидации у поставщика данных.**\n",
    "\n",
    "\n",
    "3. Принимая во внимание близость качества моделей, предсказавших запасы в регионе № 1 и 3: средняя выручка в регионе № 1 (103.3 млрд. рублей) больше выручки в регионе № 3 (102.69), равно как и 2.5%-квантиль (101.1 млрд. рублей в первом реионе против 100.77 млрд. рублей в регионе № 3).\n",
    "\n",
    "\n",
    "4. Среднняя выручка по регионам:\n",
    "\n",
    "    - регион № 1: 103.3 млрд. рублей,\n",
    "    - регион № 2: 104.5 млрд. рублей,\n",
    "    - регион № 3: 102.69 млрд. рублей.\n",
    "    \n",
    "    \n",
    "5. Исследование показало, что исходя из представленных данных, **риск убытков отсутвует**, 2.5%-квантиль для регионов:\n",
    "\n",
    "    - регион № 1: 101.1 млрд. рублей,\n",
    "    - регион № 2: 100.6 млрд. рублей,\n",
    "    - регион № 3: 100.8 млрд. рублей.\n",
    "    \n",
    "    \n",
    "6. Исходя из полученных результатов, с осторожностью можно утверждать, что модели обученные на представленных данных - малопригодны для прогонозирования объемов запасов сырья с разумной степенью достоверности. **Использование результатов работы моделей для принятия решений является высокорискованным.**"
   ]
  },
  {
   "cell_type": "markdown",
   "metadata": {},
   "source": [
    "[В оглавление](#TOC)"
   ]
  }
 ],
 "metadata": {
  "kernelspec": {
   "display_name": "Python 3",
   "language": "python",
   "name": "python3"
  },
  "language_info": {
   "codemirror_mode": {
    "name": "ipython",
    "version": 3
   },
   "file_extension": ".py",
   "mimetype": "text/x-python",
   "name": "python",
   "nbconvert_exporter": "python",
   "pygments_lexer": "ipython3",
   "version": "3.7.4"
  }
 },
 "nbformat": 4,
 "nbformat_minor": 4
}
