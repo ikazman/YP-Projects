{
 "cells": [
  {
   "cell_type": "markdown",
   "metadata": {},
   "source": [
    "# Анализ временных рядов: прогноз количества заказов такси на следующий час"
   ]
  },
  {
   "cell_type": "markdown",
   "metadata": {},
   "source": [
    "## Описание проекта\n",
    "\n",
    "Компания «Чётенькое такси» собрала исторические данные о заказах такси в аэропортах. Чтобы привлекать больше водителей в период пиковой нагрузки, нужно спрогнозировать количество заказов такси на следующий час. Постройте модель для такого предсказания.\n",
    "\n",
    "Значение метрики *RMSE* на тестовой выборке должно быть не больше 48.\n",
    "\n",
    "### Описание данных\n",
    "\n",
    "Данные лежат в файле `taxi.csv`. Количество заказов находится в столбце '*num_orders*' (от англ. *number of orders*, «число заказов»)."
   ]
  },
  {
   "cell_type": "markdown",
   "metadata": {},
   "source": [
    "## Оглавление<a class='anchor' id='TOC'>\n",
    "***"
   ]
  },
  {
   "cell_type": "markdown",
   "metadata": {},
   "source": [
    "* **[1. Подготовка](#1)**\n",
    "    - [1) Импортируем библиотеки](#1_1)\n",
    "    - [2) Прочитаем данные](#1_2)\n",
    "    - [3) Выведем первые, последние и случайные пять строк каждого из датасетов, общую информацию](#1_3)\n",
    "    - [4) Выведем общую информацию о датасете, общую статистику](#1_4)\n",
    "    - [5) Выполним ресемплирование по одному часу](#1_5)\n",
    "    - [Вывод](#1_conclusion)\n",
    "    \n",
    "    \n",
    "* **[2. Анализ](#2)**\n",
    "    - [1) Построим график временного ряда](#2_1)\n",
    "    - [2) Скользящее среднее и скользящее среднее отклонение](#2_2)\n",
    "    - [Вывод](#2_conclusion)\n",
    "\n",
    "\n",
    "\n",
    "* **[3. Обучение](#3)**\n",
    "    - [1) Создадим признаки для целей обучения моделей](#3_1)\n",
    "    - [2) Cоздадим словарь для поиска наилучших параметров модели, инициализируем модели, выберем параметры для подбора](#3_2)\n",
    "    - [3) Разделим выборку на обучающую и тестовую в соотношении 90:10, выделим целевой признак](#3_3)\n",
    "    \n",
    "    \n",
    "* **[4. Тестирование](#4)**\n",
    "    - [1) Объявим функцию reporter, которая соберет отчет по метрикам для каждой из моделей](#4_1)\n",
    "    - [2) Подберем наилучшие параметры для моделей, сохраним параметры и соберем метрики](#4_2)\n",
    "    - [3) Выведем отчет](#4_3)\n",
    "    - [Вывод](#4_conclusion)"
   ]
  },
  {
   "cell_type": "markdown",
   "metadata": {},
   "source": [
    "# 1. Подготовка<a class='anchor' id='1'>"
   ]
  },
  {
   "cell_type": "markdown",
   "metadata": {},
   "source": [
    "## 1) Импортируем библиотеки<a class='anchor' id='1_1'>"
   ]
  },
  {
   "cell_type": "code",
   "execution_count": 1,
   "metadata": {},
   "outputs": [],
   "source": [
    "import warnings\n",
    "warnings.filterwarnings('ignore')\n",
    "\n",
    "import pandas as pd\n",
    "import numpy as np\n",
    "from matplotlib import pyplot as plt\n",
    "\n",
    "from sklearn.model_selection import GridSearchCV, train_test_split\n",
    "from sklearn.preprocessing import StandardScaler\n",
    "\n",
    "from sklearn.linear_model import LinearRegression\n",
    "from sklearn.tree import DecisionTreeRegressor\n",
    "from sklearn.ensemble import RandomForestRegressor\n",
    "from catboost import CatBoostRegressor\n",
    "import lightgbm as lgb\n",
    "\n",
    "from sklearn.metrics import mean_squared_error, r2_score\n",
    "from statsmodels.tsa.seasonal import seasonal_decompose"
   ]
  },
  {
   "cell_type": "markdown",
   "metadata": {},
   "source": [
    "#### - объявим класс DataExplorer и наполним его методами для анализа"
   ]
  },
  {
   "cell_type": "code",
   "execution_count": 2,
   "metadata": {},
   "outputs": [],
   "source": [
    "class DataExplorer:\n",
    "      \n",
    "    def histogram(self, data, n_bins, range_start, range_end, grid, cumulative=False, x_label = '', y_label = '', title = ''):\n",
    "        \n",
    "        \"\"\"\n",
    "        Простая гистограмма\n",
    "        \n",
    "        Пример:\n",
    "        histogram(df, 100, 0, 150, True, 'Количество иксов', 'Количество игриков', 'Заголовок')\n",
    "        \n",
    "        data - датасет\n",
    "        n_bins - количество корзин\n",
    "        range_start - минимальный икс для корзины\n",
    "        range_end - максимальный икс для корзины\n",
    "        grid - рисовать сетку или нет (False / True)\n",
    "        \n",
    "        \n",
    "        histogram(data, n_bins, range_start, range_end, grid, x_label = \"\", y_label = \"\", title = \"\")\n",
    "        \"\"\"\n",
    "        \n",
    "        # Создаем объект - график\n",
    "        _, ax = plt.subplots()\n",
    "\n",
    "        # Задаем параметры\n",
    "        ax.hist(data, bins = n_bins, range = (range_start, range_end), cumulative = cumulative, color = '#4169E1')\n",
    "\n",
    "        # Добавляем сетку\n",
    "        if grid == True:\n",
    "            ax.grid(color='grey', linestyle='-', linewidth=0.5)\n",
    "        else:\n",
    "            pass\n",
    "\n",
    "        # Добавляем медиану, среднее и квартили\n",
    "        ax.axvline(data.median(),linestyle = '--', color = '#FF1493', label = 'median')\n",
    "        ax.axvline(data.mean(),linestyle = '--', color = 'orange', label = 'mean')\n",
    "        ax.axvline(data.quantile(0.1),linestyle = '--', color = 'yellow', label = '1%')\n",
    "        ax.axvline(data.quantile(0.99),linestyle = '--', color = 'yellow', label = '99%')\n",
    "        ax.legend()\n",
    "        ax.set_ylabel(y_label)\n",
    "        ax.set_xlabel(x_label)\n",
    "        ax.set_title(title)                             \n",
    "             \n",
    "   \n",
    "    def firstsight(self, data):\n",
    "        \n",
    "        \"\"\"\n",
    "        Возврашает пять первых, последних и случайных элементов датасета для дальнейшего вывода с помощью Display\n",
    "        \n",
    "        Пример:\n",
    "        head, tail, sample = explorer.firstsight(df)\n",
    "        \"\"\"\n",
    "        \n",
    "        head = data.head(5)\n",
    "        tail = data.tail(5)\n",
    "        sample = data.sample(5)\n",
    "        \n",
    "        return head, tail, sample\n",
    "        \n",
    "        \n",
    "    def smape(self, y_test, y_predict): \n",
    "        \n",
    "        \"\"\"\n",
    "        Расcчитывает метрику SMAPE\n",
    "        \n",
    "        Пример:\n",
    "        smape(y_test, y_predict)\n",
    "        \"\"\"\n",
    "                \n",
    "        y_test, y_predict = np.array(y_test), np.array(y_predict)\n",
    "        return np.mean(np.abs(y_predict - y_test) / ((np.abs(y_test) + np.abs(y_predict) + 0.1**99)/2)) * 100\n",
    "    \n",
    "    \n",
    "    def mape(self, y_test, y_predict):\n",
    "        \n",
    "        \"\"\"\n",
    "        Расcчитывает метрику MAPE\n",
    "        \n",
    "        Пример:\n",
    "        mape(y_test, y_predict)\n",
    "        \"\"\"\n",
    "                \n",
    "        y_test, y_predict = np.array(y_test), np.array(y_predict)\n",
    "        return np.median((np.abs((y_test - y_predict)) / (y_test + 0.1**100)) * 100)\n",
    "       \n",
    "        \n",
    "    def grid_search(self, model, param_grid, cv, scoring, x, y):\n",
    "        \n",
    "        \"\"\"\n",
    "        Поиск по сетке с заданными параметрами\n",
    "        \n",
    "        Пример:\n",
    "        lr_geo_one = explorer.grid_search(lr, param_grid, 5, 'neg_mean_squared_error', x_train, y_train)\n",
    "        \"\"\"\n",
    "        \n",
    "        grid_model = GridSearchCV(model, param_grid=param_grid, cv=cv, scoring=scoring, iid=False, verbose=1, n_jobs=-1)\n",
    "        grid_model.fit(x, y)\n",
    "        best_estimator = grid_model.best_estimator_\n",
    "        return best_estimator   \n",
    "\n",
    "            \n",
    "    class Display(object):\n",
    "        \"\"\"\n",
    "        Выводит HTML представление нескольких объектов\n",
    "        \n",
    "        Пример:\n",
    "        Display(head, tail, sample)\n",
    "        \n",
    "        \"\"\"\n",
    "        template = \"\"\"<div style=\"float: left; padding: 10px;\">\n",
    "        <p style='font-family:\"Courier New\", Courier, monospace'>{0}</p>{1}\n",
    "        </div>\"\"\"\n",
    "        def __init__(self, *args):\n",
    "            self.args = args\n",
    "\n",
    "        def _repr_html_(self):\n",
    "            return '\\n'.join(self.template.format(a, eval(a)._repr_html_())\n",
    "                             for a in self.args)\n",
    "\n",
    "        def __repr__(self):\n",
    "            return '\\n\\n'.join(a + '\\n' + repr(eval(a))\n",
    "                               for a in self.args)"
   ]
  },
  {
   "cell_type": "code",
   "execution_count": 3,
   "metadata": {},
   "outputs": [],
   "source": [
    "explorer = DataExplorer()"
   ]
  },
  {
   "cell_type": "markdown",
   "metadata": {},
   "source": [
    "[Оглавление](#TOC)"
   ]
  },
  {
   "cell_type": "markdown",
   "metadata": {},
   "source": [
    "## 2) Прочитаем данные в переменную<a class='anchor' id='1_2'>"
   ]
  },
  {
   "cell_type": "code",
   "execution_count": 4,
   "metadata": {},
   "outputs": [],
   "source": [
    "df = pd.read_csv('/datasets/taxi.csv', index_col=[0], parse_dates=[0])"
   ]
  },
  {
   "cell_type": "markdown",
   "metadata": {},
   "source": [
    "[Оглавление](#TOC)"
   ]
  },
  {
   "cell_type": "markdown",
   "metadata": {},
   "source": [
    "## 3) Выведем первые, последние и случайные пять строк каждого из датасетов, общую информацию<a class='anchor' id='1_3'>"
   ]
  },
  {
   "cell_type": "code",
   "execution_count": 5,
   "metadata": {},
   "outputs": [
    {
     "data": {
      "text/html": [
       "<div style=\"float: left; padding: 10px;\">\n",
       "        <p style='font-family:\"Courier New\", Courier, monospace'>head</p><div>\n",
       "<style scoped>\n",
       "    .dataframe tbody tr th:only-of-type {\n",
       "        vertical-align: middle;\n",
       "    }\n",
       "\n",
       "    .dataframe tbody tr th {\n",
       "        vertical-align: top;\n",
       "    }\n",
       "\n",
       "    .dataframe thead th {\n",
       "        text-align: right;\n",
       "    }\n",
       "</style>\n",
       "<table border=\"1\" class=\"dataframe\">\n",
       "  <thead>\n",
       "    <tr style=\"text-align: right;\">\n",
       "      <th></th>\n",
       "      <th>num_orders</th>\n",
       "    </tr>\n",
       "    <tr>\n",
       "      <th>datetime</th>\n",
       "      <th></th>\n",
       "    </tr>\n",
       "  </thead>\n",
       "  <tbody>\n",
       "    <tr>\n",
       "      <td>2018-03-01 00:00:00</td>\n",
       "      <td>9</td>\n",
       "    </tr>\n",
       "    <tr>\n",
       "      <td>2018-03-01 00:10:00</td>\n",
       "      <td>14</td>\n",
       "    </tr>\n",
       "    <tr>\n",
       "      <td>2018-03-01 00:20:00</td>\n",
       "      <td>28</td>\n",
       "    </tr>\n",
       "    <tr>\n",
       "      <td>2018-03-01 00:30:00</td>\n",
       "      <td>20</td>\n",
       "    </tr>\n",
       "    <tr>\n",
       "      <td>2018-03-01 00:40:00</td>\n",
       "      <td>32</td>\n",
       "    </tr>\n",
       "  </tbody>\n",
       "</table>\n",
       "</div>\n",
       "        </div>\n",
       "<div style=\"float: left; padding: 10px;\">\n",
       "        <p style='font-family:\"Courier New\", Courier, monospace'>tail</p><div>\n",
       "<style scoped>\n",
       "    .dataframe tbody tr th:only-of-type {\n",
       "        vertical-align: middle;\n",
       "    }\n",
       "\n",
       "    .dataframe tbody tr th {\n",
       "        vertical-align: top;\n",
       "    }\n",
       "\n",
       "    .dataframe thead th {\n",
       "        text-align: right;\n",
       "    }\n",
       "</style>\n",
       "<table border=\"1\" class=\"dataframe\">\n",
       "  <thead>\n",
       "    <tr style=\"text-align: right;\">\n",
       "      <th></th>\n",
       "      <th>num_orders</th>\n",
       "    </tr>\n",
       "    <tr>\n",
       "      <th>datetime</th>\n",
       "      <th></th>\n",
       "    </tr>\n",
       "  </thead>\n",
       "  <tbody>\n",
       "    <tr>\n",
       "      <td>2018-08-31 23:10:00</td>\n",
       "      <td>32</td>\n",
       "    </tr>\n",
       "    <tr>\n",
       "      <td>2018-08-31 23:20:00</td>\n",
       "      <td>24</td>\n",
       "    </tr>\n",
       "    <tr>\n",
       "      <td>2018-08-31 23:30:00</td>\n",
       "      <td>27</td>\n",
       "    </tr>\n",
       "    <tr>\n",
       "      <td>2018-08-31 23:40:00</td>\n",
       "      <td>39</td>\n",
       "    </tr>\n",
       "    <tr>\n",
       "      <td>2018-08-31 23:50:00</td>\n",
       "      <td>53</td>\n",
       "    </tr>\n",
       "  </tbody>\n",
       "</table>\n",
       "</div>\n",
       "        </div>\n",
       "<div style=\"float: left; padding: 10px;\">\n",
       "        <p style='font-family:\"Courier New\", Courier, monospace'>sample</p><div>\n",
       "<style scoped>\n",
       "    .dataframe tbody tr th:only-of-type {\n",
       "        vertical-align: middle;\n",
       "    }\n",
       "\n",
       "    .dataframe tbody tr th {\n",
       "        vertical-align: top;\n",
       "    }\n",
       "\n",
       "    .dataframe thead th {\n",
       "        text-align: right;\n",
       "    }\n",
       "</style>\n",
       "<table border=\"1\" class=\"dataframe\">\n",
       "  <thead>\n",
       "    <tr style=\"text-align: right;\">\n",
       "      <th></th>\n",
       "      <th>num_orders</th>\n",
       "    </tr>\n",
       "    <tr>\n",
       "      <th>datetime</th>\n",
       "      <th></th>\n",
       "    </tr>\n",
       "  </thead>\n",
       "  <tbody>\n",
       "    <tr>\n",
       "      <td>2018-05-14 20:20:00</td>\n",
       "      <td>10</td>\n",
       "    </tr>\n",
       "    <tr>\n",
       "      <td>2018-06-26 13:10:00</td>\n",
       "      <td>9</td>\n",
       "    </tr>\n",
       "    <tr>\n",
       "      <td>2018-06-04 06:10:00</td>\n",
       "      <td>1</td>\n",
       "    </tr>\n",
       "    <tr>\n",
       "      <td>2018-08-02 10:00:00</td>\n",
       "      <td>37</td>\n",
       "    </tr>\n",
       "    <tr>\n",
       "      <td>2018-08-23 18:50:00</td>\n",
       "      <td>25</td>\n",
       "    </tr>\n",
       "  </tbody>\n",
       "</table>\n",
       "</div>\n",
       "        </div>"
      ],
      "text/plain": [
       "head\n",
       "                     num_orders\n",
       "datetime                       \n",
       "2018-03-01 00:00:00           9\n",
       "2018-03-01 00:10:00          14\n",
       "2018-03-01 00:20:00          28\n",
       "2018-03-01 00:30:00          20\n",
       "2018-03-01 00:40:00          32\n",
       "\n",
       "tail\n",
       "                     num_orders\n",
       "datetime                       \n",
       "2018-08-31 23:10:00          32\n",
       "2018-08-31 23:20:00          24\n",
       "2018-08-31 23:30:00          27\n",
       "2018-08-31 23:40:00          39\n",
       "2018-08-31 23:50:00          53\n",
       "\n",
       "sample\n",
       "                     num_orders\n",
       "datetime                       \n",
       "2018-05-14 20:20:00          10\n",
       "2018-06-26 13:10:00           9\n",
       "2018-06-04 06:10:00           1\n",
       "2018-08-02 10:00:00          37\n",
       "2018-08-23 18:50:00          25"
      ]
     },
     "execution_count": 5,
     "metadata": {},
     "output_type": "execute_result"
    }
   ],
   "source": [
    "head, tail, sample = explorer.firstsight(df)\n",
    "explorer.Display('head', 'tail', 'sample')"
   ]
  },
  {
   "cell_type": "markdown",
   "metadata": {},
   "source": [
    "&#9889; **Вывод:**\n",
    "\n",
    "1. Визальное ознакомление проблем с датасетом не выявило. \n",
    "2. Столбец 'datetime' сразу же был определен индексом: представляется, что даты и время идут последовательно, интервал в десять минут.\n",
    "3. Если исходить из того, что индекс не требует сортировки - в датасете представлена выборка за период от марта до сентября 2018 года (последняя дата - 31 августа 2018 года).\n",
    "4. Исходя из описания в столбце c num_orders число вызовов такси.\n",
    "\n"
   ]
  },
  {
   "cell_type": "markdown",
   "metadata": {},
   "source": [
    "[Оглавление](#TOC)"
   ]
  },
  {
   "cell_type": "markdown",
   "metadata": {},
   "source": [
    "## 4) Выведем общую информацию о датасете, общую статистику<a class='anchor' id='1_4'>"
   ]
  },
  {
   "cell_type": "markdown",
   "metadata": {},
   "source": [
    "#### - общая информация о датасете"
   ]
  },
  {
   "cell_type": "code",
   "execution_count": 6,
   "metadata": {},
   "outputs": [
    {
     "name": "stdout",
     "output_type": "stream",
     "text": [
      "<class 'pandas.core.frame.DataFrame'>\n",
      "DatetimeIndex: 26496 entries, 2018-03-01 00:00:00 to 2018-08-31 23:50:00\n",
      "Data columns (total 1 columns):\n",
      "num_orders    26496 non-null int64\n",
      "dtypes: int64(1)\n",
      "memory usage: 414.0 KB\n"
     ]
    }
   ],
   "source": [
    "df.info()"
   ]
  },
  {
   "cell_type": "markdown",
   "metadata": {},
   "source": [
    "#### - общая статистика с 1% и 99% перцентилями"
   ]
  },
  {
   "cell_type": "code",
   "execution_count": 7,
   "metadata": {},
   "outputs": [
    {
     "data": {
      "text/html": [
       "<div>\n",
       "<style scoped>\n",
       "    .dataframe tbody tr th:only-of-type {\n",
       "        vertical-align: middle;\n",
       "    }\n",
       "\n",
       "    .dataframe tbody tr th {\n",
       "        vertical-align: top;\n",
       "    }\n",
       "\n",
       "    .dataframe thead th {\n",
       "        text-align: right;\n",
       "    }\n",
       "</style>\n",
       "<table border=\"1\" class=\"dataframe\">\n",
       "  <thead>\n",
       "    <tr style=\"text-align: right;\">\n",
       "      <th></th>\n",
       "      <th>count</th>\n",
       "      <th>mean</th>\n",
       "      <th>std</th>\n",
       "      <th>min</th>\n",
       "      <th>1%</th>\n",
       "      <th>25%</th>\n",
       "      <th>50%</th>\n",
       "      <th>75%</th>\n",
       "      <th>99%</th>\n",
       "      <th>max</th>\n",
       "    </tr>\n",
       "  </thead>\n",
       "  <tbody>\n",
       "    <tr>\n",
       "      <td>num_orders</td>\n",
       "      <td>26496.0</td>\n",
       "      <td>14.070463</td>\n",
       "      <td>9.21133</td>\n",
       "      <td>0.0</td>\n",
       "      <td>0.0</td>\n",
       "      <td>8.0</td>\n",
       "      <td>13.0</td>\n",
       "      <td>19.0</td>\n",
       "      <td>43.0</td>\n",
       "      <td>119.0</td>\n",
       "    </tr>\n",
       "  </tbody>\n",
       "</table>\n",
       "</div>"
      ],
      "text/plain": [
       "              count       mean      std  min   1%  25%   50%   75%   99%  \\\n",
       "num_orders  26496.0  14.070463  9.21133  0.0  0.0  8.0  13.0  19.0  43.0   \n",
       "\n",
       "              max  \n",
       "num_orders  119.0  "
      ]
     },
     "execution_count": 7,
     "metadata": {},
     "output_type": "execute_result"
    }
   ],
   "source": [
    "df.describe(percentiles = [.01, .25, .5, .75, .99]).T"
   ]
  },
  {
   "cell_type": "markdown",
   "metadata": {},
   "source": [
    "С учетом того, что 99 % всех значений не превышает 43 вызова - вероятно в датасете есть сильные выбросы."
   ]
  },
  {
   "cell_type": "markdown",
   "metadata": {},
   "source": [
    "#### - построим ящик с усами, чтобы проверить выбросы"
   ]
  },
  {
   "cell_type": "code",
   "execution_count": 8,
   "metadata": {},
   "outputs": [
    {
     "data": {
      "text/plain": [
       "<matplotlib.axes._subplots.AxesSubplot at 0x7fc130433650>"
      ]
     },
     "execution_count": 8,
     "metadata": {},
     "output_type": "execute_result"
    },
    {
     "data": {
      "image/png": "[encoded data removed]",
      "text/plain": [
       "<Figure size 432x288 with 1 Axes>"
      ]
     },
     "metadata": {
      "needs_background": "light"
     },
     "output_type": "display_data"
    }
   ],
   "source": [
    "df.boxplot()"
   ]
  },
  {
   "cell_type": "markdown",
   "metadata": {},
   "source": [
    "Есть выбросы. Проверим количество выбросов:"
   ]
  },
  {
   "cell_type": "code",
   "execution_count": 9,
   "metadata": {},
   "outputs": [
    {
     "data": {
      "text/plain": [
       "238"
      ]
     },
     "execution_count": 9,
     "metadata": {},
     "output_type": "execute_result"
    }
   ],
   "source": [
    "len(df.query('num_orders > 43'))"
   ]
  },
  {
   "cell_type": "markdown",
   "metadata": {},
   "source": [
    "Всего 238 из 26 496 наблюдений (менее 1 процента). Но такие выбросы могут сильно повлиять на часовую статистику после ресемлирования."
   ]
  },
  {
   "cell_type": "markdown",
   "metadata": {},
   "source": [
    "#### - избавимся от 238 выбросов в датасете"
   ]
  },
  {
   "cell_type": "code",
   "execution_count": 10,
   "metadata": {},
   "outputs": [],
   "source": [
    "df = df.query('num_orders < 44')"
   ]
  },
  {
   "cell_type": "code",
   "execution_count": 11,
   "metadata": {},
   "outputs": [
    {
     "data": {
      "text/plain": [
       "(26258, 1)"
      ]
     },
     "execution_count": 11,
     "metadata": {},
     "output_type": "execute_result"
    }
   ],
   "source": [
    "df.shape"
   ]
  },
  {
   "cell_type": "markdown",
   "metadata": {},
   "source": [
    "&#9889; **Вывод:** \n",
    "\n",
    "1. В датасете 26 496 строк, без пропусков. \n",
    "2. Минимальное число заказов - 0, максимальное - 119, при этом 99 % всех значений не превышает 43 вызова. Среднее число вызовов - 14.\n",
    "3. График \"ящик с усами\" выявил выбросы: всего 238 из 26 496 наблюдений (0,009%). Выявление таких значений - повод уточнить значения у поставщика данных.\n",
    "4. Поскольку уточнить природу значений у поставщика данных не представляется возможным, было принято решение избавиться от 238 из 26 496 наблюдений (0,009%): данные наблюдения могут быть важными, являтся частью явления, но они не объясняются датасетом."
   ]
  },
  {
   "cell_type": "markdown",
   "metadata": {},
   "source": [
    "[Оглавление](#TOC)"
   ]
  },
  {
   "cell_type": "markdown",
   "metadata": {},
   "source": [
    "## 5) Выполним ресемплирование по одному часу<a class='anchor' id='1_5'>"
   ]
  },
  {
   "cell_type": "markdown",
   "metadata": {},
   "source": [
    "#### - применим сортировку к индексу, чтобы исключить нарушение порядка в индексе"
   ]
  },
  {
   "cell_type": "code",
   "execution_count": 12,
   "metadata": {},
   "outputs": [],
   "source": [
    "df = df.sort_index()"
   ]
  },
  {
   "cell_type": "markdown",
   "metadata": {},
   "source": [
    "#### - ресемплируем значения по одному часу"
   ]
  },
  {
   "cell_type": "code",
   "execution_count": 13,
   "metadata": {},
   "outputs": [],
   "source": [
    "df = df.resample('1H', how='sum')"
   ]
  },
  {
   "cell_type": "code",
   "execution_count": 14,
   "metadata": {},
   "outputs": [
    {
     "data": {
      "text/plain": [
       "(4416, 1)"
      ]
     },
     "execution_count": 14,
     "metadata": {},
     "output_type": "execute_result"
    }
   ],
   "source": [
    "df.shape"
   ]
  },
  {
   "cell_type": "markdown",
   "metadata": {},
   "source": [
    "#### - выведем первые, последние и случайные пять строк полученного датасета"
   ]
  },
  {
   "cell_type": "code",
   "execution_count": 15,
   "metadata": {
    "scrolled": true
   },
   "outputs": [
    {
     "data": {
      "text/html": [
       "<div style=\"float: left; padding: 10px;\">\n",
       "        <p style='font-family:\"Courier New\", Courier, monospace'>head</p><div>\n",
       "<style scoped>\n",
       "    .dataframe tbody tr th:only-of-type {\n",
       "        vertical-align: middle;\n",
       "    }\n",
       "\n",
       "    .dataframe tbody tr th {\n",
       "        vertical-align: top;\n",
       "    }\n",
       "\n",
       "    .dataframe thead th {\n",
       "        text-align: right;\n",
       "    }\n",
       "</style>\n",
       "<table border=\"1\" class=\"dataframe\">\n",
       "  <thead>\n",
       "    <tr style=\"text-align: right;\">\n",
       "      <th></th>\n",
       "      <th>num_orders</th>\n",
       "    </tr>\n",
       "    <tr>\n",
       "      <th>datetime</th>\n",
       "      <th></th>\n",
       "    </tr>\n",
       "  </thead>\n",
       "  <tbody>\n",
       "    <tr>\n",
       "      <td>2018-03-01 00:00:00</td>\n",
       "      <td>124</td>\n",
       "    </tr>\n",
       "    <tr>\n",
       "      <td>2018-03-01 01:00:00</td>\n",
       "      <td>85</td>\n",
       "    </tr>\n",
       "    <tr>\n",
       "      <td>2018-03-01 02:00:00</td>\n",
       "      <td>71</td>\n",
       "    </tr>\n",
       "    <tr>\n",
       "      <td>2018-03-01 03:00:00</td>\n",
       "      <td>66</td>\n",
       "    </tr>\n",
       "    <tr>\n",
       "      <td>2018-03-01 04:00:00</td>\n",
       "      <td>43</td>\n",
       "    </tr>\n",
       "  </tbody>\n",
       "</table>\n",
       "</div>\n",
       "        </div>\n",
       "<div style=\"float: left; padding: 10px;\">\n",
       "        <p style='font-family:\"Courier New\", Courier, monospace'>tail</p><div>\n",
       "<style scoped>\n",
       "    .dataframe tbody tr th:only-of-type {\n",
       "        vertical-align: middle;\n",
       "    }\n",
       "\n",
       "    .dataframe tbody tr th {\n",
       "        vertical-align: top;\n",
       "    }\n",
       "\n",
       "    .dataframe thead th {\n",
       "        text-align: right;\n",
       "    }\n",
       "</style>\n",
       "<table border=\"1\" class=\"dataframe\">\n",
       "  <thead>\n",
       "    <tr style=\"text-align: right;\">\n",
       "      <th></th>\n",
       "      <th>num_orders</th>\n",
       "    </tr>\n",
       "    <tr>\n",
       "      <th>datetime</th>\n",
       "      <th></th>\n",
       "    </tr>\n",
       "  </thead>\n",
       "  <tbody>\n",
       "    <tr>\n",
       "      <td>2018-08-31 19:00:00</td>\n",
       "      <td>136</td>\n",
       "    </tr>\n",
       "    <tr>\n",
       "      <td>2018-08-31 20:00:00</td>\n",
       "      <td>154</td>\n",
       "    </tr>\n",
       "    <tr>\n",
       "      <td>2018-08-31 21:00:00</td>\n",
       "      <td>159</td>\n",
       "    </tr>\n",
       "    <tr>\n",
       "      <td>2018-08-31 22:00:00</td>\n",
       "      <td>175</td>\n",
       "    </tr>\n",
       "    <tr>\n",
       "      <td>2018-08-31 23:00:00</td>\n",
       "      <td>152</td>\n",
       "    </tr>\n",
       "  </tbody>\n",
       "</table>\n",
       "</div>\n",
       "        </div>\n",
       "<div style=\"float: left; padding: 10px;\">\n",
       "        <p style='font-family:\"Courier New\", Courier, monospace'>sample</p><div>\n",
       "<style scoped>\n",
       "    .dataframe tbody tr th:only-of-type {\n",
       "        vertical-align: middle;\n",
       "    }\n",
       "\n",
       "    .dataframe tbody tr th {\n",
       "        vertical-align: top;\n",
       "    }\n",
       "\n",
       "    .dataframe thead th {\n",
       "        text-align: right;\n",
       "    }\n",
       "</style>\n",
       "<table border=\"1\" class=\"dataframe\">\n",
       "  <thead>\n",
       "    <tr style=\"text-align: right;\">\n",
       "      <th></th>\n",
       "      <th>num_orders</th>\n",
       "    </tr>\n",
       "    <tr>\n",
       "      <th>datetime</th>\n",
       "      <th></th>\n",
       "    </tr>\n",
       "  </thead>\n",
       "  <tbody>\n",
       "    <tr>\n",
       "      <td>2018-05-28 04:00:00</td>\n",
       "      <td>107</td>\n",
       "    </tr>\n",
       "    <tr>\n",
       "      <td>2018-06-21 07:00:00</td>\n",
       "      <td>35</td>\n",
       "    </tr>\n",
       "    <tr>\n",
       "      <td>2018-04-30 04:00:00</td>\n",
       "      <td>43</td>\n",
       "    </tr>\n",
       "    <tr>\n",
       "      <td>2018-07-04 15:00:00</td>\n",
       "      <td>72</td>\n",
       "    </tr>\n",
       "    <tr>\n",
       "      <td>2018-05-05 08:00:00</td>\n",
       "      <td>51</td>\n",
       "    </tr>\n",
       "  </tbody>\n",
       "</table>\n",
       "</div>\n",
       "        </div>"
      ],
      "text/plain": [
       "head\n",
       "                     num_orders\n",
       "datetime                       \n",
       "2018-03-01 00:00:00         124\n",
       "2018-03-01 01:00:00          85\n",
       "2018-03-01 02:00:00          71\n",
       "2018-03-01 03:00:00          66\n",
       "2018-03-01 04:00:00          43\n",
       "\n",
       "tail\n",
       "                     num_orders\n",
       "datetime                       \n",
       "2018-08-31 19:00:00         136\n",
       "2018-08-31 20:00:00         154\n",
       "2018-08-31 21:00:00         159\n",
       "2018-08-31 22:00:00         175\n",
       "2018-08-31 23:00:00         152\n",
       "\n",
       "sample\n",
       "                     num_orders\n",
       "datetime                       \n",
       "2018-05-28 04:00:00         107\n",
       "2018-06-21 07:00:00          35\n",
       "2018-04-30 04:00:00          43\n",
       "2018-07-04 15:00:00          72\n",
       "2018-05-05 08:00:00          51"
      ]
     },
     "execution_count": 15,
     "metadata": {},
     "output_type": "execute_result"
    }
   ],
   "source": [
    "head, tail, sample = explorer.firstsight(df)\n",
    "explorer.Display('head', 'tail', 'sample')"
   ]
  },
  {
   "cell_type": "markdown",
   "metadata": {},
   "source": [
    "[Оглавление](#TOC)"
   ]
  },
  {
   "cell_type": "markdown",
   "metadata": {},
   "source": [
    "## Вывод:<a class='anchor' id='1_conclusion'>"
   ]
  },
  {
   "cell_type": "markdown",
   "metadata": {},
   "source": [
    "1. В представленном датаесете 26 496 наблюдений без пропусков: представлены данные о количестве вызовов такси (num_orders) за период от марта до сентября 2018 года (последняя дата - 31 августа 2018 года) с интервалом в 10 минут.\n",
    "2. Минимальное число заказов - 0, максимальное - 119, 99 % всех значений не превышает 43 вызова. Среднее число вызовов - 14.\n",
    "3. Было выявлено 238 из 26 496 (0,009%) аномальных значений, которые были удалены, чтобы избежать искажения данных при ресемплированиии: уточнить природу значений у поставщика данных не представляется возможным, а появление аномальных значений не объясняется датасетом.\n",
    "4. В результате ресемплирования по одному часу был получен датасет с 4 416 наблюдениями."
   ]
  },
  {
   "cell_type": "markdown",
   "metadata": {},
   "source": [
    "[Оглавление](#TOC)"
   ]
  },
  {
   "cell_type": "markdown",
   "metadata": {},
   "source": [
    "# 2. Анализ<a class='anchor' id='2'>"
   ]
  },
  {
   "cell_type": "markdown",
   "metadata": {},
   "source": [
    "## 1) Построим график временного ряда<a class='anchor' id='2_1'>"
   ]
  },
  {
   "cell_type": "code",
   "execution_count": 16,
   "metadata": {},
   "outputs": [
    {
     "data": {
      "text/plain": [
       "<matplotlib.axes._subplots.AxesSubplot at 0x7fc130302cd0>"
      ]
     },
     "execution_count": 16,
     "metadata": {},
     "output_type": "execute_result"
    },
    {
     "data": {
      "image/png": "[encoded data removed]",
      "text/plain": [
       "<Figure size 1080x720 with 1 Axes>"
      ]
     },
     "metadata": {
      "needs_background": "light"
     },
     "output_type": "display_data"
    }
   ],
   "source": [
    "df.plot(figsize=(15,10))"
   ]
  },
  {
   "cell_type": "markdown",
   "metadata": {},
   "source": [
    "При таком масштабе усматривается тренд к увеличению. Нужно уменьшить масштаб."
   ]
  },
  {
   "cell_type": "markdown",
   "metadata": {},
   "source": [
    "#### - ресемплиуем данные по одному дню и визуализируем результат"
   ]
  },
  {
   "cell_type": "code",
   "execution_count": 17,
   "metadata": {},
   "outputs": [
    {
     "data": {
      "text/plain": [
       "<matplotlib.axes._subplots.AxesSubplot at 0x7fc12f830e50>"
      ]
     },
     "execution_count": 17,
     "metadata": {},
     "output_type": "execute_result"
    },
    {
     "data": {
      "image/png": "[encoded data removed]",
      "text/plain": [
       "<Figure size 1080x720 with 1 Axes>"
      ]
     },
     "metadata": {
      "needs_background": "light"
     },
     "output_type": "display_data"
    }
   ],
   "source": [
    "df.resample('1D', how='sum').plot(figsize=(15,10))"
   ]
  },
  {
   "cell_type": "markdown",
   "metadata": {},
   "source": [
    "График не имеет ярких выбросов и имеет ярко выраженный тренд и, как следствие, ряд не стационарный."
   ]
  },
  {
   "cell_type": "markdown",
   "metadata": {},
   "source": [
    "#### - построим гистограмму"
   ]
  },
  {
   "cell_type": "code",
   "execution_count": 18,
   "metadata": {},
   "outputs": [
    {
     "data": {
      "image/png": "[encoded data removed]",
      "text/plain": [
       "<Figure size 432x288 with 1 Axes>"
      ]
     },
     "metadata": {
      "needs_background": "light"
     },
     "output_type": "display_data"
    }
   ],
   "source": [
    "explorer.histogram(df.num_orders, 50, 0, 300, True)"
   ]
  },
  {
   "cell_type": "markdown",
   "metadata": {},
   "source": [
    "Унимодальное распредление, незначительно скошено вправо, есть длинный хвост, но медиана и среднее почти совпадают."
   ]
  },
  {
   "cell_type": "markdown",
   "metadata": {},
   "source": [
    "[Оглавление](#TOC)"
   ]
  },
  {
   "cell_type": "markdown",
   "metadata": {},
   "source": [
    "## 2) Скользящее среднее и скользящее среднее отклонение<a class='anchor' id='2_2'>"
   ]
  },
  {
   "cell_type": "markdown",
   "metadata": {},
   "source": [
    "#### - вычислим и визуализируем скользящее среднее, скользящее среднее отклонение на копии датасета"
   ]
  },
  {
   "cell_type": "code",
   "execution_count": 19,
   "metadata": {},
   "outputs": [
    {
     "data": {
      "text/plain": [
       "<matplotlib.axes._subplots.AxesSubplot at 0x7fc12f9a9590>"
      ]
     },
     "execution_count": 19,
     "metadata": {},
     "output_type": "execute_result"
    },
    {
     "data": {
      "image/png": "[encoded data removed]",
      "text/plain": [
       "<Figure size 1080x720 with 1 Axes>"
      ]
     },
     "metadata": {
      "needs_background": "light"
     },
     "output_type": "display_data"
    }
   ],
   "source": [
    "df_roll_mean = df.copy()\n",
    "df_roll_mean = df_roll_mean.resample('1D', how='sum')\n",
    "df_roll_mean['rolling_mean'] = df.rolling(1000).mean()\n",
    "df_roll_mean.dropna(inplace=True)\n",
    "df_roll_mean['std'] = df_roll_mean.num_orders.rolling(10).std()\n",
    "df_roll_mean.plot(figsize=(15, 10))"
   ]
  },
  {
   "cell_type": "markdown",
   "metadata": {},
   "source": [
    "## Вывод:<a class='anchor' id='2_conclusion'>"
   ]
  },
  {
   "cell_type": "markdown",
   "metadata": {},
   "source": [
    "1. Среднее и стандартное отклонение ряда меняется, и даже при значительном сглаживании заметен тренд - ряд нестационарен.\n",
    "2. Поскольку нестационарные ряды сложнее прогнозировать из-за изменичивости, а также принимая во внимание относительно короткий период наблюдений, качество предсказаний, вероятно, будет невысоким."
   ]
  },
  {
   "cell_type": "markdown",
   "metadata": {},
   "source": [
    "[Оглавление](#TOC)"
   ]
  },
  {
   "cell_type": "markdown",
   "metadata": {},
   "source": [
    "# 3. Обучение<a class='anchor' id='3'>"
   ]
  },
  {
   "cell_type": "markdown",
   "metadata": {},
   "source": [
    "## 1) Создадим признаки для целей обучения моделей<a class='anchor' id='3_1'>"
   ]
  },
  {
   "cell_type": "markdown",
   "metadata": {},
   "source": [
    "#### - подготовим функцию для создания признаков"
   ]
  },
  {
   "cell_type": "code",
   "execution_count": 20,
   "metadata": {},
   "outputs": [],
   "source": [
    "def make_features(data, max_lag, rolling_mean_size):\n",
    "    data['month'] = data.index.month\n",
    "    data['day'] = data.index.day\n",
    "    data['dayofweek'] = data.index.dayofweek\n",
    "    \n",
    "    for lag in range(1, max_lag + 1):\n",
    "        data['lag_{}'.format(lag)] = data['num_orders'].shift(lag)\n",
    "\n",
    "    data['rolling_mean'] = data['num_orders'].shift().rolling(rolling_mean_size).mean()"
   ]
  },
  {
   "cell_type": "markdown",
   "metadata": {},
   "source": [
    "#### - применим функцию с отстающими значениями равным 24 и скользящим средним равным 24, чтобы задать общий тренд временного ряда"
   ]
  },
  {
   "cell_type": "code",
   "execution_count": 21,
   "metadata": {},
   "outputs": [],
   "source": [
    "make_features(df, 24, 24)"
   ]
  },
  {
   "cell_type": "markdown",
   "metadata": {},
   "source": [
    "#### - проверим, что число пропусков в строках, полученных в результате сдвига, не превышает 24 строки"
   ]
  },
  {
   "cell_type": "code",
   "execution_count": 22,
   "metadata": {},
   "outputs": [
    {
     "data": {
      "text/plain": [
       "24"
      ]
     },
     "execution_count": 22,
     "metadata": {},
     "output_type": "execute_result"
    }
   ],
   "source": [
    "df.isna().sum().max()"
   ]
  },
  {
   "cell_type": "markdown",
   "metadata": {},
   "source": [
    "Придется удалить всего 24 строки из 4416 (0,005%)."
   ]
  },
  {
   "cell_type": "markdown",
   "metadata": {},
   "source": [
    "#### - избавимся от строк с пропусками - 24 строки из 4416 (0,005%)."
   ]
  },
  {
   "cell_type": "code",
   "execution_count": 23,
   "metadata": {},
   "outputs": [],
   "source": [
    "df.dropna(inplace=True)"
   ]
  },
  {
   "cell_type": "code",
   "execution_count": 24,
   "metadata": {},
   "outputs": [
    {
     "data": {
      "text/plain": [
       "(4392, 29)"
      ]
     },
     "execution_count": 24,
     "metadata": {},
     "output_type": "execute_result"
    }
   ],
   "source": [
    "df.shape"
   ]
  },
  {
   "cell_type": "markdown",
   "metadata": {},
   "source": [
    "&#9889; **Вывод:** \n",
    "\n",
    "1. Были созданы признаки из остающими значениями равным 24 и скользящим средним равным 24.\n",
    "2. В результате получен датасет с 24 строками с пропусками из 4416 (0,005%), а также 29 столбцами признаками, из которых 27 - отстающие значения, 1 - скользящее среднее.\n",
    "3. После создания признаков и удаления 24 строк с пропусками был получен датасет в 4392 строки и 29 столбцов."
   ]
  },
  {
   "cell_type": "markdown",
   "metadata": {},
   "source": [
    "[Оглавление](#TOC)"
   ]
  },
  {
   "cell_type": "markdown",
   "metadata": {},
   "source": [
    "## 2) Cоздадим словарь для поиска наилучших параметров модели, инициализируем модели, выберем параметры для подбора<a class='anchor' id='3_2'>"
   ]
  },
  {
   "cell_type": "markdown",
   "metadata": {},
   "source": [
    "#### - словарь с моделями"
   ]
  },
  {
   "cell_type": "code",
   "execution_count": 25,
   "metadata": {},
   "outputs": [],
   "source": [
    "models = []"
   ]
  },
  {
   "cell_type": "markdown",
   "metadata": {},
   "source": [
    "#### - LinearRegression"
   ]
  },
  {
   "cell_type": "code",
   "execution_count": 26,
   "metadata": {},
   "outputs": [],
   "source": [
    "lr = LinearRegression(n_jobs=-1)\n",
    "\n",
    "param_grid={'fit_intercept':[True, False], 'normalize':[True, False], 'copy_X':[True, False]}\n",
    "\n",
    "models.append(('Linear Regression', lr, param_grid))"
   ]
  },
  {
   "cell_type": "markdown",
   "metadata": {},
   "source": [
    "#### - RandomForestRegressor"
   ]
  },
  {
   "cell_type": "code",
   "execution_count": 27,
   "metadata": {},
   "outputs": [],
   "source": [
    "rfr = RandomForestRegressor(random_state=42, n_estimators=30, max_features='auto', n_jobs=-1)\n",
    "\n",
    "param_grid = {'max_depth': np.arange(10, 20, 2), 'min_samples_split': np.arange(2, 10, 2)}\n",
    "\n",
    "models.append(('RandomForestRegressor', rfr, param_grid))"
   ]
  },
  {
   "cell_type": "markdown",
   "metadata": {},
   "source": [
    "[Оглавление](#TOC)"
   ]
  },
  {
   "cell_type": "markdown",
   "metadata": {},
   "source": [
    "#### - LGBMRegressor"
   ]
  },
  {
   "cell_type": "code",
   "execution_count": 28,
   "metadata": {},
   "outputs": [],
   "source": [
    "lg = lgb.LGBMRegressor(num_leaves=600, n_estimators=300, random_state=42)\n",
    "\n",
    "param_grid = {'n_estimators' : [150, 600],\n",
    "              'num_iterations' : [300, 600],\n",
    "              'learning_rate' : [0.001, 0.01]}\n",
    "\n",
    "models.append(('LGBMRegressor', lg, param_grid))"
   ]
  },
  {
   "cell_type": "markdown",
   "metadata": {},
   "source": [
    "## 3) Разделим выборку на обучающую и тестовую в соотношении 90:10, выделим целевой признак<a class='anchor' id='3_3'>"
   ]
  },
  {
   "cell_type": "code",
   "execution_count": 29,
   "metadata": {},
   "outputs": [],
   "source": [
    "x_train, x_test, y_train, y_test = train_test_split(df.drop('num_orders', axis = 1), df.num_orders, train_size=0.9, shuffle=False)"
   ]
  },
  {
   "cell_type": "markdown",
   "metadata": {},
   "source": [
    "#### - целевые признаки превратим в одномерный массив"
   ]
  },
  {
   "cell_type": "code",
   "execution_count": 30,
   "metadata": {},
   "outputs": [],
   "source": [
    "y_train = np.ravel(y_train)\n",
    "y_test = np.ravel(y_test)"
   ]
  },
  {
   "cell_type": "markdown",
   "metadata": {},
   "source": [
    "[Оглавление](#TOC)"
   ]
  },
  {
   "cell_type": "markdown",
   "metadata": {},
   "source": [
    "# 4. Тестирование<a class='anchor' id='4'>"
   ]
  },
  {
   "cell_type": "markdown",
   "metadata": {},
   "source": [
    "## 1) Объявим функцию reporter, которая соберет отчет по метрикам для каждой из моделей<a class='anchor' id='4_1'>"
   ]
  },
  {
   "cell_type": "code",
   "execution_count": 31,
   "metadata": {},
   "outputs": [],
   "source": [
    "def reporter(models):\n",
    "    report = []\n",
    "    \n",
    "    for model in models:\n",
    "        print('\\n', model[0], '\\n')\n",
    "        grid_search = explorer.grid_search(model[1], model[2], 5, 'neg_mean_squared_error', x_train, y_train)\n",
    "        print(grid_search)\n",
    "\n",
    "        predicted = np.ravel(grid_search.predict(x_test))\n",
    "        rmse = mean_squared_error(y_test, predicted)**0.5\n",
    "        smape = explorer.smape(y_test, predicted)\n",
    "        mape = explorer.mape(y_test, predicted)\n",
    "\n",
    "        report.append((model[0], rmse, smape, mape, grid_search))\n",
    "       \n",
    "    final_report = pd.DataFrame(report, columns=['model', 'rmse', 'smape', 'mape', 'grid_params'])\n",
    "    \n",
    "    return final_report"
   ]
  },
  {
   "cell_type": "markdown",
   "metadata": {},
   "source": [
    "[Оглавление](#TOC)"
   ]
  },
  {
   "cell_type": "markdown",
   "metadata": {},
   "source": [
    "## 2) Подберем наилучшие параметры для моделей, сохраним параметры и соберем метрики<a class='anchor' id='4_2'>"
   ]
  },
  {
   "cell_type": "code",
   "execution_count": 32,
   "metadata": {
    "scrolled": false
   },
   "outputs": [
    {
     "name": "stdout",
     "output_type": "stream",
     "text": [
      "\n",
      " Linear Regression \n",
      "\n",
      "Fitting 5 folds for each of 8 candidates, totalling 40 fits\n"
     ]
    },
    {
     "name": "stderr",
     "output_type": "stream",
     "text": [
      "[Parallel(n_jobs=-1)]: Using backend SequentialBackend with 1 concurrent workers.\n",
      "[Parallel(n_jobs=-1)]: Done  40 out of  40 | elapsed:    3.1s finished\n",
      "[Parallel(n_jobs=-1)]: Using backend SequentialBackend with 1 concurrent workers.\n"
     ]
    },
    {
     "name": "stdout",
     "output_type": "stream",
     "text": [
      "LinearRegression(copy_X=True, fit_intercept=True, n_jobs=-1, normalize=True)\n",
      "\n",
      " RandomForestRegressor \n",
      "\n",
      "Fitting 5 folds for each of 20 candidates, totalling 100 fits\n"
     ]
    },
    {
     "name": "stderr",
     "output_type": "stream",
     "text": [
      "[Parallel(n_jobs=-1)]: Done 100 out of 100 | elapsed:  2.1min finished\n"
     ]
    },
    {
     "name": "stdout",
     "output_type": "stream",
     "text": [
      "RandomForestRegressor(bootstrap=True, criterion='mse', max_depth=18,\n",
      "                      max_features='auto', max_leaf_nodes=None,\n",
      "                      min_impurity_decrease=0.0, min_impurity_split=None,\n",
      "                      min_samples_leaf=1, min_samples_split=8,\n",
      "                      min_weight_fraction_leaf=0.0, n_estimators=30, n_jobs=-1,\n",
      "                      oob_score=False, random_state=42, verbose=0,\n",
      "                      warm_start=False)\n",
      "\n",
      " LGBMRegressor \n",
      "\n",
      "Fitting 5 folds for each of 8 candidates, totalling 40 fits\n"
     ]
    },
    {
     "name": "stderr",
     "output_type": "stream",
     "text": [
      "[Parallel(n_jobs=-1)]: Using backend SequentialBackend with 1 concurrent workers.\n",
      "[Parallel(n_jobs=-1)]: Done  40 out of  40 | elapsed: 15.6min finished\n"
     ]
    },
    {
     "name": "stdout",
     "output_type": "stream",
     "text": [
      "LGBMRegressor(boosting_type='gbdt', class_weight=None, colsample_bytree=1.0,\n",
      "              importance_type='split', learning_rate=0.01, max_depth=-1,\n",
      "              min_child_samples=20, min_child_weight=0.001, min_split_gain=0.0,\n",
      "              n_estimators=150, n_jobs=-1, num_iterations=600, num_leaves=600,\n",
      "              objective=None, random_state=42, reg_alpha=0.0, reg_lambda=0.0,\n",
      "              silent=True, subsample=1.0, subsample_for_bin=200000,\n",
      "              subsample_freq=0)\n"
     ]
    }
   ],
   "source": [
    "final_report = reporter(models)"
   ]
  },
  {
   "cell_type": "markdown",
   "metadata": {},
   "source": [
    "[Оглавление](#TOC)"
   ]
  },
  {
   "cell_type": "markdown",
   "metadata": {},
   "source": [
    "## 3) Выведем отчет с сортировкой по значению RMSE (без параметров моделей)<a class='anchor' id='4_3'>"
   ]
  },
  {
   "cell_type": "code",
   "execution_count": 33,
   "metadata": {},
   "outputs": [
    {
     "data": {
      "text/html": [
       "<style  type=\"text/css\" >\n",
       "    #T_6f172f7e_5328_11ea_9c0a_02420a002ab4row0_col1 {\n",
       "            background-color:  lightgreen;\n",
       "        }    #T_6f172f7e_5328_11ea_9c0a_02420a002ab4row0_col2 {\n",
       "            background-color:  lightgreen;\n",
       "        }    #T_6f172f7e_5328_11ea_9c0a_02420a002ab4row0_col3 {\n",
       "            background-color:  lightgreen;\n",
       "        }</style><table id=\"T_6f172f7e_5328_11ea_9c0a_02420a002ab4\" ><thead>    <tr>        <th class=\"blank level0\" ></th>        <th class=\"col_heading level0 col0\" >model</th>        <th class=\"col_heading level0 col1\" >rmse</th>        <th class=\"col_heading level0 col2\" >smape</th>        <th class=\"col_heading level0 col3\" >mape</th>    </tr></thead><tbody>\n",
       "                <tr>\n",
       "                        <th id=\"T_6f172f7e_5328_11ea_9c0a_02420a002ab4level0_row0\" class=\"row_heading level0 row0\" >0</th>\n",
       "                        <td id=\"T_6f172f7e_5328_11ea_9c0a_02420a002ab4row0_col0\" class=\"data row0 col0\" >Linear Regression</td>\n",
       "                        <td id=\"T_6f172f7e_5328_11ea_9c0a_02420a002ab4row0_col1\" class=\"data row0 col1\" >31.9138</td>\n",
       "                        <td id=\"T_6f172f7e_5328_11ea_9c0a_02420a002ab4row0_col2\" class=\"data row0 col2\" >23.2994</td>\n",
       "                        <td id=\"T_6f172f7e_5328_11ea_9c0a_02420a002ab4row0_col3\" class=\"data row0 col3\" >19.3569</td>\n",
       "            </tr>\n",
       "            <tr>\n",
       "                        <th id=\"T_6f172f7e_5328_11ea_9c0a_02420a002ab4level0_row1\" class=\"row_heading level0 row1\" >2</th>\n",
       "                        <td id=\"T_6f172f7e_5328_11ea_9c0a_02420a002ab4row1_col0\" class=\"data row1 col0\" >LGBMRegressor</td>\n",
       "                        <td id=\"T_6f172f7e_5328_11ea_9c0a_02420a002ab4row1_col1\" class=\"data row1 col1\" >33.4311</td>\n",
       "                        <td id=\"T_6f172f7e_5328_11ea_9c0a_02420a002ab4row1_col2\" class=\"data row1 col2\" >24.4151</td>\n",
       "                        <td id=\"T_6f172f7e_5328_11ea_9c0a_02420a002ab4row1_col3\" class=\"data row1 col3\" >20.3632</td>\n",
       "            </tr>\n",
       "            <tr>\n",
       "                        <th id=\"T_6f172f7e_5328_11ea_9c0a_02420a002ab4level0_row2\" class=\"row_heading level0 row2\" >1</th>\n",
       "                        <td id=\"T_6f172f7e_5328_11ea_9c0a_02420a002ab4row2_col0\" class=\"data row2 col0\" >RandomForestRegressor</td>\n",
       "                        <td id=\"T_6f172f7e_5328_11ea_9c0a_02420a002ab4row2_col1\" class=\"data row2 col1\" >34.1471</td>\n",
       "                        <td id=\"T_6f172f7e_5328_11ea_9c0a_02420a002ab4row2_col2\" class=\"data row2 col2\" >24.948</td>\n",
       "                        <td id=\"T_6f172f7e_5328_11ea_9c0a_02420a002ab4row2_col3\" class=\"data row2 col3\" >19.8668</td>\n",
       "            </tr>\n",
       "    </tbody></table>"
      ],
      "text/plain": [
       "<pandas.io.formats.style.Styler at 0x7fc12fac0210>"
      ]
     },
     "execution_count": 33,
     "metadata": {},
     "output_type": "execute_result"
    }
   ],
   "source": [
    "final_report[['model', 'rmse', 'smape', 'mape']].sort_values(by='rmse').style.highlight_min(color='lightgreen', axis = 0)"
   ]
  },
  {
   "cell_type": "markdown",
   "metadata": {},
   "source": [
    "[Оглавление](#TOC)"
   ]
  },
  {
   "cell_type": "markdown",
   "metadata": {},
   "source": [
    "## Вывод:<a class='anchor' id='4_conclusion'>"
   ]
  },
  {
   "cell_type": "markdown",
   "metadata": {},
   "source": [
    "1. Лучше всего с задачей справилась **линейная регрессия**:\n",
    "\n",
    "    - RMSE - 31.9138,\n",
    "    - SMAPE - 23.2994,\n",
    "    - MAPE - 19.3569.\n",
    "    \n",
    "    \n",
    "2. Результаты других моделей в порядке возрастания:\n",
    "\n",
    "    - LGBMRegressor - RMSE 33.4311,\n",
    "    - RandomForestRegressor - RMSE 34.1471.\n",
    "    \n",
    "    \n",
    "3. В целом качество предсказания невысокое.\n",
    "4. Итоговые результаты представлены в таблице, параметры моделей сохранены."
   ]
  },
  {
   "cell_type": "markdown",
   "metadata": {},
   "source": [
    "[Оглавление](#TOC)"
   ]
  }
 ],
 "metadata": {
  "kernelspec": {
   "display_name": "Python 3",
   "language": "python",
   "name": "python3"
  },
  "language_info": {
   "codemirror_mode": {
    "name": "ipython",
    "version": 3
   },
   "file_extension": ".py",
   "mimetype": "text/x-python",
   "name": "python",
   "nbconvert_exporter": "python",
   "pygments_lexer": "ipython3",
   "version": "3.7.4"
  }
 },
 "nbformat": 4,
 "nbformat_minor": 4
}
